{
 "cells": [
  {
   "cell_type": "markdown",
   "metadata": {},
   "source": [
    "<p style=\"text-align:right;font-size:0.9em\">\n",
    "Grau d'Enginyeria Informàtica. Algorísmica. \n",
    "</p>"
   ]
  },
  {
   "cell_type": "markdown",
   "metadata": {},
   "source": [
    "<h1 style=\"padding:0.5em 0;font:Garamond;font-size:1-5em;color:#F90;background-color:#005\">\n",
    "Problema: Zeros al final\n",
    "</h1>"
   ]
  },
  {
   "cell_type": "markdown",
   "metadata": {},
   "source": [
    "<p style=\"font-family:Arial;font-size:1em\">\n",
    "Donada una llista d’enters, moure tots els zeros que contingui al final de la llista, sense alterar l'ordre relatiu de la resta d'elements.\n",
    "</p>"
   ]
  },
  {
   "cell_type": "markdown",
   "metadata": {},
   "source": [
    "<div style=\"font-style:italic\">\n",
    "Per exemple:\n",
    "<ul>\n",
    "<li>Llista=[3,1,0,5,0,0,2,7,8]</li>\n",
    "<li>Solució:\n",
    "   <ul>\n",
    "   <li>[3,1,5,2,7,8,0,0,0]</li>\n",
    "   </ul>\n",
    "</li>\n",
    "</ul>\n",
    "</div>"
   ]
  },
  {
   "cell_type": "code",
   "execution_count": 32,
   "metadata": {},
   "outputs": [],
   "source": [
    "# Inserir aquí el codi de la solució\n",
    "def movezeros (lista):\n",
    "    listazero=[]\n",
    "    listanum=[]\n",
    "    i=0\n",
    "    for i in lista:\n",
    "        if i==0:\n",
    "            listazero.append(i)    \n",
    "        else:\n",
    "            listanum.append(i)\n",
    "        i+=1\n",
    "    print (listanum + listazero)"
   ]
  },
  {
   "cell_type": "code",
   "execution_count": 33,
   "metadata": {},
   "outputs": [
    {
     "name": "stdout",
     "output_type": "stream",
     "text": [
      "[3, 1, 5, 2, 7, 8, 0, 0, 0]\n"
     ]
    }
   ],
   "source": [
    "movezeros ([3,1,0,5,0,0,2,7,8])"
   ]
  },
  {
   "cell_type": "markdown",
   "metadata": {},
   "source": [
    "<h2 style=\"padding:0.5em 0;font:Garamond;font-size:1.2em;color:#FA0;background-color:#005\">\n",
    "Pregunta 1: El problema et recorda algun dels algorismes de dividir i vèncer? quin? com el pots usar?\n",
    "</h2>"
   ]
  },
  {
   "cell_type": "markdown",
   "metadata": {
    "collapsed": true
   },
   "source": [
    "Més aviat em recorda al partition, perque els 0 canvien de lloc pero no alteren el ordre dels demes nombres, si esculls el pivot que sigui un dels zeros, els demes nombres seran mes grans i es colocaran tots a un dels costats "
   ]
  },
  {
   "cell_type": "markdown",
   "metadata": {},
   "source": [
    "<h2 style=\"padding:0.5em 0;font:Garamond;font-size:1.2em;color:#FA0;background-color:#005\">\n",
    "Pregunta 2: Modifica l'algorisme per moure tot els zeros al principi\n",
    "</h2>"
   ]
  },
  {
   "cell_type": "code",
   "execution_count": 35,
   "metadata": {},
   "outputs": [],
   "source": [
    "def movezeros2 (lista):\n",
    "    listazero=[]\n",
    "    listanum=[]\n",
    "    i=0\n",
    "    for i in lista:\n",
    "        if i==0:\n",
    "            listazero.append(i)    \n",
    "        else:\n",
    "            listanum.append(i)\n",
    "        i+=1\n",
    "    print (listazero+listanum)"
   ]
  },
  {
   "cell_type": "code",
   "execution_count": 28,
   "metadata": {},
   "outputs": [
    {
     "name": "stdout",
     "output_type": "stream",
     "text": [
      "[0, 0, 0, 3, 1, 5, 2, 7, 8]\n"
     ]
    }
   ],
   "source": [
    "movezeros2([3, 1, 0, 5, 0, 0, 2, 7, 8])"
   ]
  },
  {
   "cell_type": "markdown",
   "metadata": {},
   "source": [
    "<p style=\"text-align:right;font-size:0.9em\">\n",
    "&copy;Jordi Vitrià i Mireia Ribera\n",
    "</p>"
   ]
  }
 ],
 "metadata": {
  "kernelspec": {
   "display_name": "Python 3",
   "language": "python",
   "name": "python3"
  },
  "language_info": {
   "codemirror_mode": {
    "name": "ipython",
    "version": 3
   },
   "file_extension": ".py",
   "mimetype": "text/x-python",
   "name": "python",
   "nbconvert_exporter": "python",
   "pygments_lexer": "ipython3",
   "version": "3.6.5"
  }
 },
 "nbformat": 4,
 "nbformat_minor": 2
}
