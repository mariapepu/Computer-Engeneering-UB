{
 "cells": [
  {
   "cell_type": "markdown",
   "metadata": {},
   "source": [
    "<p style=\"text-align:right;font-size:0.9em\">\n",
    "Grau d'Enginyeria Informàtica. Algorísmica\n",
    "</p>"
   ]
  },
  {
   "cell_type": "markdown",
   "metadata": {},
   "source": [
    "<h1 style=\"padding:0.5em 0;font:Garamond;font-size:1-5em;color:#F90;background-color:#005\">\n",
    "Problema: El sedàs d'Erastòtenes\n",
    "</h1>"
   ]
  },
  {
   "cell_type": "markdown",
   "metadata": {},
   "source": [
    "El sedàs d'Eratòstenes és un algorisme antic per cercar tots els nombres primers fins a un determinat enter. Va ser creat per Eratòstenes (276-194 aC), un matemàtic de l'Antiga Grècia. Referència: http://ca.wikipedia.org/wiki/Sedàs_d'Eratòstenes.\n",
    "\n",
    "Algorisme:\n",
    "\n",
    "1. Escriu una llista $llista1$ amb els números del $2$ fins a l'enter més gran $N$ que vulguis calcular.\n",
    "2. El primer nombre de la llista és un nombre primer. Anota'l en una llista de nombres primers, $B$.\n",
    "3. Esborra de la llista $llista1$ el primer nombre i els seus múltiples.\n",
    "4. Si el primer nombre de la llista $llista1$ és més petit que l’arrel quadrada de $N$, torna al punt 2.\n",
    "5. Els nombres de la llista $llista2$ i els que queden a la llista $llista1$ són tots els nombres primers cercats.\n",
    "\n",
    "\n",
    "+ Escriu una funció, ``era1`` que, donat un nombre $n$ usi aquest algorisme per retornar tots els nombres primers menors o iguals que $n$ en una llista."
   ]
  },
  {
   "cell_type": "code",
   "execution_count": 1,
   "metadata": {},
   "outputs": [
    {
     "name": "stdout",
     "output_type": "stream",
     "text": [
      "[2, 3, 4, 5, 6, 7, 8, 9, 10, 11]\n",
      "[2]\n",
      "[3, 5, 7, 9, 11]\n"
     ]
    },
    {
     "ename": "IndexError",
     "evalue": "list index out of range",
     "output_type": "error",
     "traceback": [
      "\u001b[1;31m---------------------------------------------------------------------------\u001b[0m",
      "\u001b[1;31mIndexError\u001b[0m                                Traceback (most recent call last)",
      "\u001b[1;32m<ipython-input-1-abce86bd72d1>\u001b[0m in \u001b[0;36m<module>\u001b[1;34m()\u001b[0m\n\u001b[0;32m     25\u001b[0m     \u001b[0mllistaprimers\u001b[0m\u001b[1;33m=\u001b[0m\u001b[1;33m[\u001b[0m\u001b[0mB\u001b[0m\u001b[1;33m+\u001b[0m\u001b[0mllista2\u001b[0m\u001b[1;33m]\u001b[0m\u001b[1;33m\u001b[0m\u001b[0m\n\u001b[0;32m     26\u001b[0m     \u001b[0mprint\u001b[0m\u001b[1;33m(\u001b[0m\u001b[0mllistaprimers\u001b[0m\u001b[1;33m)\u001b[0m\u001b[1;33m\u001b[0m\u001b[0m\n\u001b[1;32m---> 27\u001b[1;33m \u001b[0mera1\u001b[0m\u001b[1;33m(\u001b[0m\u001b[1;36m11\u001b[0m\u001b[1;33m)\u001b[0m\u001b[1;33m\u001b[0m\u001b[0m\n\u001b[0m",
      "\u001b[1;32m<ipython-input-1-abce86bd72d1>\u001b[0m in \u001b[0;36mera1\u001b[1;34m(n)\u001b[0m\n\u001b[0;32m     16\u001b[0m     \u001b[0mi\u001b[0m\u001b[1;33m=\u001b[0m\u001b[1;36m0\u001b[0m\u001b[1;33m\u001b[0m\u001b[0m\n\u001b[0;32m     17\u001b[0m     \u001b[1;32mwhile\u001b[0m \u001b[1;33m(\u001b[0m\u001b[0mi\u001b[0m\u001b[1;33m<=\u001b[0m\u001b[0mlen\u001b[0m\u001b[1;33m(\u001b[0m\u001b[0mllista1\u001b[0m\u001b[1;33m)\u001b[0m\u001b[1;33m)\u001b[0m\u001b[1;33m:\u001b[0m\u001b[1;33m\u001b[0m\u001b[0m\n\u001b[1;32m---> 18\u001b[1;33m         \u001b[0mb\u001b[0m\u001b[1;33m=\u001b[0m\u001b[0mllista1\u001b[0m\u001b[1;33m[\u001b[0m\u001b[0mi\u001b[0m\u001b[1;33m]\u001b[0m\u001b[1;33m\u001b[0m\u001b[0m\n\u001b[0m\u001b[0;32m     19\u001b[0m         \u001b[1;32mif\u001b[0m \u001b[1;33m(\u001b[0m\u001b[0mb\u001b[0m\u001b[1;33m<\u001b[0m\u001b[0mn\u001b[0m\u001b[1;33m**\u001b[0m\u001b[1;33m(\u001b[0m\u001b[1;36m1\u001b[0m\u001b[1;33m/\u001b[0m\u001b[1;36m2\u001b[0m\u001b[1;33m)\u001b[0m\u001b[1;33m)\u001b[0m\u001b[1;33m:\u001b[0m\u001b[1;33m\u001b[0m\u001b[0m\n\u001b[0;32m     20\u001b[0m             \u001b[0mB\u001b[0m\u001b[1;33m.\u001b[0m\u001b[0mappend\u001b[0m\u001b[1;33m(\u001b[0m\u001b[0mllista1\u001b[0m\u001b[1;33m[\u001b[0m\u001b[0mi\u001b[0m\u001b[1;33m]\u001b[0m\u001b[1;33m)\u001b[0m\u001b[1;33m\u001b[0m\u001b[0m\n",
      "\u001b[1;31mIndexError\u001b[0m: list index out of range"
     ]
    }
   ],
   "source": [
    "# Substitueix la comanda pass pel teu codi\n",
    "def era1(n):\n",
    "    import math\n",
    "#1\n",
    "    llista1=[n for n in range (2,n+1,1)]\n",
    "    print(llista1)\n",
    "    \n",
    "#2\n",
    "    B=[]\n",
    "    B.append(llista1[0])\n",
    "    print(B)\n",
    "#3\n",
    "    llista2=[n for n in range (2,n+1,1) if (n%2!=0)]\n",
    "    print (llista2)\n",
    "#4\n",
    "    i=0\n",
    "    while (i<=len(llista1)):\n",
    "        b=llista1[i]\n",
    "        if (b<n**(1/2)):\n",
    "            B.append(llista1[i])\n",
    "            llista2=[n for n in range (llista1[i],n+1,1) if (n%llista1[i]!=0)]\n",
    "        i+=1\n",
    "    \n",
    "#5\n",
    "    llistaprimers=[B+llista2]\n",
    "    print(llistaprimers)\n",
    "era1(11)\n",
    "#no se perque em diu que  index out of range"
   ]
  },
  {
   "cell_type": "code",
   "execution_count": 26,
   "metadata": {},
   "outputs": [
    {
     "name": "stdout",
     "output_type": "stream",
     "text": [
      "[2, 3, 4, 5, 6, 7, 8, 9, 10, 11, 12, 13, 14, 15, 16, 17, 18, 19, 20]\n",
      "[2]\n",
      "[3, 5, 7, 9, 11, 13, 15, 17, 19]\n",
      "[[2, 3, 5, 7, 9, 11, 13, 15, 17, 19]]\n"
     ]
    }
   ],
   "source": [
    "n=20\n",
    "#1\n",
    "llista1=[n for n in range (2,n+1,1)]\n",
    "print(llista1)\n",
    "#2\n",
    "B=[llista1[0]]\n",
    "print(B)\n",
    "#3\n",
    "llista2=[n for n in range (2,n+1,1) if (n%2!=0)]\n",
    "print (llista2)\n",
    "#4\n",
    "\n",
    "#5\n",
    "llistaprimers=[B+llista2]\n",
    "print(llistaprimers)"
   ]
  },
  {
   "cell_type": "code",
   "execution_count": null,
   "metadata": {},
   "outputs": [],
   "source": [
    "# Test de la funció\n",
    "era1(11) #aquest exemple hauria de retornar [2, 3, 5, 7, 11] "
   ]
  },
  {
   "cell_type": "markdown",
   "metadata": {},
   "source": [
    "## Pregunta 1\n",
    "Escriu una funció, ``era2``, que imprimeixi el temps que es triga a calcular mitjançant el sedàs d’Eratòstenes els nombres primers menors que $500.000$ i quants nombres primers hi ha. era2 ha d'aconseguir fer aquest càlcul en menys de 5 segons, i per fer-ho hauràs d'optimitzar el càlcul del sedàs. L'optimització pot suposar introduir petits canvis en l'algorisme sense alterar-ne l'essència però potser sí els passos i la manera de fer-los.\n",
    "\n",
    "*Comentari 1*: Comença per un nombre màxim més petit que 500.000 i ves pujant de mica en mica\n",
    "\n",
    "*Comentari 2*: Si el càlcul fins a 500.000 tarda més de 5 segons, digues fins a quin nombre arribes en 5 segons\n",
    "\n",
    "*Comentari 3*: Revisa les list comprehensions per fer l'algorisme més eficient"
   ]
  },
  {
   "cell_type": "code",
   "execution_count": null,
   "metadata": {
    "collapsed": true
   },
   "outputs": [],
   "source": [
    "\n",
    "def era2(n):\n",
    "    import timeit\n",
    "    import math\n",
    "    pass"
   ]
  },
  {
   "cell_type": "markdown",
   "metadata": {},
   "source": [
    "<p style=\"text-align:right;font-size:0.9em\">\n",
    "&copy;Jordi Vitrià i Mireia Ribera\n",
    "</p>"
   ]
  }
 ],
 "metadata": {
  "kernelspec": {
   "display_name": "Python 3",
   "language": "python",
   "name": "python3"
  },
  "language_info": {
   "codemirror_mode": {
    "name": "ipython",
    "version": 3
   },
   "file_extension": ".py",
   "mimetype": "text/x-python",
   "name": "python",
   "nbconvert_exporter": "python",
   "pygments_lexer": "ipython3",
   "version": "3.6.5"
  }
 },
 "nbformat": 4,
 "nbformat_minor": 2
}
