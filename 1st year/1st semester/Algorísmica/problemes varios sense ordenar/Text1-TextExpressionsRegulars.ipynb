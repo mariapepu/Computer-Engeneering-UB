{
 "cells": [
  {
   "cell_type": "markdown",
   "metadata": {},
   "source": [
    "<p style=\"text-align:right;font-size:0.9em\">\n",
    "Grau d'Enginyeria Informàtica. Algorísmica. Curs 2017-2018\n",
    "</p>"
   ]
  },
  {
   "cell_type": "markdown",
   "metadata": {},
   "source": [
    "<h1 style=\"padding:0.5em 0;font:Garamond;font-size:1-5em;color:#F90;background-color:#005\">\n",
    "Sessió de problemes 7: Algorismes de text 1 - Expressions regulars\n",
    "</h1>"
   ]
  },
  {
   "cell_type": "markdown",
   "metadata": {},
   "source": [
    "# Expressions regulars\n",
    "\n",
    "Les expressions regulars són una manera de descriure un conjunt de cadenes de caràcters que segueixen un patró determinat.\n",
    "\n",
    "### Construcció d'expressions\n",
    "Per indicar el patró se segueixen unes pautes donades:\n",
    "\n",
    "+ Inclusió d'un caràcter en un rang donat [x-y]. Per ex. L'expressió regular [a-z] descriu totes les cadenes de caràcters amb un caràcter que es correspon amb les lletres abcd...uvwxyz\n",
    "+ Inclusió d'un caràcter en una seqüència donada [xyz]. Per ex. L'expressió regular [123] descriu totes les cadenes de caràcters amb el nombre 1, o el nombre 2 o el nombre 3.\n",
    "+ Exclusió [^x]. Per ex. L'expressió regular [^5] descriu totes les cadenes de caràcters que no contenen el caràcter \"5\"\n",
    "+ Metacaràcters\n",
    "    + \\d Qualsevol dígit, equivalent a [0-9].\n",
    "    + \\D Qualsevol caràcter no dígit, equivalent a [^0-9].\n",
    "    + \\s Qualsevol caràcter en blanc, equivalent a [ \\t\\n\\r\\f\\v].\n",
    "    + \\S Qualsevol caràcter no blanc, equivalent a [^ \\t\\n\\r\\f\\v].\n",
    "    + \\w Qualsevol caràcter alfanumèric, equivalent a [a-zA-Z0-9_].\n",
    "    + \\W Qualsevol caràcter no alfanumèric, equivalent a [^a-zA-Z0-9_].\n",
    "+ Repetició (amb quantificadors): \n",
    "    + \\* 0 o n repeticions. Per ex.ca*t descriu ct, cat, caat, caaat,...\n",
    "    + \\+ 1 o n repeticions. Per ex.ca+t descriu cat, caat, caaat, ...\n",
    "    + {x} x repeticions exactament. Per ex. ca{2}t descriu caat\n",
    "+ Alternativa\n",
    "    + Amb la barra | indiquem que volem una o l'altra expressió. Per ex. c(a|e)t descriu cat i cet\n",
    "    \n",
    "### Concatenació d'expressions\n",
    "+ Les diferentes expressions es poden concatenar simplement posant-les una darrera l'altra\n",
    "+ A vegades ens caldrà agrupar-les amb parèntesi per indicar a qui afecta un determinat quantificador\n",
    "\n",
    "## Com usar expressions regulars a Python\n",
    "\n",
    "Per usar les expressions regulars a Python ens cal importar el mòdul re\n",
    "\n",
    "import re\n",
    "\n",
    "patro = r\"el patró aquí\"\n",
    "\n",
    "després \"compilem\" el patró\n",
    "p = re.compile(patro) \n",
    "\n",
    "un cop compilat podem cercar el patró a la cadena amb search()"
   ]
  },
  {
   "cell_type": "code",
   "execution_count": 1,
   "metadata": {},
   "outputs": [
    {
     "name": "stdout",
     "output_type": "stream",
     "text": [
      "Fantàstic!\n",
      "Glups!\n"
     ]
    }
   ],
   "source": [
    "#veiem un exemple:\n",
    "\n",
    "import re\n",
    "def check_expression(patro, text):\n",
    "    patrocompilat = re.compile(patro)\n",
    "\n",
    "    if patrocompilat.search(text):\n",
    "        print(\"Fantàstic!\")\n",
    "    else:\n",
    "        print(\"Glups!\")\n",
    "        \n",
    "\n",
    "check_expression(r\"ase\", \"Una frase qualsevol\")\n",
    "\n",
    "check_expression(r\"abc\", \"Una frase qualsevol\")"
   ]
  },
  {
   "cell_type": "markdown",
   "metadata": {},
   "source": [
    "si en una expressió regular volem fer servir un caràcter \"reservat\", afegim una barra al davant"
   ]
  },
  {
   "cell_type": "code",
   "execution_count": 3,
   "metadata": {},
   "outputs": [
    {
     "name": "stdout",
     "output_type": "stream",
     "text": [
      "Fantàstic!\n",
      "Glups!\n"
     ]
    }
   ],
   "source": [
    "check_expression(r\"ase\\.\", \"Una frase. Una altra frase\")\n",
    "\n",
    "check_expression(r\"altra\\.\", \"Una frase. Una altra frase\")"
   ]
  },
  {
   "cell_type": "markdown",
   "metadata": {},
   "source": [
    "Per buscar text que comenci o acabi per un cert string, afegim els caràcters __^__ i __$__:"
   ]
  },
  {
   "cell_type": "code",
   "execution_count": 4,
   "metadata": {},
   "outputs": [
    {
     "name": "stdout",
     "output_type": "stream",
     "text": [
      "Fantàstic!\n",
      "Glups!\n",
      "\n",
      "Fantàstic!\n",
      "Glups!\n"
     ]
    }
   ],
   "source": [
    "check_expression(r\"^Una\", \"Una frase qualsevol\")\n",
    "\n",
    "check_expression(r\"^frase\", \"Una frase qualsevol\")\n",
    "\n",
    "print()\n",
    "\n",
    "check_expression(r\"vol$\", \"Una frase qualsevol\")\n",
    "\n",
    "check_expression(r\"frase$\", \"Una frase qualsevol\")"
   ]
  },
  {
   "cell_type": "markdown",
   "metadata": {},
   "source": [
    "Per buscar en un rang, usem  __[ ]__ on: __\\d__ és [0-9], __\\w__ és [a-zA-Z0-9]:"
   ]
  },
  {
   "cell_type": "code",
   "execution_count": 5,
   "metadata": {},
   "outputs": [
    {
     "name": "stdout",
     "output_type": "stream",
     "text": [
      "Fantàstic!\n",
      "Glups!\n",
      "Glups!\n",
      "Fantàstic!\n"
     ]
    }
   ],
   "source": [
    "check_expression(r\"2[0-5]\", \"25-32-67\")\n",
    "\n",
    "check_expression(r\"[3-7][4-6]\", \"25-32-67\")\n",
    "\n",
    "check_expression(r\"\\d-\\d-\\d\", \"25-32-67\")\n",
    "\n",
    "check_expression(r\"\\w-\\d\", \"aaaa-9999-aaaa-9999\")"
   ]
  },
  {
   "cell_type": "markdown",
   "metadata": {},
   "source": [
    "Alguns caràcters importants:\n",
    "1. Per indicar __un caràcter qualsevol__, un punt: __.__ \n",
    "2. Per indicar __qualsevol nombre de repeticions__ d'un caràcter (pot ser 0), asterisc: __*__\n",
    "3. Per indicar __com a mínim una repetició__ d'un caràcter, suma: __+__\n",
    "4. Per indicar que un caràcter __pot no aparèixer__, interrogant: __?__\n",
    "\n",
    "Podem aplicar-ho també a una expressió sencera, que posarem entre parèntesis"
   ]
  },
  {
   "cell_type": "code",
   "execution_count": 7,
   "metadata": {},
   "outputs": [
    {
     "name": "stdout",
     "output_type": "stream",
     "text": [
      "Fantàstic!\n",
      "Glups!\n",
      "\n",
      "Fantàstic!\n",
      "\n",
      "Glups!\n",
      "Fantàstic!\n",
      "\n",
      "Fantàstic!\n"
     ]
    }
   ],
   "source": [
    "check_expression(r\"2.-\", \"25-32-67\")\n",
    "check_expression(r\"7.\", \"25-32-67\")\n",
    "print()\n",
    "check_expression(r\"abb*\", \"abaaab\")\n",
    "print()\n",
    "check_expression(r\"abb+\", \"abaaab\")\n",
    "check_expression(r\"(ab)+\", \"abaaab\")\n",
    "print()\n",
    "check_expression(r\"abb?a\", \"abaaab\")"
   ]
  },
  {
   "cell_type": "markdown",
   "metadata": {},
   "source": [
    "Com hem vist, els parèntesis ens marquen que __tot__ ha de complir. Podem usar un _or_ lògic: __|__:"
   ]
  },
  {
   "cell_type": "code",
   "execution_count": 8,
   "metadata": {},
   "outputs": [
    {
     "name": "stdout",
     "output_type": "stream",
     "text": [
      "Fantàstic!\n"
     ]
    }
   ],
   "source": [
    "check_expression(r\"(una)|(Una)\", \"Una frase qualsevol\")"
   ]
  },
  {
   "cell_type": "markdown",
   "metadata": {},
   "source": [
    "Les claus __{ }__ les usem per indicar que alguna expressió es __repeteix__:"
   ]
  },
  {
   "cell_type": "code",
   "execution_count": 9,
   "metadata": {},
   "outputs": [
    {
     "name": "stdout",
     "output_type": "stream",
     "text": [
      "Fantàstic!\n"
     ]
    }
   ],
   "source": [
    "check_expression(r\"(\\w{3}-){5}\\w{3}\", \"123-456-789-aaa-bbb-ccc\")"
   ]
  },
  {
   "cell_type": "markdown",
   "metadata": {},
   "source": [
    "També podem marcar que es repeteixi en un \"rang de cops\" fent __{min, max}__"
   ]
  },
  {
   "cell_type": "code",
   "execution_count": 10,
   "metadata": {},
   "outputs": [
    {
     "name": "stdout",
     "output_type": "stream",
     "text": [
      "Fantàstic!\n",
      "Glups!\n",
      "Fantàstic!\n"
     ]
    }
   ],
   "source": [
    "check_expression(r\"(\\w{3}-){5,7}\", \"123-456-789-aaa-bbb-ccc\")\n",
    "check_expression(r\"(\\w{3}-){5,7}\", \"123-456\")\n",
    "\n",
    "# Compte aquest últim! Pot semblar que sigui fals ja que es repeteix 8 cops\n",
    "# Però li hem dit que com a mínim n'hi hagin 5,6 o 7 (que si que hi són)\n",
    "check_expression(r\"(\\w{3}-){5,7}\", \"123-456-789-aaa-bbb-ccc-ddd-888\")"
   ]
  },
  {
   "cell_type": "markdown",
   "metadata": {},
   "source": [
    "A banda de search, podem usar altres operadors amb les cadenes i l'expressió regular:\n",
    "\n",
    "+ match() : determina si l'expressió regular encaixa amb el principi de la cadena\n",
    "+ findall(): busca tots els encaixos amb el patró i els retorna com una llista\n",
    "+ group(): torna la cadena que encaixa amb el patró\n",
    "+ start(): torna la posició inicial de la cadena que encaixa amb el patró\n",
    "+ end(): torna la posició final de la cadena que encaixa amb el patró\n",
    "+ span(): torna una tupla amb la posició inicial i final de la cadena que encaixa amb el patró\n",
    "\n",
    "## Exemples"
   ]
  },
  {
   "cell_type": "code",
   "execution_count": 1,
   "metadata": {
    "collapsed": true
   },
   "outputs": [
    {
     "name": "stdout",
     "output_type": "stream",
     "text": [
      "Match at index 0, 7\n",
      "Full match: June 24\n"
     ]
    }
   ],
   "source": [
    "import re\n",
    "regex = r\"([a-zA-Z]+) (\\d+)\"\n",
    "if re.search(regex, \"June 24\"):\n",
    "    match = re.search(regex, \"June 24\")\n",
    "    print(\"Match at index %s, %s\" % (match.start(), match.end()))\n",
    "    print(\"Full match: %s\" % (match.group()))\n",
    "else:\n",
    "    print(\"The regex pattern does not match. :(\")"
   ]
  },
  {
   "cell_type": "code",
   "execution_count": 2,
   "metadata": {},
   "outputs": [
    {
     "name": "stdout",
     "output_type": "stream",
     "text": [
      "I found one!\n"
     ]
    }
   ],
   "source": [
    "import re\n",
    "line = \"He is a German called Mayer.\"\n",
    "if re.search(r\"M[ae][iy]er\",line): print(\"I found one!\")"
   ]
  },
  {
   "cell_type": "code",
   "execution_count": 3,
   "metadata": {},
   "outputs": [
    {
     "name": "stdout",
     "output_type": "stream",
     "text": [
      "I found one!\n"
     ]
    }
   ],
   "source": [
    "line = \"He is a German called Meier.\"\n",
    "if re.search(r\"M[ae][iy]er\",line): print(\"I found one!\")"
   ]
  },
  {
   "cell_type": "code",
   "execution_count": 4,
   "metadata": {},
   "outputs": [
    {
     "name": "stdout",
     "output_type": "stream",
     "text": [
      "232454\n",
      "(17, 23)\n",
      "17\n",
      "23\n",
      "17\n",
      "23\n"
     ]
    }
   ],
   "source": [
    "import re\n",
    "mo = re.search(\"[0-9]+\", \"Customer number: 232454, Date: February 12, 2011\")\n",
    "print(mo.group())\n",
    "print(mo.span())\n",
    "print(mo.start())\n",
    "print(mo.end())\n",
    "print(mo.span()[0])\n",
    "print(mo.span()[1])"
   ]
  },
  {
   "cell_type": "markdown",
   "metadata": {},
   "source": [
    "## Exercici 1: Comprovar si un nom d'usuari és correcte. Per a ser-ho ha de complir:\n",
    "\n",
    "1. Ser una cadena de més de 5 lletres que no contingui números\n",
    "2. Seguida d'un número d'una sola xifra\n",
    "3. Seguida del signe _@_\n",
    "4. Seguit d'una de les paraules: _alumnes, alumni, docent, admin_\n",
    "6. Seguit d'un punt: .\n",
    "7. Seguit de la paraula: _ub.edu_\n",
    "\n",
    "Per exemple:<br><br>\n",
    "mpiclup7@alumnes.ub.edu<br>"
   ]
  },
  {
   "cell_type": "code",
   "execution_count": null,
   "metadata": {
    "collapsed": true
   },
   "outputs": [],
   "source": [
    "# Escriure aquí el patró\n",
    "regex =r\" write your pattern here \"\n",
    "\n",
    "texts=[\"mpiclup7@alumnes.ub.edu\",        # Fantàstic!\n",
    "       \"mp7@alumnes.ub.edu\",             # Glups!\n",
    "       \"mpiclup74@alumnes.ub.edu\",       # Glups!\n",
    "       \"mpiclup7@docent.ub.edu\",         # Fantàstic!\n",
    "       \"m78picl7@alumnes.ub.edu\",        # Glups!\n",
    "       \"mpiclup7@alumni.ub.edu\",         # Fantàstic!\n",
    "       \"mpiclup7@alumnes.ub.edu.ub.edu\", # Glups!\n",
    "       \"mpiclup7@admin.ub.edu\",          # Fantàstic!\n",
    "       \"mpiclup7admin.ub.edu\",           # Glups!\n",
    "       \"mpiclup7@admin.ub.ub.edu\"]       # Glups!\n",
    "\n",
    "for t in texts:\n",
    "    check_expression(regex,t)"
   ]
  },
  {
   "cell_type": "markdown",
   "metadata": {},
   "source": [
    "__Solució__:\n",
    "<regex =r\"[a-zA-Z]{6}\\d@((alumn((es)|i))|(docent)|(admin))(\\.ub\\.edu)$\">\n",
    "\n",
    "Doble clic per veure'm"
   ]
  },
  {
   "cell_type": "markdown",
   "metadata": {},
   "source": [
    "## Exercici 2. Resoldre el problema de la col.lecció CodisPostalsUK"
   ]
  },
  {
   "cell_type": "markdown",
   "metadata": {},
   "source": [
    "<p style=\"text-align:right;font-size:0.9em\">\n",
    "&copy;Jordi Vitrià i Mireia Ribera\n",
    "</p>"
   ]
  }
 ],
 "metadata": {
  "kernelspec": {
   "display_name": "Python 3",
   "language": "python",
   "name": "python3"
  },
  "language_info": {
   "codemirror_mode": {
    "name": "ipython",
    "version": 3
   },
   "file_extension": ".py",
   "mimetype": "text/x-python",
   "name": "python",
   "nbconvert_exporter": "python",
   "pygments_lexer": "ipython3",
   "version": "3.6.1"
  }
 },
 "nbformat": 4,
 "nbformat_minor": 2
}
