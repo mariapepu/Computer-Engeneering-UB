{
 "cells": [
  {
   "cell_type": "markdown",
   "metadata": {},
   "source": [
    "<p style=\"text-align:right;font-size:0.9em\">\n",
    "Grau d'Enginyeria Informàtica. Algorísmica\n",
    "</p>"
   ]
  },
  {
   "cell_type": "markdown",
   "metadata": {},
   "source": [
    "<h1 style=\"padding:0.5em 0;font:Garamond;font-size:1-5em;color:#F90;background-color:#005\">\n",
    "Problema: Levenshtein amb backtracking\n",
    "</h1>"
   ]
  },
  {
   "cell_type": "markdown",
   "metadata": {},
   "source": [
    "Aquesta pràctica és una continuació del problemea de Levenshtein i fa servir les mateixes dades i el mateix algorisme\n",
    "\n",
    "+ Baixa't el fitxer HUMAN-DNA.txt al teu directori. \n",
    "\n",
    "Aquest fitxer conté una part del ADN del cromosoma 2 humà.\n",
    "\n",
    "## Pregunta 1\n",
    "\n",
    "Modifica el programa dna del Notebook anterior de manera que donat el patró *GGCCTTGCCATTGG*, per cada una de les 10 primeres línies del fitxer anterior indiqui:\n",
    "\n",
    "+ A quina distància d'edició està el substring més semblant d'aquella línia.\n",
    "+ El primer substring d'aquella línia que està a mínima distància d'edició.\n",
    "\n",
    "Per trobar el substring a mínima distància has de buscar els mínims de la darrera línia de la matriu, i recorrer el camí invers fins arribar a la primera fila o a la primera columna. Per exemple si la casella prové d'una substitució o d'una equivalència caldrà saltar a la casella en diagonal, si la casella prové d'una eliminació caldrà saltar a la casella directament superior i finalment si prové d'una inserció caldrà saltar a la casella esquerra. Un cop arribats al final el substring correspondrà a les lletres del text entre la columna inicial i la final.\n",
    "\n",
    "Es recomana fer proves amb textos senzills (no el fitxer) per poder fer el seguiment de la funció.\n",
    "\n",
    "La funció no ha de tenir cap tipus d’entrada de part de l’usuari, i la sortida per cada línia ha d'indicar la distància i el primer substring a distància mínima."
   ]
  },
  {
   "cell_type": "code",
   "execution_count": 8,
   "metadata": {},
   "outputs": [],
   "source": [
    "import time\n",
    "\n",
    "#-----------------------------------------------------------------------------\n",
    "# levenshtein_distance_dna2()\n",
    "#\n",
    "# en aquest cas genero una matriu amb els moviments que permet calcular el substring de distància mínima\n",
    "# \n",
    "# retorna:\n",
    "# - distància mínima\n",
    "# - substring\n",
    "#-----------------------------------------------------------------------------\n",
    "import time\n",
    "\n",
    "def dna2(patro, fitxer):\n",
    "    \n",
    "    t1 = time.clock()\n",
    "    distancia = [0]\n",
    "    substring = [\"\"]\n",
    "    dlt, insr, subs = 2, 2, 1\n",
    "    patro_length = len(patro) + 1\n",
    "    distancia.append(len(patro) + 1)\n",
    "    indp = 0\n",
    "    f = open(fitxer,\"r\")\n",
    "    texto = f.readlines()\n",
    "    f.close()\n",
    "    texto = texto[:10]\n",
    "   \n",
    "    for line in texto:\n",
    "        indp += 1\n",
    "        substring.append(\"\")\n",
    "        distancia.append(patro_length)\n",
    "        text = line[0:-2]\n",
    "        text_length = len(text) + 1\n",
    "        distance_matrix = [[0] * text_length for x in range(patro_length)]\n",
    "        substring_matrix = [[0] * text_length for x in range(patro_length)]\n",
    "\n",
    "        for i in range(patro_length):distance_matrix[i][0] = i\n",
    "        for i in range(1, patro_length):\n",
    "            for j in range(1, text_length):\n",
    "                deletion = distance_matrix[i-1][j] + dlt\n",
    "                insertion = distance_matrix[i][j-1] + insr\n",
    "                substitution = distance_matrix[i-1][j-1]\n",
    "                if patro[i-1] != text[j-1]: \n",
    "                    substitution += subs\n",
    "                if substitution < insertion and substitution < deletion:\n",
    "                    substring_matrix[i][j] = substring_matrix[i-1][j-1] + 1\n",
    "                    distance_matrix[i][j] = substitution\n",
    "                if insertion < deletion and insertion <= substitution:\n",
    "                    substring_matrix[i][j] = substring_matrix[i][j-1] + 1\n",
    "                    distance_matrix[i][j] = insertion\n",
    "                if deletion <= insertion and deletion <= substitution:\n",
    "                    substring_matrix[i][j] = substring_matrix[i-1][j] + 0\n",
    "                    distance_matrix[i][j] = deletion\n",
    "\n",
    "        for i in range(text_length):\n",
    "            if distance_matrix[patro_length-1][i] < distancia[indp] :\n",
    "                distancia[indp] = distance_matrix[patro_length-1][i]\n",
    "                move = substring_matrix[patro_length-1][i]\n",
    "                #Posicio de la ultima lletra del patro\n",
    "                last = i\n",
    "                \n",
    "        substring[indp] = line[(last-move):last]\n",
    "        \n",
    "    t2 = time.clock()\n",
    "    temps = t2 - t1\n",
    "    \n",
    "    return ([[ 1,distancia[1],substring[1]],\n",
    "              [ 2,distancia[2],substring[2]],\n",
    "              [ 3,distancia[3],substring[3]],\n",
    "              [ 4,distancia[4],substring[4]],\n",
    "              [ 5,distancia[5],substring[5]],\n",
    "              [ 6,distancia[6],substring[6]],\n",
    "              [ 7,distancia[7],substring[7]],\n",
    "              [ 8,distancia[8],substring[8]],\n",
    "              [ 9,distancia[9],substring[9]],\n",
    "              [10,distancia[10],substring[10]],\n",
    "                temps])"
   ]
  },
  {
   "cell_type": "code",
   "execution_count": 9,
   "metadata": {},
   "outputs": [
    {
     "data": {
      "text/plain": [
       "[[1, 6, 'GGACTTGCCTCAC'],\n",
       " [2, 8, 'GGCTCTCCACACA'],\n",
       " [3, 6, 'GGAATTTCACTGG'],\n",
       " [4, 7, 'GGAAATTCAATTTA'],\n",
       " [5, 8, 'TGCTAAACAGTAG'],\n",
       " [6, 8, 'AGCTTTATTTGG'],\n",
       " [7, 7, 'GGTCATTCTAATAA'],\n",
       " [8, 7, 'ATCCATGTTTTTAG'],\n",
       " [9, 7, 'CGAGTTTCAAATGC'],\n",
       " [10, 8, 'TTCAATATAATTGC'],\n",
       " 0.012027362317894585]"
      ]
     },
     "execution_count": 9,
     "metadata": {},
     "output_type": "execute_result"
    }
   ],
   "source": [
    "# Test de la funció\n",
    "dna2(\"GGCCTTGCCATTGG\", \"HUMAN-DNA.txt\")"
   ]
  },
  {
   "cell_type": "markdown",
   "metadata": {},
   "source": [
    "<p style=\"text-align:right;font-size:0.9em\">\n",
    "&copy;Jordi Vitrià i Mireia Ribera\n",
    "</p>"
   ]
  }
 ],
 "metadata": {
  "kernelspec": {
   "display_name": "Python 3",
   "language": "python",
   "name": "python3"
  },
  "language_info": {
   "codemirror_mode": {
    "name": "ipython",
    "version": 3
   },
   "file_extension": ".py",
   "mimetype": "text/x-python",
   "name": "python",
   "nbconvert_exporter": "python",
   "pygments_lexer": "ipython3",
   "version": "3.6.5"
  }
 },
 "nbformat": 4,
 "nbformat_minor": 2
}
