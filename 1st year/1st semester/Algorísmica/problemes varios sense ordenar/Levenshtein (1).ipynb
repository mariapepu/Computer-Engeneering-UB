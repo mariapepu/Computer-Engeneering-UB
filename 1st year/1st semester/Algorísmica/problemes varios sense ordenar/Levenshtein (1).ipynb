{
 "cells": [
  {
   "cell_type": "markdown",
   "metadata": {},
   "source": [
    "<p style=\"text-align:right;font-size:0.9em\">\n",
    "Grau d'Enginyeria Informàtica. Algorísmica\n",
    "</p>"
   ]
  },
  {
   "cell_type": "markdown",
   "metadata": {},
   "source": [
    "<h1 style=\"padding:0.5em 0;font:Garamond;font-size:1-5em;color:#F90;background-color:#005\">\n",
    "Problema: Levenshtein\n",
    "</h1>"
   ]
  },
  {
   "cell_type": "markdown",
   "metadata": {},
   "source": [
    "## Introducció\n",
    "\n",
    "Una seqüència genètica és un string format per caràcters d’un alfabet de quatre lletres: ``A, T, G`` i ``C``, que corresponen a les macromolècules base de l’ADN. Un gen és una seqüència genètica que conté la informació necessària per construir una proteïna. La unió de tots els gens constitueixen el genoma. \n",
    "\n",
    "Cada cèl•lula produïda pel cos rep una còpia del genoma, però a vegades, aquesta còpia és lleugerament “defectuosa”. Els “defectes” van des de la substitució d’una base per una altra fins a la pèrdua d’un substring de la seqüència. \n",
    "\n",
    "+ Baixa't el fitxer HUMAN-DNA.txt al teu directori. \n",
    "\n",
    "Aquest fitxer conté una part del ADN del cromosoma 2 humà.\n",
    "\n",
    "## Pregunta 1\n",
    "\n",
    "+ Fes una funció, anomenada ``dna``, basada en l’algorisme de Levenshtein, que busqui dins de **cada una de les línies del fitxer anterior** les següents seqüències genètiques i digui a quina línia les ha trobat amb mínima distància i quina és aquesta distància (si està a varies línies, que indiqui la primera línia en la que apareix a distància mínima):\n",
    "\n",
    "        AGATACATTAGAACAATAGAGATGTGGTC\n",
    "        GTCAGTCTGGCACTTGCCATTGGTGCCACCA\n",
    "        TACCGAGAAGCATGGATTACAGCATGTACCATCAT\n",
    "        \n",
    "Al fer-ho, has de tenir en compte que a les aplicacions bioinformàtiques, els costos de les operacions d’edició són lleugerament diferents de les que hem vist fins ara:\n",
    "\n",
    "+ Per un salt/inserció (al patró o al text): 2; \n",
    "+ Per una substitució: 1; \n",
    "+ Quan hi ha correspondència: 0.\n",
    "\n",
    "Adapta la funció ``dna`` a aquests costos. La funció no ha de tenir cap tipus d’entrada de part de l’usuari, i la sortida ha d'indicar la línia i distància mínimes per cada patró, i el temps de càlcul en milisegons."
   ]
  },
  {
   "cell_type": "code",
   "execution_count": 16,
   "metadata": {},
   "outputs": [],
   "source": [
    "# Substitueix la comanda pass pel teu codi\n",
    "# Substitueix el resultat per les teves variables, \n",
    "#             pero mantingues el format indicat\n",
    "\n",
    "    #Aquest programa cerca unes determinades seqüències al fitxer HUMAN-DNA.txt\n",
    "    #:return una llista, de tres llistes, un per cada seqüència a cercar. A cadascuna\n",
    "    #       de les subllistes hi ha tres elements. El primer element és la seqüència, \n",
    "    #        el segon la línia en la que aquesta seqüència apareix en el fitxer \n",
    "    #        a distància mínima, i el tercer aquesta distància mínima.\n",
    "    \n",
    "import time\n",
    "def dna(llistaP, fitxer):\n",
    "    t1 = time.clock()\n",
    "    dlt, insr, subs = 2, 2, 1\n",
    "    indp = 0\n",
    "    linia = [0]*(len(llistaP)+1)\n",
    "    distancia = [0] \n",
    "    f = open(fitxer,\"r\")\n",
    "    textl = f.readlines()\n",
    "    f.close()\n",
    "\n",
    "    for patro in llistaP:\n",
    "        indp += 1\n",
    "        patro_length = len(patro) + 1\n",
    "        distancia.append(patro_length)\n",
    "        ind = 0\n",
    "        for line in textl:\n",
    "            ind += 1\n",
    "            text = line[0:-2]\n",
    "            text_length = len(text) + 1  \n",
    "\n",
    "            distance_matrix = [[0] * text_length for x in range(patro_length)]\n",
    "            for i in range(patro_length):distance_matrix[i][0] = i\n",
    "                \n",
    "            for i in range(1, patro_length):\n",
    "                for j in range(1, text_length):\n",
    "                    deletion = distance_matrix[i-1][j] + dlt\n",
    "                    insertion = distance_matrix[i][j-1] + insr\n",
    "                    substitution = distance_matrix[i-1][j-1]\n",
    "                    if patro[i-1] != text[j-1]: \n",
    "                        substitution += subs\n",
    "                    distance_matrix[i][j] = min(insertion, deletion, substitution)\n",
    "                    \n",
    "            distancia2=min(distance_matrix[patro_length-1]) \n",
    "            if distancia2 < distancia[indp]:\n",
    "                    distancia[indp] = distancia2\n",
    "                    linia[indp] = ind\n",
    "    \n",
    "    t2 = time.clock()\n",
    "    temps = t2 - t1\n",
    "    \n",
    "    return ([['AGATACATTAGACAATAGAGATGTGGTC',linia[1],distancia[1]],\n",
    "            ['GTCAGTCTGGCCTTGCCATTGGTGCCACCA',linia[2],distancia[2]],\n",
    "            ['TACCGAGAAGCTGGATTACAGCATGTACCATCAT',linia[3],distancia[3]],\n",
    "            temps])"
   ]
  },
  {
   "cell_type": "code",
   "execution_count": 17,
   "metadata": {},
   "outputs": [
    {
     "data": {
      "text/plain": [
       "[['AGATACATTAGACAATAGAGATGTGGTC', 32, 11],\n",
       " ['GTCAGTCTGGCCTTGCCATTGGTGCCACCA', 352, 11],\n",
       " ['TACCGAGAAGCTGGATTACAGCATGTACCATCAT', 233, 13],\n",
       " 7.739834898547997]"
      ]
     },
     "execution_count": 17,
     "metadata": {},
     "output_type": "execute_result"
    }
   ],
   "source": [
    "# Test de la funció\n",
    "dna(['AGATACATTAGACAATAGAGATGTGGTC','GTCAGTCTGGCCTTGCCATTGGTGCCACCA','TACCGAGAAGCTGGATTACAGCATGTACCATCAT'], \"HUMAN-DNA.txt\")"
   ]
  },
  {
   "cell_type": "code",
   "execution_count": null,
   "metadata": {},
   "outputs": [],
   "source": [
    "# La solució correcta és aquesta, tot i que el temps pot variar\n",
    "[['AGATACATTAGACAATAGAGATGTGGTC', 32, 11],\n",
    " ['GTCAGTCTGGCCTTGCCATTGGTGCCACCA', 352, 11],\n",
    " ['TACCGAGAAGCTGGATTACAGCATGTACCATCAT', 233, 13],\n",
    " 2.7117291091393665]"
   ]
  },
  {
   "cell_type": "markdown",
   "metadata": {},
   "source": [
    "*Recordatori de teoria*: El càlcul de de la distancia d’un patró al substring més semblant d’un text es pot fer amb l’algorisme de Levenshtein. L’única diferència és que s’ha d’inicialitzar la primera fila amb zeros (=considerar que podem inserir tants espais en blanc al davant del patró com sigui necessari)  i que la distancia d’edició serà el valor mínim de l’última fila de la matriu de costos. També heu de tenir en compte els costos en la inicialització de la primera columna."
   ]
  },
  {
   "cell_type": "markdown",
   "metadata": {},
   "source": [
    "<p style=\"text-align:right;font-size:0.9em\">\n",
    "&copy;Jordi Vitrià i Mireia Ribera\n",
    "</p>"
   ]
  }
 ],
 "metadata": {
  "kernelspec": {
   "display_name": "Python 3",
   "language": "python",
   "name": "python3"
  },
  "language_info": {
   "codemirror_mode": {
    "name": "ipython",
    "version": 3
   },
   "file_extension": ".py",
   "mimetype": "text/x-python",
   "name": "python",
   "nbconvert_exporter": "python",
   "pygments_lexer": "ipython3",
   "version": "3.6.5"
  }
 },
 "nbformat": 4,
 "nbformat_minor": 2
}
