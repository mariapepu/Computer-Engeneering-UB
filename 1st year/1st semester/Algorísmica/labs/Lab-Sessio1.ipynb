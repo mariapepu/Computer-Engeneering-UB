{
 "cells": [
  {
   "cell_type": "markdown",
   "metadata": {},
   "source": [
    "<p style=\"text-align:right;font-size:0.9em\">\n",
    "Grau d'Enginyeria Informàtica. Algorísmica\n",
    "</p>"
   ]
  },
  {
   "cell_type": "markdown",
   "metadata": {},
   "source": [
    "<h1 style=\"padding:0.5em 0;font:Garamond;font-size:1-5em;color:#F90;background-color:#005\">\n",
    "Sessió de Laboratori 1: Jupyter Notebooks, Markdown i Python1\n",
    "</h1>"
   ]
  },
  {
   "cell_type": "markdown",
   "metadata": {},
   "source": [
    "## Jupyter Notebooks\n",
    "\n",
    "Els jupyter notebooks són una eina que ens facilita integrar codi i explicacions. Això és molt pràctic per a la docència però també en la vostra vida professional per a enregistrar les vostres decisions, mostrar les dades o fer comentaris més complets a la vostra feina. En aquest notebook veurem algunes funcions essencials de Jupyter i del llenguatge per al text, Markdown"
   ]
  },
  {
   "cell_type": "markdown",
   "metadata": {},
   "source": [
    "## Exercici 1\n",
    "\n",
    "Fes les següents accions a partir del menú:\n",
    "- Canvia el nom d'aquest document i salva'l. Comprova on s'ha guardat.\n",
    "- Elimina la cel·la següent a aquesta\n",
    "- Canvia l'ordre de dues cel·les qualsevols d'aquest document.\n",
    "- Re-inicia el kernel d'aquest document (aquesta acció re-inicia l'interpret Python i és necessàri executar-la de tant en tant, especialment quan algun programa cau en un error irrecuperable)."
   ]
  },
  {
   "cell_type": "markdown",
   "metadata": {},
   "source": [
    "*Aix* m'eliminaran!"
   ]
  },
  {
   "cell_type": "markdown",
   "metadata": {
    "collapsed": true
   },
   "source": [
    "## Markdown\n",
    "\n",
    "Els notebooks tenen dos tipus de cel.les, les de codi (code) i les de comentari (Markdown). **Markdown** és un llenguatge per escriure HTML de manera més eficient, i es basa en unes etiquetes molt simples.\n",
    "\n",
    "Per **veure el codi** Markdown d'una cel.la doble clica en aquesta. Per a què el codi Markdown es processi fes un \"run\" de la cel.la.\n",
    "\n",
    "### Codis més habituals\n",
    "\n",
    "Per escriure un **paràgraf** simplement s'ha d'escriure el text. Ara bé els paràgrafs s'han de separar per una línia en blanc o si no el text apareix junt.\n",
    "\n",
    "A vegades ens interessa ressaltar una paraula o frase en negreta, podem fer-ho amb ** o amb _ al principi i al final. Per exemple, aquí ho veieu amb la paraual **destacat**. Per fer-la cursiva usarem els mateixos símbols però només una vegada, aquí ho veieu amb la frase *text especial*.\n",
    "\n",
    "Per escriure **encapçalaments** s'usa el signe #. Per exemple:\n",
    "# Encapçalament de nivell 1\n",
    "## Encapçalament de nivell 2\n",
    "### Encapçalament de nivell 3\n",
    "\n",
    "Com que **\\#** té aquest significat especial, si volem escriure'l en un text haurem de fer-ho amb una **barra inclinada al davant**: \\#. El mateix farem amb altres caràcters especials a Markdown.\n",
    "\n",
    "\n",
    "Per escriure un bloc de **codi**, l'escrivim indentat quatre espais\n",
    "\n",
    "Un exemple de codi:\n",
    "    print(\"hola món\")\n",
    "\n",
    "El codi no és executable però es mostra com a tal.\n",
    "\n",
    "\n",
    "Per escruire **llistes** cal iniciar cada element amb - o amb +\n",
    "\n",
    "Exemple:\n",
    "Ara ja conec els llenguatges (després una línia en blanc):\n",
    "\n",
    "- Python\n",
    "- Markdown\n",
    "\n",
    "també estic coneixent\n",
    "\n",
    "+ Java\n",
    "\n",
    "Si volem que la **llista sigui numerada**, la iniciarem amb un 1:\n",
    "\n",
    "1. Markdown és molt fàcil\n",
    "2. Markdown m'ajuda a fer els comentaris més clars\n",
    "3. Markdown usa codis simples\n",
    "\n",
    "Si el que volem és **enllaçar un recurs extern de la web**, podem posar-hi un vincle usant [text del vincle]URL. Si voleu també hi podeu posar un title que es veurà quan el ratolí es passi per sobre. Gràcies a aquest truc podeu anar des d'aquí a la [Facultat de matemàtiques]http://mat.ub.edu \"Facultat\""
   ]
  },
  {
   "cell_type": "markdown",
   "metadata": {},
   "source": [
    "## Exercici 2\n",
    "Busca més informació a la web sobre Markdown i explica com es poden incloure imatges en un notebook. Demostra-ho amb un exemple"
   ]
  },
  {
   "cell_type": "markdown",
   "metadata": {},
   "source": [
    "## Exercici 3\n",
    "\n",
    "Escriu una funció SonIguals que donats dos nombres mostri True a pantalla si són iguals, i False altrament.\n",
    "\n",
    "Escriu una segona funció EsMenorQue10 que donat un nombre mostri True a pantalla si és menor que 10 i False altrament."
   ]
  },
  {
   "cell_type": "markdown",
   "metadata": {},
   "source": [
    "## Problema 1: \n",
    "Resol el problema del conjunt de problemes **Potència2**"
   ]
  },
  {
   "cell_type": "markdown",
   "metadata": {},
   "source": [
    "## Problema 2:\n",
    "Resol el problema del conjunt de problemes **Avet**"
   ]
  },
  {
   "cell_type": "markdown",
   "metadata": {},
   "source": [
    "<p style=\"text-align:right;font-size:0.9em\">\n",
    "&copy;Jordi Vitrià i Mireia Ribera\n",
    "</p>"
   ]
  }
 ],
 "metadata": {
  "kernelspec": {
   "display_name": "Python 3",
   "language": "python",
   "name": "python3"
  },
  "language_info": {
   "codemirror_mode": {
    "name": "ipython",
    "version": 3
   },
   "file_extension": ".py",
   "mimetype": "text/x-python",
   "name": "python",
   "nbconvert_exporter": "python",
   "pygments_lexer": "ipython3",
   "version": "3.6.5"
  }
 },
 "nbformat": 4,
 "nbformat_minor": 2
}
