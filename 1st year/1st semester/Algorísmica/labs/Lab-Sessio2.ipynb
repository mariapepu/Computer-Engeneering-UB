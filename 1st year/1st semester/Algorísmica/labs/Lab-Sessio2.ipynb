{
 "cells": [
  {
   "cell_type": "markdown",
   "metadata": {},
   "source": [
    "<p style=\"text-align:right;font-size:0.9em\">\n",
    "Grau d'Enginyeria Informàtica. Algorísmica\n",
    "</p>"
   ]
  },
  {
   "cell_type": "markdown",
   "metadata": {},
   "source": [
    "<h1 style=\"padding:0.5em 0;font:Garamond;font-size:1-5em;color:#F90;background-color:#005\">\n",
    "Sessió de Laboratori 2: Python2"
   ]
  },
  {
   "cell_type": "markdown",
   "metadata": {},
   "source": [
    "## Exercici 1\n",
    "\n",
    "+ Observa el següent codi i fes els canvis que s'indiquen en una nova casella de codi Python creada per tu. Per saber com funciona la impressió de valors dintre de cadenes de caràcters, pots consultar la <a href=\"https://docs.python.org/2/library/stdtypes.html#string-formatting-operations\" title=\"string-formatting-operations\">documentació de Python</a>."
   ]
  },
  {
   "cell_type": "code",
   "execution_count": 10,
   "metadata": {},
   "outputs": [
    {
     "name": "stdout",
     "output_type": "stream",
     "text": [
      "Digues-me un joc de mobil que t'agradi hay day\n",
      "Digues-me per quin nivell vas 54\n",
      "Es una aplicacio Android (respon True o False)True\n",
      "La teva app s'anomena:  hay day  vas pel nivell:  54  i és una aplicació Android:  True\n"
     ]
    }
   ],
   "source": [
    "def provaentrada():\n",
    "    app=input(\"Digues-me un joc de mobil que t'agradi \")\n",
    "    nivell=int(input(\"Digues-me per quin nivell vas \"))\n",
    "    android=bool(input(\"Es una aplicacio Android (respon True o False) \"))\n",
    "    print (\"La teva app s'anomena: \",app,\" vas pel nivell: \",nivell,\" i és una aplicació Android: \",android)\n",
    "    #Canvia les preguntes per tal de demanar les dades de dues apps simultàniament\n",
    "    #Demana també una puntuació per les apps entre 0 i 1 amb decimals (per ex. 0.3,0.5,0.7)\n",
    "    #Canvia el resultat segons els canvis anteriors \n",
    "    \n",
    "\n",
    "provaentrada()"
   ]
  },
  {
   "cell_type": "code",
   "execution_count": 7,
   "metadata": {},
   "outputs": [],
   "source": [
    "def provaentrada2():\n",
    "    \"\"\"\n",
    "    Aquest programa demana les dades de dues apps de mòbil i mostra els resultats\n",
    "    :param cap\n",
    "    :return res\n",
    "    \"\"\""
   ]
  },
  {
   "cell_type": "markdown",
   "metadata": {},
   "source": [
    "## Exercici 2\n",
    "\n",
    "+ Escriu, fent servir la instrucció ``while``, una funció, ``mentre``,  que calculi el següents valors:\n",
    "\n",
    "    +\tEl nombre de vegades que un nombre n pot ser dividir per $7$ abans d’arribar a $10$.\n",
    "    +\tLa multiplicació de tots els nombres enters positius dins **llista** fins a trobar un nombre negatiu. "
   ]
  },
  {
   "cell_type": "code",
   "execution_count": null,
   "metadata": {},
   "outputs": [],
   "source": [
    "# Substitueix la comanda pass per la teva solució\n",
    "\n",
    "def mentre(n,llista):  \n",
    "    pass"
   ]
  },
  {
   "cell_type": "code",
   "execution_count": null,
   "metadata": {},
   "outputs": [],
   "source": [
    "#Test de la funció\n",
    "\n",
    "mentre(490,[1,2,5,1,-3,2]) # Aquest exemple hauria de retornar (2,20)"
   ]
  },
  {
   "cell_type": "markdown",
   "metadata": {},
   "source": [
    "## Exercici 3\n",
    "\n",
    "Escriu, fent servir la instrucció for, una funció, per, que calculi el següents valors:\n",
    "La suma dels n primers nombres parells\n",
    "Una llista amb els n primers nombres senars\n",
    "Atenció: el problema s'ha de resoldre amb iteracions"
   ]
  },
  {
   "cell_type": "code",
   "execution_count": null,
   "metadata": {},
   "outputs": [],
   "source": [
    "# Substitueix la comanda pass per la teva solució\n",
    "\n",
    "def per(n):  \n",
    "    pass"
   ]
  },
  {
   "cell_type": "code",
   "execution_count": null,
   "metadata": {},
   "outputs": [],
   "source": [
    "# Test de la funció\n",
    "\n",
    "per(5)\n",
    "# aquest exemple hauria de retornar (30,[1,3,5,7,9])"
   ]
  },
  {
   "cell_type": "markdown",
   "metadata": {
    "collapsed": true
   },
   "source": [
    "## Problema 1: \n",
    "Resol el problema del conjunt de problemes **Calculadora**"
   ]
  },
  {
   "cell_type": "markdown",
   "metadata": {},
   "source": [
    "## Problema 2: \n",
    "Resol el problema del conjunt de problemes **ProuCerveses**"
   ]
  },
  {
   "cell_type": "markdown",
   "metadata": {},
   "source": [
    "## Problema 3: \n",
    "Resol el problema del conjunt de problemes **FactorialMenor**"
   ]
  },
  {
   "cell_type": "markdown",
   "metadata": {},
   "source": [
    "## Problema 4: \n",
    "Resol el problema del conjunt de problemes **Feliç**"
   ]
  },
  {
   "cell_type": "markdown",
   "metadata": {},
   "source": [
    "<p style=\"text-align:right;font-size:0.9em\">\n",
    "&copy;Jordi Vitrià i Mireia Ribera\n",
    "</p>"
   ]
  }
 ],
 "metadata": {
  "kernelspec": {
   "display_name": "Python 3",
   "language": "python",
   "name": "python3"
  },
  "language_info": {
   "codemirror_mode": {
    "name": "ipython",
    "version": 3
   },
   "file_extension": ".py",
   "mimetype": "text/x-python",
   "name": "python",
   "nbconvert_exporter": "python",
   "pygments_lexer": "ipython3",
   "version": "3.6.6"
  }
 },
 "nbformat": 4,
 "nbformat_minor": 2
}
