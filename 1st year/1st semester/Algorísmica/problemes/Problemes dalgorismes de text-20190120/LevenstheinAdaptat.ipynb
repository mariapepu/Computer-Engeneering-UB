{
 "cells": [
  {
   "cell_type": "markdown",
   "metadata": {},
   "source": [
    "<p style=\"text-align:right;font-size:0.9em\">\n",
    "Grau d'Enginyeria Informàtica. Algorísmica. Curs 2017-2018\n",
    "</p>"
   ]
  },
  {
   "cell_type": "markdown",
   "metadata": {},
   "source": [
    "<h1 style=\"padding:0.5em 0;font:Garamond;font-size:1-5em;color:#F90;background-color:#005\">\n",
    "Problema: Levensthein adaptat\n",
    "</h1>"
   ]
  },
  {
   "cell_type": "markdown",
   "metadata": {},
   "source": [
    "Adapta l'algorisme de Levensthein pensant en el context de cerques per Google. Sovint les persones posen un caràcter per un altre per error i això els penalitzarà menys que altres canvis.\n",
    "\n",
    "Per tant el cost serà:\n",
    "\n",
    "- esborrat: 3 (a no ser que s'hagi esborrat una 'h')\n",
    "- esborrat d'una h: 2\n",
    "- inserció: 3\n",
    "- substitució: 2 (a no ser que sigui de parelles de lletres semblants)\n",
    "- substitució: 1 (parelles semblants)\n",
    "\n",
    "Es consideraran com a parelles semblants:\n",
    "\n",
    "s - c,   b - v,  g - j\n",
    "\n",
    "Troba les paraules a mínima distància de \"sugerir\", \"sujerir\", \"abía\", \"había\", \"ejercicio\" \"egersisio\"  en el text \"text.txt\" que us donem junt a l'examen.\n",
    "Per cadascuna d'elles mostra la paraula i la distància. "
   ]
  },
  {
   "cell_type": "code",
   "execution_count": null,
   "metadata": {
    "collapsed": true
   },
   "outputs": [],
   "source": [
    "# Inserir aquí el codi de la solució"
   ]
  },
  {
   "cell_type": "markdown",
   "metadata": {},
   "source": [
    "<p style=\"text-align:right;font-size:0.9em\">\n",
    "&copy;Jordi Vitrià i Mireia Ribera\n",
    "</p>"
   ]
  }
 ],
 "metadata": {
  "kernelspec": {
   "display_name": "Python 3",
   "language": "python",
   "name": "python3"
  },
  "language_info": {
   "codemirror_mode": {
    "name": "ipython",
    "version": 3
   },
   "file_extension": ".py",
   "mimetype": "text/x-python",
   "name": "python",
   "nbconvert_exporter": "python",
   "pygments_lexer": "ipython3",
   "version": "3.6.5"
  }
 },
 "nbformat": 4,
 "nbformat_minor": 2
}
