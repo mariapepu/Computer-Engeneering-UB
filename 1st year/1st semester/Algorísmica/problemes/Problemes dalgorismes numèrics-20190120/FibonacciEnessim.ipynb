{
 "cells": [
  {
   "cell_type": "markdown",
   "metadata": {},
   "source": [
    "<p style=\"text-align:right;font-size:0.9em\">\n",
    "Grau d'Enginyeria Informàtica. Algorísmica\n",
    "</p>"
   ]
  },
  {
   "cell_type": "markdown",
   "metadata": {},
   "source": [
    "<h1 style=\"padding:0.5em 0;font:Garamond;font-size:1-5em;color:#F90;background-color:#005\">\n",
    "Problema: Càlcul de l'enèssim element de la seqüència de Fibonacci\n",
    "</h1>"
   ]
  },
  {
   "cell_type": "markdown",
   "metadata": {},
   "source": [
    "Escriu la versió recursiva del càlcul de l’enèssim element de la seqüència de Fibonacci, ``fib1``. L’algorisme ha de tenir com a paràmetre d'entrada el nombre $n$ que l'usuari vol calcular, i ha de retornar el valor corresponent de la seqüència de Fibonacci i el temps que ha invertit en calcular-lo."
   ]
  },
  {
   "cell_type": "code",
   "execution_count": 1,
   "metadata": {},
   "outputs": [],
   "source": [
    "# Substitueix la comanda pass pel teu codi\n",
    "\n",
    "def fib1(n):\n",
    "    import time\n",
    "    pass"
   ]
  },
  {
   "cell_type": "code",
   "execution_count": 2,
   "metadata": {},
   "outputs": [],
   "source": [
    "# Test de la funció\n",
    "fib1(8)  #aquest exemple hauria de retornar (21, 1.2e-05) \n",
    "# el temps pot sortir lleugerament diferent"
   ]
  },
  {
   "cell_type": "markdown",
   "metadata": {},
   "source": [
    "<p style=\"text-align:right;font-size:0.9em\">\n",
    "&copy;Jordi Vitrià i Mireia Ribera\n",
    "</p>"
   ]
  }
 ],
 "metadata": {
  "kernelspec": {
   "display_name": "Python 3",
   "language": "python",
   "name": "python3"
  },
  "language_info": {
   "codemirror_mode": {
    "name": "ipython",
    "version": 3
   },
   "file_extension": ".py",
   "mimetype": "text/x-python",
   "name": "python",
   "nbconvert_exporter": "python",
   "pygments_lexer": "ipython3",
   "version": "3.6.5"
  }
 },
 "nbformat": 4,
 "nbformat_minor": 2
}
