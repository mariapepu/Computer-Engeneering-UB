{
 "cells": [
  {
   "cell_type": "markdown",
   "metadata": {},
   "source": [
    "<p style=\"text-align:right;font-size:0.9em\">\n",
    "Grau d'Enginyeria Informàtica. Algorísmica\n",
    "</p>"
   ]
  },
  {
   "cell_type": "markdown",
   "metadata": {},
   "source": [
    "<h1 style=\"padding:0.5em 0;font:Garamond;font-size:1-5em;color:#F90;background-color:#005\">\n",
    "Problema: Test primeritat\n",
    "</h1>"
   ]
  },
  {
   "cell_type": "markdown",
   "metadata": {},
   "source": [
    "Escriu una funció factorp que comprovi si un determinat nombre  n  és primer mitjançant la tècnica de la factorització i que imprimeixi quant temps ha trigat en calcular-ho (podeu usar el mètode explicat a http://www.purplemath.com/modules/factnumb.htm)."
   ]
  },
  {
   "cell_type": "code",
   "execution_count": 1,
   "metadata": {},
   "outputs": [],
   "source": [
    "# Substitueix la comanda pass pel teu codi\n",
    "import math\n",
    "import time\n",
    "def factorp(N):\n",
    "    pass"
   ]
  },
  {
   "cell_type": "code",
   "execution_count": 2,
   "metadata": {},
   "outputs": [],
   "source": [
    "# Test de la funció\n",
    "factorp(7) #aquest exemple hauria de retornar (True, 5.13e-06) \n",
    "# el temps pot sortir lleugerament diferent i amb més decimals\n"
   ]
  },
  {
   "cell_type": "code",
   "execution_count": 3,
   "metadata": {},
   "outputs": [],
   "source": [
    "# Test de la funció\n",
    "factorp(3) #aquest exemple hauria de retornar (True, 4.7e-06) \n",
    "# el temps pot sortir lleugerament diferent i amb més decimals"
   ]
  },
  {
   "cell_type": "markdown",
   "metadata": {},
   "source": [
    "## Pregunta 1\n",
    "Escriu una funció, ``fermatp``, que comprovi si un determinat nombre $n$ és primer mitjançant la tècnica de Fermat amb valors $a=2, 3,  5$ (veure apunts de teoria). La funció ha d’escriure al final del test si és un nombre primer i el temps invertit en el càlcul."
   ]
  },
  {
   "cell_type": "code",
   "execution_count": 5,
   "metadata": {},
   "outputs": [],
   "source": [
    "# Substitueix la comanda pass pel teu codi\n",
    "\n",
    "import time\n",
    "def fermatp(N):\n",
    "    pass"
   ]
  },
  {
   "cell_type": "code",
   "execution_count": 6,
   "metadata": {},
   "outputs": [],
   "source": [
    "# Test de la funció\n",
    "fermatp(19) #aquest exemple hauria de retornar (True, 1.49e-05)\n",
    "# el temps pot sortir lleugerament diferent i amb més decimals"
   ]
  },
  {
   "cell_type": "markdown",
   "metadata": {},
   "source": [
    "<p style=\"text-align:right;font-size:0.9em\">\n",
    "&copy;Jordi Vitrià i Mireia Ribera\n",
    "</p>"
   ]
  }
 ],
 "metadata": {
  "kernelspec": {
   "display_name": "Python 3",
   "language": "python",
   "name": "python3"
  },
  "language_info": {
   "codemirror_mode": {
    "name": "ipython",
    "version": 3
   },
   "file_extension": ".py",
   "mimetype": "text/x-python",
   "name": "python",
   "nbconvert_exporter": "python",
   "pygments_lexer": "ipython3",
   "version": "3.6.5"
  }
 },
 "nbformat": 4,
 "nbformat_minor": 2
}
