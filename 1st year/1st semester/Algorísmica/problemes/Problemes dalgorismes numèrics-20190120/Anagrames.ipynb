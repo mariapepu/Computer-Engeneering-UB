{
 "cells": [
  {
   "cell_type": "markdown",
   "metadata": {},
   "source": [
    "<p style=\"text-align:right;font-size:0.9em\">\n",
    "Grau d'Enginyeria Informàtica. Algorísmica\n",
    "</p>"
   ]
  },
  {
   "cell_type": "markdown",
   "metadata": {},
   "source": [
    "<h1 style=\"padding:0.5em 0;font:Garamond;font-size:1-5em;color:#F90;background-color:#005\">\n",
    "Problema: Anagrames\n",
    "</h1>"
   ]
  },
  {
   "cell_type": "markdown",
   "metadata": {},
   "source": [
    "Implementa el següent algorisme per saber si dues paraules formades per lletres del conjunt ``abcdefghijklmnopqrstuvyz`` són anagrames (tenen les mateixes lletres):\n",
    "\n",
    "+ Associa cada una de les lletres de l'alfabet a un nombre primer.\n",
    "+ Multiplica els caràcters de cada paraula per obtenir un enter. \n",
    "\n",
    "Com que cada enter és un primer o un producte únic de primers, aquest enter només es repetirà per les paraules que tenen les mateixes lletres (anagrames). "
   ]
  },
  {
   "cell_type": "code",
   "execution_count": null,
   "metadata": {
    "collapsed": true
   },
   "outputs": [],
   "source": [
    "# Resposta\n",
    "\n",
    "def primers(n):\n",
    "    \"\"\" Aquesta funció retorna la llista dels nombres primers menors que n\"\"\"\n",
    "    \n",
    "def anagrama(a,b):\n",
    "    \"\"\" Aquesta funció retorna True si a i b són anagrames. False altrament\"\"\"\n",
    "\n",
    "print(anagrama('ana', 'naa')) # Hauria de retornar True\n",
    "print(anagrama('ana', 'nat')) # Hauria de retornar False\n",
    "print(anagrama('ana', 'anna')) # Hauria de retornar False"
   ]
  },
  {
   "cell_type": "markdown",
   "metadata": {},
   "source": [
    "<p style=\"text-align:right;font-size:0.9em\">\n",
    "&copy;Jordi Vitrià i Mireia Ribera\n",
    "</p>"
   ]
  }
 ],
 "metadata": {
  "kernelspec": {
   "display_name": "Python 3",
   "language": "python",
   "name": "python3"
  },
  "language_info": {
   "codemirror_mode": {
    "name": "ipython",
    "version": 3
   },
   "file_extension": ".py",
   "mimetype": "text/x-python",
   "name": "python",
   "nbconvert_exporter": "python",
   "pygments_lexer": "ipython3",
   "version": "3.6.5"
  }
 },
 "nbformat": 4,
 "nbformat_minor": 2
}
