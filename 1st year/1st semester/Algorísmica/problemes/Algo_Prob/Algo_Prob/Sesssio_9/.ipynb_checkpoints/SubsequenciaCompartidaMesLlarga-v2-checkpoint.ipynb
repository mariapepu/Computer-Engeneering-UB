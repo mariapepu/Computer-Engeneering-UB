{
 "cells": [
  {
   "cell_type": "markdown",
   "metadata": {},
   "source": [
    "<p style=\"text-align:right;font-size:0.9em\">\n",
    "Grau d'Enginyeria Informàtica. Algorísmica\n",
    "</p>"
   ]
  },
  {
   "cell_type": "markdown",
   "metadata": {},
   "source": [
    "<h1 style=\"padding:0.5em 0;font:Garamond;font-size:1-5em;color:#F90;background-color:#005\">\n",
    "Problema: Trobar la subseqüència comú més llarga\n",
    "</h1>"
   ]
  },
  {
   "cell_type": "markdown",
   "metadata": {},
   "source": [
    "<p style=\"font-family:Arial;font-size:1em\">\n",
    "Donades dues cadenes de caràcters identificar la longitud de la subseqüència compartida més llarga. Una subseqüència és una seqüència de caràcters en el mateix ordre que a la cadena original però no necessàriament consecutius.</p>\n",
    "<p style=\"font-family:Arial;font-size:1em\"> Per exemple de la paraula ACBA, podem treure'n les subseqüències AC,AB,AA, ACB, ACA, ABA, ACBA, CB, CA, CBA, BA, A, C, B <p>"
   ]
  },
  {
   "cell_type": "markdown",
   "metadata": {},
   "source": [
    "<div style=\"font-style:italic\">\n",
    "Per exemple:\n",
    "<ul>\n",
    "<li>cadena1='STUTVST', cadena2='TVUSTS'</li>\n",
    "<li>Solució:\n",
    "   <ul>\n",
    "   <li>La subseqüència comú més llarga té 4 caràcters</li>\n",
    "   <li>Explicació: les subseqüències més llargues són TUTS,TUST,TVST, totes elles de 4 caràcters</li>\n",
    "   </ul>\n",
    "</li>\n",
    "</ul>\n",
    "</div>"
   ]
  },
  {
   "cell_type": "code",
   "execution_count": 19,
   "metadata": {},
   "outputs": [],
   "source": [
    "# Inserir aquí el codi de la solució\n",
    "\n",
    "def sscmll(cad1,cad2):\n",
    "    longcad1=len(cad1)\n",
    "    longcad2=len(cad2)\n",
    "    if cad1 == cad2:\n",
    "        return longcad1\n",
    "    if longcad1==0 or longcad2==0:\n",
    "        return 0\n",
    "    if cad1[-1]==cad2[-1]:\n",
    "        return 1+sscmll(cad1[:-1],cad2[:-1])\n",
    "    else:\n",
    "        return max(sscmll(cad1,cad2[:-1]),sscmll(cad1[:-1],cad2))      \n",
    "\n",
    "# Solució força bruta\n",
    "\n",
    "def sscmlldic(cad1,cad2,diccionari):\n",
    "    if not(cad1+','+cad2 in diccionari):\n",
    "        longcad1=len(cad1)\n",
    "        longcad2=len(cad2)\n",
    "        if cad1 == cad2:\n",
    "            diccionari[cad1+','+cad2] = longcad1\n",
    "        if longcad1==0 or longcad2==0:\n",
    "            diccionari[cad1+','+cad2] = 0\n",
    "        if cad1[-1]==cad2[-1]:\n",
    "            diccionari[cad1+','+cad2] = 1+sscmll(cad1[:-1],cad2[:-1])\n",
    "        else:\n",
    "            diccionari[cad1+','+cad2] = max(sscmlldic(cad1,cad2[:-1],diccionari),sscmlldic(cad1[:-1],cad2,diccionari))\n",
    "    return diccionari[cad1+','+cad2]\n",
    "\n",
    "def sscmlldic2(cad1,cad2):\n",
    "    diccionari={}\n",
    "    return sscmlldic(cad1,cad2,diccionari)\n",
    "\n",
    "# Solució optmitzada per no repetir càlculs"
   ]
  },
  {
   "cell_type": "code",
   "execution_count": 20,
   "metadata": {},
   "outputs": [
    {
     "ename": "TypeError",
     "evalue": "sscmlldic2() takes 2 positional arguments but 3 were given",
     "output_type": "error",
     "traceback": [
      "\u001b[1;31m---------------------------------------------------------------------------\u001b[0m",
      "\u001b[1;31mTypeError\u001b[0m                                 Traceback (most recent call last)",
      "\u001b[1;32m<ipython-input-20-93372e4d6eab>\u001b[0m in \u001b[0;36m<module>\u001b[1;34m()\u001b[0m\n\u001b[1;32m----> 1\u001b[1;33m \u001b[0msscmlldic2\u001b[0m\u001b[1;33m(\u001b[0m\u001b[1;34m\"acbd\"\u001b[0m\u001b[1;33m,\u001b[0m\u001b[1;34m\"acb\"\u001b[0m\u001b[1;33m,\u001b[0m\u001b[1;33m{\u001b[0m\u001b[1;33m}\u001b[0m\u001b[1;33m)\u001b[0m\u001b[1;33m\u001b[0m\u001b[0m\n\u001b[0m",
      "\u001b[1;31mTypeError\u001b[0m: sscmlldic2() takes 2 positional arguments but 3 were given"
     ]
    }
   ],
   "source": [
    "sscmlldic2(\"acbd\",\"acb\",{})"
   ]
  },
  {
   "cell_type": "markdown",
   "metadata": {},
   "source": [
    "També podem construir la solució amb una taula que va guardant els valors de la subseqüència comú més llarga:\n",
    "\n",
    "\n",
    "|   |   |   | 0 | 1 | 2 | 3 | 4 | 5 | 6 | 7 | 8 |\n",
    "|---|---|---|---|---|---|---|---|---|---|---|---|\n",
    "|---|---|---| S | U | B | C | A | D | E | N | A |\n",
    "|---|---| 0 | 0 | 0 | 0 | 0 | 0 | 0 | 0 | 0 | 0 |\n",
    "| 0 | A | 0 | 0 | 0 | 0 | 0 | 1 | 1 | 1 | 1 | 1 |\n",
    "| 1 | B | 0 | 0 | 0 | 1 | 1 | 1 | 1 | 1 | 1 | 1 |\n",
    "| 2 | E | 0 | 0 | 0 | 1 | 1 | 1 | 1 | 2 | 2 | 2 |\n",
    "| 3 | C | 0 | 0 | 0 | 1 | 2 | 2 | 2 | 2 | 2 | 2 |\n",
    "| 4 | E | 0 | 0 | 0 | 1 | 2 | 2 | 2 | 3 | 3 | 3 |\n",
    "| 5 | D | 0 | 0 | 0 | 1 | 2 | 2 | 3 | 3 | 3 | 3 |\n",
    "| 6 | A | 0 | 0 | 0 | 1 | 2 | 3 | 3 | 3 | 3 | 4 |\n",
    "| 7 | R | 0 | 0 | 0 | 1 | 2 | 3 | 3 | 3 | 3 | 4 |\n",
    "| 8 | I | 0 | 0 | 0 | 1 | 2 | 3 | 3 | 3 | 3 | 4 |\n",
    "\n",
    "\n",
    "La casella[i][j] guarda el valor de longitud de la subseqüència més llarga entre cadena1[0:j] i cadena2[0:i]\n",
    "\n",
    "Per ex. la casella[2][6] guarda la longitud de la subseqüència més llarga entre cadena1[0:6] i cadena2[0:2]. Efectivament 2 és la longitud de la subseqüència més llarga entre \"SUBCADE\" i \"ABE\", que es correspon a \"AE\""
   ]
  },
  {
   "cell_type": "code",
   "execution_count": 14,
   "metadata": {},
   "outputs": [],
   "source": [
    "# Escriu una nova solució que implementi aquest algorisme usant aquesta taula\n",
    "\"\"\"\n",
    "Donades dues cadenes de caràcters identificar la longitud de la subseqüència\n",
    "compartida més llarga. Una subseqüència és una seqüència de caràcters\n",
    "en el mateix ordre que a la cadena original però no necessàriament\n",
    "consecutius.\n",
    "En aquest algorisme s'optimitzen els càlculs amb una taula on es guarden\n",
    "les solucions parcials\n",
    ":param cadena1, cadena2 les dues cadenes en les que buscar la subseqüència\n",
    ":return la longitud de la subseqüència més llarga\n",
    "\"\"\"\n",
    "\n",
    "\n",
    "def subSComuTaula(cadena1, cadena2):\n",
    "    longcad1=len(cad1)\n",
    "    longcad2=len(cad2)\n",
    "    taulaSolucions=[]\n",
    "    for i in range(0,longcad2+1):\n",
    "        fila=[0]*(longcad1+1)  # he de definir la fila dins el bucle \n",
    "        taulaSolucions.append(fila)\n",
    "    # print (taulaSolucions)\n",
    "    # la casella [i] [j] guarda el valor de la longitus de la \n",
    "    # subseqüència més llarga entre cadena1[0:j] i cadena2[0:i]\n",
    "    for j in range(1,longcad1+1):\n",
    "        for i in range(1, longcad2+1):\n",
    "            if cadena1[j-1]==cadena2[i-1]:\n",
    "                taulaSolucions[i][j] = taulaSolucions[i-a][j-1]+1\n",
    "                else:\n",
    "                    taulaSolucions[i][j] = max(taulaSolucions[i-1][j], taulaSolucions[i][j-1])\n",
    "    # print (taulaSolucions) #xivato\n",
    "    \n",
    "\n",
    "subSComuTaula('bd','abd')"
   ]
  },
  {
   "cell_type": "markdown",
   "metadata": {},
   "source": [
    "<h2 style=\"padding:0.5em 0;font:Garamond;font-size:1.2em;color:#FA0;background-color:#005\">\n",
    "Pregunta 1: Proposa algunes parelles de cadenes i digues quina és la subseqüència comú més llarga:\n",
    "</h2>"
   ]
  },
  {
   "cell_type": "code",
   "execution_count": null,
   "metadata": {
    "collapsed": true
   },
   "outputs": [],
   "source": [
    "# Inserir aquí les respostes"
   ]
  },
  {
   "cell_type": "markdown",
   "metadata": {},
   "source": [
    "<h2 style=\"padding:0.5em 0;font:Garamond;font-size:1.2em;color:#FA0;background-color:#005\">\n",
    "Pregunta 2: Explica sense entrar en detalls el guany que hem aconseguit amb cada una de les optimitzacions proposades. ¶\n",
    "</h2>"
   ]
  },
  {
   "cell_type": "code",
   "execution_count": null,
   "metadata": {
    "collapsed": true
   },
   "outputs": [],
   "source": [
    "# Inserir aquí les respostes"
   ]
  },
  {
   "cell_type": "markdown",
   "metadata": {},
   "source": [
    "<p style=\"text-align:right;font-size:0.9em\">\n",
    "&copy;Jordi Vitrià i Mireia Ribera\n",
    "</p>"
   ]
  }
 ],
 "metadata": {
  "kernelspec": {
   "display_name": "Python 3",
   "language": "python",
   "name": "python3"
  },
  "language_info": {
   "codemirror_mode": {
    "name": "ipython",
    "version": 3
   },
   "file_extension": ".py",
   "mimetype": "text/x-python",
   "name": "python",
   "nbconvert_exporter": "python",
   "pygments_lexer": "ipython3",
   "version": "3.6.5"
  }
 },
 "nbformat": 4,
 "nbformat_minor": 2
}
