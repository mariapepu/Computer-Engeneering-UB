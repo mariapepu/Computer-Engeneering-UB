{
 "cells": [
  {
   "cell_type": "markdown",
   "metadata": {},
   "source": [
    "<p style=\"text-align:right;font-size:0.9em\">\n",
    "Grau d'Enginyeria Informàtica. Algorísmica\n",
    "</p>"
   ]
  },
  {
   "cell_type": "markdown",
   "metadata": {},
   "source": [
    "<h1 style=\"padding:0.5em 0;font:Garamond;font-size:1-5em;color:#F90;background-color:#005\">\n",
    "Sessió de problemes Python-1: variables, operacions bàsiques, funcions, input i output\n",
    "</h1>"
   ]
  },
  {
   "cell_type": "markdown",
   "metadata": {},
   "source": [
    "### El primer programa Python\n",
    "\n",
    "Si escrius la instrucció  ``print (“Hola Mon!”)`` a una cel·la i l'executes, l'intèrpret t'ha de contestar escrivint ``Hola Mon!``.\n",
    "\n",
    "Per executar la cel·la, (1) selecciona-la amb el ratolí, (2) executa-la fent servir la combinació de tecles ``Mayús-Enter`` o prement el botó ``Run`` a la barra de botons superior.\n",
    "Explora la resta de botons, que et permeten afegir una cel·la (botó +), eliminar una cel·la (botó tisores), copiar una cel·la (botó dos documents), canviar el format d'una cel·la, etc."
   ]
  },
  {
   "cell_type": "code",
   "execution_count": 1,
   "metadata": {},
   "outputs": [
    {
     "name": "stdout",
     "output_type": "stream",
     "text": [
      "Hola peña\n"
     ]
    }
   ],
   "source": [
    "print(\"Hola peña\")"
   ]
  },
  {
   "cell_type": "markdown",
   "metadata": {},
   "source": [
    "D’aquesta manera has interactuat amb Python directament, sense escriure el programa en un fitxer, i has obtingut una resposta. Si el que escrius no és correcte, Python no ho entén i rebràs un missatge d’error:"
   ]
  },
  {
   "cell_type": "code",
   "execution_count": 2,
   "metadata": {
    "scrolled": true
   },
   "outputs": [
    {
     "ename": "SyntaxError",
     "evalue": "Missing parentheses in call to 'print'. Did you mean print(\"Hola caracola\")? (<ipython-input-2-5bdb208bc78b>, line 1)",
     "output_type": "error",
     "traceback": [
      "\u001b[1;36m  File \u001b[1;32m\"<ipython-input-2-5bdb208bc78b>\"\u001b[1;36m, line \u001b[1;32m1\u001b[0m\n\u001b[1;33m    print \"Hola caracola\"\u001b[0m\n\u001b[1;37m                        ^\u001b[0m\n\u001b[1;31mSyntaxError\u001b[0m\u001b[1;31m:\u001b[0m Missing parentheses in call to 'print'. Did you mean print(\"Hola caracola\")?\n"
     ]
    }
   ],
   "source": [
    "print \"Hola caracola\""
   ]
  },
  {
   "cell_type": "markdown",
   "metadata": {},
   "source": [
    "També podem guardar valors en variables. Les variables seran enters, booleans o text segons els valor que els assignem."
   ]
  },
  {
   "cell_type": "code",
   "execution_count": 14,
   "metadata": {},
   "outputs": [],
   "source": [
    "nom = \"Pere\""
   ]
  },
  {
   "cell_type": "code",
   "execution_count": 15,
   "metadata": {},
   "outputs": [],
   "source": [
    "edat = 20"
   ]
  },
  {
   "cell_type": "code",
   "execution_count": 16,
   "metadata": {},
   "outputs": [],
   "source": [
    "estudia = True"
   ]
  },
  {
   "cell_type": "code",
   "execution_count": 17,
   "metadata": {},
   "outputs": [
    {
     "name": "stdout",
     "output_type": "stream",
     "text": [
      "Pere d'edat 20 estudia: True\n"
     ]
    }
   ],
   "source": [
    "print(nom, \"d'edat\", edat, \"estudia:\", estudia)"
   ]
  },
  {
   "cell_type": "markdown",
   "metadata": {},
   "source": [
    "## Exercici 1:\n",
    "\n",
    "Escriu les instruccions per escriure la frase \"La botiga FruitaMadura té 20 peres i 10 pomes, en total 30 fruites\", on \"FruitaMadura\", 20 i 10 s'han guardat prèviament en una variable, i 30 es calcula amb una suma en el moment de mostrar el resultat. "
   ]
  },
  {
   "cell_type": "code",
   "execution_count": 4,
   "metadata": {},
   "outputs": [
    {
     "name": "stdout",
     "output_type": "stream",
     "text": [
      "La botiga FruitaMadura té 20 peres i 10 pomes, en total 30 fruites\n"
     ]
    }
   ],
   "source": [
    "nperes = 20\n",
    "npomes = 10\n",
    "nombotiga = \"FruitaMadura\"\n",
    "print (\"La botiga\",nombotiga,\"té\",nperes,\"peres i\",npomes,\"pomes, en total\",nperes+npomes,\"fruites\")"
   ]
  },
  {
   "cell_type": "markdown",
   "metadata": {},
   "source": [
    "### Operacions matemàtiques bàsiques: Python permet executar operacions matemàtiques directament a les cel.les del notebook"
   ]
  },
  {
   "cell_type": "code",
   "execution_count": 4,
   "metadata": {},
   "outputs": [
    {
     "data": {
      "text/plain": [
       "11.071428571428571"
      ]
     },
     "execution_count": 4,
     "metadata": {},
     "output_type": "execute_result"
    }
   ],
   "source": [
    "4.0 / 7.0 + 3.5 * 3"
   ]
  },
  {
   "cell_type": "code",
   "execution_count": 5,
   "metadata": {},
   "outputs": [
    {
     "data": {
      "text/plain": [
       "2.2"
      ]
     },
     "execution_count": 5,
     "metadata": {},
     "output_type": "execute_result"
    }
   ],
   "source": [
    "10 % 3 + 6 / 5"
   ]
  },
  {
   "cell_type": "code",
   "execution_count": 6,
   "metadata": {},
   "outputs": [
    {
     "data": {
      "text/plain": [
       "5629499534213120.0"
      ]
     },
     "execution_count": 6,
     "metadata": {},
     "output_type": "execute_result"
    }
   ],
   "source": [
    "5/(3.2 + 1.6 - 4.8)"
   ]
  },
  {
   "cell_type": "code",
   "execution_count": 7,
   "metadata": {},
   "outputs": [
    {
     "data": {
      "text/plain": [
       "11"
      ]
     },
     "execution_count": 7,
     "metadata": {},
     "output_type": "execute_result"
    }
   ],
   "source": [
    "3 * 11 // 3 + 15 % 3"
   ]
  },
  {
   "cell_type": "markdown",
   "metadata": {},
   "source": [
    "I té algunes funcions per a operacions matemàtiques més complexes:"
   ]
  },
  {
   "cell_type": "code",
   "execution_count": 8,
   "metadata": {},
   "outputs": [
    {
     "data": {
      "text/plain": [
       "27.0"
      ]
     },
     "execution_count": 8,
     "metadata": {},
     "output_type": "execute_result"
    }
   ],
   "source": [
    "abs(1 - 16 / 4) ** 3"
   ]
  },
  {
   "cell_type": "markdown",
   "metadata": {},
   "source": [
    "Però algunes d'elles requereixen importar la llibreria math"
   ]
  },
  {
   "cell_type": "code",
   "execution_count": 12,
   "metadata": {},
   "outputs": [
    {
     "data": {
      "text/plain": [
       "26.0"
      ]
     },
     "execution_count": 12,
     "metadata": {},
     "output_type": "execute_result"
    }
   ],
   "source": [
    "import math\n",
    "math.sqrt(7.0 - 3.0) + 8 * 3"
   ]
  },
  {
   "cell_type": "markdown",
   "metadata": {},
   "source": [
    "## Exercici 2:\n",
    "\n",
    "Fes les següents operacions en Pyhon:\n",
    "- $5^3$\n",
    "- arrel quadrada de 4\n",
    "- arrel cúbica de 5\n",
    "- 189456 / 8 => donar el resultat i la resta\n",
    "- (2 + 9 * 3 / 5 * 4)"
   ]
  },
  {
   "cell_type": "code",
   "execution_count": 14,
   "metadata": {},
   "outputs": [
    {
     "data": {
      "text/plain": [
       "125"
      ]
     },
     "execution_count": 14,
     "metadata": {},
     "output_type": "execute_result"
    }
   ],
   "source": [
    "5*5*5"
   ]
  },
  {
   "cell_type": "code",
   "execution_count": 15,
   "metadata": {},
   "outputs": [
    {
     "data": {
      "text/plain": [
       "2.0"
      ]
     },
     "execution_count": 15,
     "metadata": {},
     "output_type": "execute_result"
    }
   ],
   "source": [
    "4**1/2"
   ]
  },
  {
   "cell_type": "code",
   "execution_count": 5,
   "metadata": {},
   "outputs": [
    {
     "data": {
      "text/plain": [
       "2.0"
      ]
     },
     "execution_count": 5,
     "metadata": {},
     "output_type": "execute_result"
    }
   ],
   "source": [
    "import math\n",
    "math.sqrt(4)"
   ]
  },
  {
   "cell_type": "code",
   "execution_count": 16,
   "metadata": {},
   "outputs": [
    {
     "data": {
      "text/plain": [
       "1.6666666666666667"
      ]
     },
     "execution_count": 16,
     "metadata": {},
     "output_type": "execute_result"
    }
   ],
   "source": [
    "5**1/3"
   ]
  },
  {
   "cell_type": "code",
   "execution_count": 20,
   "metadata": {},
   "outputs": [
    {
     "data": {
      "text/plain": [
       "23682.0"
      ]
     },
     "execution_count": 20,
     "metadata": {},
     "output_type": "execute_result"
    }
   ],
   "source": [
    "189456/8"
   ]
  },
  {
   "cell_type": "code",
   "execution_count": 21,
   "metadata": {},
   "outputs": [
    {
     "data": {
      "text/plain": [
       "0"
      ]
     },
     "execution_count": 21,
     "metadata": {},
     "output_type": "execute_result"
    }
   ],
   "source": [
    "189456%8"
   ]
  },
  {
   "cell_type": "code",
   "execution_count": 19,
   "metadata": {},
   "outputs": [
    {
     "data": {
      "text/plain": [
       "3.7222222222222223"
      ]
     },
     "execution_count": 19,
     "metadata": {},
     "output_type": "execute_result"
    }
   ],
   "source": [
    "2+(93/54)"
   ]
  },
  {
   "cell_type": "markdown",
   "metadata": {},
   "source": [
    "### Funcions"
   ]
  },
  {
   "cell_type": "markdown",
   "metadata": {},
   "source": [
    "Quan volem fer un seguit d'instruccions repetidament, les posem dins d'una funció. El codi d'una funció no s'executarà fins que la cridem explícitament. Les funcions comencen amb def, el nom de la funció i parèntesi, seguit de :. Les instruccions de dins la funció queden indentades quatre caràcters a la dreta com a mínim per indicar que pertanyen a la funció."
   ]
  },
  {
   "cell_type": "code",
   "execution_count": 18,
   "metadata": {},
   "outputs": [],
   "source": [
    "def funcio1():\n",
    "    print(\"hola\")\n",
    "    \n",
    "def funcio2():\n",
    "    print(\"a\")"
   ]
  },
  {
   "cell_type": "code",
   "execution_count": 19,
   "metadata": {},
   "outputs": [
    {
     "name": "stdout",
     "output_type": "stream",
     "text": [
      "hola\n",
      "a\n",
      "hola\n"
     ]
    }
   ],
   "source": [
    "funcio1()\n",
    "funcio2()\n",
    "funcio1()"
   ]
  },
  {
   "cell_type": "markdown",
   "metadata": {},
   "source": [
    "### Paràmetres: les funcions amb paràmetres permeten que els indiquem el valor d'algunes variables en el moment de cridar-les. Veiem un exemple d'una funció amb paràmetres i una sense"
   ]
  },
  {
   "cell_type": "code",
   "execution_count": 4,
   "metadata": {},
   "outputs": [],
   "source": [
    "def suma():\n",
    "    var1=3\n",
    "    var2=3\n",
    "    suma_nombres=var1+var2\n",
    "    print(suma_nombres)"
   ]
  },
  {
   "cell_type": "code",
   "execution_count": 5,
   "metadata": {},
   "outputs": [
    {
     "name": "stdout",
     "output_type": "stream",
     "text": [
      "6\n"
     ]
    }
   ],
   "source": [
    "suma()"
   ]
  },
  {
   "cell_type": "markdown",
   "metadata": {},
   "source": [
    "Amb aquesta funció només puc sumar els valors 5 i 3, que són els que estan escrits en el codi."
   ]
  },
  {
   "cell_type": "code",
   "execution_count": 24,
   "metadata": {},
   "outputs": [],
   "source": [
    "def sumabis (var1,var2):\n",
    "    suma_nombres=var1+var2\n",
    "    print(suma_nombres)"
   ]
  },
  {
   "cell_type": "code",
   "execution_count": 25,
   "metadata": {},
   "outputs": [
    {
     "name": "stdout",
     "output_type": "stream",
     "text": [
      "8\n",
      "3\n"
     ]
    }
   ],
   "source": [
    "sumabis(3,5)\n",
    "sumabis(1,2)"
   ]
  },
  {
   "cell_type": "markdown",
   "metadata": {},
   "source": [
    "Amb aquesta funció puc sumar qualssevol valors perquè els indico amb els paràmetres."
   ]
  },
  {
   "cell_type": "markdown",
   "metadata": {},
   "source": [
    "## Exercici 3:\n",
    "\n",
    "Fes una funció amb dos paràmetres i en retorni la divisió"
   ]
  },
  {
   "cell_type": "code",
   "execution_count": 6,
   "metadata": {},
   "outputs": [
    {
     "name": "stdout",
     "output_type": "stream",
     "text": [
      "2.0\n"
     ]
    }
   ],
   "source": [
    "def divi (var1,var2):\n",
    "    divideix_nombre=var1/var2\n",
    "    print (divideix_nombre)\n",
    "\n",
    "divi(4,2)"
   ]
  },
  {
   "cell_type": "markdown",
   "metadata": {},
   "source": [
    "## Descomposició en funcions\n",
    "\n",
    "En cursos més avançats realitzareu funcions força complexes que consistiran en molts passos. I en l'entorn laboral sovint aquestes funcions complexes repeteixen codi ja fet.\n",
    "\n",
    "Per tal de facilitar la reutilització del codi, i facilitar el manteniment i llegibilitat, es recomana descomposar les funcions en parts petites amb significat.\n",
    "\n",
    "Quan us enfronteu amb un problema, heu de mirar d'identificar aquelles parts del codi que resolen un problema i separar-les del codi principal.\n",
    "Finalment, hi haurà una funció principal, que anirà cridant aquestes funcions més petites de forma ordenada, per resoldre el problema gran."
   ]
  },
  {
   "cell_type": "markdown",
   "metadata": {},
   "source": [
    "## Exercici 4\n",
    "\n",
    "Escriu una funció a la que li passis el teu nom i l'edat i et saludi dient-te quants anys et falten per arribar a 100. Descomposa la funció en dos, i fes-ne una que donat un enter et digui quant falta per a 100.\n",
    "\n",
    "Per exemple: salutacio(\"Aina\", 25)  => Hola Aina, et falten 75 anys per arribar a 100."
   ]
  },
  {
   "cell_type": "code",
   "execution_count": 32,
   "metadata": {},
   "outputs": [
    {
     "name": "stdout",
     "output_type": "stream",
     "text": [
      "Hola albert , et falten 80 anys per arribar a 100.\n"
     ]
    }
   ],
   "source": [
    "def faltaper100(a):\n",
    "    return 100-a\n",
    "\n",
    "def nom100(nom,edat):\n",
    "    falta = faltaper100(edat)\n",
    "    print (\"Hola\",nom,\", et falten\",falta,\"anys per arribar a 100.\")\n",
    "    \n",
    "nom100(\"albert\", 20)"
   ]
  },
  {
   "cell_type": "markdown",
   "metadata": {},
   "source": [
    "### Input: \n",
    "Per demanar dades a l’usuari s’usa input(‘Text a mostrar:’).\n",
    "\n",
    "***Nota: pots trobar més informació sobre input a la documentació de Python: https://docs.python.org/3/library/functions.html?#input***"
   ]
  },
  {
   "cell_type": "code",
   "execution_count": 7,
   "metadata": {},
   "outputs": [
    {
     "name": "stdout",
     "output_type": "stream",
     "text": [
      "Digues-me el teu nom:Katia\n",
      "Katia\n"
     ]
    }
   ],
   "source": [
    "# Exemple\n",
    "nom = input(\"Digues-me el teu nom: \")\n",
    "print(nom)"
   ]
  },
  {
   "cell_type": "markdown",
   "metadata": {},
   "source": [
    "Per defecte el valor entrat serà una cadena de caràcters. Si volem canviar el tipus caldrà indicar el tipus que volem usar."
   ]
  },
  {
   "cell_type": "code",
   "execution_count": 8,
   "metadata": {},
   "outputs": [
    {
     "name": "stdout",
     "output_type": "stream",
     "text": [
      "Digues-me la teva edat:18\n",
      "18\n",
      "<class 'int'>\n"
     ]
    }
   ],
   "source": [
    "# Exemple\n",
    "edat = int(input(\"Digues-me la teva edat:\"))\n",
    "print(edat)\n",
    "print(type(edat))"
   ]
  },
  {
   "cell_type": "code",
   "execution_count": 3,
   "metadata": {},
   "outputs": [
    {
     "name": "stdout",
     "output_type": "stream",
     "text": [
      "Digues-me quin descompte vols per les rebaixes (per ex. 0.2 és un 20%) 0.1\n",
      "10.0 %\n",
      "<class 'float'>\n"
     ]
    }
   ],
   "source": [
    "# Exemple 2\n",
    "descompte = float(input(\"Digues-me quin descompte vols per les rebaixes (per ex. 0.2 és un 20%) \"))\n",
    "print(descompte*100,\"%\")\n",
    "print(type(descompte))"
   ]
  },
  {
   "cell_type": "code",
   "execution_count": 2,
   "metadata": {},
   "outputs": [
    {
     "name": "stdout",
     "output_type": "stream",
     "text": [
      "Entra un valor4.5\n",
      "4.5\n"
     ]
    },
    {
     "data": {
      "text/plain": [
       "float"
      ]
     },
     "execution_count": 2,
     "metadata": {},
     "output_type": "execute_result"
    }
   ],
   "source": [
    "# Exemple 3\n",
    "x = eval(input(\"Entra un valor\"))  #eval avalua l'entrada i fa que el tipus sigui l'adient\n",
    "print(x)\n",
    "type(x)"
   ]
  },
  {
   "cell_type": "code",
   "execution_count": 3,
   "metadata": {},
   "outputs": [
    {
     "name": "stdout",
     "output_type": "stream",
     "text": [
      "Entra un valor\"hola\"\n",
      "hola\n"
     ]
    },
    {
     "data": {
      "text/plain": [
       "str"
      ]
     },
     "execution_count": 3,
     "metadata": {},
     "output_type": "execute_result"
    }
   ],
   "source": [
    "x = eval(input(\"Entra un valor\"))  #eval avalua l'entrada i fa que el tipus sigui l'adient\n",
    "print(x)\n",
    "type(x)"
   ]
  },
  {
   "cell_type": "markdown",
   "metadata": {},
   "source": [
    "També podem demanar dues o més dades alhora amb una assignació múltiple i separant l'entrada amb una coma si usem <cite>eval</cite>. Però en aquest cas, si el que entrem és una paraula ha d'anar entre cometes, perquè altrament Python es pensa que és una variable."
   ]
  },
  {
   "cell_type": "code",
   "execution_count": 2,
   "metadata": {},
   "outputs": [
    {
     "name": "stdout",
     "output_type": "stream",
     "text": [
      "Digues-me el teu nom i cognoms separant-los per comes, per ex. 'Anna', 'Cendra', 'Fuster':'Katia','Garcia','Aguilera'\n",
      "Katia\n",
      "Garcia\n",
      "Aguilera\n"
     ]
    }
   ],
   "source": [
    "# Exemple\n",
    "nom, cognom1, cognom2 = eval(input(\"Digues-me el teu nom i cognoms \\\n",
    "separant-los per comes, per ex. 'Anna', 'Cendra', 'Fuster':\"))\n",
    "print(nom)\n",
    "print(cognom1)\n",
    "print(cognom2)"
   ]
  },
  {
   "cell_type": "markdown",
   "metadata": {},
   "source": [
    "## Exercici 5\n",
    "Refes el programa de la divisió vist anteriorment per a què demani els dos números a dividir."
   ]
  },
  {
   "cell_type": "code",
   "execution_count": 1,
   "metadata": {},
   "outputs": [],
   "source": [
    "def divisio ():\n",
    "    var1 = int(input (\"Escriu el primer número \"))\n",
    "    var2 = int(input(\"Escriu el segon número \"))\n",
    "    if var2 == 0:\n",
    "        print(\"No pots dividir entre 0\")\n",
    "    else:\n",
    "        print(var1/var2)\n",
    "    "
   ]
  },
  {
   "cell_type": "code",
   "execution_count": 2,
   "metadata": {},
   "outputs": [
    {
     "name": "stdout",
     "output_type": "stream",
     "text": [
      "Escriu el primer número 4\n",
      "Escriu el segon número 2\n",
      "2.0\n"
     ]
    }
   ],
   "source": [
    "divisio()"
   ]
  },
  {
   "cell_type": "markdown",
   "metadata": {},
   "source": [
    "### Output: \n",
    "Per mostrar dades a l'usuari s'utilitza print(text o valors a mostrar).\n",
    "\n",
    "***Nota: pots trobar més informació sobre print a la documentació de Python: ***\n",
    "- Formatted string literals https://docs.python.org/3.6/reference/lexical_analysis.html#f-strings\n",
    "- Input and Output https://docs.python.org/3.6/tutorial/inputoutput.html\n",
    "\n"
   ]
  },
  {
   "cell_type": "code",
   "execution_count": 32,
   "metadata": {},
   "outputs": [
    {
     "name": "stdout",
     "output_type": "stream",
     "text": [
      "Jordi\n"
     ]
    }
   ],
   "source": [
    "# Exemple\n",
    "nom=\"Jordi\"\n",
    "print(nom)"
   ]
  },
  {
   "cell_type": "markdown",
   "metadata": {},
   "source": [
    "Amb Python 3.6 els arguments de print sempre han d'anar entre parèntesi, i poden consistir en literals (nombres o textos directament), variables o operacions"
   ]
  },
  {
   "cell_type": "code",
   "execution_count": 33,
   "metadata": {},
   "outputs": [
    {
     "name": "stdout",
     "output_type": "stream",
     "text": [
      "pere\n",
      "17\n",
      "alex\n",
      "14\n",
      "15\n",
      "18\n",
      "alexalex\n"
     ]
    }
   ],
   "source": [
    "# Exemple\n",
    "edat=14\n",
    "nom=\"alex\"\n",
    "print(\"pere\")\n",
    "print(17)\n",
    "print(nom)\n",
    "print(edat)\n",
    "print(17-2)\n",
    "print(edat+4)\n",
    "print(nom+nom)"
   ]
  },
  {
   "cell_type": "markdown",
   "metadata": {},
   "source": [
    "Cada \"print\" ocuparà una línia nova a la sortida, però podem ajuntar diversos valors en un únic print sense operar-los, amb una coma."
   ]
  },
  {
   "cell_type": "code",
   "execution_count": 34,
   "metadata": {},
   "outputs": [
    {
     "name": "stdout",
     "output_type": "stream",
     "text": [
      "alex 14\n"
     ]
    }
   ],
   "source": [
    "# Exemple\n",
    "edat=14\n",
    "nom=\"alex\"\n",
    "print(nom,edat)"
   ]
  },
  {
   "cell_type": "markdown",
   "metadata": {},
   "source": [
    "També podem usar el print amb format **print(f...)** per incloure valors de variables dins una frase o provocar que el següent print es faci a la mateixa línia."
   ]
  },
  {
   "cell_type": "code",
   "execution_count": 3,
   "metadata": {},
   "outputs": [
    {
     "name": "stdout",
     "output_type": "stream",
     "text": [
      "L' alex té 18 anys\n",
      "L'edat de l'alex és: 18\n",
      "18 18"
     ]
    }
   ],
   "source": [
    "# Exemple\n",
    "edat=18\n",
    "nom=\"alex\"\n",
    "print(f\"L' {nom} té {edat} anys\")  # les variables les hem de posar entre {}\n",
    "print(f\"L'edat de l'{nom} és: \", end=\"\")  #amb end=\"\" fem que no salti línea\n",
    "print(edat)\n",
    "print(edat,edat,end=\"\")"
   ]
  },
  {
   "cell_type": "markdown",
   "metadata": {},
   "source": [
    "## Exercici 6\n",
    "Fes una funció que et demani dades del teu esport, joc o app preferida i les mostri a la pantalla amb elegància. Les dades han d'incloure com a mínim un text, un nombre i un booleà."
   ]
  },
  {
   "cell_type": "code",
   "execution_count": 10,
   "metadata": {},
   "outputs": [],
   "source": [
    "def jocpref ():\n",
    "    joc = input(\"Quin és el teu joc preferit? \")\n",
    "    anysortida = int(input(\"Quin any va sortir el joc? \"))\n",
    "    resum = input(\"Escriu un breu resum del joc \")\n",
    "    preu = bool(input(\"Val més de 50 euros? Escriu si/no \")==\"si\")\n",
    "    mes50 = \". El preu és superior a 50 euros.\"\n",
    "    menys50 = \". El preu és inferior a 50 euros.\"\n",
    "    resultat = \"El joc es diu \"+joc+\" i va sortir l'any \"+str(anysortida)+\". Tracta de: \"+resum\n",
    "    \n",
    "    print (resultat+mes50) if preu else print (resultat+menys50)\n",
    "        #valor_TRUE if (condició) else valor_FALSE\n",
    "        \n",
    "        #if preu:\n",
    "            #print(resultat+mes50)\n",
    "        #else:\n",
    "            #print(resultat+menys50)\n",
    "    "
   ]
  },
  {
   "cell_type": "code",
   "execution_count": 4,
   "metadata": {},
   "outputs": [
    {
     "name": "stdout",
     "output_type": "stream",
     "text": [
      "Quin és el teu joc preferit? ac\n",
      "Quin any va sortir el joc? 2000\n",
      "Escriu un breu resum del joc asesinos y templarios\n",
      "Val més de 50 euros? Escriu si/no no\n",
      "El joc es diu ac i va sortir l'any 2000. Tracta de: asesinos y templarios. El preu és inferior a 50 euros.\n"
     ]
    }
   ],
   "source": [
    "jocpref ()"
   ]
  },
  {
   "cell_type": "markdown",
   "metadata": {},
   "source": [
    "## Exercici 7\n",
    "Escriu una funció, ``magnitude``, que accepti dos punts i calculi la distància euclidiana entre ells, $d= \\sqrt{(x_2-x_1)^2+(y_2-y_1)^2}$ "
   ]
  },
  {
   "cell_type": "code",
   "execution_count": 22,
   "metadata": {},
   "outputs": [],
   "source": [
    "import math\n",
    "def magnitude():\n",
    "    x1, x2 = eval(input(\"Escriu un punt. (exemple: 4, 2) \"))\n",
    "    y1, y2 = eval(input(\"Escriu un altre punt. \"))\n",
    "    opx = (x2 - x1)**2\n",
    "    opy = (y2 - y1)**2\n",
    "    d = math.sqrt(opx + opy)\n",
    "    \n",
    "    print (d)  "
   ]
  },
  {
   "cell_type": "code",
   "execution_count": 23,
   "metadata": {},
   "outputs": [
    {
     "name": "stdout",
     "output_type": "stream",
     "text": [
      "Escriu un punt. (exemple: 4, 2) 2, 4\n",
      "Escriu un altre punt. 5, 1\n",
      "4.47213595499958\n"
     ]
    }
   ],
   "source": [
    "magnitude()"
   ]
  },
  {
   "cell_type": "markdown",
   "metadata": {},
   "source": [
    "# Fitxers\n",
    "\n",
    "Sovint les dades d´un algorisme es troben a memòria permanent en un fitxer. Des de Python podem llegir i escriure fitxers amb algunes instruccions particulars. En aquesta assignatura només veurem fitxers de text.\n",
    "\n",
    "## Obrir un fitxer i tancar-lo\n",
    "Per poder treballar amb un fitxer primer de tot cal obrir-lo\n",
    "\n",
    "**Atenció**: el fitxer ha de ser a la mateixa carpeta que la funció (que el notebook o que l'arxiu .py)\n",
    "\n",
    "```python\n",
    "elMeuFitxer = open(\"nom fitxer\",\"mode\") \n",
    "```\n",
    "a on nom fitxer és el nom del fitxer en el disc i mode pot ser r (read) per llegir, w (write) per escriure [si no hi ha cap fitxer això el crea] o altres que no tractarem.\n",
    "\n",
    "Per exemple:\n",
    "```python\n",
    "elMeuFitxer = open(\"prova.txt\",r) \n",
    "```\n",
    "obre el fitxer prova.txt en mode lectura (només podrem llegir, no escriure)\n",
    "\n",
    "Hem de pensar sempre a tancar els fitxers un cop oberts perquè altrament es podrien produir resultats inesperats a l´hora de fer altres entrades o sortides o podriem tenir problemes de memòria.\n",
    "\n",
    "```python\n",
    "elMeuFitxer.close()\n",
    "```\n",
    "\n",
    "## Escriure en un fitxer\n",
    "\n",
    "Un cop tinguem el fitxer obert ja podem fer coses amb ell. Per ex:\n",
    "\n",
    "```python\n",
    "fitxer = open(\"fitxerprova.txt\",\"w\") \n",
    " \n",
    "fitxer.write(\"Hola món\\n\") # el caràcter \\n indica salt de línia\n",
    "fitxer.write(\"Aquest és el nostre fitxer de text nou\\n\") \n",
    "fitxer.write(\"i això és una línia nova\\n\") \n",
    "fitxer.write(\"I el fitxer s'ha creat.\\n\") \n",
    " \n",
    "fitxer.close() \n",
    "```\n",
    "\n",
    "I efectivament si mirem el fitxer amb un editor de text, a dintre hi veurem:\n",
    "```python\n",
    "Hola món\n",
    "Aquest és el nostre fitxer de text nou\n",
    "i això és una línia nova\n",
    "I el fitxer s´ha creat.\n",
    "```\n",
    "\n",
    "## Llegir d'un fitxer\n",
    "\n",
    "Quan llegim un fitxer python ens retorna un string amb el seu contingut\n",
    "\n",
    "```python\n",
    "file = open(\"fitxerprova.txt\", \"r\") \n",
    "print(file.read())\n",
    "file.close() \n",
    "```\n",
    "\n",
    "Que ens mostrarà:\n",
    "\n",
    "```python\n",
    "    Hola món\n",
    "    Aquest és el nostre fitxer de text nou\n",
    "    i això és una línia nova\n",
    "    I el fitxer s'ha creat.\n",
    "```\n",
    "\n",
    "\n",
    "o també podem optar a llegir-lo línia a línia\n",
    "```python\n",
    "file = open(\"fitxerprova.txt\", \"r\") \n",
    "print(file.readlines())\n",
    "file.close() \n",
    "```\n",
    "Que ens mostrarà\n",
    "```python\n",
    "['Hola món\\n', 'Aquest és el nostre fitxer de text nou\\n', 'i això és una línia nova\\n', 'I el fitxer s'ha creat.\\n']\n",
    "```\n",
    "\n",
    "Podem també recorrer un fitxer dins una iteració:\n",
    "```python\n",
    "file = open(\"fitxerprova.txt\", \"r\") \n",
    "for l in file:\n",
    "    print(l)\n",
    "file.close() \n",
    "```\n",
    "\n",
    "Que ens mostrarà\n",
    "```python\n",
    "Hola món\n",
    "\n",
    "Aquest és el nostre fitxer de text nou\n",
    "\n",
    "i això és una línia nova\n",
    "\n",
    "I el fitxer s'ha creat..\n",
    "```\n",
    "\n",
    "## Gestió elegant de fitxers\n",
    "Quan volem fer diverses accions de lectura sobre un fitxer podem usar l´ordre with...\n",
    "\n",
    "```python\n",
    "with open(\"fitxerprova.txt\") as file:  \n",
    "    data = file.read() \n",
    "    do something with data \n",
    "```\n",
    "\n",
    "amb el with obrim sempre en mode lectura, i no ens cal indicar el tancament\n",
    "\n",
    "És molt recomanable doncs usar aquesta sintaxi quan s´escau.\n"
   ]
  },
  {
   "cell_type": "code",
   "execution_count": 3,
   "metadata": {},
   "outputs": [
    {
     "name": "stdout",
     "output_type": "stream",
     "text": [
      "Introdueix un String: hola\n",
      "Introdueix un String: adeu\n",
      "Introdueix un String: \n"
     ]
    }
   ],
   "source": [
    "def testIntroduirDades():\n",
    "    file = open(\"fitxerprova.txt\",\"w\")\n",
    "    dada = input(\"Introdueix un String: \")\n",
    "    while len(dada)!=0:\n",
    "        file.write(dada+\"\\n\")\n",
    "        dada = input(\"Introdueix un String: \")\n",
    "    file.close()\n",
    "testIntroduirDades()"
   ]
  },
  {
   "cell_type": "code",
   "execution_count": 6,
   "metadata": {},
   "outputs": [
    {
     "name": "stdout",
     "output_type": "stream",
     "text": [
      "hola\n",
      "adeu\n",
      "\n"
     ]
    }
   ],
   "source": [
    "def testLlegirDades1():\n",
    "    with open(\"fitxerprova.txt\") as file:\n",
    "        print(file.read())\n",
    "testLlegirDades1()"
   ]
  },
  {
   "cell_type": "code",
   "execution_count": 7,
   "metadata": {},
   "outputs": [
    {
     "name": "stdout",
     "output_type": "stream",
     "text": [
      "hola\n",
      "\n",
      "adeu\n",
      "\n"
     ]
    }
   ],
   "source": [
    "#agafar el fitxer prova i mostrar per pantalla linia per linia\n",
    "def testLlegirDades():\n",
    "    with open (\"fitxerprova.txt\") as file:\n",
    "        for i in file:\n",
    "            print(i)\n",
    "testLlegirDades()"
   ]
  },
  {
   "cell_type": "markdown",
   "metadata": {},
   "source": [
    "## Exercici 8\n",
    "\n",
    "Refès el programa del joc, esport o app preferida per a que llegeixi les dades d'un fitxer i escrigui el resultat en un altre fitxer. Recorda que les dades han d'incloure com a mínim un text, un nombre i un booleà."
   ]
  },
  {
   "cell_type": "code",
   "execution_count": 1,
   "metadata": {},
   "outputs": [
    {
     "ename": "FileNotFoundError",
     "evalue": "[Errno 2] No such file or directory: 'elMeuFitxer.txt'",
     "output_type": "error",
     "traceback": [
      "\u001b[1;31m---------------------------------------------------------------------------\u001b[0m",
      "\u001b[1;31mFileNotFoundError\u001b[0m                         Traceback (most recent call last)",
      "\u001b[1;32m<ipython-input-1-4a8f709d0d8b>\u001b[0m in \u001b[0;36m<module>\u001b[1;34m()\u001b[0m\n\u001b[0;32m     12\u001b[0m     \u001b[0mfitxerguardar\u001b[0m\u001b[1;33m.\u001b[0m\u001b[0mclose\u001b[0m\u001b[1;33m(\u001b[0m\u001b[1;33m)\u001b[0m\u001b[1;33m\u001b[0m\u001b[0m\n\u001b[0;32m     13\u001b[0m \u001b[1;33m\u001b[0m\u001b[0m\n\u001b[1;32m---> 14\u001b[1;33m \u001b[0mjocprefe\u001b[0m\u001b[1;33m(\u001b[0m\u001b[1;33m)\u001b[0m\u001b[1;33m\u001b[0m\u001b[0m\n\u001b[0m",
      "\u001b[1;32m<ipython-input-1-4a8f709d0d8b>\u001b[0m in \u001b[0;36mjocprefe\u001b[1;34m()\u001b[0m\n\u001b[0;32m      1\u001b[0m \u001b[1;32mdef\u001b[0m \u001b[0mjocprefe\u001b[0m\u001b[1;33m(\u001b[0m\u001b[1;33m)\u001b[0m\u001b[1;33m:\u001b[0m\u001b[1;33m\u001b[0m\u001b[0m\n\u001b[1;32m----> 2\u001b[1;33m     \u001b[1;32mwith\u001b[0m \u001b[0mopen\u001b[0m\u001b[1;33m(\u001b[0m\u001b[1;34m'elMeuFitxer.txt'\u001b[0m\u001b[1;33m)\u001b[0m \u001b[1;32mas\u001b[0m \u001b[0mf\u001b[0m\u001b[1;33m:\u001b[0m\u001b[1;33m\u001b[0m\u001b[0m\n\u001b[0m\u001b[0;32m      3\u001b[0m         \u001b[0mlines\u001b[0m \u001b[1;33m=\u001b[0m \u001b[0mf\u001b[0m\u001b[1;33m.\u001b[0m\u001b[0mread\u001b[0m\u001b[1;33m(\u001b[0m\u001b[1;33m)\u001b[0m\u001b[1;33m.\u001b[0m\u001b[0msplit\u001b[0m\u001b[1;33m(\u001b[0m\u001b[1;34m\"\\n\"\u001b[0m\u001b[1;33m)\u001b[0m\u001b[1;33m\u001b[0m\u001b[0m\n\u001b[0;32m      4\u001b[0m         \u001b[0mjoc\u001b[0m \u001b[1;33m=\u001b[0m \u001b[0mlines\u001b[0m\u001b[1;33m[\u001b[0m\u001b[1;36m0\u001b[0m\u001b[1;33m]\u001b[0m\u001b[1;33m\u001b[0m\u001b[0m\n\u001b[0;32m      5\u001b[0m         \u001b[0manysortida\u001b[0m \u001b[1;33m=\u001b[0m \u001b[0mlines\u001b[0m\u001b[1;33m[\u001b[0m\u001b[1;36m1\u001b[0m\u001b[1;33m]\u001b[0m\u001b[1;33m\u001b[0m\u001b[0m\n",
      "\u001b[1;31mFileNotFoundError\u001b[0m: [Errno 2] No such file or directory: 'elMeuFitxer.txt'"
     ]
    }
   ],
   "source": [
    "def jocprefe():\n",
    "    with open('elMeuFitxer.txt') as f:\n",
    "        lines = f.read().split(\"\\n\")\n",
    "        joc = lines[0]\n",
    "        anysortida = lines[1]\n",
    "        resum = lines[2]\n",
    "        preu = lines[3]\n",
    "        #print(joc,anysortida,resum,preu)\n",
    "    fitxerguardar = open (\"resposta.txt\",\"w\")\n",
    "    \n",
    "    fitxerguardar.write(\"El joc es diu \"+joc+\" i va sortir l'any \"+str(anysortida)+\". Tracta de: \"+resum)\n",
    "    fitxerguardar.close()\n",
    "        \n",
    "jocprefe()"
   ]
  },
  {
   "cell_type": "markdown",
   "metadata": {},
   "source": [
    "### Caràcters\n",
    "\n",
    "A l’ordinador cada lletra es representa per un codi. El codi més estès és el codi ASCII que cobreix només les lletres A-Z sense accents ni caràcters especials (ç, ñ...). \n",
    "\n",
    "|  Binari | Dec   |Hex   |Representació   |\n",
    "|---|---|---|---|\n",
    "    |  00100000 | 32  | 20 |  Espai en blanc |\n",
    "    |  01000001 | 65  | 41 | A |\n",
    "    |  01000010 | 66  | 42 | B |\n",
    "    |  01000011 | 67  | 43 | C | \n",
    "    |  01000100 | 68  | 44 | D |\n",
    "    |  01000101 | 69  | 45 | E |\n",
    "    |  01000110 | 70  | 46 | F |\n",
    "    |  01000111 | 71  | 47 | G |\n",
    "    |  01001000 | 72  | 48 | H |\n",
    "    |  01001001 | 73  | 49 | I |\n",
    "    |  01001010 | 74  | 4A | J |\n",
    "    |  01001011 | 75  | 4B | K |\n",
    "    |  01001100 | 76  | 4C | L |\n",
    "    |  01001101 | 77  | 4D | M |\n",
    "    |  01001110 | 78  | 4E | N |\n",
    "    |  01001111 | 79  | 4F | O |\n",
    "    |  01010000 | 80  | 50 | P |\n",
    "    |  01010001 | 81  | 51 | Q |\n",
    "    |  01010010 | 82  | 52 | R |\n",
    "    |  01010011 | 83  | 53 | S |\n",
    "    |  01010100 | 84  | 54 | T |\n",
    "    |  01010101 | 85  | 55 | U |\n",
    "    |  01010110 | 86  | 56 | V |\n",
    "    |  01010111 | 87  | 57 | W |\n",
    "    |  01011000 | 88  | 58 | X |\n",
    "    |  01011001 | 89  | 59 | Y |\n",
    "    |  01011010 | 90  | 5A | Z |\n",
    "    \n",
    "    \n",
    "    \n",
    "|  Binari | Dec   |Hex   |Representació   |\n",
    "|---|---|---|---|\n",
    "    |  01011111 | 95  | 5F | - |\n",
    "    |  01100001 | 97  | 61 | a |\n",
    "    |  01100010 | 98  | 62 | b |\n",
    "    |  01100011 | 99  | 63 | c |\n",
    "    |  01100100 | 100 | 64 | d | \n",
    "    |  01100101 | 101 | 65 | e |\n",
    "    |  01100110 | 102 | 66 | f |\n",
    "    |  01100111 | 103 | 67 | g |\n",
    "    |  01101000 | 104 | 68 | h |\n",
    "    |  01101001 | 105 | 69 | i |\n",
    "    |  01101010 | 106 | 6A | j |\n",
    "    |  01101011 | 107 | 6B | k |\n",
    "    |  01101100 | 108 | 6C | l |\n",
    "    |  01101101 | 109 | 6D | m |\n",
    "    |  01101110 | 110 | 6E | n |\n",
    "    |  01111111 | 111 | 6F | o |\n",
    "    |  01110000 | 112 | 70 | p |\n",
    "    |  01110001 | 113 | 71 | q |\n",
    "    |  01110010 | 114 | 72 | r |\n",
    "    |  01110011 | 115 | 73 | s |\n",
    "    |  01110100 | 116 | 74 | t |\n",
    "    |  01110101 | 117 | 75 | u |\n",
    "    |  01110110 | 118 | 76 | v |\n",
    "    |  01110111 | 119 | 77 | w |\n",
    "    |  01111000 | 120 | 78 | x |\n",
    "    |  01111001 | 121 | 79 | y |\n",
    "    |  01111010 | 122 | 7A | z |\n",
    "   \n",
    "\n",
    "Un altre codi, molt més complet i que cada cop es fa servir més és el codi UNICODE i UTF8 que cobreixen totes les lletres de totes les llengües escrites del món. En aquests dos codis les lletres de la A a la Z es codifiquen igual que en ASCII.\n",
    "\n",
    "Per convertir del codi al caràcter i viceversa usem les funcions chr i ord."
   ]
  },
  {
   "cell_type": "code",
   "execution_count": 48,
   "metadata": {},
   "outputs": [
    {
     "name": "stdout",
     "output_type": "stream",
     "text": [
      "L\n",
      "122\n"
     ]
    }
   ],
   "source": [
    "# Exemple\n",
    "\n",
    "print(chr(76))\n",
    "print(ord('z'))"
   ]
  },
  {
   "cell_type": "markdown",
   "metadata": {},
   "source": [
    "## Exercici 9\n",
    "\n",
    "Escriu un programa que donat un nom, mostri el codi decimal de les seves lletres en ASCII. Per ex. Anna hauria de mostrar 65 110 110 97"
   ]
  },
  {
   "cell_type": "code",
   "execution_count": 13,
   "metadata": {},
   "outputs": [
    {
     "name": "stdout",
     "output_type": "stream",
     "text": [
      "75 97 116 105 97 \n"
     ]
    }
   ],
   "source": [
    "def codi():\n",
    "    nom = \"Katia\"\n",
    "    numeros = \"\"\n",
    "    for i in nom:\n",
    "        numeros += str(ord(i)) + \" \"\n",
    "    print(numeros)\n",
    "codi()"
   ]
  },
  {
   "cell_type": "markdown",
   "metadata": {},
   "source": [
    "### Operadors booleans\n",
    "\n",
    "***Nota: pots trobar més informació sobre operadors booleans a la documentació de Python: ***\n",
    "- Boolean values: https://docs.python.org/3/library/stdtypes.html?#boolean-values\n",
    "- Boolean operators: https://docs.python.org/3/library/stdtypes.html?#boolean-operations-and-or-not\n",
    "- Comparisons: https://docs.python.org/3/library/stdtypes.html?#comparisons\n",
    "- Bitwise Operations: https://docs.python.org/3/library/stdtypes.html?#bitwise-operations-on-integer-types"
   ]
  },
  {
   "cell_type": "markdown",
   "metadata": {},
   "source": [
    "Per comparar dues variables podem usar els operadors relacionals:\n",
    "- == igual\n",
    "- != diferent\n",
    "- < menor\n",
    "- \\> major\n",
    "- <= menor o igual\n",
    "- \\>= major o igual\n",
    "\n",
    "que ens retornaran True (1) o False (0)"
   ]
  },
  {
   "cell_type": "code",
   "execution_count": 42,
   "metadata": {},
   "outputs": [
    {
     "name": "stdout",
     "output_type": "stream",
     "text": [
      "4 == 2+2 True\n",
      "4 != 2+2 False\n",
      "4 < 2 False\n",
      "4 <= 4 True\n",
      "4 > 2 True\n",
      "4 >= 5 False\n"
     ]
    }
   ],
   "source": [
    "# Exemple\n",
    "print(\"4 == 2+2\", 4==2+2)\n",
    "print(\"4 != 2+2\", 4!=2+2)\n",
    "print(\"4 < 2\", 4<2)\n",
    "print(\"4 <= 4\", 4<=4)\n",
    "print(\"4 > 2\", 4>2)\n",
    "print(\"4 >= 5\", 4>=5)"
   ]
  },
  {
   "cell_type": "markdown",
   "metadata": {},
   "source": [
    "Si el què comparem són cadenes de caràcters aquests operadors comparen l’ordre lexicogràfic dels caràcters que les formen. Per exemple “Hello” és més petit que “hello” i “a” és més petita que “b”."
   ]
  },
  {
   "cell_type": "code",
   "execution_count": 43,
   "metadata": {},
   "outputs": [
    {
     "name": "stdout",
     "output_type": "stream",
     "text": [
      "a < b True\n",
      "hola == Hola False\n",
      "hola > Hola True\n"
     ]
    }
   ],
   "source": [
    "# Exemple\n",
    "print(\"a < b\", 'a'<'b')\n",
    "print(\"hola == Hola\", \"hola\"==\"Hola\")\n",
    "print(\"hola > Hola\", \"hola\">\"Hola\")"
   ]
  },
  {
   "cell_type": "markdown",
   "metadata": {},
   "source": [
    "També podem usar els operadors booleans:\n",
    "- **and**:  a and b és True si a i b són True\n",
    "- **or**:\ta or b és True si a és True o si b és True\n",
    "- **not**:\tnot a és True si a és False\n",
    "la precedència d'aquests operadors és not, and i or\n",
    "\n",
    "no tan habitual, a vegades també s'usa l'operador **xor** o or exclusiva\n",
    "- **xor**: a or b és True si a és True i b és False, o si a és False i b és True"
   ]
  },
  {
   "cell_type": "code",
   "execution_count": 44,
   "metadata": {},
   "outputs": [
    {
     "name": "stdout",
     "output_type": "stream",
     "text": [
      "2>1 and 3>2  True\n",
      "2>1 or 4<2 True\n",
      "not 2>1  False\n"
     ]
    }
   ],
   "source": [
    "# Exemple\n",
    "print(\"2>1 and 3>2 \", 2>1 and 3>2 )\n",
    "print(\"2>1 or 4<2\", 2>1 or 4<2)\n",
    "print(\"not 2>1 \", not 2>1 )"
   ]
  },
  {
   "cell_type": "markdown",
   "metadata": {},
   "source": [
    "Les taules de veritat d'aquests operadors són les següents:\n",
    "\n",
    "**not (!)**\n",
    "\n",
    "| P   | not P |\n",
    "|-----|-------|\n",
    "|True |False  |\n",
    "|False|True   |\n",
    "\n",
    "**and (&)**\n",
    "\n",
    "| P   |  Q   | P and Q |\n",
    "|-----|------|---------|\n",
    "|True |True  |True     |\n",
    "|True |False |False    |\n",
    "|False|True  |False    |\n",
    "|False|False |False    |\n",
    "\n",
    "**or (|)**\n",
    "\n",
    "| P   |  Q  | P or Q |\n",
    "|-----|-----|--------|\n",
    "|True |True |True    |\n",
    "|True |False|True    |\n",
    "|False|True |True    |\n",
    "|False|False|False   |\n",
    "\n",
    "**xor (^)**\n",
    "\n",
    "| P   |  Q  | P xor Q |\n",
    "|-----|-----|---------|\n",
    "|True |True |**False** |    \n",
    "|True |False|True     |\n",
    "|False|True |True     |\n",
    "|False|False|False    |\n",
    "\n",
    "AVANÇAT: Si s'usen aquests operadors amb nombres binaris obtenim un efecte màscara (amb or) o filtre (amb 1)"
   ]
  },
  {
   "cell_type": "code",
   "execution_count": 45,
   "metadata": {},
   "outputs": [
    {
     "name": "stdout",
     "output_type": "stream",
     "text": [
      "20&1 0\n",
      "21&1 1\n"
     ]
    }
   ],
   "source": [
    "# Exemple:\n",
    "# L'expressió n & 1 retorna 1 si el nombre és senar i 0 si és parell\n",
    "\n",
    "# 00010100 &  (n=20)\n",
    "# 00000001    (1)\n",
    "# --------\n",
    "# 00000000    (=0, 20 és parell)\n",
    "\n",
    "# 00010101 &  (n=21)\n",
    "# 00000001    (1)\n",
    "# --------\n",
    "# 00000001    (=1, 21 és senar)\n",
    "\n",
    "print(\"20&1\",20&1)\n",
    "print(\"21&1\",21&1)\n",
    "\n",
    "#el nombre 1 ha actuat de filtre i només ha deixat passar el darrer bit, \n",
    "#corresponent a la unitat binària"
   ]
  },
  {
   "cell_type": "code",
   "execution_count": 46,
   "metadata": {},
   "outputs": [
    {
     "name": "stdout",
     "output_type": "stream",
     "text": [
      "A a\n",
      "B b\n",
      "C c\n",
      "D d\n",
      "E e\n",
      "F f\n",
      "G g\n",
      "H h\n",
      "I i\n",
      "J j\n",
      "K k\n",
      "L l\n",
      "M m\n",
      "N n\n",
      "O o\n",
      "P p\n",
      "Q q\n",
      "R r\n",
      "S s\n",
      "T t\n",
      "U u\n",
      "V v\n",
      "W w\n",
      "X x\n",
      "Y y\n",
      "Z z\n"
     ]
    }
   ],
   "source": [
    "# Exemple:\n",
    "# L'expressió lletra majúscula | ' '  retorna la lletra en minúscula\n",
    "\n",
    "# 00010100 &  (n=20)\n",
    "# 00000001    (1)\n",
    "# --------\n",
    "# 00000000    (=0, 20 és parell)\n",
    "\n",
    "# 00010101 &  (n=21)\n",
    "# 00000001    (1)\n",
    "# --------\n",
    "# 00000001    (=1, 21 és senar)\n",
    "\n",
    "for codicaracter in range(65,91):\n",
    "    print(chr(codicaracter),chr(codicaracter|ord(' ')))\n",
    "\n",
    "#el caràcter ' ' (00100000) ha actuat de màscara i ha convertit\n",
    "#tots els 3ers bits en 1, augmentant en 32 el valor del caràcter\n",
    "#i per tant convertint-lo a minúscula, ja que\n",
    "#  A té el codi 65 (01000001)\n",
    "#i a té el codi 97 (01100001)\n",
    "#i el mateix amb la resta de lletre"
   ]
  },
  {
   "cell_type": "markdown",
   "metadata": {},
   "source": [
    "## Referències\n",
    "Les explicacions, exemples i exercicis de la gestió de fitxers s'han basat en la següent font:\n",
    "\n",
    "- Python for beginners \"Reading and writing files in Python. Overview\" http://www.pythonforbeginners.com/files/reading-and-writing-files-in-python"
   ]
  },
  {
   "cell_type": "markdown",
   "metadata": {},
   "source": [
    "<p style=\"text-align:right;font-size:0.9em\">\n",
    "&copy;Jordi Vitrià i Mireia Ribera\n",
    "</p>"
   ]
  }
 ],
 "metadata": {
  "kernelspec": {
   "display_name": "Python 3",
   "language": "python",
   "name": "python3"
  },
  "language_info": {
   "codemirror_mode": {
    "name": "ipython",
    "version": 3
   },
   "file_extension": ".py",
   "mimetype": "text/x-python",
   "name": "python",
   "nbconvert_exporter": "python",
   "pygments_lexer": "ipython3",
   "version": "3.6.5"
  }
 },
 "nbformat": 4,
 "nbformat_minor": 2
}
