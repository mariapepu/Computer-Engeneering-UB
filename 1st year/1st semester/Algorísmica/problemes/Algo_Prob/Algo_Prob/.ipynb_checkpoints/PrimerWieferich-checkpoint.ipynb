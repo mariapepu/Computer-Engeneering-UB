{
 "cells": [
  {
   "cell_type": "markdown",
   "metadata": {},
   "source": [
    "<p style=\"text-align:right;font-size:0.9em\">\n",
    "Grau d'Enginyeria Informàtica. Algorísmica\n",
    "</p>"
   ]
  },
  {
   "cell_type": "markdown",
   "metadata": {},
   "source": [
    "<h1 style=\"padding:0.5em 0;font:Garamond;font-size:1-5em;color:#F90;background-color:#005\">\n",
    "Problema: Primer de Wieferich\n",
    "</h1>"
   ]
  },
  {
   "cell_type": "markdown",
   "metadata": {},
   "source": [
    "<p style=\"font-family:Arial;font-size:1em\">\n",
    "Un *primer de Wieferich* és un nombre primer $p$ tal que $p^2$ divideix $2^{p-1}-1$. Quins *primer de Wieferich* hi ha menors que 5000?\n",
    "</p>"
   ]
  },
  {
   "cell_type": "code",
   "execution_count": 2,
   "metadata": {},
   "outputs": [
    {
     "data": {
      "text/plain": [
       "[1093, 3511]"
      ]
     },
     "execution_count": 2,
     "metadata": {},
     "output_type": "execute_result"
    }
   ],
   "source": [
    "# Resposta\n",
    "\n",
    "def primers(n):\n",
    "    total = {n for n in range(2,n)}\n",
    "    multiples = {i for q in range (2, int(n**0.5))\n",
    "                 for i in range (2*q, n, q)}\n",
    "    return total - multiples\n",
    "\n",
    "def primersWieferich():\n",
    "    wief = []\n",
    "    _primers = list (primers (5000))\n",
    "    for primer in _primers:\n",
    "        if ((2**(primer-1) - 1) % primer**2) == 0:\n",
    "            wief.append(primer)\n",
    "    return wief     \n",
    "            \n",
    "primersWieferich()"
   ]
  },
  {
   "cell_type": "markdown",
   "metadata": {},
   "source": [
    "<p style=\"text-align:right;font-size:0.9em\">\n",
    "&copy;Jordi Vitrià i Mireia Ribera\n",
    "</p>"
   ]
  }
 ],
 "metadata": {
  "kernelspec": {
   "display_name": "Python 3",
   "language": "python",
   "name": "python3"
  },
  "language_info": {
   "codemirror_mode": {
    "name": "ipython",
    "version": 3
   },
   "file_extension": ".py",
   "mimetype": "text/x-python",
   "name": "python",
   "nbconvert_exporter": "python",
   "pygments_lexer": "ipython3",
   "version": "3.6.5"
  }
 },
 "nbformat": 4,
 "nbformat_minor": 2
}
