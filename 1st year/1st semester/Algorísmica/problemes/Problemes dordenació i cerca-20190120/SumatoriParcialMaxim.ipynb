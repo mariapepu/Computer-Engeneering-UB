{
 "cells": [
  {
   "cell_type": "markdown",
   "metadata": {},
   "source": [
    "<p style=\"text-align:right;font-size:0.9em\">\n",
    "Grau d'Enginyeria Informàtica. Algorísmica. \n",
    "</p>"
   ]
  },
  {
   "cell_type": "markdown",
   "metadata": {},
   "source": [
    "<h1 style=\"padding:0.5em 0;font:Garamond;font-size:1-5em;color:#F90;background-color:#005\">\n",
    "Problema: Sumatori parcial màxim\n",
    "</h1>"
   ]
  },
  {
   "cell_type": "markdown",
   "metadata": {},
   "source": [
    "Donada una llista d’enters, trobar el sumatori parcial (d'enters consecutius a la llista) de valor màxim. Si el valor màxim és negatiu, el sumatori parcial màxim donarà 0\n",
    "\n",
    "<div style=\"font-style:italic\">\n",
    "Per exemple:\n",
    "<ul>\n",
    "<li>Llista=[-3,1,-5,2,7,8]</li>\n",
    "<li>Solució:\n",
    "   <ul>\n",
    "   <li>El sumatori parcial màxim és 17</li>\n",
    "   <li>Aquest sumatori s'obté dels enters ressaltats: [-3, 1, -5, <b>2, 7, 8</b>]</li>\n",
    "   </ul>\n",
    "</li>\n",
    "</ul>\n",
    "</div>\n",
    "\n",
    "Indicacions:\n",
    "+ Aquest algorisme es pot implementar de tres maneres. \n",
    "    + Força bruta $(O(n*n))$\n",
    "    + Divide & conquer $(O(n log n))$\n",
    "    + Kadane's algorithm $(O(n))$"
   ]
  },
  {
   "cell_type": "code",
   "execution_count": null,
   "metadata": {
    "collapsed": true
   },
   "outputs": [],
   "source": [
    "# Inserir aquí el codi de la solució de força bruta"
   ]
  },
  {
   "cell_type": "markdown",
   "metadata": {},
   "source": [
    "<h2 style=\"padding:0.5em 0;font:Garamond;font-size:1.2em;color:#FA0;background-color:#005\">\n",
    "Pregunta 1: Proposa diverses llistes i dóna el resultat\n",
    "</h2>"
   ]
  },
  {
   "cell_type": "code",
   "execution_count": null,
   "metadata": {
    "collapsed": true
   },
   "outputs": [],
   "source": [
    "# Inserir aquí les respostes"
   ]
  },
  {
   "cell_type": "markdown",
   "metadata": {},
   "source": [
    "<h2 style=\"padding:0.5em 0;font:Garamond;font-size:1.2em;color:#FA0;background-color:#005\">\n",
    "Pregunta 2: Si volem fer una estratègia de dividir i vèncer, en quines parts podriem dividir la llista? On es pot trobar la solució?\n",
    "</h2> "
   ]
  },
  {
   "cell_type": "code",
   "execution_count": null,
   "metadata": {
    "collapsed": true
   },
   "outputs": [],
   "source": [
    "# Inserir aquí les respostes"
   ]
  },
  {
   "cell_type": "code",
   "execution_count": 1,
   "metadata": {},
   "outputs": [],
   "source": [
    "# Inserir aquí el codi de la solució de dividir i vèncer"
   ]
  },
  {
   "cell_type": "markdown",
   "metadata": {},
   "source": [
    "## Pregunta 2: L'Algorisme Kadane consisteix en fer un únic recorregut per la llista, i anar acumulant el valor de la suma, amb la particularitat que si el que portem acumulat és negatiu, ho descartem.\n",
    "\n",
    "Per exemple, a la llista [-1,0,3,4,-2,5]  aniriem acumulant -1 => és negatiu, descartem; 0, 3, 7, 5, 10\n",
    "\n",
    "per no perdre màxims locals hem de mantenir dos valors: el valor acumulat fins a un punt i el valor màxim. A l'exemple:\n",
    "\n",
    "acum:-1=>0, maxim:0;  acum=0, màxim:0; acum:3, màxim:3; acum:7, màxim:7; acum:5, màxim:7; acum:10, màxim:10"
   ]
  },
  {
   "cell_type": "code",
   "execution_count": null,
   "metadata": {},
   "outputs": [],
   "source": [
    "# Inserir aquí el codi de la solució de Kadane"
   ]
  },
  {
   "cell_type": "markdown",
   "metadata": {},
   "source": [
    "<p style=\"text-align:right;font-size:0.9em\">\n",
    "&copy;Jordi Vitrià i Mireia Ribera\n",
    "</p>"
   ]
  }
 ],
 "metadata": {
  "kernelspec": {
   "display_name": "Python 3",
   "language": "python",
   "name": "python3"
  },
  "language_info": {
   "codemirror_mode": {
    "name": "ipython",
    "version": 3
   },
   "file_extension": ".py",
   "mimetype": "text/x-python",
   "name": "python",
   "nbconvert_exporter": "python",
   "pygments_lexer": "ipython3",
   "version": "3.6.5"
  }
 },
 "nbformat": 4,
 "nbformat_minor": 2
}
