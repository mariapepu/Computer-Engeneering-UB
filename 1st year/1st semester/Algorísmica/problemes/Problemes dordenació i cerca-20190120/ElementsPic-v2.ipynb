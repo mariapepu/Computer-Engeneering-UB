{
 "cells": [
  {
   "cell_type": "markdown",
   "metadata": {},
   "source": [
    "<p style=\"text-align:right;font-size:0.9em\">\n",
    "Grau d'Enginyeria Informàtica. Algorísmica. \n",
    "</p>"
   ]
  },
  {
   "cell_type": "markdown",
   "metadata": {},
   "source": [
    "<h1 style=\"padding:0.5em 0;font:Garamond;font-size:1-5em;color:#F90;background-color:#005\">\n",
    "Problema: Elements pic\n",
    "</h1>"
   ]
  },
  {
   "cell_type": "markdown",
   "metadata": {},
   "source": [
    "<p style=\"font-family:Arial;font-size:1em\">\n",
    "Donada una llista d’enters en la que mai trobem dos elements consecutius del mateix valor, trobar **un** dels elements pic. Un enter serà un element pic si els seus veïns immediats són menors que ell. \n",
    "</p>"
   ]
  },
  {
   "cell_type": "markdown",
   "metadata": {},
   "source": [
    "<div style=\"font-style:italic\">\n",
    "Per exemple:\n",
    "<ul>\n",
    "<li>Llista=[3,3,5,2,7,8] no és una llista vàlida perquè té dos elements consecutius del mateix valor, 3 i 3</li>\n",
    "<li>Llista=[3,5,2,7,7,8] no és una llista vàlida perquè té dos elements consecutius del mateix valor, 7 i 7</li>\n",
    "<li>Llista=[3,1,5,2,7,8], sí que és una llista vàlida</li>\n",
    "<li>Solució:\n",
    "   <ul>\n",
    "   <li>Un dels elements pic és el 3</li>\n",
    "   <li>En aquesta llista en realitat hi ha diversos elements pic: el 3, el 5 i el 8, l'algorisme només n'ha de tornar un</li>\n",
    "   </ul>\n",
    "</li>\n",
    "<li>Llista=[9,5,2]</li>\n",
    "<li>Solució:\n",
    "   <ul>\n",
    "   <li>Un dels elements pic és el 9</li>\n",
    "   <li>En una llista ordenada en ordre descendent, l'element pic sempre serà el primer enter.</li>\n",
    "   </ul>\n",
    "</li>\n",
    "<li>Llista=[1,2,7,8]</li>\n",
    "<li>Solució:\n",
    "   <ul>\n",
    "   <li>Un dels elements pic és el 8</li>\n",
    "   <li>En una llista ordenada en ordre ascendent, l'element pic sempre serà el darrer enter.</li>\n",
    "   </ul>\n",
    "</li>\n",
    "</ul>\n",
    "</div>"
   ]
  },
  {
   "cell_type": "code",
   "execution_count": null,
   "metadata": {
    "collapsed": true
   },
   "outputs": [],
   "source": [
    "# Inserir aquí el codi de la solució"
   ]
  },
  {
   "cell_type": "markdown",
   "metadata": {},
   "source": [
    "<h2 style=\"padding:0.5em 0;font:Garamond;font-size:1.2em;color:#FA0;background-color:#005\">\n",
    "Pregunta 1: Calcula la complexitat de l'algorisme amb el teorema del màster\n",
    "</h2>"
   ]
  },
  {
   "cell_type": "code",
   "execution_count": null,
   "metadata": {
    "collapsed": true
   },
   "outputs": [],
   "source": [
    "# Inserir aquí les respostes"
   ]
  },
  {
   "cell_type": "markdown",
   "metadata": {},
   "source": [
    "<p style=\"text-align:right;font-size:0.9em\">\n",
    "&copy;Jordi Vitrià i Mireia Ribera\n",
    "</p>"
   ]
  }
 ],
 "metadata": {
  "kernelspec": {
   "display_name": "Python 3",
   "language": "python",
   "name": "python3"
  },
  "language_info": {
   "codemirror_mode": {
    "name": "ipython",
    "version": 3
   },
   "file_extension": ".py",
   "mimetype": "text/x-python",
   "name": "python",
   "nbconvert_exporter": "python",
   "pygments_lexer": "ipython3",
   "version": "3.6.5"
  }
 },
 "nbformat": 4,
 "nbformat_minor": 2
}
