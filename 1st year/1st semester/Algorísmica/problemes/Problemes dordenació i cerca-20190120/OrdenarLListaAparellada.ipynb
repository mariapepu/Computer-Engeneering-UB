{
 "cells": [
  {
   "cell_type": "markdown",
   "metadata": {},
   "source": [
    "<h1 style=\"padding:0.5em 0;font:Garamond;font-size:1-5em;color:#F90;background-color:#005\">\n",
    "Problema: Variants de mergesort i quicksort. Ordenar llista aparellada\n",
    "</h1>"
   ]
  },
  {
   "cell_type": "markdown",
   "metadata": {},
   "source": [
    "Ordena una llista en la que saps que els números apareixen repetits 1 cop, un al costat de l'altre. \n",
    "Ex. [1,1,4,4,3,3,5,5]\n",
    "Fes l'ordenació amb mergesort i amb quicksort"
   ]
  },
  {
   "cell_type": "code",
   "execution_count": 2,
   "metadata": {},
   "outputs": [],
   "source": [
    "def mergeParelles(left, right):\n",
    "    \"\"\"\n",
    "    Aquesta funció fusiona dues llistes ordenades amb una de nova, també ordenada\n",
    "    \"\"\"\n",
    "    pass"
   ]
  },
  {
   "cell_type": "code",
   "execution_count": 3,
   "metadata": {},
   "outputs": [],
   "source": [
    "def mergesortParelles(list):\n",
    "    \"\"\"\n",
    "    Aquesta funció va partint la llista en una banda dreta i una esquerra\n",
    "    fins que aquestes bandes tenen un element\n",
    "    quan ho aconsegueix, crida merge per fusionar ambdues bandes de \n",
    "    manera ordenada\n",
    "    fins arribar a fusionar la llista completa original.\n",
    "    \"\"\"\n",
    "    pass"
   ]
  },
  {
   "cell_type": "code",
   "execution_count": 4,
   "metadata": {},
   "outputs": [
    {
     "data": {
      "text/plain": [
       "[1, 1, 2, 2, 3, 3, 5, 5, 7, 7]"
      ]
     },
     "execution_count": 4,
     "metadata": {},
     "output_type": "execute_result"
    }
   ],
   "source": [
    "mergesortParelles([1,1,7,7,2,2,3,3,5,5])"
   ]
  },
  {
   "cell_type": "code",
   "execution_count": 7,
   "metadata": {},
   "outputs": [
    {
     "data": {
      "text/plain": [
       "[2, 2, 5, 5]"
      ]
     },
     "execution_count": 7,
     "metadata": {},
     "output_type": "execute_result"
    }
   ],
   "source": [
    "mergesortParelles([5,5,2,2])"
   ]
  },
  {
   "cell_type": "code",
   "execution_count": 47,
   "metadata": {},
   "outputs": [],
   "source": [
    "def partitionParelles(A, first, last):\n",
    "    \"\"\"\n",
    "    Aquesta funció tria el valor mig entre l'element inicial, final i mig \n",
    "    d'una llista i l'ubica al lloc que li correspondrà quan la llista està \n",
    "    ordenada, alhora deixa a la seva esquerra valors menors i a la dreta\n",
    "    valors majors. Per tant altera A\n",
    "    A més retorna la posició de la partició\n",
    "    \"\"\"\n",
    "    pass"
   ]
  },
  {
   "cell_type": "code",
   "execution_count": 48,
   "metadata": {},
   "outputs": [],
   "source": [
    "def quick_sortParelles(A):\n",
    "    pass\n",
    "\n",
    "def quick_sort_rParelles(A , first, last):\n",
    "    pass"
   ]
  },
  {
   "cell_type": "code",
   "execution_count": 49,
   "metadata": {},
   "outputs": [
    {
     "name": "stdout",
     "output_type": "stream",
     "text": [
      "[1, 1, 3, 3, 4, 4, 5, 5, 8, 8]\n"
     ]
    }
   ],
   "source": [
    "A=[3,3,5,5,1,1,4,4,8,8]\n",
    "quick_sortParelles(A)\n",
    "print(A)"
   ]
  },
  {
   "cell_type": "code",
   "execution_count": 50,
   "metadata": {},
   "outputs": [
    {
     "name": "stdout",
     "output_type": "stream",
     "text": [
      "[3, 3, 5, 5]\n"
     ]
    }
   ],
   "source": [
    "A=[5,5,3,3]\n",
    "quick_sortParelles(A)\n",
    "print(A)"
   ]
  },
  {
   "cell_type": "code",
   "execution_count": 51,
   "metadata": {},
   "outputs": [
    {
     "name": "stdout",
     "output_type": "stream",
     "text": [
      "[0, 0, 3, 3, 5, 5]\n"
     ]
    }
   ],
   "source": [
    "A=[5,5,3,3,0,0]\n",
    "quick_sortParelles(A)\n",
    "print(A)"
   ]
  }
 ],
 "metadata": {
  "kernelspec": {
   "display_name": "Python 3",
   "language": "python",
   "name": "python3"
  },
  "language_info": {
   "codemirror_mode": {
    "name": "ipython",
    "version": 3
   },
   "file_extension": ".py",
   "mimetype": "text/x-python",
   "name": "python",
   "nbconvert_exporter": "python",
   "pygments_lexer": "ipython3",
   "version": "3.6.5"
  }
 },
 "nbformat": 4,
 "nbformat_minor": 2
}
