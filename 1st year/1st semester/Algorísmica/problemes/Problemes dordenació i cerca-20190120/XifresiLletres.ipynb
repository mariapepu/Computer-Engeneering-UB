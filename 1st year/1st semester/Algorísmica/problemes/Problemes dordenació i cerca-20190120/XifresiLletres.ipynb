{
 "cells": [
  {
   "cell_type": "markdown",
   "metadata": {},
   "source": [
    "<p style=\"text-align:right;font-size:0.9em\">\n",
    "Grau d'Enginyeria Informàtica. Algorísmica.\n",
    "</p>"
   ]
  },
  {
   "cell_type": "markdown",
   "metadata": {},
   "source": [
    "<h1 style=\"padding:0.5em 0;font:Garamond;font-size:1-5em;color:#F90;background-color:#005\">\n",
    "Problema: Xifres i lletres\n",
    "</h1>"
   ]
  },
  {
   "cell_type": "markdown",
   "metadata": {},
   "source": [
    "Escriu una funció no recursiva anomenada xifresilletres tal que donada una llista amb cadenes formades per xifres i per lletres la funció retorni la mateixa llista amb les cadenes de xifres  al capdavant i les cadenes de lletres al darrera. "
   ]
  },
  {
   "cell_type": "markdown",
   "metadata": {},
   "source": [
    "<h2 style=\"padding:0.5em 0;font:Garamond;font-size:1.2em;color:#FA0;background-color:#005\">\n",
    "Pregunta 1: Tenint en compte que les cadenes de text s'ordenen després de les de nombres, resol el problema per ordenació per selecció:\n",
    "</h2>"
   ]
  },
  {
   "cell_type": "markdown",
   "metadata": {},
   "source": [
    "- Llista:[5,5,1,3,5], Suma:10\n",
    "- Llista:[4,6,1,3,9,4], Suma:12\n",
    "- Llista3:[4,7], Suma3:[9]\n",
    "                \n",
    "        "
   ]
  },
  {
   "cell_type": "code",
   "execution_count": 1,
   "metadata": {},
   "outputs": [],
   "source": [
    "# Substitueix la comanda pass per la teva solució\n",
    "\n",
    "def xifresilletresOrdSel(a):\n",
    "    pass"
   ]
  },
  {
   "cell_type": "markdown",
   "metadata": {},
   "source": [
    "Calcula la seva complexitat"
   ]
  },
  {
   "cell_type": "code",
   "execution_count": 2,
   "metadata": {},
   "outputs": [],
   "source": [
    "# Inserir aquí les respostes"
   ]
  },
  {
   "cell_type": "markdown",
   "metadata": {},
   "source": [
    "<h2 style=\"padding:0.5em 0;font:Garamond;font-size:1.2em;color:#FA0;background-color:#005\">\n",
    "Pregunta 2: Resol el problema inspirant-te en la versió lineal de l'algorisme quicksort. Fixa't que en aquest cas no ens cal una ordenació completa, només cal moure els elements que estan fora de lloc.\n",
    "</h2>"
   ]
  },
  {
   "cell_type": "code",
   "execution_count": 3,
   "metadata": {},
   "outputs": [],
   "source": [
    "# Substitueix la comanda pass per la teva solució\n",
    "\n",
    "def xifresilletresQS(a):\n",
    "    pass"
   ]
  },
  {
   "cell_type": "markdown",
   "metadata": {},
   "source": [
    "Calcula la seva complexitat"
   ]
  },
  {
   "cell_type": "code",
   "execution_count": 5,
   "metadata": {},
   "outputs": [],
   "source": [
    "# Inserir aquí les respostes"
   ]
  },
  {
   "cell_type": "markdown",
   "metadata": {},
   "source": [
    "<p style=\"text-align:right;font-size:0.9em\">\n",
    "&copy;Jordi Vitrià i Mireia Ribera\n",
    "</p>"
   ]
  }
 ],
 "metadata": {
  "kernelspec": {
   "display_name": "Python 3",
   "language": "python",
   "name": "python3"
  },
  "language_info": {
   "codemirror_mode": {
    "name": "ipython",
    "version": 3
   },
   "file_extension": ".py",
   "mimetype": "text/x-python",
   "name": "python",
   "nbconvert_exporter": "python",
   "pygments_lexer": "ipython3",
   "version": "3.6.5"
  }
 },
 "nbformat": 4,
 "nbformat_minor": 2
}
