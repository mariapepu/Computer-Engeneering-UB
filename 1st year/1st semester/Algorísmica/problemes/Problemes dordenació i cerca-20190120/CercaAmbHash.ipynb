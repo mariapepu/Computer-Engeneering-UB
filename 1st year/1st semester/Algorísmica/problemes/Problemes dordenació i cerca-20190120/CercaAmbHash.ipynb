{
 "cells": [
  {
   "cell_type": "markdown",
   "metadata": {},
   "source": [
    "<p style=\"text-align:right;font-size:0.9em\">\n",
    "Grau d'Enginyeria Informàtica. Algorísmica.\n",
    "</p>"
   ]
  },
  {
   "cell_type": "markdown",
   "metadata": {},
   "source": [
    "<h1 style=\"padding:0.5em 0;font:Garamond;font-size:1-5em;color:#F90;background-color:#005\">\n",
    "Problema: Hash universal\n",
    "</h1>"
   ]
  },
  {
   "cell_type": "markdown",
   "metadata": {},
   "source": [
    "En aquest darrer problema us mostrem una possible construcció d'una funció hash universal pensada per emmagatzemar informació dels estudiants.\n",
    "\n",
    "Partim d'una classe amb 99 alumnes, i farem una taula de 101 posicions(101 és un nombre primer). Representarem cada alumne com una tupla de tres enters mòdul 101 (els primers dos dígits quasi sempre són '18' i els descartem)\n",
    "\n",
    "Per ex:\n",
    "- niub18518012 => (51,80,12)\n",
    "\n",
    "I definirem 3 coeficients mòdul 101\n",
    "\n",
    "a => (6,47, 77)"
   ]
  },
  {
   "cell_type": "code",
   "execution_count": 34,
   "metadata": {},
   "outputs": [
    {
     "name": "stdout",
     "output_type": "stream",
     "text": [
      "[518012, 589763, 589776, 973034, 125491, 518486, 518330, 518500, 347854, 588533, 566891, 888180, 519741, 596201, 518114, 588572, 625902, 730841, 584633, 519702, 518511, 518450, 589754, 588522, 518425, 440881, 518051, 43701, 588114, 805093, 519763, 687712, 589710, 763863, 596304, 598894, 518006, 518442, 518091, 828450, 588511, 588232, 831426, 518346, 236310, 588120, 567770, 196663, 121165, 815441, 589726, 589794, 569595, 609841, 599174, 519794, 518136, 803506, 569091, 308215, 120940, 313033, 843842, 581933, 588595, 597724, 595521, 759784, 518383, 518464, 421613, 839025, 518324, 766465, 271220, 699055, 588184, 619210, 588544, 519780, 588170, 518065, 588162, 519735, 518040, 593112, 518305, 593525, 588581, 567304, 588136, 518490, 125804, 589735, 588566, 806162, 518475, 638516, 633574]\n"
     ]
    }
   ],
   "source": [
    "#fem la llista i un duplicat\n",
    "\n",
    "llistaniubs=['niub18518012', 'niub18589763', 'niub18589776', 'niub16973034', 'niub19125491', 'niub18518486', \n",
    "             'niub18518330', 'niub18518500', 'niub16347854', 'niub18588533', 'niub18566891', 'niub16888180', \n",
    "             'niub18519741', 'niub18596201', 'niub18518114', 'niub18588572', 'niub16625902', 'niub14730841', \n",
    "             'niub16584633', 'niub18519702', 'niub18518511', 'niub18518450', 'niub18589754', 'niub18588522', \n",
    "             'niub18518425', 'niub16440881', 'niub18518051', 'niub16043701', 'niub18588114', 'niub16805093', \n",
    "             'niub18519763', 'niub16687712', 'niub18589710', 'niub14763863', 'niub18596304', 'niub18598894', \n",
    "             'niub18518006', 'niub18518442', 'niub18518091', 'niub16828450', 'niub18588511', 'niub18588232', \n",
    "             'niub16831426', 'niub18518346', 'niub11236310', 'niub18588120', 'niub18567770', 'niub10196663', \n",
    "             'niub19121165', 'niub16815441', 'niub18589726', 'niub18589794', 'niub18569595', 'niub16609841', \n",
    "             'niub18599174', 'niub18519794', 'niub18518136', 'niub16803506', 'niub18569091', 'niub10308215', \n",
    "             'niub16120940', 'niub16313033', 'niub16843842', 'niub18581933', 'niub18588595', 'niub18597724', \n",
    "             'niub18595521', 'niub16759784', 'niub18518383', 'niub18518464', 'niub16421613', 'niub16839025', \n",
    "             'niub18518324', 'niub16766465', 'niub16271220', 'niub16699055', 'niub18588184', 'niub16619210', \n",
    "             'niub18588544', 'niub18519780', 'niub18588170', 'niub18518065', 'niub18588162', 'niub18519735', \n",
    "             'niub18518040', 'niub18593112', 'niub18518305', 'niub18593525', 'niub18588581', 'niub18567304', \n",
    "             'niub18588136', 'niub18518490', 'niub19125804', 'niub18589735', 'niub18588566', 'niub16806162', \n",
    "             'niub18518475', 'niub16638516', 'niub16633574']\n",
    "\n",
    "llistaniubs2=llistaniubs[:]\n",
    "llistaniubs3=llistaniubs[:]\n",
    "\n",
    "for i in range(0,99):\n",
    "    llistaniubs2[i]=int(llistaniubs2[i][6:12])\n",
    "print(llistaniubs2)"
   ]
  },
  {
   "cell_type": "code",
   "execution_count": 35,
   "metadata": {},
   "outputs": [],
   "source": [
    "# definim la funció hash:\n",
    "\n",
    "def hash(niub):\n",
    "    return (niub//10000*6+niub%10000//100*47+niub%100*77)%101"
   ]
  },
  {
   "cell_type": "code",
   "execution_count": 36,
   "metadata": {},
   "outputs": [
    {
     "name": "stdout",
     "output_type": "stream",
     "text": [
      "4 41\n"
     ]
    }
   ],
   "source": [
    "# Creem una taula amb 101 posicions i guardem els niubs a la posició que els toca a la taula:\n",
    "taulahash=[-1]*101\n",
    "colisions = 0\n",
    "maxim = 0\n",
    "for niub in llistaniubs2:\n",
    "    index=hash(niub)\n",
    "    if taulahash[index]==-1:\n",
    "        taulahash[index]=[niub]\n",
    "    else:\n",
    "        taulahash[index].append(niub)\n",
    "        colisions += 1\n",
    "        maxim = max(maxim,len(taulahash[index])) \n",
    "print(maxim,colisions)"
   ]
  },
  {
   "cell_type": "code",
   "execution_count": 37,
   "metadata": {},
   "outputs": [
    {
     "name": "stdout",
     "output_type": "stream",
     "text": [
      "[[588232], [584633], [687712], -1, -1, -1, [619210], -1, [828450, 593112], [440881], -1, [595521], [596201, 598894], -1, [518051, 518442], -1, [588533, 519780], [518136], [518425, 588184], -1, [519763, 815441], [589710], [125491, 43701], [763863], [518450], [589794], -1, [831426, 599174, 589735], -1, -1, [518475], [236310], [730841, 588566], -1, -1, [566891, 567304], -1, -1, [308215], [588511, 588120, 121165], [518114, 120940], [518012, 589726, 588162, 806162], -1, [519741, 609841, 588595], [271220], [581933, 633574], -1, [518305], -1, [347854], [638516], [588170], -1, [589776, 518330, 567770], -1, [588544], -1, -1, -1, [518500, 569091, 588136], -1, -1, [589763, 803506], -1, [518091, 597724, 759784], [973034], -1, [625902], -1, [518486], [519702, 843842], -1, -1, [518346], [518490], -1, [589754, 518040, 588581, 125804], -1, [588522], -1, -1, -1, [588114, 518065], -1, [518006, 519794], -1, [421613, 766465, 519735, 593525], -1, [596304, 196663, 839025], -1, [588572], -1, [888180, 518464, 699055], [805093], [518383], -1, [518324], [569595, 313033], [518511], -1, -1]\n"
     ]
    }
   ],
   "source": [
    "# Mirem com ha quedat la taula\n",
    "print(taulahash)"
   ]
  },
  {
   "cell_type": "code",
   "execution_count": 41,
   "metadata": {},
   "outputs": [],
   "source": [
    "# Finalment agafarem 1000 niubs a l'atzar comptarem el temps de cerca amb hash i amb cerca binària. \n",
    "# Usarem alguns dels algorismes que coneixem per cercar o per ordenar\n",
    "\n",
    "import random\n",
    "import timeit\n",
    "\n",
    "def recBinSearch(x, nums, low, high):\n",
    "    \"\"\"\n",
    "    Algorisme bàsic de cerca binària recursiva\n",
    "    :param x el nombre a trobar\n",
    "    :param nums la llista de nums a trobar\n",
    "    :param low l'índex més baix de la subllista on estem cercant ara\n",
    "    :param high l'índex més alt de la subllista on estem cercant ara\n",
    "    :return posició de x a nums o -1 si no s'ha trobar\n",
    "    \"\"\"\n",
    "    if low > high:\n",
    "        return -1\n",
    "    mid = (low + high) // 2\n",
    "    items = nums[mid]\n",
    "    if items == x:\n",
    "        return mid\n",
    "    elif x < items:\n",
    "        return recBinSearch(x, nums, low, mid-1)\n",
    "    else:\n",
    "        return recBinSearch(x, nums, mid+1, high)\n",
    "\n",
    "def partition(A, first, last):\n",
    "    \"\"\"\n",
    "    Aquesta funció tria el valor mig entre l'element inicial, final i mig \n",
    "    d'una llista i l'ubica al lloc que li correspondrà quan la llista està \n",
    "    ordenada, alhora deixa a la seva esquerra valors menors i a la dreta\n",
    "    valors majors. Per tant altera A\n",
    "    A més retorna la posició de la partició\n",
    "    \"\"\"\n",
    "    mid = (first + last)//2  #ordenem A[first],A[mid],A[last]\n",
    "    if A[first] > A [mid]: A[first], A[mid] = A[mid], A[first]\n",
    "    if A[first] > A [last]: A[first], A[last] = A[last], A[first]\n",
    "    if A[mid] > A[last]:   A[mid], A[last] = A[last], A[mid]  \n",
    "    A[mid], A[first] = A[first], A[mid] #valor mig a l’inici\n",
    "    pivot = first\n",
    "    i = first + 1\n",
    "    j = last\n",
    "  \n",
    "    while True:\n",
    "        while i <= last and A[i] <= A[pivot]: i += 1\n",
    "        while j >= first and A[j] > A[pivot]: j -= 1\n",
    "        if i >= j: break\n",
    "        else:\n",
    "            A[i], A[j] = A[j], A[i] #intercanviem, fem avançar i j\n",
    "    A[j], A[pivot] = A[pivot], A[j] #vector partit, pivot=j\n",
    "    return j\n",
    "\n",
    "def quick_sort(A):\n",
    "    quick_sort_r(A, 0, len(A) - 1)\n",
    "\n",
    "def quick_sort_r(A , first, last):\n",
    "    if last > first:\n",
    "        pivot = partition(A, first, last)\n",
    "        quick_sort_r(A, first, pivot - 1)\n",
    "        quick_sort_r(A, pivot + 1, last)\n",
    "    \n",
    "def cercaAmbHash():\n",
    "    for i in range(0,1000):\n",
    "        x=random.randint(0,98)\n",
    "        abuscar=llistaniubs2[x]\n",
    "        h=hash(abuscar)\n",
    "        index=0\n",
    "        while abuscar!=taulahash[h][index]:\n",
    "            index+=1\n",
    "\n",
    "def cercaBinaria():\n",
    "    sol=True\n",
    "    quick_sort(llistaniubs3)\n",
    "    for i in range(0,1000):\n",
    "        x=random.randint(0,98)\n",
    "        abuscar=llistaniubs[x]\n",
    "        index=recBinSearch(abuscar,llistaniubs3,0,98)"
   ]
  },
  {
   "cell_type": "code",
   "execution_count": 42,
   "metadata": {},
   "outputs": [
    {
     "name": "stdout",
     "output_type": "stream",
     "text": [
      "1.49 ms ± 79.6 µs per loop (mean ± std. dev. of 7 runs, 1000 loops each)\n"
     ]
    }
   ],
   "source": [
    "%timeit cercaAmbHash()"
   ]
  },
  {
   "cell_type": "code",
   "execution_count": 43,
   "metadata": {},
   "outputs": [
    {
     "name": "stdout",
     "output_type": "stream",
     "text": [
      "2.35 ms ± 105 µs per loop (mean ± std. dev. of 7 runs, 100 loops each)\n"
     ]
    }
   ],
   "source": [
    "%timeit cercaBinaria()"
   ]
  },
  {
   "cell_type": "markdown",
   "metadata": {},
   "source": [
    "<p style=\"text-align:right;font-size:0.9em\">\n",
    "&copy;Jordi Vitrià i Mireia Ribera\n",
    "</p>"
   ]
  }
 ],
 "metadata": {
  "kernelspec": {
   "display_name": "Python 3",
   "language": "python",
   "name": "python3"
  },
  "language_info": {
   "codemirror_mode": {
    "name": "ipython",
    "version": 3
   },
   "file_extension": ".py",
   "mimetype": "text/x-python",
   "name": "python",
   "nbconvert_exporter": "python",
   "pygments_lexer": "ipython3",
   "version": "3.6.5"
  }
 },
 "nbformat": 4,
 "nbformat_minor": 2
}
