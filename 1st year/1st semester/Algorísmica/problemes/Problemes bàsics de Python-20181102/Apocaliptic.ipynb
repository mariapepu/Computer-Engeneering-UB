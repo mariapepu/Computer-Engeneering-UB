{
 "cells": [
  {
   "cell_type": "markdown",
   "metadata": {},
   "source": [
    "<p style=\"text-align:right;font-size:0.9em\">\n",
    "Grau d'Enginyeria Informàtica. Algorísmica. \n",
    "</p>"
   ]
  },
  {
   "cell_type": "markdown",
   "metadata": {},
   "source": [
    "<h1 style=\"padding:0.5em 0;font:Garamond;font-size:1-5em;color:#F90;background-color:#005\">\n",
    "Problema: Número apocalíptic\n",
    "</h1>"
   ]
  },
  {
   "cell_type": "markdown",
   "metadata": {},
   "source": [
    "### Número Apocalíptic\n",
    "Un número, **x**, es diu **apocalíptic** si es compleix que $2^x$ conté la seqüència 666. Es demana: <br>\n",
    "1. Quins dels següents números són apocalíptics? 157, 180, 192<br>\n",
    "2. Dóna una llista amb tots els nombres apocalíptics entre 100 i 300 <br>\n",
    "3. Quants números apocalíptics hi ha menors a 5.000?"
   ]
  },
  {
   "cell_type": "code",
   "execution_count": null,
   "metadata": {
    "collapsed": true
   },
   "outputs": [],
   "source": [
    "def apocaliptic(num):\n",
    "    pass\n",
    "\n",
    "print(apocaliptic(157))\n",
    "print(apocaliptic(180))\n",
    "print(apocaliptic(192))"
   ]
  },
  {
   "cell_type": "code",
   "execution_count": null,
   "metadata": {
    "collapsed": true
   },
   "outputs": [],
   "source": [
    "def lst_apocaliptics(mi,ma):\n",
    "    pass\n",
    "\n",
    "print(lst_apocaliptics(100,300))\n",
    "print(len(lst_apocaliptics(0,5000)))"
   ]
  },
  {
   "cell_type": "markdown",
   "metadata": {},
   "source": [
    "## Referències\n",
    "\n",
    "Els enunciats d'aquests problemes estan extrets de https://www.gaussianos.com/tipos-de-numeros/ i la selecció de problemes esta feta per Pere Gilabert, auxiliar docent del curs 2017-2018."
   ]
  },
  {
   "cell_type": "markdown",
   "metadata": {},
   "source": [
    "<p style=\"text-align:right;font-size:0.9em\">\n",
    "&copy;Jordi Vitrià i Mireia Ribera\n",
    "</p>"
   ]
  }
 ],
 "metadata": {
  "kernelspec": {
   "display_name": "Python 3",
   "language": "python",
   "name": "python3"
  },
  "language_info": {
   "codemirror_mode": {
    "name": "ipython",
    "version": 3
   },
   "file_extension": ".py",
   "mimetype": "text/x-python",
   "name": "python",
   "nbconvert_exporter": "python",
   "pygments_lexer": "ipython3",
   "version": "3.6.5"
  }
 },
 "nbformat": 4,
 "nbformat_minor": 2
}
