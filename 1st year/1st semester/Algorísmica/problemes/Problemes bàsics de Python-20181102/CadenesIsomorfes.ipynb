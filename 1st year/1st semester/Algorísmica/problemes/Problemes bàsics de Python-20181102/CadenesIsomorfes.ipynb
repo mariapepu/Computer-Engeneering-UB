{
 "cells": [
  {
   "cell_type": "markdown",
   "metadata": {},
   "source": [
    "<p style=\"text-align:right;font-size:0.9em\">\n",
    "Grau d'Enginyeria Informàtica. Algorísmica. \n",
    "</p>"
   ]
  },
  {
   "cell_type": "markdown",
   "metadata": {},
   "source": [
    "<h1 style=\"padding:0.5em 0;font:Garamond;font-size:1-5em;color:#F90;background-color:#005\">\n",
    "Problema: Cadenes isomorfes\n",
    "</h1>"
   ]
  },
  {
   "cell_type": "markdown",
   "metadata": {},
   "source": [
    "<p style=\"font-family:Arial;font-size:1em\">\n",
    "Dues cadenes de caràcters CadX i CadY s'anomenen isomorfes si hi ha una correspondència caràcter a caràcter entre elles.\n",
    "</p>"
   ]
  },
  {
   "cell_type": "markdown",
   "metadata": {},
   "source": [
    "<div style=\"font-style:italic\">\n",
    "Per exemple:\n",
    "<ul>\n",
    "<li>CadX=\"DADI\", CadY=\"XCXY\"</li>\n",
    "<li>Solució:\n",
    "   <ul>\n",
    "   <li>Són isomorfes perquè podem establir les correspondències A=>C, D=>X i I=>Y; i viceversa X=>D, C=>A, Y=>I</li>\n",
    "   </ul>\n",
    "</li>\n",
    "<li>Cal tenir en compte que un caràcter pot tenir una correspondència amb sí mateix, però dos caràcters diferents no poden fer-se correspondre a un mateix caràcter.</li>\n",
    "</ul>\n",
    "</div>\n",
    "\n",
    "**Indicació**: us pot ser útil usar la funció zip, que va aparellant un element de la primera llista amb un element de la segona."
   ]
  },
  {
   "cell_type": "code",
   "execution_count": 1,
   "metadata": {},
   "outputs": [
    {
     "name": "stdout",
     "output_type": "stream",
     "text": [
      "h a\n",
      "o d\n",
      "l e\n",
      "a u\n"
     ]
    }
   ],
   "source": [
    "#Exemple d'ús de la funció zip\n",
    "for i,j in zip('hola', 'adeu'):\n",
    "    print(i,j)"
   ]
  },
  {
   "cell_type": "markdown",
   "metadata": {},
   "source": [
    "<h2 style=\"padding:0.5em 0;font:Garamond;font-size:1.2em;color:#FA0;background-color:#005\">\n",
    "Pregunta 1: Abans de programar penseu en 3 exemples que posin a prova l'algorisme i en la seva solució. \n",
    "</h2>"
   ]
  },
  {
   "cell_type": "code",
   "execution_count": 6,
   "metadata": {
    "collapsed": true
   },
   "outputs": [],
   "source": [
    "# Inserir aquí les respostes"
   ]
  },
  {
   "cell_type": "markdown",
   "metadata": {},
   "source": [
    "<h2 style=\"padding:0.5em 0;font:Garamond;font-size:1.2em;color:#FA0;background-color:#005\">\n",
    "Pregunta 2: Quines col.leccions has usat? Perquè? \n",
    "</h2>"
   ]
  },
  {
   "cell_type": "code",
   "execution_count": 7,
   "metadata": {
    "collapsed": true
   },
   "outputs": [],
   "source": [
    "# Inserir aquí les respostes"
   ]
  },
  {
   "cell_type": "markdown",
   "metadata": {},
   "source": [
    "<p style=\"text-align:right;font-size:0.9em\">\n",
    "&copy;Jordi Vitrià i Mireia Ribera\n",
    "</p>"
   ]
  }
 ],
 "metadata": {
  "kernelspec": {
   "display_name": "Python 3",
   "language": "python",
   "name": "python3"
  },
  "language_info": {
   "codemirror_mode": {
    "name": "ipython",
    "version": 3
   },
   "file_extension": ".py",
   "mimetype": "text/x-python",
   "name": "python",
   "nbconvert_exporter": "python",
   "pygments_lexer": "ipython3",
   "version": "3.6.5"
  }
 },
 "nbformat": 4,
 "nbformat_minor": 2
}
