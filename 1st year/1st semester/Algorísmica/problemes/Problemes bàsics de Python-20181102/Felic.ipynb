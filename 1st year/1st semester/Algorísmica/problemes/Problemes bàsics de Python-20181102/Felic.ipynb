{
 "cells": [
  {
   "cell_type": "markdown",
   "metadata": {},
   "source": [
    "<p style=\"text-align:right;font-size:0.9em\">\n",
    "Grau d'Enginyeria Informàtica. Algorísmica\n",
    "</p>"
   ]
  },
  {
   "cell_type": "markdown",
   "metadata": {},
   "source": [
    "<h1 style=\"padding:0.5em 0;font:Garamond;font-size:1-5em;color:#F90;background-color:#005\">\n",
    "Problema: Número feliç\n",
    "</h1>"
   ]
  },
  {
   "cell_type": "markdown",
   "metadata": {},
   "source": [
    "Un número, **x**, es diu **feliç** si la suma dels quadrats dels seus dígits (fins que només quedi una xifra), és 1\n",
    "\n",
    "Exemple: \n",
    "\n",
    "- 203: $2^2+0^2+3^2 = 13$\n",
    "- 13: $1^2 +3^2 = 10$\n",
    "- 10: $1^2 +0^2 = 1$ \n",
    "\n",
    "Així doncs 203 és un nombre feliç. (En particular, també ho són el 13 i el 10)\n",
    "\n",
    "\n",
    "Seguint el mateix esquema que l'exercici anterior:\n",
    "\n",
    "1. Comproveu si els nombres: 921, 717, 2039, són nombres feliços\n",
    "2. Quants nombres feliços hi ha fins a 3.000?\n",
    "3. Si el primer nombre feliç és l'1, quin és el nombre feliç número 1234? (Fer servir _while_)\n",
    "4. Hi ha algun número feliç que sigui apocalíptic menor a 1000? Quants? Quins són?"
   ]
  },
  {
   "cell_type": "code",
   "execution_count": null,
   "metadata": {
    "collapsed": true
   },
   "outputs": [],
   "source": [
    "def feliç(num):\n",
    "    pass"
   ]
  },
  {
   "cell_type": "markdown",
   "metadata": {},
   "source": [
    "## Referències\n",
    "\n",
    "Els enunciats d'aquests problemes estan extrets de https://www.gaussianos.com/tipos-de-numeros/ i la selecció de problemes esta feta per Pere Gilabert, auxiliar docent del curs 2017-2018."
   ]
  },
  {
   "cell_type": "markdown",
   "metadata": {},
   "source": [
    "<p style=\"text-align:right;font-size:0.9em\">\n",
    "&copy;Jordi Vitrià i Mireia Ribera\n",
    "</p>"
   ]
  }
 ],
 "metadata": {
  "kernelspec": {
   "display_name": "Python 3",
   "language": "python",
   "name": "python3"
  },
  "language_info": {
   "codemirror_mode": {
    "name": "ipython",
    "version": 3
   },
   "file_extension": ".py",
   "mimetype": "text/x-python",
   "name": "python",
   "nbconvert_exporter": "python",
   "pygments_lexer": "ipython3",
   "version": "3.6.5"
  }
 },
 "nbformat": 4,
 "nbformat_minor": 2
}
