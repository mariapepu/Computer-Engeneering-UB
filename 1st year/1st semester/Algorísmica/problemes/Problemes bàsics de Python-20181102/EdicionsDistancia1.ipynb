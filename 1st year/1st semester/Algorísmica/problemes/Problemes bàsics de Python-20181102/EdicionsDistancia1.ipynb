{
 "cells": [
  {
   "cell_type": "markdown",
   "metadata": {},
   "source": [
    "<p style=\"text-align:right;font-size:0.9em\">\n",
    "Grau d'Enginyeria Informàtica. Algorísmica. \n",
    "</p>"
   ]
  },
  {
   "cell_type": "markdown",
   "metadata": {},
   "source": [
    "<h1 style=\"padding:0.5em 0;font:Garamond;font-size:1-5em;color:#F90;background-color:#005\">\n",
    "Problema: Generació de les edicions a distància 1 d'una paraula\n",
    "</h1>"
   ]
  },
  {
   "cell_type": "markdown",
   "metadata": {},
   "source": [
    "Escriure un programa que generi **el conjunt** de totes les variacions d'edició (distància 1) d'una paraula. \n",
    "\n",
    "Suposem que:\n",
    "+ Només usem les lletres ``abcdefghijklmnopqrstuvwxyz``\n",
    "+ Les operacions d'edició són: eliminar una lletra (deletes) , transposar un parell de lletres (transpose), reemplaçar una lletra per una altra (replaces) i insertar una lletra de l'abecedari.\n",
    "\n",
    "Indicacions: \n",
    "+ Cada un dels tipus d'edició es pot escriure com una *comprehension*.\n",
    "+ Si la primera cosa que feu al principi és considerar totes les divisions possibles d'una paraula (per exemple, si per la paraula ```casa``` genereu ```('', 'casa'), ('c', 'asa'), ('ca', 'sa'), ('cas', 'a'), ('casa', '')```), es poden generar les edicions a partir d'aquesta llista."
   ]
  },
  {
   "cell_type": "code",
   "execution_count": null,
   "metadata": {
    "collapsed": true
   },
   "outputs": [],
   "source": [
    "def edit(word):\n",
    "    letters    = 'abcdefghijklmnopqrstuvwxyz'\n",
    "    splits     = [(word[:i], word[i:]) for i in range(len(word) + 1)]\n",
    "    deletes    = # escriu una list comprehension. Pots usar les tuples generades per splits\n",
    "    transposes = # escriu una list comprehension. Pots usar les tuples generades per splits\n",
    "    replaces   = # escriu una list comprehension. Pots usar les tuples generades per splits. Pots usar letters també\n",
    "    inserts    = # escriu una list comprehension. Pots usar les tuples generades per splits. Pots usar letters també\n",
    "    return set(deletes + transposes + replaces + inserts)\n",
    "\n",
    "assert edit('h') == {'','a','ah','b', 'bh', 'c', 'ch', 'd', 'dh', 'e', 'eh', 'f', 'fh', \n",
    "                     'g', 'gh', 'h', 'ha', 'hb', 'hc', 'hd', 'he', 'hf', 'hg', 'hh',\n",
    "                     'hi', 'hj', 'hk', 'hl', 'hm', 'hn', 'ho', 'hp', 'hq', 'hr', 'hs',\n",
    "                     'ht', 'hu', 'hv', 'hw', 'hx', 'hy', 'hz', 'i', 'ih', 'j', 'jh',\n",
    "                     'k', 'kh', 'l', 'lh', 'm', 'mh', 'n', 'nh', 'o', 'oh', 'p', 'ph',\n",
    "                     'q', 'qh', 'r', 'rh', 's', 'sh', 't',  'th', 'u', 'uh', 'v', 'vh',\n",
    "                     'w', 'wh', 'x', 'xh', 'y', 'yh', 'z', 'zh'}"
   ]
  },
  {
   "cell_type": "code",
   "execution_count": 1,
   "metadata": {},
   "outputs": [
    {
     "name": "stdout",
     "output_type": "stream",
     "text": [
      "[('', 'casa'), ('c', 'asa'), ('ca', 'sa'), ('cas', 'a'), ('casa', '')]\n"
     ]
    }
   ],
   "source": [
    "# Per entendre millor el que retorna splits, fes una prova independent\n",
    "\n",
    "def edit(word):\n",
    "    letters    = 'abcdefghijklmnopqrstuvwxyz'\n",
    "    splits     = [(word[:i], word[i:]) for i in range(len(word) + 1)]\n",
    "    print(splits)\n",
    "\n",
    "edit(\"casa\")    "
   ]
  },
  {
   "cell_type": "code",
   "execution_count": null,
   "metadata": {},
   "outputs": [],
   "source": [
    "# Fixat que en alguns casos R no té contingut. \n",
    "# Si vols accedir a una part de R i comprovar que contingui alguna cosa pots fer servir la condició 'if R'"
   ]
  },
  {
   "cell_type": "markdown",
   "metadata": {},
   "source": [
    "<h2 style=\"padding:0.5em 0;font:Garamond;font-size:1.2em;color:#FA0;background-color:#005\">\n",
    "Pregunta 1: Posa un exemple de cadascuna de les operacions d'edició amb la paraula \"casa\" indicant quina operació és i on s'ha aplicat\n",
    "</h2>"
   ]
  },
  {
   "cell_type": "code",
   "execution_count": null,
   "metadata": {
    "collapsed": true
   },
   "outputs": [],
   "source": [
    "# Inserir aquí les respostes"
   ]
  },
  {
   "cell_type": "markdown",
   "metadata": {},
   "source": [
    "<p style=\"text-align:right;font-size:0.9em\">\n",
    "&copy;Jordi Vitrià i Mireia Ribera\n",
    "</p>"
   ]
  }
 ],
 "metadata": {
  "kernelspec": {
   "display_name": "Python 3",
   "language": "python",
   "name": "python3"
  },
  "language_info": {
   "codemirror_mode": {
    "name": "ipython",
    "version": 3
   },
   "file_extension": ".py",
   "mimetype": "text/x-python",
   "name": "python",
   "nbconvert_exporter": "python",
   "pygments_lexer": "ipython3",
   "version": "3.6.5"
  }
 },
 "nbformat": 4,
 "nbformat_minor": 2
}
