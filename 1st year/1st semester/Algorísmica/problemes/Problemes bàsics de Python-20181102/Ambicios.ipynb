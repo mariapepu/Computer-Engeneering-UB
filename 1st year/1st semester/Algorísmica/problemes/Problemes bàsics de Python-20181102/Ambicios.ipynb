{
 "cells": [
  {
   "cell_type": "markdown",
   "metadata": {},
   "source": [
    "<p style=\"text-align:right;font-size:0.9em\">\n",
    "Grau d'Enginyeria Informàtica. Algorísmica\n",
    "</p>"
   ]
  },
  {
   "cell_type": "markdown",
   "metadata": {},
   "source": [
    "<h1 style=\"padding:0.5em 0;font:Garamond;font-size:1-5em;color:#F90;background-color:#005\">\n",
    "Problema: Ambiciós\n",
    "</h1>"
   ]
  },
  {
   "cell_type": "markdown",
   "metadata": {},
   "source": [
    "Determinar si un nombre és __ambiciós__: diem que un nombre és ambiciós si la suma dels seus factors (recursivament) és un nombre perfecte.\n",
    "\n",
    "Exemple:\n",
    "- 95 és un nombre ambiciós ja que els seus divisors són: 1, 5, 19 que sumen 25\n",
    "- I recursivament, els divisors de 25 són 1 i 5 que sumen 6 que és un nombre perfecte"
   ]
  },
  {
   "cell_type": "code",
   "execution_count": null,
   "metadata": {
    "collapsed": true
   },
   "outputs": [],
   "source": [
    "def ambicios(num):\n",
    "    pass\n",
    "\n",
    "ambicios(25) # True\n",
    "ambicios(30) # False\n",
    "ambicios(95) # True"
   ]
  },
  {
   "cell_type": "markdown",
   "metadata": {},
   "source": [
    "## Referències\n",
    "\n",
    "Els enunciats d'aquests problemes estan extrets de https://www.gaussianos.com/tipos-de-numeros/ i la selecció de problemes esta feta per Pere Gilabert, auxiliar docent del curs 2017-2018."
   ]
  },
  {
   "cell_type": "markdown",
   "metadata": {},
   "source": [
    "<p style=\"text-align:right;font-size:0.9em\">\n",
    "&copy;Jordi Vitrià i Mireia Ribera\n",
    "</p>"
   ]
  }
 ],
 "metadata": {
  "kernelspec": {
   "display_name": "Python 3",
   "language": "python",
   "name": "python3"
  },
  "language_info": {
   "codemirror_mode": {
    "name": "ipython",
    "version": 3
   },
   "file_extension": ".py",
   "mimetype": "text/x-python",
   "name": "python",
   "nbconvert_exporter": "python",
   "pygments_lexer": "ipython3",
   "version": "3.6.5"
  }
 },
 "nbformat": 4,
 "nbformat_minor": 2
}
