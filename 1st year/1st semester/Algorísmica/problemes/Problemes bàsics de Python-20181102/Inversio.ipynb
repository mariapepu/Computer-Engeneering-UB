{
 "cells": [
  {
   "cell_type": "markdown",
   "metadata": {},
   "source": [
    "<p style=\"text-align:right;font-size:0.9em\">\n",
    "Grau d'Enginyeria Informàtica. Algorísmica\n",
    "</p>"
   ]
  },
  {
   "cell_type": "markdown",
   "metadata": {},
   "source": [
    "<h1 style=\"padding:0.5em 0;font:Garamond;font-size:1-5em;color:#F90;background-color:#005\">\n",
    "Problema: Inversió\n",
    "</h1>"
   ]
  },
  {
   "cell_type": "markdown",
   "metadata": {},
   "source": [
    "La funció ``futval`` calcula els diners que tindrem en un compte del banc al cap de 10 anys en funció de la inversió inicial i de l'interès que ens dóna el banc: "
   ]
  },
  {
   "cell_type": "code",
   "execution_count": 1,
   "metadata": {},
   "outputs": [
    {
     "name": "stdout",
     "output_type": "stream",
     "text": [
      "Calcul del valor futur d’una inversio a 10 anys.\n",
      "Entra la inversio inicial: 100\n",
      "Entra l'interes anual en decimal (per ex. 10% sera 0.1): 0.2\n",
      "La quantitat al cap de 10 anys es: 619.1736422399998\n"
     ]
    }
   ],
   "source": [
    "def futval():\n",
    "    print (\"Calcul del valor futur d’una inversio a 10 anys.\")\n",
    "    principal = int(input(\"Entra la inversio inicial: \"))\n",
    "    apr = float(input(\"Entra l'interes anual en decimal (per ex. 10% sera 0.1): \"))\n",
    "    for i in range(10):\n",
    "        principal = principal * (1 + apr)\n",
    "    print (\"La quantitat al cap de 10 anys es:\", principal)\n",
    "    \n",
    "futval()"
   ]
  },
  {
   "cell_type": "markdown",
   "metadata": {},
   "source": [
    "<h2 style=\"padding:0.5em 0;font:Garamond;font-size:1.2em;color:#FA0;background-color:#005\">\n",
    "Pregunta 1: </h2>\n",
    "\n",
    "Escriu, a partir de ``futval1``, una funció ``futval2`` amb alguns canvis. En aquest cas el banc cobrarà una comissió d'un percentatge de l'import final. L'usuari ha d'introduir la inversió inicial, l'interès, el nombre d'anys i també la comissió del banc (per ex. 3% serà 0.3). Canvia el missatge final adequadament.\n"
   ]
  },
  {
   "cell_type": "code",
   "execution_count": null,
   "metadata": {},
   "outputs": [],
   "source": [
    "# Substiteix la comanda pass per la teva solució\n",
    "\n",
    "def futval2():\n",
    "    \"\"\"\n",
    "    Aquest programa calcula el valor d'una inversió a 10 anys segons \n",
    "    uns paràmetres demanats a l'usuari\n",
    "    :param cap\n",
    "    :return res\n",
    "    \"\"\""
   ]
  },
  {
   "cell_type": "markdown",
   "metadata": {},
   "source": [
    "<p style=\"text-align:right;font-size:0.9em\">\n",
    "&copy;Jordi Vitrià i Mireia Ribera\n",
    "</p>"
   ]
  }
 ],
 "metadata": {
  "kernelspec": {
   "display_name": "Python 3",
   "language": "python",
   "name": "python3"
  },
  "language_info": {
   "codemirror_mode": {
    "name": "ipython",
    "version": 3
   },
   "file_extension": ".py",
   "mimetype": "text/x-python",
   "name": "python",
   "nbconvert_exporter": "python",
   "pygments_lexer": "ipython3",
   "version": "3.6.5"
  }
 },
 "nbformat": 4,
 "nbformat_minor": 2
}
