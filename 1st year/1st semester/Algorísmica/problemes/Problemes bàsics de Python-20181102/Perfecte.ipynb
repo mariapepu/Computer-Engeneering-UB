{
 "cells": [
  {
   "cell_type": "markdown",
   "metadata": {},
   "source": [
    "<p style=\"text-align:right;font-size:0.9em\">\n",
    "Grau d'Enginyeria Informàtica. Algorísmica. \n",
    "</p>"
   ]
  },
  {
   "cell_type": "markdown",
   "metadata": {},
   "source": [
    "<h1 style=\"padding:0.5em 0;font:Garamond;font-size:1-5em;color:#F90;background-color:#005\">\n",
    "Problema: Perfecte\n",
    "</h1>"
   ]
  },
  {
   "cell_type": "markdown",
   "metadata": {},
   "source": [
    "Comprovar que un número és **perfecte**. Diem que un número és perfecte si és la suma dels seus divisors __positius__ i __menors a ell mateix__.<br><br>\n",
    "\n",
    "Exemples:\n",
    "\n",
    "- $6 = 1 + 2 + 3\\ \\ \\ \\  \\Rightarrow\\ \\ \\ \\ $és perfecte \n",
    "- $28 = 1 + 2 + 4 + 7 + 14\\ \\ \\ \\  \\Rightarrow\\ \\ \\ \\ $és perfecte \n",
    "- $8 \\neq 1 + 2 + 4 = 7\\ \\ \\ \\  \\Rightarrow\\ \\ \\ \\ $__NO__ és perfecte "
   ]
  },
  {
   "cell_type": "code",
   "execution_count": null,
   "metadata": {
    "collapsed": true
   },
   "outputs": [],
   "source": [
    "# Inserir aquí les respostes"
   ]
  },
  {
   "cell_type": "markdown",
   "metadata": {},
   "source": [
    "## Referències\n",
    "\n",
    "Els enunciats d'aquests problemes estan extrets de https://www.gaussianos.com/tipos-de-numeros/ i la selecció de problemes esta feta per Pere Gilabert, auxiliar docent del curs 2017-2018."
   ]
  },
  {
   "cell_type": "markdown",
   "metadata": {},
   "source": [
    "<p style=\"text-align:right;font-size:0.9em\">\n",
    "&copy;Jordi Vitrià i Mireia Ribera\n",
    "</p>"
   ]
  }
 ],
 "metadata": {
  "kernelspec": {
   "display_name": "Python 3",
   "language": "python",
   "name": "python3"
  },
  "language_info": {
   "codemirror_mode": {
    "name": "ipython",
    "version": 3
   },
   "file_extension": ".py",
   "mimetype": "text/x-python",
   "name": "python",
   "nbconvert_exporter": "python",
   "pygments_lexer": "ipython3",
   "version": "3.6.5"
  }
 },
 "nbformat": 4,
 "nbformat_minor": 2
}
