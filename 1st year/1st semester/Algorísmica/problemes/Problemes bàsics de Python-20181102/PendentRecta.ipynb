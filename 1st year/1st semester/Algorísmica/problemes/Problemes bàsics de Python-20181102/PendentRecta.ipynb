{
 "cells": [
  {
   "cell_type": "markdown",
   "metadata": {},
   "source": [
    "<p style=\"text-align:right;font-size:0.9em\">\n",
    "Grau d'Enginyeria Informàtica. Algorísmica\n",
    "</p>"
   ]
  },
  {
   "cell_type": "markdown",
   "metadata": {},
   "source": [
    "<h1 style=\"padding:0.5em 0;font:Garamond;font-size:1-5em;color:#F90;background-color:#005\">\n",
    "Problema: Pendent d'una recta\n",
    "</h1>"
   ]
  },
  {
   "cell_type": "markdown",
   "metadata": {},
   "source": [
    "Considera dos punts en un pla segons les seves coordenades $(x_1,y_1)$ i $(x_2,y_2)$. Escriu una funció, ``punts``, que calculi la pendent de la recta que passa per aquests dos punts. $m=(y_2-y_1)/(x_2-x_1)$. Fixa't que aquest cop les dades les introduim en cridar el programa, no les entra l'usuari."
   ]
  },
  {
   "cell_type": "code",
   "execution_count": 1,
   "metadata": {},
   "outputs": [],
   "source": [
    "# Substitueix la comanda pass per la teva solució\n",
    "\n",
    "def pendent(x1,y1,x2,y2):\n",
    "    \"\"\"\n",
    "    Aquest programa calcula la pendent d'una recta donats dos punts\n",
    "    :param punt 1 (x1,y1) i punt 2 (x2, y2), enters o decimals\n",
    "    :return res\n",
    "    \"\"\"\n",
    "    pass"
   ]
  },
  {
   "cell_type": "code",
   "execution_count": null,
   "metadata": {
    "collapsed": true
   },
   "outputs": [],
   "source": [
    "# Test de la funció\n",
    "\n",
    "pendent(0,0,1,1)\n",
    "pendent(1,3,1,5)"
   ]
  },
  {
   "cell_type": "markdown",
   "metadata": {},
   "source": [
    "<p style=\"text-align:right;font-size:0.9em\">\n",
    "&copy;Jordi Vitrià i Mireia Ribera\n",
    "</p>"
   ]
  }
 ],
 "metadata": {
  "kernelspec": {
   "display_name": "Python 3",
   "language": "python",
   "name": "python3"
  },
  "language_info": {
   "codemirror_mode": {
    "name": "ipython",
    "version": 3
   },
   "file_extension": ".py",
   "mimetype": "text/x-python",
   "name": "python",
   "nbconvert_exporter": "python",
   "pygments_lexer": "ipython3",
   "version": "3.6.5"
  }
 },
 "nbformat": 4,
 "nbformat_minor": 2
}
