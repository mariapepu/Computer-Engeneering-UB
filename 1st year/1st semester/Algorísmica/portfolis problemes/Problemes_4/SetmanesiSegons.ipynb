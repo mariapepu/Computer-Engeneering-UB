{
 "cells": [
  {
   "cell_type": "markdown",
   "metadata": {},
   "source": [
    "<p style=\"text-align:right;font-size:0.9em\">\n",
    "Grau d'Enginyeria Informàtica. Algorísmica\n",
    "</p>"
   ]
  },
  {
   "cell_type": "markdown",
   "metadata": {},
   "source": [
    "<h1 style=\"padding:0.5em 0;font:Garamond;font-size:1-5em;color:#F90;background-color:#005\">\n",
    "Problema: Setmanes i segons\n",
    "</h1>"
   ]
  },
  {
   "cell_type": "markdown",
   "metadata": {},
   "source": [
    "Fes una funció que trobi un nombre de setmanes $n$ que tinguin un nombre de segons $s$ tal que $s = k!$ per algun $k$\n",
    " \n",
    "Pots fer servir la funció math.factorial(x), que calcula el factorial de x, com podeu veure en l'exemple següent."
   ]
  },
  {
   "cell_type": "code",
   "execution_count": 28,
   "metadata": {},
   "outputs": [
    {
     "name": "stdout",
     "output_type": "stream",
     "text": [
      "24\n"
     ]
    }
   ],
   "source": [
    "import math\n",
    "print(math.factorial(4))"
   ]
  },
  {
   "cell_type": "code",
   "execution_count": 29,
   "metadata": {},
   "outputs": [
    {
     "name": "stdout",
     "output_type": "stream",
     "text": [
      "el nombre de setmanes n que tinguin un nombre de segons s tal que s=k! per algun  k son 6, ja que s=3628800 i 10!=3628800\n"
     ]
    }
   ],
   "source": [
    "import math\n",
    "def setm():\n",
    "    segons = 3600*24*7\n",
    "    k=1\n",
    "    x=1\n",
    "    while x%segons !=0:\n",
    "        x = math.factorial(k)\n",
    "        k+=1\n",
    "    k_final=k-1\n",
    "    n_final=x//segons\n",
    "    print(f'el nombre de setmanes n que tinguin un nombre de segons s tal que s=k! per algun  k son {n_final}, ja que s={n_final*24*3600*7} i {k_final}!={math.factorial(k_final)}')\n",
    "\n",
    "setm() "
   ]
  },
  {
   "cell_type": "markdown",
   "metadata": {},
   "source": [
    "<p style=\"text-align:right;font-size:0.9em\">\n",
    "&copy;Jordi Vitrià i Mireia Ribera\n",
    "</p>"
   ]
  }
 ],
 "metadata": {
  "kernelspec": {
   "display_name": "Python 3",
   "language": "python",
   "name": "python3"
  },
  "language_info": {
   "codemirror_mode": {
    "name": "ipython",
    "version": 3
   },
   "file_extension": ".py",
   "mimetype": "text/x-python",
   "name": "python",
   "nbconvert_exporter": "python",
   "pygments_lexer": "ipython3",
   "version": "3.6.5"
  }
 },
 "nbformat": 4,
 "nbformat_minor": 2
}
