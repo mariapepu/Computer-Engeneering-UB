{
 "cells": [
  {
   "cell_type": "markdown",
   "metadata": {},
   "source": [
    "<p style=\"text-align:right;font-size:0.9em\">\n",
    "Grau d'Enginyeria Informàtica. Algorísmica.\n",
    "</p>"
   ]
  },
  {
   "cell_type": "markdown",
   "metadata": {},
   "source": [
    "<h1 style=\"padding:0.5em 0;font:Garamond;font-size:1-5em;color:#F90;background-color:#005\">\n",
    "Sessió de problemes Números-1: Aritmètica Modular i Recursió\n",
    "</h1>"
   ]
  },
  {
   "cell_type": "markdown",
   "metadata": {},
   "source": [
    "## Aritmètica modular\n",
    "\n",
    "L'aritmètica modular es basa en tot de propietats que compleixen els residus de les divisions en els enters.\n",
    "\n",
    "Aquestes propietats són molt útils en criptografia i en codificació."
   ]
  },
  {
   "cell_type": "code",
   "execution_count": 8,
   "metadata": {},
   "outputs": [
    {
     "name": "stdout",
     "output_type": "stream",
     "text": [
      "12\n",
      "1\n"
     ]
    }
   ],
   "source": [
    "# Els operadors principals de l'aritmètica modular són la divisió entera i el mòdul\n",
    "a=25\n",
    "b=2\n",
    "print(a // b)  # retorna el divisor sense decimals \n",
    "print(a % b)   # retorna el residu"
   ]
  },
  {
   "cell_type": "code",
   "execution_count": 9,
   "metadata": {},
   "outputs": [
    {
     "name": "stdout",
     "output_type": "stream",
     "text": [
      "1\n",
      "1\n",
      "1\n"
     ]
    }
   ],
   "source": [
    "# Fixeu-vos que 1 % qualsevol valor sempre és 1\n",
    "print(1 % 3)\n",
    "print(1 % 12)\n",
    "print(1 % 7)"
   ]
  },
  {
   "cell_type": "markdown",
   "metadata": {},
   "source": [
    "Diem que dos enters són congruents mòdul N quan la seva divisió entera per N obté el mateix residu. Si compleixen aquesta condició ho escriurem:\n",
    "\n",
    "**x ≡ y (mod N)**\n",
    "\n",
    "x és congruent amb y (mod N)\n",
    "si el residu de x // N és el mateix que el residu de y // N\n",
    "\n",
    "això es pot formular de manera més simplificada com:\n",
    "\n",
    "**x ≡ y (mod N) si i només si N divideix (x-y)**"
   ]
  },
  {
   "cell_type": "markdown",
   "metadata": {},
   "source": [
    "Gràficament la congruència es pot mostrar amb un recorregut circular:\n",
    "<img src=\"modular.png\" width=\"400\">\n",
    "<p style=\"font-size:0.7em\">Font:Khan Academy ‘Journey into cryptography’ [https://www.khanacademy.org/computing/computer-science/cryptography/modarithmetic/a/modular-addition-and-subtraction] Consultat 27 d'agost de 2017</p>"
   ]
  },
  {
   "cell_type": "code",
   "execution_count": 10,
   "metadata": {},
   "outputs": [
    {
     "name": "stdout",
     "output_type": "stream",
     "text": [
      "3\n",
      "3\n",
      "a és congruent amb b modul 10?  True\n",
      "a és congruent amb b modul 10?  True\n"
     ]
    }
   ],
   "source": [
    "# Exemple\n",
    "a=133\n",
    "b=3\n",
    "modul=10\n",
    "print (a % modul)\n",
    "print (b % modul)\n",
    "print (\"a és congruent amb b modul 10? \",a % modul == b % modul)\n",
    "print (\"a és congruent amb b modul 10? \",(a-b) % modul == 0)"
   ]
  },
  {
   "cell_type": "markdown",
   "metadata": {},
   "source": [
    "Les operacions aritmètiques bàsiques (suma,resta i multiplicació) realitzades amb nombres dins el conjunt dels mòduls retornen també nombres dins aquest conjunt o + N . Així es poden realitzar els càlculs de mòduls de manera més eficient. Aquesta és la base teòrica de l’aritmètica modular.\n",
    "\n",
    "També a aritmètica modular definim l'**invers multiplicatiu**. Direm que x és l'invers multiplicatiu d'a (mod N) si:\n",
    "\n",
    "a * x ≡ 1 (mod N)\n",
    "\n",
    "Atenció: no tots els nombres tenen un invers multiplicatiu per qualsevol N. "
   ]
  },
  {
   "cell_type": "code",
   "execution_count": 11,
   "metadata": {},
   "outputs": [
    {
     "name": "stdout",
     "output_type": "stream",
     "text": [
      "1\n",
      "1\n"
     ]
    }
   ],
   "source": [
    "# Exemple\n",
    "a = 5\n",
    "x = 10\n",
    "N = 7\n",
    "print((a * x) % N)\n",
    "print(1 % N)\n",
    "\n",
    "# 10 és l'invers multiplicatiu de 5 (mod 7)"
   ]
  },
  {
   "cell_type": "code",
   "execution_count": 8,
   "metadata": {},
   "outputs": [
    {
     "name": "stdout",
     "output_type": "stream",
     "text": [
      "1\n",
      "1\n"
     ]
    }
   ],
   "source": [
    "# suma; si ens sortim del domini li restem N => O(n)\n",
    "a = 3\n",
    "b = 7\n",
    "N = 9\n",
    "print((a + b) % N)\n",
    "if ((a+b)>N): \n",
    "    print((a+b)-N) \n",
    "else: \n",
    "    print(a+b)"
   ]
  },
  {
   "cell_type": "code",
   "execution_count": 5,
   "metadata": {},
   "outputs": [
    {
     "name": "stdout",
     "output_type": "stream",
     "text": [
      "5\n",
      "5\n"
     ]
    }
   ],
   "source": [
    "# resta; si ens sortim del domini li sumem N  => O(n)\n",
    "a = 3\n",
    "b = 7\n",
    "N = 9\n",
    "if ((a-b)<0): \n",
    "    print((a-b)+N) \n",
    "else: \n",
    "    print(a-b)\n",
    "    \n",
    "print((a-b)%N)"
   ]
  },
  {
   "cell_type": "code",
   "execution_count": 12,
   "metadata": {},
   "outputs": [
    {
     "name": "stdout",
     "output_type": "stream",
     "text": [
      "3\n",
      "3\n"
     ]
    }
   ],
   "source": [
    "# multiplicació com a màxim valdrà (N-1)^2; si ens passem de N caldrà fer el mòdul del resultat  => O (n^2)\n",
    "a = 3\n",
    "b = 7\n",
    "N = 9\n",
    "if (a*b)>N:\n",
    "    print ((a*b)%N)\n",
    "else:\n",
    "    print(a*b)\n",
    "print((a * b) % N)\n"
   ]
  },
  {
   "cell_type": "code",
   "execution_count": 31,
   "metadata": {},
   "outputs": [
    {
     "name": "stdout",
     "output_type": "stream",
     "text": [
      "x,y,N,bin(y) 456 25 43 0b11001\n",
      "\n",
      "\n",
      "(x**y)%N 28\n",
      "(x**b)%N 28\n",
      "\n",
      "\n",
      "((((x**0b10000) % N * (x**0b1000)) % N * (x**0b1)) % N) % N:  28\n",
      "x**0b10000:   (^16 sense mòdul)                               3494921960298010472437035123666929011654656\n",
      "(((x**2)**2)**2)**2:  (demostració potències de 2 recursives) 3494921960298010472437035123666929011654656\n",
      "(x**0b10000)%N:       (^16 amb mòdul)                         14\n",
      "(((((((x**2)%N)**2)%N)**2)%N)**2)%N: (càlcul recursiu ^16)    14\n",
      "(x**2)%N:                            (càlcul intermig)        31\n",
      "(((x**2)%N)**2)%N:                   (càlcul intermig)        15\n",
      "(((((x**2)%N)**2)%N)**2)%N:          (càlcul intermig)        10\n",
      "\n",
      "\n",
      "pow(x,y,N) 28\n"
     ]
    }
   ],
   "source": [
    "# exponenciació => O(n^3)\n",
    "\n",
    "x=456\n",
    "y=25\n",
    "N = 43\n",
    "b =bin(y)\n",
    "print(\"x,y,N,bin(y)\",x,y,N,b)\n",
    "print()\n",
    "print()\n",
    "\n",
    "print(\"(x**y)%N\",(x**y)%N)\n",
    "print(\"(x**b)%N\",(x**0b11001)%N)\n",
    "print()\n",
    "print()\n",
    "\n",
    "\n",
    "print(\"((((x**0b10000) % N * (x**0b1000)) % N * (x**0b1)) % N) % N: \",((((x**0b10000) % N * (x**0b1000)) % N * (x**0b1)) % N) % N)\n",
    "print(\"x**0b10000:   (^16 sense mòdul)                              \",x**0b10000)\n",
    "print(\"(((x**2)**2)**2)**2:  (demostració potències de 2 recursives)\",(((x**2)**2)**2)**2)\n",
    "print(\"(x**0b10000)%N:       (^16 amb mòdul)                        \",(x**0b10000)%N)\n",
    "print(\"(((((((x**2)%N)**2)%N)**2)%N)**2)%N: (càlcul recursiu ^16)   \",(((((((x**2)%N)**2)%N)**2)%N)**2)%N)\n",
    "print(\"(x**2)%N:                            (càlcul intermig)       \",(x**2)%N)\n",
    "print(\"(((x**2)%N)**2)%N:                   (càlcul intermig)       \",(((x**2)%N)**2)%N)\n",
    "print(\"(((((x**2)%N)**2)%N)**2)%N:          (càlcul intermig)       \",(((((x**2)%N)**2)%N)**2)%N)\n",
    "\n",
    "# A Python l'operació d'exponenciació pow(x,y) usa aritmètica modular i podem expressar l'anterior expressió com a:\n",
    "print()\n",
    "print()\n",
    "print(\"pow(x,y,N)\",pow(x,y,N))"
   ]
  },
  {
   "cell_type": "markdown",
   "metadata": {},
   "source": [
    "#### Explicació de la recursió\n",
    "\n",
    "La recursió consisteix en què un programa es crida a si mateix. Un programa recursiu ben fet ha de complir 2 condicions:\n",
    "\n",
    "- ha d'haver-hi un o més casos base: són condicions de les dades que es resolen directament, sense que calgui una nova crida al programa\n",
    "- a cada crida recursiva ens apropem a un dels casos base: ja sigui perquè es decrementa una variable, perquè es redueix una llista...\n",
    "\n",
    "\n",
    "D'una manera simplificada podríem dir que els algorismes recursius segueixen el patró:\n",
    "\n",
    "    def recursiu(x):\n",
    "        if x=cas_final:\n",
    "            return VALOR\n",
    "        else:\n",
    "            return CRIDA_RECURSIVA(x reduïda)+Calculs\n",
    "            \n",
    "\n",
    "```python\n",
    "Exemple\n",
    "def imprimirLlistaRec(num):\n",
    "    if (num == 0):\n",
    "        print(num)\n",
    "        return 0\n",
    "    else:\n",
    "        print(num)\n",
    "        imprimirLlistaRec(num-1)\n",
    "\n",
    "imprimirLlistaRec(5)\n",
    "5\n",
    "4\n",
    "3\n",
    "2\n",
    "1\n",
    "0\n",
    "```\n",
    "\n",
    "- A la primera execució del programa num valia 5, per tant no és un cas base, es fa el print i es fa una crida recursiva amb 4.\n",
    "- A la segona execució val 4, s'imprimeix i es fa crida amb 3.\n",
    "- A la tercera val 3, s'imprimeix i es fa crida amb 2.\n",
    "- A la quarta val 2, s'imprimeix i es fa crida amb 1.\n",
    "- A la cinquena val 1, s'imprimeix i es fa crida amb 0.\n",
    "- A la sisena val 0, som al cas base!, s'imprimeix i acaba.\n",
    "\n",
    "A vegades dins del programa no es fa una crida recursiva sinó dues o més. També pot variar com s'alteren les variables a cada crida, però sempre ens hem d'anar apropant al cas base.\n",
    "\n",
    "Sovint farem un programa principal que faci un preprocés de les dades, cridi al programa recursiu, i després faci un postprocés.\n",
    "\n",
    "```python\n",
    "\n",
    "def imprimirLlista(num):\n",
    "    print(f\"Ara mostrarem els nombres de {num} a 0 de manera decreixent\")\n",
    "    imprimirLlistaRec(num)\n",
    "    print(\"I això és tot.\")\n",
    "    \n",
    "imprimirLlista(3)\n",
    "\n",
    "\n",
    "Ara mostrarem els nombres de 3 a 0 de manera decreixent\n",
    "3\n",
    "2\n",
    "1\n",
    "0\n",
    "I això és tot.\n",
    "```"
   ]
  },
  {
   "cell_type": "markdown",
   "metadata": {},
   "source": [
    "Per tal de veure el que passa en una recursió, podem usar el mode de visualització de Code Skulptor, una eina que executa Python online:\n",
    "\n",
    "http://www.codeskulptor.org/viz/index.html  \n",
    "(heu de clicar la clau anglesa i executar el programa pas a pas per veure cada crida)\n",
    "\n",
    "El provarem amb la següent funció:"
   ]
  },
  {
   "cell_type": "code",
   "execution_count": 1,
   "metadata": {},
   "outputs": [],
   "source": [
    "# Implementació eficient del càlcul de la potència\n",
    "def potenciarec(x, y):\n",
    "    if y == 0:\n",
    "        return 1\n",
    "    if y == 1:\n",
    "        return x\n",
    "    potencia = potenciarec(x, y // 2)\n",
    "    if (y % 2 == 0):\n",
    "        return potencia * potencia\n",
    "    else:\n",
    "        return potencia * potencia * x \n",
    "    \n",
    "# Abans d'executar-lo penseu quines crides farà per potenciarec(2,10)"
   ]
  },
  {
   "cell_type": "code",
   "execution_count": 2,
   "metadata": {},
   "outputs": [
    {
     "name": "stdout",
     "output_type": "stream",
     "text": [
      "25\n"
     ]
    }
   ],
   "source": [
    "# Un altre exemple de programa recursiu \n",
    "# font: http://interactivepython.org/courselib/static/thinkcspy/IntroRecursion/CalculatingtheSumofaListofNumbers.html\n",
    "def listsum(numList):\n",
    "   if len(numList) == 1:\n",
    "        return numList[0]\n",
    "   else:\n",
    "        return numList[0] + listsum(numList[1:])\n",
    "\n",
    "print(listsum([1,3,5,7,9]))"
   ]
  },
  {
   "cell_type": "markdown",
   "metadata": {},
   "source": [
    "## Exercici 1: \n",
    "Resol el problema SumaTermesParellsFibonacci\n"
   ]
  },
  {
   "cell_type": "markdown",
   "metadata": {},
   "source": [
    "## Exercici 2:\n",
    "Resol el problema ColumnesExcel"
   ]
  },
  {
   "cell_type": "markdown",
   "metadata": {},
   "source": [
    "## Exercici 3\n",
    "Resol el problema SetmanesiSegons"
   ]
  },
  {
   "cell_type": "markdown",
   "metadata": {},
   "source": [
    "## Referències\n",
    "\n",
    "Podeu trobar més recursos sobre recursió a:\n",
    "    \n",
    "Alguns exemples mostrats com un arbre\n",
    "https://visualgo.net/en/recursion\n",
    "\n",
    "\n",
    "Curs Think like a computer scientist\n",
    "explicació recursivitat\n",
    "http://interactivepython.org/courselib/static/thinkcspy/IntroRecursion/CalculatingtheSumofaListofNumbers.html"
   ]
  },
  {
   "cell_type": "markdown",
   "metadata": {},
   "source": [
    "<p style=\"text-align:right;font-size:0.9em\">\n",
    "&copy;Jordi Vitrià i Mireia Ribera\n",
    "</p>"
   ]
  }
 ],
 "metadata": {
  "kernelspec": {
   "display_name": "Python 3",
   "language": "python",
   "name": "python3"
  },
  "language_info": {
   "codemirror_mode": {
    "name": "ipython",
    "version": 3
   },
   "file_extension": ".py",
   "mimetype": "text/x-python",
   "name": "python",
   "nbconvert_exporter": "python",
   "pygments_lexer": "ipython3",
   "version": "3.6.5"
  }
 },
 "nbformat": 4,
 "nbformat_minor": 2
}
