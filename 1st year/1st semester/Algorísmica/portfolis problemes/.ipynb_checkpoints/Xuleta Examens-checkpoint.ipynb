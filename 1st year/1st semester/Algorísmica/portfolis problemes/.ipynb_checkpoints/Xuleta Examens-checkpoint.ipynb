{
 "cells": [
  {
   "cell_type": "code",
   "execution_count": 1,
   "metadata": {
    "collapsed": true
   },
   "outputs": [],
   "source": [
    "def fib1(n):\n",
    "    if n==1:\n",
    "        return n\n",
    "    if n==0:\n",
    "        return n\n",
    "    return fib1(n-1) + fib1(n-2)"
   ]
  },
  {
   "cell_type": "code",
   "execution_count": 4,
   "metadata": {
    "collapsed": true
   },
   "outputs": [],
   "source": [
    "def fibonacci(n):\n",
    "    a, b = 0, 1\n",
    "    for i in range (1, n+1):\n",
    "        a,b = b, a+b\n",
    "    return a"
   ]
  },
  {
   "cell_type": "code",
   "execution_count": 6,
   "metadata": {
    "collapsed": true
   },
   "outputs": [],
   "source": [
    "def mul(x,y):\n",
    "    import math\n",
    "    if y == 0:\n",
    "        return 0\n",
    "    z = mul (x, math.floor(y/2))\n",
    "    if y%2 == 0:\n",
    "        return 2*z\n",
    "    else:\n",
    "        return x+2*z"
   ]
  },
  {
   "cell_type": "code",
   "execution_count": 8,
   "metadata": {
    "collapsed": true
   },
   "outputs": [],
   "source": [
    "def binconvert(n):\n",
    "    barray = [ ]\n",
    "    if n == 0:\n",
    "        return 0\n",
    "    while n:\n",
    "        barray.append(n%2)\n",
    "        n //=2\n",
    "    barray.reverse()\n",
    "    return barray\n",
    "\n",
    "def modexp(a,n,m):\n",
    "    bits = binconvert(n)\n",
    "    solution = 1\n",
    "    for x in bits:\n",
    "        solution = (solution*solution)%m\n",
    "        if x:\n",
    "            solution = (solution*a)%m\n",
    "    return solution"
   ]
  },
  {
   "cell_type": "code",
   "execution_count": 14,
   "metadata": {
    "collapsed": true
   },
   "outputs": [],
   "source": [
    "def lev_distance(first, second):\n",
    "    if len(first) > len(second):\n",
    "        first, second = second, first\n",
    "    if len(second) == 0:\n",
    "        return len(first)\n",
    "    first_length = len(first) + 1\n",
    "    second_length = len(second) + 1\n",
    "    distance_matrix =[[0] * second_length for x in range(first_length)]\n",
    "    for i in range(first_length):\n",
    "        distance_matrix[i][0] = i\n",
    "    for j in range(second_length):\n",
    "        distance_matrix[0][j]=j\n",
    "    for i in range(1, first_length):\n",
    "        for j in range(1, second_length):\n",
    "            deletion = distance_matrix[i-1][j] +1\n",
    "            insertion = distance_matrix[i][j-1] +1\n",
    "            substitution = distance_matrix[i-1][j-1]\n",
    "            if first[i-1] != second[j-1]:\n",
    "                substitution += 1\n",
    "                distance_matrix[i][j] = min(insertion,deletion, substitution)\n",
    "    return distance_matrix[first_length-1][second_length-1]"
   ]
  },
  {
   "cell_type": "code",
   "execution_count": 26,
   "metadata": {
    "collapsed": true
   },
   "outputs": [],
   "source": [
    "def quick_sort(A):\n",
    "    quick_sort_r(A,0,len(A)-1)\n",
    "    \n",
    "def quick_sort_r(A , first, last):\n",
    "    if last > first:\n",
    "        pivot = partition(A, first, last)\n",
    "        quick_sort_r(A, first, pivot - 1)\n",
    "        quick_sort_r(A, pivot + 1, last)\n",
    "\n",
    "def partition(A, first, last):\n",
    "    sred = (first + last)//2\n",
    "    if A[first] > A [sred]:\n",
    "        A[first], A[sred] = A[sred], A[first]\n",
    "    if A[first] > A [last]:\n",
    "        A[first], A[last] = A[last], A[first]\n",
    "    if A[sred] > A[last]:\n",
    "        A[sred], A[last] = A[last], A[sred]\n",
    "    A [sred], A [first] = A[first], A[sred]\n",
    "    pivot = first\n",
    "    i = first + 1\n",
    "    j = last\n",
    "    while True:\n",
    "        while i <= last and A[i] <= A[pivot]: \n",
    "            i += 1\n",
    "        while j >= first and A[j] > A[pivot]: \n",
    "            j -= 1\n",
    "        if i >= j: \n",
    "            break\n",
    "        else:\n",
    "            A[i], A[j] = A[j], A[i]\n",
    "    A[j], A[pivot] = A[pivot], A[j]\n",
    "    return j"
   ]
  },
  {
   "cell_type": "code",
   "execution_count": 34,
   "metadata": {
    "collapsed": true
   },
   "outputs": [],
   "source": [
    "def mergesort(list):\n",
    "    if len(list) < 2:\n",
    "        return list\n",
    "    else:\n",
    "        middle = len(list) // 2\n",
    "        left = mergesort(list[:middle])\n",
    "        right = mergesort(list[middle:])\n",
    "    return merge(left, right)\n",
    "\n",
    "def merge(left, right):\n",
    "    result = [ ]\n",
    "    i ,j = 0, 0\n",
    "    while(i < len(left) and j < len(right)):\n",
    "        if (left[i] <= right[j]):\n",
    "            result.append(left[i])\n",
    "            i = i + 1\n",
    "        else:\n",
    "            result.append(right[j])\n",
    "            j = j + 1\n",
    "    result += left[i:]\n",
    "    result += right[j:]\n",
    "    return result"
   ]
  },
  {
   "cell_type": "code",
   "execution_count": 41,
   "metadata": {
    "collapsed": true
   },
   "outputs": [],
   "source": [
    "def recbinsearch(x, nums, low, high):\n",
    "    if low>high:\n",
    "        return -1\n",
    "    mid = (low + high) // 2;\n",
    "    items = nums[mid]\n",
    "    if items == x:\n",
    "        return mid\n",
    "    elif x < items:\n",
    "        return recbinsearch(x,nums,low,mid-1)\n",
    "    else:\n",
    "        return recbinsearch(x,nums,mid+1,high)"
   ]
  }
 ],
 "metadata": {
  "kernelspec": {
   "display_name": "Python 3",
   "language": "python",
   "name": "python3"
  },
  "language_info": {
   "codemirror_mode": {
    "name": "ipython",
    "version": 3
   },
   "file_extension": ".py",
   "mimetype": "text/x-python",
   "name": "python",
   "nbconvert_exporter": "python",
   "pygments_lexer": "ipython3",
   "version": "3.6.1"
  }
 },
 "nbformat": 4,
 "nbformat_minor": 2
}
