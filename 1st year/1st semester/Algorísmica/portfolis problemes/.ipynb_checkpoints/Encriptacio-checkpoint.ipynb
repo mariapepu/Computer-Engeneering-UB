{
 "cells": [
  {
   "cell_type": "markdown",
   "metadata": {},
   "source": [
    "<p style=\"text-align:right;font-size:0.9em\">\n",
    "Grau d'Enginyeria Informàtica. Algorísmica\n",
    "</p>"
   ]
  },
  {
   "cell_type": "markdown",
   "metadata": {},
   "source": [
    "<h1 style=\"padding:0.5em 0;font:Garamond;font-size:1-5em;color:#F90;background-color:#005\">\n",
    "Problema: Encriptació\n",
    "</h1>"
   ]
  },
  {
   "cell_type": "markdown",
   "metadata": {},
   "source": [
    "<p style=\"font-family:Arial;font-size:1em\">\n",
    "Encripta el missatge 19 amb la clau pública (51,3), usant l'esquema vist a classe.\n",
    "\n",
    "<img src=\"EsquemaEncriptacio.jpg\" alt=\"Esquema d'encriptació\" style=\"max-width:100%; width: 60%; max-width: none\">\n",
    "</p>"
   ]
  },
  {
   "cell_type": "code",
   "execution_count": 1,
   "metadata": {},
   "outputs": [],
   "source": [
    "def clauPrivada(): #obtenim clau privada\n",
    "    p=3\n",
    "    q=17\n",
    "    n=p*q\n",
    "    m=(p-1)*(q-1)\n",
    "    e=3\n",
    "    d=0\n",
    "    while (e*d)%m!=1:\n",
    "        d+=1\n",
    "    clauPrivada=(n,d)  \n",
    "    return clauPrivada\n",
    "\n",
    "def clauPublica(): #obtenim clau publica que usara bob para encriptar su mensaje\n",
    "    p=3\n",
    "    q=17\n",
    "    n=p*q\n",
    "    m=(p-1)*(q-1)\n",
    "    e=3\n",
    "    d=0\n",
    "    while (e*d)%m!=1:\n",
    "        d+=1\n",
    "    clauPublica=(n,e)\n",
    "    return clauPublica "
   ]
  },
  {
   "cell_type": "code",
   "execution_count": 8,
   "metadata": {},
   "outputs": [],
   "source": [
    "def encBob():\n",
    "    M=19 #aquest es el misatge de bob que envia encriptat amb la clau publica de alice\n",
    "    n, e= clauPublica()\n",
    "    C=(M**e)%n\n",
    "    mensaje= C,M\n",
    "    return mensaje #envia la clau seva a alice"
   ]
  },
  {
   "cell_type": "code",
   "execution_count": 9,
   "metadata": {},
   "outputs": [],
   "source": [
    "def DesencAlice(): #alice el desencripta\n",
    "    C,M=encBob()\n",
    "    n,d= clauPrivada()\n",
    "    R=(C**d)%n\n",
    "    return R # R es el que alice ha obringut, ha de ser igual que M (el misatge de bob)\n",
    "\n",
    "def coincide():\n",
    "    C,M=encBob()\n",
    "    R=DesencAlice()\n",
    "    print(M==R)"
   ]
  },
  {
   "cell_type": "code",
   "execution_count": 13,
   "metadata": {},
   "outputs": [
    {
     "data": {
      "text/plain": [
       "19"
      ]
     },
     "execution_count": 13,
     "metadata": {},
     "output_type": "execute_result"
    }
   ],
   "source": [
    "DesencAlice()"
   ]
  },
  {
   "cell_type": "code",
   "execution_count": 12,
   "metadata": {},
   "outputs": [
    {
     "name": "stdout",
     "output_type": "stream",
     "text": [
      "True\n"
     ]
    }
   ],
   "source": [
    "coincide()"
   ]
  },
  {
   "cell_type": "markdown",
   "metadata": {},
   "source": [
    "<p style=\"text-align:right;font-size:0.9em\">\n",
    "&copy;Jordi Vitrià i Mireia Ribera\n",
    "</p>"
   ]
  }
 ],
 "metadata": {
  "kernelspec": {
   "display_name": "Python 3",
   "language": "python",
   "name": "python3"
  },
  "language_info": {
   "codemirror_mode": {
    "name": "ipython",
    "version": 3
   },
   "file_extension": ".py",
   "mimetype": "text/x-python",
   "name": "python",
   "nbconvert_exporter": "python",
   "pygments_lexer": "ipython3",
   "version": "3.6.5"
  }
 },
 "nbformat": 4,
 "nbformat_minor": 2
}
