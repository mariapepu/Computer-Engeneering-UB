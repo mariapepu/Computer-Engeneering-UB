{
 "cells": [
  {
   "cell_type": "markdown",
   "metadata": {},
   "source": [
    "<p style=\"text-align:right;font-size:0.9em\">\n",
    "Grau d'Enginyeria Informàtica. Algorísmica. \n",
    "</p>"
   ]
  },
  {
   "cell_type": "markdown",
   "metadata": {},
   "source": [
    "<h1 style=\"padding:0.5em 0;font:Garamond;font-size:1-5em;color:#F90;background-color:#005\">\n",
    "Sessió de problemes Python-2: Estructures de control i llistes\n",
    "</h1>"
   ]
  },
  {
   "cell_type": "markdown",
   "metadata": {},
   "source": [
    "Les estructures de control ens permeten alterar la seqüència d'execució de les instruccions d'un programa.\n",
    "\n",
    "Sense elles els programes s'executarien sempre línia a línia.\n",
    "\n",
    "*Nota: podeu trobar més informació sobre les estructures de control a la documentació de Python: Compound statements: https://docs.python.org/3/reference/compound_stmts.html*"
   ]
  },
  {
   "cell_type": "markdown",
   "metadata": {},
   "source": [
    "## Condicionals\n",
    "\n",
    "Podem decidir quin codi executar a partir d’una comprovació amb if,elif i else. \n",
    "\n",
    "El programa primer avaluarà la condició de l’if, i si es compleix executarà el codi indentat a continuació. Si no es compleix passarà a avaluar la condició de l’elif (poden haver tants elifs com siguin necessaris), i així fins a que cap es compleixi, cas en el què s’executaran les instruccions de l’else."
   ]
  },
  {
   "cell_type": "code",
   "execution_count": 1,
   "metadata": {
    "collapsed": true
   },
   "outputs": [
    {
     "name": "stdout",
     "output_type": "stream",
     "text": [
      "a és major que 4\n"
     ]
    }
   ],
   "source": [
    "# Exemple\n",
    "a = 5\n",
    "if a > 4:\n",
    "    print(\"a és major que 4\")\n",
    "elif a > 2:\n",
    "    print(\"a és major que 2 i igual o menor que 4\")\n",
    "else:\n",
    "    print(\"a és igual o menor que 2\")\n",
    "\n",
    "# Prova el mateix exemple canviant el valor d'a per a = 3 i per a = 1"
   ]
  },
  {
   "cell_type": "markdown",
   "metadata": {},
   "source": [
    "## Exercici 1\n",
    "Escriu una funció que donats quatre nombres comprovi si la suma dels dos primers és més gran que la suma dels dos darrers. Hem de tenir en compte també el cas que siguin iguals!"
   ]
  },
  {
   "cell_type": "code",
   "execution_count": 2,
   "metadata": {},
   "outputs": [
    {
     "name": "stdout",
     "output_type": "stream",
     "text": [
      "La segona suma és més gran\n",
      "Les dos sumes són iguals\n",
      "La primera suma és més gran\n"
     ]
    }
   ],
   "source": [
    "# Fes aquí la teva funció\n",
    "\n",
    "# Comprova aquí el seu funcionament. Genera tres casos tal que:\n",
    "# 1. El nombre més gran sigui la suma dels dos primers\n",
    "# 2. El nombre més gran sigui la suma dels dos darrers\n",
    "# 3. Els dos primers i els dos darrers sumin el mateix\n",
    "\n",
    "def sumcompare(a,b,c,d):\n",
    "    if a + b == c + d:\n",
    "        print(\"Les dos sumes són iguals\")\n",
    "    elif a + b > c + d:\n",
    "        print(\"La primera suma és més gran\")\n",
    "    else:\n",
    "        print(\"La segona suma és més gran\")\n",
    "sumcompare(1,2,3,4)\n",
    "sumcompare(1,2,1,2)\n",
    "sumcompare(4,3,2,1)"
   ]
  },
  {
   "cell_type": "markdown",
   "metadata": {},
   "source": [
    "### Iteracions (o bucles o loops)\n",
    "\n",
    "Les iteracions són estructures que ens permeten repetir un conjunt d’instruccions amb diferents valors. La repetició ve determinada o bé pel compliment d'una condició o per un rang de valors a recorrer."
   ]
  },
  {
   "cell_type": "code",
   "execution_count": 3,
   "metadata": {
    "collapsed": true
   },
   "outputs": [
    {
     "name": "stdout",
     "output_type": "stream",
     "text": [
      "1\n",
      "2\n",
      "3\n",
      "4\n"
     ]
    }
   ],
   "source": [
    "# Exemple\n",
    "a = 1\n",
    "while (a < 5):\n",
    "    print(a)\n",
    "    a += 1   # Aquest operador és una mica especial, vol dir que a = a + 1\n",
    "\n",
    "# Prova el mateix exemple canviant el valor d'a per 3 i després per 7"
   ]
  },
  {
   "cell_type": "markdown",
   "metadata": {},
   "source": [
    "### Bucle while\n",
    "\n",
    "En el bucle while establim una condició de sortida. Mentre la condició sigui certa, les instruccions dins el bucle s'aniran repetint.\n",
    "\n",
    "Per tant és molt important verificar que la condició varia, ja sigui per l'entrada de l'usuari o perquè el programa incrementa la variable de la condició. Altrament podem crear bucles infinits que no acabaran mai.\n",
    "\n",
    "Aquest tipus de bucle s'usa quan en temps de programació no es coneix en quin moment cal acabar la repetició d'instruccions."
   ]
  },
  {
   "cell_type": "code",
   "execution_count": 5,
   "metadata": {},
   "outputs": [
    {
     "name": "stdout",
     "output_type": "stream",
     "text": [
      "El nombre introduit no és menor que 5\n",
      "molt bé,  4 és menor que 5\n"
     ]
    }
   ],
   "source": [
    "# Exemple\n",
    "a = int(input(\"Introdueix un nombre menor que 5: \"))\n",
    "while (a >= 5):\n",
    "    print(\"El nombre introduit no és menor que 5\")\n",
    "    a = int(input(\"Introdueix un nombre menor que 5: \"))\n",
    "print(\"molt bé, \", a, \"és menor que 5\")\n",
    "# prova diverses execucions del codi"
   ]
  },
  {
   "cell_type": "markdown",
   "metadata": {},
   "source": [
    "### Bucle for\n",
    "\n",
    "En el bucle for hi ha una variable que va prenent valors dins un rang. Aquesta variable pot ser numèrica però també pot ser de qualsevol altre tipus si el rang és una llista d'aquest tipus.\n",
    "\n",
    "Si s'usa una variable numèrica se sol definir el valor inicial, el valor final i l'increment a cada iteració. \n",
    "\n",
    "Aquest tipus de bucle s'usa quan en temps de programació es coneix exactament quan es començarà i quan s'acabarà el recorregut."
   ]
  },
  {
   "cell_type": "code",
   "execution_count": 6,
   "metadata": {},
   "outputs": [
    {
     "name": "stdout",
     "output_type": "stream",
     "text": [
      "0\n",
      "1\n",
      "2\n",
      "3\n",
      "4\n",
      "5\n",
      "6\n",
      "7\n",
      "8\n",
      "9\n"
     ]
    }
   ],
   "source": [
    "# Exemple\n",
    "for i in range(0, 10): # valor inicial:0 \n",
    "                       # valor final: 10 [quan hi arriba surt, no itera]\n",
    "                       # increment: no s'indica, per defecte és 1\n",
    "    print(i)"
   ]
  },
  {
   "cell_type": "markdown",
   "metadata": {},
   "source": [
    "Fixeu-vos que el 10 no es mostra, ja que quan i arriba a 10 surt del bucle."
   ]
  },
  {
   "cell_type": "code",
   "execution_count": 7,
   "metadata": {},
   "outputs": [
    {
     "name": "stdout",
     "output_type": "stream",
     "text": [
      "0\n",
      "2\n",
      "4\n",
      "6\n",
      "8\n"
     ]
    }
   ],
   "source": [
    "# Exemple\n",
    "for i in range(0, 10, 2):  # valor inicial:0 \n",
    "                           # valor final: 10 [quan hi arriba surt, no itera]\n",
    "                           # increment: 2\n",
    "    print(i)"
   ]
  },
  {
   "cell_type": "code",
   "execution_count": null,
   "metadata": {},
   "outputs": [],
   "source": [
    "# Exemple\n",
    "for i in range(10, 0, -5):  # valor inicial: 10 \n",
    "                            # valor final: 0 [quan hi arriba surt, no itera]\n",
    "                            # increment: -5\n",
    "    print(i)\n",
    "# Abans d'executar el codi, penseu quin resultat apareixerà"
   ]
  },
  {
   "cell_type": "code",
   "execution_count": 9,
   "metadata": {},
   "outputs": [
    {
     "name": "stdout",
     "output_type": "stream",
     "text": [
      "gat\n",
      "gos\n",
      "canari\n"
     ]
    }
   ],
   "source": [
    "# Exemple\n",
    "for animal in [\"gat\", \"gos\", \"canari\"]:  \n",
    "    print(animal)\n",
    "# En aquest cas la variable, \"animal\", va prenent els valors dins la llista"
   ]
  },
  {
   "cell_type": "markdown",
   "metadata": {},
   "source": [
    "### Inicialització i valors finals\n",
    "\n",
    "Quan usem bucles sovint hem de pensar a inicialitzar algunes variables abans d'entrar al bucle, i a tractar els casos finals després de sortir del bucle."
   ]
  },
  {
   "cell_type": "markdown",
   "metadata": {},
   "source": [
    "## Exercici 2: Converteix a una iteració ``while`` la següent iteració ``for``:\n",
    "    \n",
    "```python\n",
    "word = 'hola'\n",
    "for a in word:\n",
    "    print(a)\n",
    "```"
   ]
  },
  {
   "cell_type": "code",
   "execution_count": 1,
   "metadata": {},
   "outputs": [
    {
     "name": "stdout",
     "output_type": "stream",
     "text": [
      "h\n",
      "o\n",
      "l\n",
      "a\n"
     ]
    }
   ],
   "source": [
    "def bucle(word):\n",
    "    a=0\n",
    "    while a<len(word):\n",
    "        print(word[a])\n",
    "        a+=1\n",
    "bucle('hola')"
   ]
  },
  {
   "cell_type": "markdown",
   "metadata": {},
   "source": [
    "## Exercici 3\n",
    "\n",
    "Escriu una funció que converteixi dolars en euros per a 100, 200, 300... fins a 1000 dolars. Pots inspirar-te en la funció convert que et donem feta. Fes una versió amb for i una versió amb while."
   ]
  },
  {
   "cell_type": "code",
   "execution_count": 52,
   "metadata": {},
   "outputs": [
    {
     "name": "stdout",
     "output_type": "stream",
     "text": [
      "Amb 100 $, pots obtenir  86.0 €\n"
     ]
    }
   ],
   "source": [
    "def convert():\n",
    "    dolars = int(input(\"Quants dolars vols convertir? \"))\n",
    "    euros = dolars * 0.86\n",
    "    print(\"Amb\", dolars, \"$, pots obtenir \",euros,\"€\")\n",
    "    \n",
    "convert()"
   ]
  },
  {
   "cell_type": "code",
   "execution_count": 4,
   "metadata": {},
   "outputs": [
    {
     "name": "stdout",
     "output_type": "stream",
     "text": [
      "Amb 100 $ pots obtenir 86.0 €\n",
      "Amb 200 $ pots obtenir 172.0 €\n",
      "Amb 300 $ pots obtenir 258.0 €\n",
      "Amb 400 $ pots obtenir 344.0 €\n",
      "Amb 500 $ pots obtenir 430.0 €\n",
      "Amb 600 $ pots obtenir 516.0 €\n",
      "Amb 700 $ pots obtenir 602.0 €\n",
      "Amb 800 $ pots obtenir 688.0 €\n",
      "Amb 900 $ pots obtenir 774.0 €\n",
      "Amb 1000 $ pots obtenir 860.0 €\n"
     ]
    }
   ],
   "source": [
    "def convertw():\n",
    "    dolars = 100\n",
    "    \n",
    "    while (dolars<=1000):\n",
    "        euros = dolars * 0.86\n",
    "        print (\"Amb\",dolars,\"$ pots obtenir\",euros,\"€\")\n",
    "        dolars+=100\n",
    "    \n",
    "convertw()"
   ]
  },
  {
   "cell_type": "code",
   "execution_count": 5,
   "metadata": {},
   "outputs": [
    {
     "name": "stdout",
     "output_type": "stream",
     "text": [
      "Amb 100 $ pots obtenir 86.0 €\n",
      "Amb 200 $ pots obtenir 172.0 €\n",
      "Amb 300 $ pots obtenir 258.0 €\n",
      "Amb 400 $ pots obtenir 344.0 €\n",
      "Amb 500 $ pots obtenir 430.0 €\n",
      "Amb 600 $ pots obtenir 516.0 €\n",
      "Amb 700 $ pots obtenir 602.0 €\n",
      "Amb 800 $ pots obtenir 688.0 €\n",
      "Amb 900 $ pots obtenir 774.0 €\n",
      "Amb 1000 $ pots obtenir 860.0 €\n"
     ]
    }
   ],
   "source": [
    "def convertf():\n",
    "    for dolars in range (100,1001,100):\n",
    "        euros = dolars * 0.86\n",
    "        print(\"Amb\",dolars,\"$ pots obtenir\",euros,\"€\")\n",
    "        \n",
    "convertf()"
   ]
  },
  {
   "cell_type": "markdown",
   "metadata": {},
   "source": [
    "Quina estructura t'ha semblat més adient per aquest problema (for o while)? Perquè? \n",
    "Resposta: El while és mes adient quan no sabem el nombre de vegades que s'haurà de repetir."
   ]
  },
  {
   "cell_type": "markdown",
   "metadata": {},
   "source": [
    "## Exercici 4\n",
    "\n",
    "Fes una funció, ``suma``, que sumi tots els nombres naturals menors que 10000  múltiples de 4.\n",
    "\n",
    "En aquesta funció has de fer servir una variable de tipus *acumulador* que va incrementant-se a cada iteració. Aquest tipus de variables és comú en els bucles."
   ]
  },
  {
   "cell_type": "code",
   "execution_count": 6,
   "metadata": {},
   "outputs": [
    {
     "name": "stdout",
     "output_type": "stream",
     "text": [
      "2500\n"
     ]
    }
   ],
   "source": [
    "def suma():\n",
    "    x = 0\n",
    "    i = 4\n",
    "    while i <= 10000:\n",
    "        x = x+1\n",
    "        i+=4\n",
    "    print (x)\n",
    "suma()"
   ]
  },
  {
   "cell_type": "code",
   "execution_count": 7,
   "metadata": {},
   "outputs": [
    {
     "name": "stdout",
     "output_type": "stream",
     "text": [
      "2500\n"
     ]
    }
   ],
   "source": [
    "def suma():\n",
    "    x = 0\n",
    "    for i in range (4,10001,4):\n",
    "        x = x+1\n",
    "    print (x)\n",
    "suma()"
   ]
  },
  {
   "cell_type": "markdown",
   "metadata": {},
   "source": [
    "### Col.leccions\n",
    "\n",
    "Les col.leccions són estructures de dades que guarden conjunts de valors. En aquesta assignatura només es veuen les llistes, les tuples i els diccionaris. Però en aquest notebook només veurem les llistes. Les llistes són conjunts ordenats d'elements. Una llista pot contenir elements de diferents tipus (no és homogènia) i és mutable. Una llista pot indicar un rang de valors per una variable.\n",
    "\n",
    "*Nota: Pots trobar més informació sobre col·leccions a la documentació de Python a:*\n",
    "\n",
    "- Tutorial 5. Data structures https://docs.python.org/3/tutorial/datastructures.html\n",
    "- Sequence types: list, tuple, range: https://docs.python.org/3/library/stdtypes.html?#sequence-types-list-tuple-range\n",
    "- Time complexity: https://wiki.python.org/moin/TimeComplexity"
   ]
  },
  {
   "cell_type": "code",
   "execution_count": 63,
   "metadata": {},
   "outputs": [
    {
     "name": "stdout",
     "output_type": "stream",
     "text": [
      "['gat', 8, True, 0]\n"
     ]
    }
   ],
   "source": [
    "# Exemple\n",
    "llista = [\"gat\", 8, True, 0b000]\n",
    "print(llista)"
   ]
  },
  {
   "cell_type": "markdown",
   "metadata": {},
   "source": [
    "### Operacions amb la col.lecció list"
   ]
  },
  {
   "cell_type": "code",
   "execution_count": 22,
   "metadata": {},
   "outputs": [
    {
     "name": "stdout",
     "output_type": "stream",
     "text": [
      "[]\n",
      "['cotxe', 4, True]\n",
      "[0, 0, 0, 0, 0, 0, 0, 0, 0, 0]\n",
      "[0, 4, 8, 12, 16, 20, 24, 28, 32, 36, 40]\n",
      "['cotxe', 4, True]\n"
     ]
    }
   ],
   "source": [
    "# Exemple, inicialització de la col.lecció list\n",
    "llista1 = []\n",
    "llista2 = [\"cotxe\", 4, True]\n",
    "llista3 = [0] * 10\n",
    "llista4 = [i*2 for i in range(21) if i%2==0]\n",
    "llista5 = llista2\n",
    "print(llista1)\n",
    "print(llista2)\n",
    "print(llista3)\n",
    "print(llista4)\n",
    "print(llista5)"
   ]
  },
  {
   "cell_type": "code",
   "execution_count": 23,
   "metadata": {},
   "outputs": [
    {
     "name": "stdout",
     "output_type": "stream",
     "text": [
      "gat\n",
      "True\n",
      "2\n"
     ]
    }
   ],
   "source": [
    "# Exemple, consultar valors a la col.lecció list\n",
    "llista = [\"gat\", 8, True, 0b010]\n",
    "print(llista[0])\n",
    "print(llista[2])\n",
    "print(llista[-1])  # començo pel darrera"
   ]
  },
  {
   "cell_type": "code",
   "execution_count": 24,
   "metadata": {},
   "outputs": [
    {
     "name": "stdout",
     "output_type": "stream",
     "text": [
      "['gat', 8, True, 0]\n",
      "['gat', 8, True, 0, 'Un altre valor']\n",
      "['gat', 'gos', 8, True, 0, 'Un altre valor']\n"
     ]
    }
   ],
   "source": [
    "# Exemple, afegir elements a la col.lecció list\n",
    "llista = [\"gat\", 8, True, 0b000]\n",
    "print(llista)\n",
    "llista.append(\"Un altre valor\")\n",
    "print(llista)\n",
    "llista.insert(1,\"gos\")\n",
    "print(llista)"
   ]
  },
  {
   "cell_type": "markdown",
   "metadata": {},
   "source": [
    "Com que la llista serà la col.lecció més usada aquest any veurem també l'operació de concatenació i l'slicing, i altres operacions auxiliars que ens resultaran molt útils per a molts algorismes"
   ]
  },
  {
   "cell_type": "markdown",
   "metadata": {},
   "source": [
    "### Còpia de llistes\n",
    "\n",
    "Podem copiar una llista per referència o copiar-ne el contingut.\n",
    "\n",
    "- list1 = []\n",
    "- list2 = list1           # list 2 sempre valdrà el mateix que list1, és una còpia per referència\n",
    "- list3 = list1[:]        # list 3 ha copiat els continguts de list1, si variem list1, list3 no es veurà afectada\n",
    "\n",
    "Observa el següent codi i digues perquè list2 és diferent de list3"
   ]
  },
  {
   "cell_type": "code",
   "execution_count": 2,
   "metadata": {},
   "outputs": [
    {
     "name": "stdout",
     "output_type": "stream",
     "text": [
      "1.  [0, 1, 2, 3, 4, 5, 6, 7, 8, 9]\n",
      "2.  [0, 1, 2, 3, 4, 5, 6, 7, 8, 9]\n",
      "3.  []\n"
     ]
    }
   ],
   "source": [
    "list1 = []\n",
    "list2 = list1\n",
    "list3 = list1[:] # Usant [:] només copiem el contingut. Per tant si modifiquem la list3, la list1\n",
    "                 # no es veurà afectada.\n",
    "\n",
    "for i in range(10):\n",
    "    list1.append(i)\n",
    "    \n",
    "print(\"1. \",list1)\n",
    "print(\"2. \",list2)\n",
    "print(\"3. \",list3)"
   ]
  },
  {
   "cell_type": "markdown",
   "metadata": {},
   "source": [
    "#### Concatenació de llistes"
   ]
  },
  {
   "cell_type": "code",
   "execution_count": 25,
   "metadata": {},
   "outputs": [
    {
     "name": "stdout",
     "output_type": "stream",
     "text": [
      "['a', 'b', 'c', 'x', 'y', 'z']\n",
      "['x', 'y', 'z', 'a', 'b', 'c']\n"
     ]
    }
   ],
   "source": [
    "#puc ajuntar dues llistes amb l'operador +\n",
    "llista1 = [\"a\", \"b\", \"c\"]\n",
    "llista2 = [\"x\", \"y\", \"z\"]\n",
    "llista3 = llista1 + llista2\n",
    "print(llista3)\n",
    "llista4 = llista2 + llista1\n",
    "print(llista4)"
   ]
  },
  {
   "cell_type": "markdown",
   "metadata": {},
   "source": [
    "#### Slicing: o partir la llista en trossos"
   ]
  },
  {
   "cell_type": "code",
   "execution_count": 26,
   "metadata": {},
   "outputs": [
    {
     "name": "stdout",
     "output_type": "stream",
     "text": [
      "['a', 'b', 'c']\n",
      "['c', 'd']\n",
      "['a', 'c', 'e']\n"
     ]
    }
   ],
   "source": [
    "# puc triar una part de la llista indicant el rang de valors que vull\n",
    "llista = ['a', 'b', 'c', 'd', 'e', 'f']\n",
    "print(llista[0:3])  #agafo la subllista entre els índexs 1 i 2(al 3 no hi arribo)\n",
    "print(llista[2:4])  #entre els índexs 2 i 3\n",
    "print(llista[0:5:2]) #entre els índexs 0 i 4 saltant de 2 en 2\n",
    "# el patró general és [start:end:step]"
   ]
  },
  {
   "cell_type": "code",
   "execution_count": 27,
   "metadata": {},
   "outputs": [
    {
     "name": "stdout",
     "output_type": "stream",
     "text": [
      "['f', 'e', 'd', 'c', 'b', 'a']\n"
     ]
    }
   ],
   "source": [
    "# amb un valor negatiu de l'step podem invertir la llista\n",
    "llista = ['a', 'b', 'c', 'd', 'e', 'f']\n",
    "print(llista[::-1])"
   ]
  },
  {
   "cell_type": "markdown",
   "metadata": {},
   "source": [
    "#### Altres operacions auxiliars a les llistes"
   ]
  },
  {
   "cell_type": "code",
   "execution_count": 43,
   "metadata": {},
   "outputs": [
    {
     "name": "stdout",
     "output_type": "stream",
     "text": [
      "['b', 'c', 'x', 'c', 'r', 'a', 'z']\n"
     ]
    }
   ],
   "source": [
    "llista = ['b', 'c', 'x', 'c', 'r', 'a', 'z']\n",
    "print(llista)"
   ]
  },
  {
   "cell_type": "code",
   "execution_count": 44,
   "metadata": {},
   "outputs": [
    {
     "name": "stdout",
     "output_type": "stream",
     "text": [
      "['a', 'b', 'c', 'c', 'r', 'x', 'z']\n"
     ]
    }
   ],
   "source": [
    "llista.sort()      # ordena la llista\n",
    "print(llista)"
   ]
  },
  {
   "cell_type": "code",
   "execution_count": 45,
   "metadata": {},
   "outputs": [
    {
     "name": "stdout",
     "output_type": "stream",
     "text": [
      "['z', 'x', 'r', 'c', 'c', 'b', 'a']\n"
     ]
    }
   ],
   "source": [
    "llista.reverse()   # inverteix la llista\n",
    "print(llista)"
   ]
  },
  {
   "cell_type": "code",
   "execution_count": 46,
   "metadata": {},
   "outputs": [
    {
     "data": {
      "text/plain": [
       "7"
      ]
     },
     "execution_count": 46,
     "metadata": {},
     "output_type": "execute_result"
    }
   ],
   "source": [
    "len(llista)        # compta quants elements té la llista"
   ]
  },
  {
   "cell_type": "code",
   "execution_count": 47,
   "metadata": {},
   "outputs": [
    {
     "data": {
      "text/plain": [
       "2"
      ]
     },
     "execution_count": 47,
     "metadata": {},
     "output_type": "execute_result"
    }
   ],
   "source": [
    "llista.count('c')  # compta quantes vegades apareix l'element indicat"
   ]
  },
  {
   "cell_type": "code",
   "execution_count": 48,
   "metadata": {},
   "outputs": [
    {
     "data": {
      "text/plain": [
       "True"
      ]
     },
     "execution_count": 48,
     "metadata": {},
     "output_type": "execute_result"
    }
   ],
   "source": [
    "'b' in llista      # verifica si l'element és a la llista"
   ]
  },
  {
   "cell_type": "markdown",
   "metadata": {},
   "source": [
    "**Enumerate**: amb Enumerate podem recorrer una col.lecció i a més obtenir-ne els índexs"
   ]
  },
  {
   "cell_type": "code",
   "execution_count": 2,
   "metadata": {},
   "outputs": [
    {
     "name": "stdout",
     "output_type": "stream",
     "text": [
      "index  0  lletra  h\n",
      "index  1  lletra  o\n",
      "index  2  lletra  l\n",
      "index  3  lletra  a\n"
     ]
    }
   ],
   "source": [
    "# Exemple\n",
    "\n",
    "word=\"hola\"\n",
    "for i,a in enumerate(word):\n",
    "    print(\"index \",i,\" lletra \",a)"
   ]
  },
  {
   "cell_type": "markdown",
   "metadata": {},
   "source": [
    "## Exercici 5: El 8 és primer o és darrer?\n",
    "\n",
    "Donada una llista de nombres enters, retornar ``True`` si el nombre 8 és el primer element de la llista o és el darrer. Retornar ``False`` altrament.\n",
    "\n",
    "Posa  4 exemples de llistes, dues que retornin ``True`` i dues que retornin ``False``."
   ]
  },
  {
   "cell_type": "code",
   "execution_count": 10,
   "metadata": {},
   "outputs": [
    {
     "name": "stdout",
     "output_type": "stream",
     "text": [
      "True\n",
      "False\n",
      "True\n",
      "False\n"
     ]
    }
   ],
   "source": [
    "def primerDarrer8(llista):\n",
    "    \"\"\"\n",
    "    Aquesta funció, donada una llista d’enters,\n",
    "    retorna True si 8 és el primer o el darrer element de la llista, \n",
    "    retorna False altrament\n",
    "    :param llista una llista d'enters\n",
    "    :return: True si 8 és a l'inici o final, False altrament\n",
    "    \"\"\"\n",
    "    return 8 == llista[0] or 8 == llista[-1]\n",
    "print(primerDarrer8([8,7]))\n",
    "print(primerDarrer8([1,24,5]))\n",
    "print(primerDarrer8([1,2,8]))\n",
    "print(primerDarrer8([\"hola\",\"no\"]))"
   ]
  },
  {
   "cell_type": "markdown",
   "metadata": {},
   "source": [
    "## Exercici 6: A mig camí\n",
    "\n",
    "Donades dues llistes d'enters, cadascuna de longitud 3, retorna una nova llista que contingui els elements del mig de cada llista.\n",
    "\n",
    "Per exemple:\n",
    "- [4, 5, 6], [7, 8, 9] => [5, 8]\n",
    "- [6, 6, 6], [1, 2, 3] => [6, 2]"
   ]
  },
  {
   "cell_type": "code",
   "execution_count": 11,
   "metadata": {},
   "outputs": [
    {
     "data": {
      "text/plain": [
       "[5, 8]"
      ]
     },
     "execution_count": 11,
     "metadata": {},
     "output_type": "execute_result"
    }
   ],
   "source": [
    "def aMigCami(llista1,llista2):\n",
    "    \"\"\"\n",
    "    Aquesta funció, donades dues llistes d'enters,\n",
    "    retorna una nova llista formada pels seus dos elements del mig\n",
    "    :param llista1 una llista d'enters\n",
    "    :param llista2 una llista d'enters\n",
    "    :return: una llista formada pels dos elements del mig de llista1 i llista2\n",
    "    \"\"\"\n",
    "    llistaresultant=[]\n",
    "    llistaresultant.append(llista1[1])\n",
    "    llistaresultant.append(llista2[1])\n",
    "    return llistaresultant\n",
    "llista1=[4,5,6]\n",
    "llista2=[7,8,9]\n",
    "aMigCami(llista1,llista2)"
   ]
  },
  {
   "cell_type": "markdown",
   "metadata": {},
   "source": [
    "### List comprehensions\n",
    "\n",
    "Per crear llistes de manera molt eficient, podem usar les list comprehensions. "
   ]
  },
  {
   "cell_type": "code",
   "execution_count": 54,
   "metadata": {},
   "outputs": [
    {
     "name": "stdout",
     "output_type": "stream",
     "text": [
      "[0, 1, 4, 9, 16, 25, 36, 49, 64, 81]\n",
      "[0, 1, 4, 9, 16, 25, 36, 49, 64, 81]\n"
     ]
    }
   ],
   "source": [
    "# Exemple de creació de la llista dels quadrats de 1 a 10 a la manera clàssica\n",
    "quadrats = []\n",
    "for x in range(10):\n",
    "    quadrats.append(x**2)\n",
    "print(quadrats)\n",
    "\n",
    "# Exemple de creació de la llista de quadrats de 1 a 10 amb list comprehensions\n",
    "quadrats2 = [x**2 for x in range(10)] # primer indiquem l'expressió que anirà omplint la llista, després el rang de valors \n",
    "                                    # i podem posteriorment indicar altres rangs o condicions\n",
    "print(quadrats2)\n",
    "\n",
    "#Tot i que la complexitat és la mateixa, la segona instrucció s'executa més ràpidament i amb menys recursos que la primera"
   ]
  },
  {
   "cell_type": "markdown",
   "metadata": {},
   "source": [
    "## Exercici 7 (Resolt): Tradueix a list comprehension la següent estructura:"
   ]
  },
  {
   "cell_type": "code",
   "execution_count": 56,
   "metadata": {},
   "outputs": [
    {
     "name": "stdout",
     "output_type": "stream",
     "text": [
      "[(1, 3), (1, 4), (2, 3), (2, 1), (2, 4), (3, 1), (3, 4)]\n"
     ]
    }
   ],
   "source": [
    "combinacions=[]\n",
    "for x in [1,2,3]:\n",
    "    for y in [3,1,4]:\n",
    "        if x != y:\n",
    "            combinacions.append((x, y))\n",
    "print(combinacions)"
   ]
  },
  {
   "cell_type": "code",
   "execution_count": 57,
   "metadata": {},
   "outputs": [
    {
     "name": "stdout",
     "output_type": "stream",
     "text": [
      "[(1, 3), (1, 4), (2, 3), (2, 1), (2, 4), (3, 1), (3, 4)]\n"
     ]
    }
   ],
   "source": [
    "# combinacions2 = [ expressió que ha d'omplir la llista for més extern, for segon més extern, if]\n",
    "\n",
    "combinacions2 = [(x,y) for x in [1,2,3] for y in [3,1,4] if x!=y]\n",
    "print(combinacions2)"
   ]
  },
  {
   "cell_type": "markdown",
   "metadata": {},
   "source": [
    "Les comprehensions de les llistes són una eina per transformar una llista (qualsevol iterable en realitat) en una altra llista. Durant aquesta transformació, els elements es poden incloure de manera condicional a la nova llista i cada element es pot transformar segons sigui necessari.\n",
    "\n",
    "Cada comprehension es pot reescriure com un bucle sobre la lista, però no tot bucle es pot reescriure com a list comprehension.\n",
    "\n",
    "Començant pel cas més senzill, una list comprehension com aquesta:\n",
    "\n",
    "```python\n",
    "a = [func(element) for element in sequence]\n",
    "```\n",
    "\n",
    "és equivalent a:\n",
    "\n",
    "```python\n",
    "a = []\n",
    "for element in sequence:\n",
    "    a.append(func(element))\n",
    "```\n",
    "\n",
    "De la mateixa manera que podeu afegir `for` addicionals als bucles i condicions `if` dins dels bucles, també podeu afegir-les a la comprensió.\n",
    "\n",
    "La clau a entendre és que l'ordre d'esquerra a dreta en la comprehennsion assigna el mateix ordre als bucles explícits:\n",
    "\n",
    "```python\n",
    "a = [func(element) for subseq in seq2d for element in subseq if pred(element)]\n",
    "\n",
    "a = []\n",
    "for subseq in seq2d:\n",
    "    for element in subseq:\n",
    "        if pred(element):\n",
    "            a.append(func(element))\n",
    "```\n",
    "\n",
    "També podem usar les list comprehensions per a fer combinacions:"
   ]
  },
  {
   "cell_type": "code",
   "execution_count": 64,
   "metadata": {},
   "outputs": [
    {
     "data": {
      "text/plain": [
       "['ADG',\n",
       " 'ADH',\n",
       " 'ADI',\n",
       " 'AEG',\n",
       " 'AEH',\n",
       " 'AEI',\n",
       " 'AFG',\n",
       " 'AFH',\n",
       " 'AFI',\n",
       " 'BDG',\n",
       " 'BDH',\n",
       " 'BDI',\n",
       " 'BEG',\n",
       " 'BEH',\n",
       " 'BEI',\n",
       " 'BFG',\n",
       " 'BFH',\n",
       " 'BFI',\n",
       " 'CDG',\n",
       " 'CDH',\n",
       " 'CDI',\n",
       " 'CEG',\n",
       " 'CEH',\n",
       " 'CEI',\n",
       " 'CFG',\n",
       " 'CFH',\n",
       " 'CFI']"
      ]
     },
     "execution_count": 64,
     "metadata": {},
     "output_type": "execute_result"
    }
   ],
   "source": [
    "[a+b+c for a in ['A','B','C'] for b in ['D','E','F'] for c in ['G','H','I']]"
   ]
  },
  {
   "cell_type": "markdown",
   "metadata": {},
   "source": [
    "## Exercici 8: Escriu en forma de list comprehension les següents llistes:\n",
    "\n",
    "1. Fer una llista amb tots els números fins a 10\n",
    "2. Fer una llista amb tots ls números fins a 10 múltiples de 2\n",
    "3. Fer una llista amb totes les parelles (i,j) amb i de 0 a 2 i amb j de 0 a 3\n",
    "4. Fer una llista amb tots els números divisibles per 3 menors a 20\n",
    "5. Fer una llista amb tots els números __anteriors__ als divisibles per 3 menors a 20\n",
    "6. Fer una llista amb totes les parelles de numeros positius menors a 20 que sumin 18\n",
    "7. Fer una llista amb els múltiples de 3 i 5 menors que 1000. Després calcula la suma de tots els elements de la llista\n",
    "8. Fer una llista amb els valors de 100 a 1000, múltiples de 10, en ordre invers. És a dir 1000, 990, 980..."
   ]
  },
  {
   "cell_type": "code",
   "execution_count": 12,
   "metadata": {},
   "outputs": [
    {
     "name": "stdout",
     "output_type": "stream",
     "text": [
      "[0, 1, 2, 3, 4, 5, 6, 7, 8, 9]\n",
      "[2, 4, 6, 8, 10]\n",
      "[(0, 0), (0, 1), (0, 2), (0, 3), (1, 0), (1, 1), (1, 2), (1, 3), (2, 0), (2, 1), (2, 2), (2, 3)]\n",
      "[3, 6, 9, 12, 15, 18]\n",
      "[2, 5, 8, 11, 14, 17]\n",
      "[(1, 17), (2, 16), (3, 15), (4, 14), (5, 13), (6, 12), (7, 11), (8, 10), (9, 9), (10, 8), (11, 7), (12, 6), (13, 5), (14, 4), (15, 3), (16, 2), (17, 1)]\n",
      "233168\n",
      "[1000, 990, 980, 970, 960, 950, 940, 930, 920, 910, 900, 890, 880, 870, 860, 850, 840, 830, 820, 810, 800, 790, 780, 770, 760, 750, 740, 730, 720, 710, 700, 690, 680, 670, 660, 650, 640, 630, 620, 610, 600, 590, 580, 570, 560, 550, 540, 530, 520, 510, 500, 490, 480, 470, 460, 450, 440, 430, 420, 410, 400, 390, 380, 370, 360, 350, 340, 330, 320, 310, 300, 290, 280, 270, 260, 250, 240, 230, 220, 210, 200, 190, 180, 170, 160, 150, 140, 130, 120, 110, 100]\n"
     ]
    }
   ],
   "source": [
    "llista1= [x-1 for x in range (1,11)]\n",
    "print(llista1)\n",
    "\n",
    "llista2= [x for x in range (1,11) if x%2 == 0]\n",
    "print(llista2)\n",
    "\n",
    "llista3= [(i,j) for i in range(0,3) for j in range(0,4)]\n",
    "print(llista3)\n",
    "\n",
    "llista4= [x for x in range (3,20,3)]\n",
    "print(llista4)\n",
    "\n",
    "llista5= [x-1 for x in range (1,20) if x%3 == 0]\n",
    "print(llista5)\n",
    "\n",
    "llista6= [(x,y) for x in range(1,20) for y in range(1,20) if x+y == 18]\n",
    "print(llista6)\n",
    "\n",
    "llista7= [x for x in range (1,1000) if x%3==0 or x%5==0]\n",
    "print(sum(llista7))\n",
    "\n",
    "llista8=llista = [x for x in range(100,1001) if x%10 == 0]\n",
    "llista8.reverse()\n",
    "print(llista8)"
   ]
  },
  {
   "cell_type": "markdown",
   "metadata": {},
   "source": [
    "<p style=\"text-align:right;font-size:0.9em\">\n",
    "&copy;Jordi Vitrià i Mireia Ribera\n",
    "</p>"
   ]
  }
 ],
 "metadata": {
  "kernelspec": {
   "display_name": "Python 3",
   "language": "python",
   "name": "python3"
  },
  "language_info": {
   "codemirror_mode": {
    "name": "ipython",
    "version": 3
   },
   "file_extension": ".py",
   "mimetype": "text/x-python",
   "name": "python",
   "nbconvert_exporter": "python",
   "pygments_lexer": "ipython3",
   "version": "3.6.5"
  }
 },
 "nbformat": 4,
 "nbformat_minor": 2
}
