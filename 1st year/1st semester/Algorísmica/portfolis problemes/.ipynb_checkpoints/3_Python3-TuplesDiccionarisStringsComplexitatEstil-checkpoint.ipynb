{
 "cells": [
  {
   "cell_type": "markdown",
   "metadata": {},
   "source": [
    "<p style=\"text-align:right;font-size:0.9em\">\n",
    "Grau d'Enginyeria Informàtica. Algorísmica. \n",
    "</p>"
   ]
  },
  {
   "cell_type": "markdown",
   "metadata": {},
   "source": [
    "<h1 style=\"padding:0.5em 0;font:Garamond;font-size:1-5em;color:#F90;background-color:#005\">\n",
    "Sessió de problemes Python 3: Tuples, Diccionaris, Cost i complexitat, Strings, Estil de programació\n",
    "</h1>"
   ]
  },
  {
   "cell_type": "markdown",
   "metadata": {},
   "source": [
    "***Podeu trobar més informació sobre col.leccions a:***\n",
    "- Tutorial 5. Data structures https://docs.python.org/3/tutorial/datastructures.html\n",
    "- Sequence types: list, tuple, range: https://docs.python.org/3/library/stdtypes.html?#sequence-types-list-tuple-range\n",
    "- Mapping types - dict : https://docs.python.org/3/library/stdtypes.html?#mapping-types-dict\n",
    "- Time complexity: https://wiki.python.org/moin/TimeComplexity"
   ]
  },
  {
   "cell_type": "markdown",
   "metadata": {},
   "source": [
    "Les col.leccions són estructures de dades que guarden conjunts de valors. En aquesta assignatura només es veuen les llistes, les tuples i els diccionaris."
   ]
  },
  {
   "cell_type": "code",
   "execution_count": 1,
   "metadata": {},
   "outputs": [
    {
     "name": "stdout",
     "output_type": "stream",
     "text": [
      "['gat', 8, True, 0]\n",
      "adeu\n"
     ]
    }
   ],
   "source": [
    "# Exemple\n",
    "llista = [\"gat\", 8, True, 0b000]\n",
    "print(llista)\n",
    "diccionari = {1:\"hola\", 2:\"adeu\"}\n",
    "print(diccionari[2])"
   ]
  },
  {
   "cell_type": "markdown",
   "metadata": {},
   "source": [
    "Les tuples són molt semblants a les llistes però són homogènees i immutables. Aquestes dues característiques fan que el seu processament sigui molt més eficient i en molts casos redefinirem una llista com a tupla per guanyar eficiència. \n",
    "\n",
    "Els diccionaris són parelles de clau-valor que permeten recuperar un valor a partir de la seva clau de forma molt eficient. El diccionari, a l'igual que la llista es pot recorrer seqüencialment, però no té un ordre prefixat."
   ]
  },
  {
   "cell_type": "markdown",
   "metadata": {},
   "source": [
    "<h2>Operacions amb col·leccions</h2>\n",
    "\n",
    "Cada col.lecció té una manera d'inicialitzar-la, de consultar valors, d'afegir-n'hi, d'esborrar-ne o de recorrer-la."
   ]
  },
  {
   "cell_type": "markdown",
   "metadata": {},
   "source": [
    "<h3>Col.lecció tupla</h3>"
   ]
  },
  {
   "cell_type": "code",
   "execution_count": 3,
   "metadata": {},
   "outputs": [
    {
     "name": "stdout",
     "output_type": "stream",
     "text": [
      "* Creació\n",
      "('a', 'b', 'c', 'd') ('a', 'b', 'c', 'd') ('a',)\n",
      "* Consulta\n",
      "a\n",
      "('b', 'c')\n",
      "* Conversió de llista a tupla\n",
      "[1, 2, 3]\n",
      "(1, 2, 3)\n",
      "* Conversió de tupla a llista\n",
      "(1, 2, 3)\n",
      "[1, 2, 3]\n"
     ]
    }
   ],
   "source": [
    "# Creació\n",
    "tupla1= 'a', 'b', 'c', 'd'\n",
    "tupla2= ('a', 'b', 'c', 'd')\n",
    "tupla3=('a', )\n",
    "print(\"* Creació\")\n",
    "print(tupla1,tupla2,tupla3)\n",
    "# Consulta\n",
    "print(\"* Consulta\")\n",
    "print(tupla1[0])\n",
    "print(tupla2[1:3])\n",
    "# La resta d'operacions són també similars a les llistes\n",
    "print(\"* Conversió de llista a tupla\")\n",
    "# per convertir una llista en una tupla usem \"tuple\"\n",
    "llista=[1,2,3]\n",
    "print(llista)\n",
    "t = tuple(llista)\n",
    "print(t)\n",
    "print(\"* Conversió de tupla a llista\")\n",
    "# per convertir una tupla en una llista usem \"list\"\n",
    "tupla=(1,2,3)\n",
    "print(tupla)\n",
    "l = list(tupla)\n",
    "print(l)"
   ]
  },
  {
   "cell_type": "markdown",
   "metadata": {},
   "source": [
    "## Exercici 1: \n",
    "- Fes les operacions necessàries per crear les tuples (2,4), (3,5) i després convertir-les a llistes.\n",
    "- Fes un programa que vagi demanant nombres fins a que l'usuari entri 99 i després els mostri com una tupla."
   ]
  },
  {
   "cell_type": "markdown",
   "metadata": {},
   "source": [
    "<h3>Col.lecció diccionari</h3>"
   ]
  },
  {
   "cell_type": "code",
   "execution_count": 6,
   "metadata": {},
   "outputs": [
    {
     "name": "stdout",
     "output_type": "stream",
     "text": [
      "{}\n",
      "{'clau1': 1, 3: 4}\n"
     ]
    }
   ],
   "source": [
    "# Exemple, inicialització de la col.lecció diccionari\n",
    "dicc1={}\n",
    "dicc2={\"clau1\":1,3:4}\n",
    "\n",
    "print(dicc1)\n",
    "print(dicc2)"
   ]
  },
  {
   "cell_type": "code",
   "execution_count": 7,
   "metadata": {},
   "outputs": [
    {
     "name": "stdout",
     "output_type": "stream",
     "text": [
      "1\n",
      "3\n",
      "dict_items([('clau1', 1), ('clau2', 2), ('clau3', 3)])\n",
      "dict_keys(['clau1', 'clau2', 'clau3'])\n",
      "dict_values([1, 2, 3])\n",
      "True\n"
     ]
    }
   ],
   "source": [
    "# Exemple, consultar valors a la col.lecció diccionari\n",
    "diccionari={\"clau1\":1,\"clau2\":2,\"clau3\":3}\n",
    "print(diccionari[\"clau1\"])\n",
    "print(diccionari[\"clau3\"])\n",
    "print(diccionari.items())     # totes les parelles clau-valor\n",
    "print(diccionari.keys())      # totes les claus\n",
    "print(diccionari.values())    # tots els valors\n",
    "print(\"clau2\" in diccionari)  #verifica si clau2 és una clau"
   ]
  },
  {
   "cell_type": "code",
   "execution_count": 8,
   "metadata": {},
   "outputs": [
    {
     "name": "stdout",
     "output_type": "stream",
     "text": [
      "{'clau1': 1, 'clau2': 2, 'clau3': 3}\n"
     ]
    }
   ],
   "source": [
    "# Exemple, afegir, modificar i esborrar elements a la col.lecció diccionari\n",
    "diccionari={\"clau1\":1,\"clau2\":2,\"clau3\":3}\n",
    "print(diccionari)"
   ]
  },
  {
   "cell_type": "code",
   "execution_count": 9,
   "metadata": {},
   "outputs": [
    {
     "name": "stdout",
     "output_type": "stream",
     "text": [
      "{'clau1': 1, 'clau2': 2, 'clau3': 3, 'clau_nova': 9}\n"
     ]
    }
   ],
   "source": [
    "diccionari[\"clau_nova\"] = 9  # afegim una parella clau-valor\n",
    "print(diccionari)"
   ]
  },
  {
   "cell_type": "code",
   "execution_count": 10,
   "metadata": {},
   "outputs": [
    {
     "name": "stdout",
     "output_type": "stream",
     "text": [
      "{'clau1': 1, 'clau2': 2, 'clau_nova': 9}\n"
     ]
    }
   ],
   "source": [
    "del diccionari[\"clau3\"]  # esborrem una parella clau-valor existent\n",
    "print(diccionari)"
   ]
  },
  {
   "cell_type": "code",
   "execution_count": 11,
   "metadata": {},
   "outputs": [
    {
     "name": "stdout",
     "output_type": "stream",
     "text": [
      "{}\n"
     ]
    }
   ],
   "source": [
    "diccionari.clear()  # esborrem tots els valors\n",
    "print(diccionari)"
   ]
  },
  {
   "cell_type": "markdown",
   "metadata": {},
   "source": [
    "També podem usar list comprehensions per a diccionaris, simplement creem una llista de tuples i després la convertim. Vegeu el següent exemple:"
   ]
  },
  {
   "cell_type": "code",
   "execution_count": 3,
   "metadata": {},
   "outputs": [
    {
     "name": "stdout",
     "output_type": "stream",
     "text": [
      "{0: None, 1: None, 2: None, 3: None, 4: None, 5: None, 6: None, 7: None, 8: None, 9: None}\n"
     ]
    }
   ],
   "source": [
    "c=dict([(i,None) for i in range (0,10)])  \n",
    "#fem les tuples i després les convertim a diccionari\n",
    "\n",
    "print(c)"
   ]
  },
  {
   "cell_type": "markdown",
   "metadata": {},
   "source": [
    "## Exercici 2: \n",
    "- Crea un diccionari amb les equivalències dels símbols de moneda d'Estats Units, Europa i Japó i el seu nom complet. (Atenció: a Windows el símbol del Yen es pot introduir amb la combinació de tecles Alt + 0165)\n",
    "- Crea un programa que quan l'usuari entri una quantitat de diners amb un símbol la tradueixi al nom complet. Usa el diccionari creat anteriorment.\n",
    "\n",
    "Exemple:\n",
    "\n",
    "20$ = 20 USA dollars\n",
    "\n",
    "15€ = 15 Euros\n",
    "\n",
    "30¥ = 30 Yens"
   ]
  },
  {
   "cell_type": "code",
   "execution_count": 8,
   "metadata": {},
   "outputs": [
    {
     "name": "stdout",
     "output_type": "stream",
     "text": [
      "Introdueix una quantitat de diners (amb símbol): 30$\n",
      "30 dollars\n"
     ]
    }
   ],
   "source": [
    "def canvi():\n",
    "    diccionari = {\"$\":'dollars', \"€\":'euros', \"¥\":'yens'}\n",
    "    x = input(\"Introdueix una quantitat de diners (amb símbol): \")\n",
    "    a = x[-1]\n",
    "    print(x[0:-1],diccionari[a])\n",
    "canvi()"
   ]
  },
  {
   "cell_type": "markdown",
   "metadata": {},
   "source": [
    "<h2>Complexitat de les operacions</h2>\n",
    "\n",
    "### Mesura empírica del cost computacional.\n",
    "\n",
    "`timeit` és un mòdul python que ens permet mesurar de forma aproximada el temps de procés d'unes linies de codi:\n",
    "\n",
    "```pyton\n",
    "import timeit\n",
    "\n",
    "start_time = timeit.default_timer()\n",
    "func1()\n",
    "print(timeit.default_timer() - start_time)\n",
    "\n",
    "start_time = timeit.default_timer()\n",
    "func2()\n",
    "print(timeit.default_timer() - start_time)\n",
    "``` \n",
    "\n",
    "Si treballem en un notebook de Jupyter podem fer servir la instrucció `%timeit` per calcular el temps de càlcul d'un línia de codi:\n",
    "\n",
    "```python\n",
    "def f(x):\n",
    "    return x*x\n",
    "\n",
    "%timeit for x in range(100): f(x)\n",
    "\n",
    "> 100000 loops, best of 3: 20.3 µs per loop\n",
    "```\n",
    "\n",
    "Si poseu `%%timeit` al principi d'una cel·la calculareu el temps de càlcul de tota la cel·la.\n",
    "\n",
    "```python\n",
    "%%timeit \n",
    "l = []\n",
    "for i in range(1000):\n",
    "    l.append(i**2)\n",
    "\n",
    "> 1000 loops, best of 3: 340 µs per loop\n",
    "```\n"
   ]
  },
  {
   "cell_type": "code",
   "execution_count": 1,
   "metadata": {},
   "outputs": [
    {
     "name": "stdout",
     "output_type": "stream",
     "text": [
      "El temps de proces ha estat de 0.0005658018166357684 s\n"
     ]
    }
   ],
   "source": [
    "# Tambe podem usar time.clock abans i després del codi que volem mesurar. \n",
    "# Atenció però, time.clock no té un funcionament idèntic en els diferents sisemes operatius (https://docs.python.org/2/library/time.html)\n",
    "\n",
    "# Observa els dos codis següents i la diferència de temps\n",
    "import time\n",
    "\n",
    "t1 = time.clock()\n",
    "\n",
    "llista = []\n",
    "for i in range(5000000):\n",
    "    llista.append(i)\n",
    "\n",
    "t2 = time.clock()\n",
    "\n",
    "print(f\"El temps de proces ha estat de {(t2-t1)/1000} s\")"
   ]
  },
  {
   "cell_type": "code",
   "execution_count": 2,
   "metadata": {},
   "outputs": [
    {
     "name": "stdout",
     "output_type": "stream",
     "text": [
      "0.34573529279204873\n"
     ]
    }
   ],
   "source": [
    "import time\n",
    "\n",
    "t1 = time.clock()\n",
    "\n",
    "llista2 = [i for i in range(5000000)]\n",
    "\n",
    "t2 = time.clock()\n",
    "\n",
    "print(t2-t1)"
   ]
  },
  {
   "cell_type": "code",
   "execution_count": 6,
   "metadata": {},
   "outputs": [],
   "source": [
    "# En fer servir una comprensió de llistes el temps d'execució es redueix a la meitat!"
   ]
  },
  {
   "cell_type": "markdown",
   "metadata": {},
   "source": [
    "## Exercici 3\n",
    "\n",
    "Fes una funció que mostri els numeros senars entre 13 i 13000. Quin temps triga? compara els teus resultats amb els dels teus companys"
   ]
  },
  {
   "cell_type": "code",
   "execution_count": 6,
   "metadata": {},
   "outputs": [],
   "source": [
    "import time\n",
    "def ns():\n",
    "    t1=time.clock()\n",
    "    lista=[]\n",
    "    for x in range (13,13001,2):\n",
    "        lista.append(x)\n",
    "    t2=time.clock()\n",
    "    print(t2-t1)"
   ]
  },
  {
   "cell_type": "code",
   "execution_count": 7,
   "metadata": {},
   "outputs": [
    {
     "name": "stdout",
     "output_type": "stream",
     "text": [
      "0.00041321777457881126\n"
     ]
    }
   ],
   "source": [
    "ns()"
   ]
  },
  {
   "cell_type": "markdown",
   "metadata": {},
   "source": [
    "# Complexitat\n",
    "\n",
    "\n",
    "## Càlcul\n",
    "\n",
    "Estimem la complexitat d'un algorisme comptant el nombre de funcions elementals que fa l'algorisme. Usualment calcularem el temps del pitjor cas, i usarem la notació gran O.\n",
    "\n",
    "Anem a veure uns casos simples de càlcul de complexitats:\n",
    "\n",
    "### Complexitat d'una operació\n",
    "\n",
    "*operació simple*\n",
    "\n",
    "En general la complexitat d'aquest cas és d'ordre Constant, ja que no depèn de la mida de l'entrada. Però atenció, quan treballem amb llistes algunes operacions aparentment simples, tenen una complexitat d'ordre **n**. Recordeu que en anteriors sessions hem especificat l'ordre de complexitat de les operacions més habituals amb col.leccions. Altres complexitats les podeu consultar a <a href=\"https://wiki.python.org/moin/TimeComplexity\">TimeComplexity </a>\n",
    "\n",
    "- LLista.append('a')                    # complexitat O(1)\n",
    "- Llista.insert(2,'a')                  # complexitat O(n)\n",
    "\n",
    "### Complexitat d'un bloc condicional\n",
    "+ if condicio:\n",
    "    + operacio1\n",
    "+ else:\n",
    "    + operacio2\n",
    "\n",
    "Quan ens trobem amb un bloc condicional (if, elif, else) la complexitat serà la màxima de les complexitats de les diferents opcions. Per ex. si complexitat(operacio1)=O(n) i complexitat(operacio2)=O(1), la complexitat del bloc if serà de O(n), que és l'opció amb més complexitat.\n",
    "\n",
    "### Complexitat d'un conjunt d'instruccions\n",
    "\n",
    "    def: funcio(): \n",
    "        operacio1 \n",
    "        operacio2 \n",
    "        operacio3 \n",
    "        operacio4 \n",
    "        operacio5 \n",
    "        if condicio: \n",
    "            operacio6 \n",
    "        else: \n",
    "            operacio7 \n",
    "\n",
    "\n",
    "Quan s'agrupen diverses operacions simples la complexitat és la suma de totes elles, tenint en compte que quan treballem amb ordres de magnitud i sumem diverses quantitats, només ens quedem amb la cota superior, que és la que mana. \n",
    "\n",
    "Així si complexitat(operacio1)==complexitat(operacio2)==complexitat(operacio3) és O(1), i la complexitat(operacio4) és O(n^2), i la complexitat(operacio5) és O(log n), la complexitat de totes aquestes serà d'ordre O(n^2), que és la complexitat major. I sumant la complexitat del bloc condicional (operacio6 és O(n) i operacio7 és O(1)), seguim tenint O(n^2), ja que aquest ordre predomina sobre O(n).\n",
    "\n",
    "La complexitat final d'aquest bloc és O(n^2).\n",
    "\n",
    "### Complexitat dels blocs iteratius (bucles)\n",
    "\n",
    "    for i in range(1,n): \n",
    "        operacio1 \n",
    "    \n",
    "    for j in range(1,n): \n",
    "        operacio1\n",
    "\n",
    "En el cas dels bucles iteratius, primer cal calcular la complexitat de les operacions dins el bucle, i després multiplicar-les pel nombre de vegades que iterem.\n",
    "En els exemples, si complexitat(operacio1) és O(1), la complexitat dels blocs és O(n), ja que tots -- en el pitjor cas -- iteren n vegades sobre aquesta operació.\n",
    "\n",
    "### Complexitat dels blocs iteratius imbricats\n",
    "\n",
    "    for i in range(1,n):\n",
    "        for j in range(1,n): \n",
    "            operacio1\n",
    "\n",
    "En el cas dels bucles imbricats cal multiplicar tantes vegades com bucles hi hagi. A l'exemple, la complexitat del bloc de la j és O(n) però la complexitat del bloc de la i és O(n^2). És a dir, aquest tros de codi té una complexitat quadràtica."
   ]
  },
  {
   "cell_type": "markdown",
   "metadata": {},
   "source": [
    "## Exercici 4\n",
    "a) Quin ordre de complexitat segons la notació $O()$ tenen els algorismes que fan el següent nombre d'operacions?\n",
    "\n",
    "+ $n + 2n$ ``=3n que serà: O(n)``\n",
    "+ $3 n^2 + log n$ ``O(n^2)``\n",
    "+ $2^n + n^5$ ``O(2^n)``\n",
    "+ 3 sumes + 2 multiplicacions (amb nombres llargs)\n",
    "\n",
    "b) Amb $n=50$ té sentit un algorisme d'$O(n!)$? Per què?\n",
    "``no perque 50! es un nombre molt elevat, es a dir una complexitat molt elevada.``"
   ]
  },
  {
   "cell_type": "markdown",
   "metadata": {},
   "source": [
    "### Complexitat de les operacions més habituals de Python\n",
    "\n",
    "L'assignació d'un valor a una variable (que s'implementa mitjançant la còpia d'una referència) és `O(1)`. \n",
    "\n",
    "Els operadors simples (`+`, `*`, etc.) sobre enters petits (menors de 12 dígits) són `O(1)`.\n",
    "\n",
    "Els operadors sobre col·leccions de dades de longitud `N`, `N = len(data-type)` són:\n",
    "\n",
    "#### Lists:\n",
    "                               \n",
    "Operació      | Exemple      | Complexitat     | Notes\n",
    "--------------|--------------|---------------|-------------------------------\n",
    "Index         | l[i]         | O(1)\t     |\n",
    "Store         | l[i] = 0     | O(1)\t     |\n",
    "Length        | len(l)       | O(1)\t     |\n",
    "Append        | l.append(5)  | O(1)\t     |\n",
    "Pop\t          | l.pop()      | O(1)\t     | equivalent a l.pop(-1)\n",
    "Clear         | l.clear()    | O(1)\t     | equivalent a l = []\n",
    "Slice         | l[a:b]       | O(b-a)\t | O(len(l)-0)=O(N)\n",
    "check ==, !=  | l1 == l2     | O(N)      |\n",
    "Insert        | l[a:b] = ... | O(N)\t     |\n",
    "Delete        | del l[i]     | O(N)\t     | \n",
    "Containment   | x in/not in l| O(N)\t     | cerca a la llista\n",
    "Copy          | l.copy()     | O(N)\t     | equivalent a l[:] que és O(N)\n",
    "Remove        | l.remove(...)| O(N)\t     | \n",
    "Pop\t          | l.pop(i)     | O(N)\t     | \n",
    "Extreme value | min(l)/max(l)| O(N)\t     | cerca a la llista\n",
    "Reverse\t      | l.reverse()  | O(N)\t     |\n",
    "Iteration     | for v in l:  | O(N)          |\n",
    "Sort          | l.sort()     | O(N Log N)    | \n",
    "\n",
    "#### Sets (encara que no els estudiarem explícitament, afegim aquí les complexitats)\n",
    "\n",
    "Operació      | Exemple      | Complexitat     | Notes\n",
    "--------------|--------------|---------------|-------------------------------\n",
    "Length        | len(s)       | O(1)\t     |\n",
    "Add           | s.add(5)     | O(1)\t     |\n",
    "Containment   | x in/not in s| O(1)\t     | \n",
    "Remove        | s.remove(..) | O(1)\t     | \n",
    "Discard       | s.discard(..)| O(1)\t     | \n",
    "Pop           | s.pop()      | O(1)\t     |\n",
    "Clear         | s.clear()    | O(1)\t     | equivalent a s = set()\n",
    "check ==, !=  | s != t       | O(len(s))     | \n",
    "<=/<          | s <= t       | O(len(s))     | issubset\n",
    "\\>=/>         | s >= t       | O(len(t))     | issuperset \n",
    "Union         | s l t        | O(len(s)+len(t)) |\n",
    "Intersection  | s & t        | O(len(s)+len(t)) |\n",
    "Difference    | s - t        | O(len(s)+len(t)) |\n",
    "Symmetric Diff| s ^ t        | O(len(s)+len(t)) |\n",
    "Iteration     | for v in s:  | O(N)          |\n",
    "Copy          | s.copy()     | O(N)\t     |\n",
    "\n",
    "#### Dictionaries\n",
    "                             \n",
    "Operació      | Exemple      | Complexitat     | Notes\n",
    "--------------|--------------|---------------|-------------------------------\n",
    "Index         | d[k]         | O(1)      |\n",
    "Store         | d[k] = v     | O(1)      |\n",
    "Length        | len(d)       | O(1)      |\n",
    "Delete        | del d[k]     | O(1)      |\n",
    "get/setdefault| d.method     | O(1)      |\n",
    "Pop           | d.pop(k)     | O(1)      |\n",
    "Pop item      | d.popitem()  | O(1)      |\n",
    "Clear         | d.clear()    | O(1)      | equivalent a s = {} o = dict()\n",
    "View          | d.keys()     | O(1)      | el mateix que d.values()\n",
    "Iteration     | for k in d:  | O(N)      | totes les formes: keys, values, items"
   ]
  },
  {
   "cell_type": "code",
   "execution_count": 4,
   "metadata": {},
   "outputs": [
    {
     "name": "stdout",
     "output_type": "stream",
     "text": [
      "0\n",
      "1\n",
      "2\n",
      "3\n",
      "4\n"
     ]
    }
   ],
   "source": [
    "# Exemple 1 de càlcul de complexitat\n",
    "\n",
    "def funcio1(n):\n",
    "    for i in range(n): # Executem un cop aquest for\n",
    "        print(i)       # Executem n vegades aquesta instrucció\n",
    "        \n",
    "funcio1(5) #O(n)"
   ]
  },
  {
   "cell_type": "code",
   "execution_count": 5,
   "metadata": {},
   "outputs": [
    {
     "name": "stdout",
     "output_type": "stream",
     "text": [
      " (1,9)  (1,8)  (1,7)  (1,6)  (1,5)  (1,4)  (1,3)  (1,2)  (1,1) \n",
      " (3,9)  (3,8)  (3,7)  (3,6)  (3,5)  (3,4)  (3,3)  (3,2)  (3,1) \n",
      " (5,9)  (5,8)  (5,7)  (5,6)  (5,5)  (5,4)  (5,3)  (5,2)  (5,1) \n",
      " (7,9)  (7,8)  (7,7)  (7,6)  (7,5)  (7,4)  (7,3)  (7,2)  (7,1) \n",
      " (9,9)  (9,8)  (9,7)  (9,6)  (9,5)  (9,4)  (9,3)  (9,2)  (9,1) \n",
      " (11,9)  (11,8)  (11,7)  (11,6)  (11,5)  (11,4)  (11,3)  (11,2)  (11,1) \n",
      " (13,9)  (13,8)  (13,7)  (13,6)  (13,5)  (13,4)  (13,3)  (13,2)  (13,1) \n",
      " (15,9)  (15,8)  (15,7)  (15,6)  (15,5)  (15,4)  (15,3)  (15,2)  (15,1) \n"
     ]
    }
   ],
   "source": [
    "# Exemple 2 de càlcul de complexitat\n",
    "\n",
    "def funcio2(n,m):\n",
    "    for i in range(1,n*n,2): # Aquest for s'executa de 1 fins a n*n amb passos de 2 en 2\n",
    "        for j in range(m*m, 0, -1): # Aquest s'executa m*m vegades\n",
    "                                    # Com que un depèn de l'altre, per a cada valor 'i' executem m*m operacions\n",
    "                                    # i, per tant, el total serà la multiplicació dels dos valors\n",
    "                    \n",
    "            print (f\" ({i},{j})\", end=\" \")\n",
    "        print()\n",
    "        \n",
    "funcio2(4,3)  "
   ]
  },
  {
   "cell_type": "markdown",
   "metadata": {},
   "source": [
    "funcio2: $ O(\\dfrac{n^2}{2}m^2)=O(n^2m^2) $"
   ]
  },
  {
   "cell_type": "code",
   "execution_count": 6,
   "metadata": {},
   "outputs": [
    {
     "data": {
      "text/plain": [
       "[False, False, True, False, False, False, False, False, True, False, True]"
      ]
     },
     "execution_count": 6,
     "metadata": {},
     "output_type": "execute_result"
    }
   ],
   "source": [
    "# Exemple 3 de càlcul de complexitat\n",
    "\n",
    "# Aquest programa substitueix per True si hi ha coincidència amb el número donat o False en els atres casos\n",
    "\n",
    "def funcio3(llista, numero): # suposem n=len(llista)\n",
    "    \n",
    "    if numero in llista:              # n operacions\n",
    "        for it in range(len(llista)): # n operacions\n",
    "            if llista[it]==numero:    # Els accessos i assignacions són 1 sola operació\n",
    "                llista[it] = True\n",
    "            else:\n",
    "                llista[it] = False\n",
    "        return llista\n",
    "        \n",
    "    else:\n",
    "        return [False]*len(llista)    # n operacions\n",
    "\n",
    "# En aquest cas fem n+n operacions ja que, tot i estar una posició identat cap a la dreta, la comprovació\n",
    "# inicial només es fa un cop.\n",
    "\n",
    "# Tan si entra a la condició 'numero in llista' com si no hi entra, es faran n operacions més.\n",
    "    \n",
    "llista = [1,2,5,-6,3,-8,7,-9,5,8,5]\n",
    "funcio3(llista, 5)"
   ]
  },
  {
   "cell_type": "markdown",
   "metadata": {},
   "source": [
    "funcio3: $ O(n+n)=O(2n)=O(n) $"
   ]
  },
  {
   "cell_type": "code",
   "execution_count": 8,
   "metadata": {},
   "outputs": [
    {
     "name": "stdout",
     "output_type": "stream",
     "text": [
      "[0, 1, 2, 3, 4, 5, 6, 7, 8, 9, 10, 0, 0, 0, 0, 0, 0, 0, 0, 0] 100\n"
     ]
    }
   ],
   "source": [
    "# Exemple 4 de càlcul de complexitat\n",
    "\n",
    "def funcio4(num):                     # Per abreujar, n=num\n",
    "    llista = [0]*num                  # inicialitzar val n\n",
    "    suma = 0 \n",
    "    for i in range(1,len(llista)+1):  # Aquest for executarà la part interna n vegades \n",
    "        llista.insert(i,i)            # Insertar val n (veure collections.ipynb)\n",
    "        suma +=llista[i-1]+llista[i]  # 2 accessos i una suma = 3 operacions\n",
    "    \n",
    "    print(llista, suma)               # Imprimir una llista val n i imprimir un enter, 1\n",
    "        \n",
    "        \n",
    "# Notem que per a cada valor de 'i' fem un insert. Per tant es multiplicarà n*(n+3) \n",
    "# ja que n+3 és la part de dins del 'for'\n",
    "\n",
    "funcio4(10)"
   ]
  },
  {
   "cell_type": "markdown",
   "metadata": {},
   "source": [
    "funcio3: $ O\\Big(n + n(n+3)+(n+1)\\Big)=O(n+n^2 +n)=O(n^2 +2n) = O(n^2 +n) $ o també $O(n^2)$"
   ]
  },
  {
   "cell_type": "markdown",
   "metadata": {},
   "source": [
    "## Exercici 5\n",
    "Quina complexitat té aquesta funció:\n",
    "```python\n",
    "def nums1a5():\n",
    "    a = 1\n",
    "    while (a < 5):\n",
    "        print(a)\n",
    "        a += 1 \n",
    "```\n",
    "- te complexitat O(n) en este caso n=5\n",
    "\n",
    "I aquesta:\n",
    "```python\n",
    "def nums1a10():\n",
    "    for i in range(0, 10): # valor inicial:0 \n",
    "                       # valor final: 10 [quan hi arriba surt, no itera]\n",
    "                       # increment: no s'indica, per defecte és 1\n",
    "    print(i)\n",
    "```  \n",
    "- te complexitat O(n) en este caso n=10\n",
    "\n",
    "Tens alguna observació? \n",
    "- pues no"
   ]
  },
  {
   "cell_type": "markdown",
   "metadata": {},
   "source": [
    "## Exercici 6\n",
    "\n",
    "Quina complexitat té la funció que has creat a l'exercici 2? Te complexitat O(1)"
   ]
  },
  {
   "cell_type": "markdown",
   "metadata": {},
   "source": [
    "<h2>Strings (o cadenes de text)</h2>\n",
    "\n",
    "***Nota: Podeu trobar més informació sobre strings a la documentació de Python següent:***\n",
    "- An informal introduction to Python. strings: https://docs.python.org/3/tutorial/introduction.html?#strings\n",
    "- String methods: https://docs.python.org/3/library/stdtypes.html#string-methods\n",
    "- chr(i): https://docs.python.org/3/library/functions.html?#chr\n",
    "- ord(c): https://docs.python.org/3/library/functions.html?#ord"
   ]
  },
  {
   "cell_type": "markdown",
   "metadata": {},
   "source": [
    "A Python el text s'emmagatzema en strings (o cadenes de text), que són una estructura de dades molt similar a les llistes en quant a què a cada caràcter li correspon un índex, podem fer slicing... la diferència més rellevant però és que no podem fer assignacions directes a posicions de la cadena."
   ]
  },
  {
   "cell_type": "code",
   "execution_count": 12,
   "metadata": {},
   "outputs": [
    {
     "name": "stdout",
     "output_type": "stream",
     "text": [
      "E\n",
      "Ella\n",
      "Eu\n",
      "ailàluE\n"
     ]
    }
   ],
   "source": [
    "# Exemple\n",
    "nom = \"Eulàlia\"\n",
    "print(nom[0])\n",
    "for i in range(0, len(nom), 2):\n",
    "    print(f\"{nom[i]}\",end=\"\")\n",
    "print()\n",
    "print(nom[0:2])\n",
    "print(nom[::-1])"
   ]
  },
  {
   "cell_type": "code",
   "execution_count": 13,
   "metadata": {},
   "outputs": [
    {
     "ename": "TypeError",
     "evalue": "'str' object does not support item assignment",
     "output_type": "error",
     "traceback": [
      "\u001b[1;31m---------------------------------------------------------------------------\u001b[0m",
      "\u001b[1;31mTypeError\u001b[0m                                 Traceback (most recent call last)",
      "\u001b[1;32m<ipython-input-13-8bebf400c9a3>\u001b[0m in \u001b[0;36m<module>\u001b[1;34m()\u001b[0m\n\u001b[0;32m      1\u001b[0m \u001b[1;31m# però...\u001b[0m\u001b[1;33m\u001b[0m\u001b[1;33m\u001b[0m\u001b[0m\n\u001b[1;32m----> 2\u001b[1;33m \u001b[0mnom\u001b[0m\u001b[1;33m[\u001b[0m\u001b[1;36m3\u001b[0m\u001b[1;33m]\u001b[0m\u001b[1;33m=\u001b[0m\u001b[1;34m\"r\"\u001b[0m\u001b[1;33m\u001b[0m\u001b[0m\n\u001b[0m",
      "\u001b[1;31mTypeError\u001b[0m: 'str' object does not support item assignment"
     ]
    }
   ],
   "source": [
    "# però...\n",
    "nom[3]=\"r\""
   ]
  },
  {
   "cell_type": "markdown",
   "metadata": {},
   "source": [
    "## Mètodes i funcions per a les cadenes\n",
    "\n",
    "Com que les cadenes de caràcters són una de les dades bàsiques amb les que es treballa, coneixerem algunes funcions que ens resultaran molt útils per aquest curs introductori.\n",
    "\n",
    "### split \n",
    "\n",
    "Amb split puc separar una cadena en una llista amb els diferents trossets, indicant el separador."
   ]
  },
  {
   "cell_type": "code",
   "execution_count": 14,
   "metadata": {},
   "outputs": [
    {
     "name": "stdout",
     "output_type": "stream",
     "text": [
      "['456', '342', '120€']\n"
     ]
    }
   ],
   "source": [
    "# Exemple\n",
    "cadena=\"456.342.120€\"\n",
    "llista=cadena.split('.')\n",
    "print(llista)"
   ]
  },
  {
   "cell_type": "markdown",
   "metadata": {},
   "source": [
    "Si no indico un separador, per defecte és l'espai."
   ]
  },
  {
   "cell_type": "code",
   "execution_count": 15,
   "metadata": {},
   "outputs": [
    {
     "name": "stdout",
     "output_type": "stream",
     "text": [
      "['El', 'gos,', 'i', 'el', 'gat,', 'menjàven', 'plegats.']\n"
     ]
    }
   ],
   "source": [
    "# Exemple\n",
    "cadena=\"El gos, i el gat, menjàven plegats.\"\n",
    "llista = cadena.split()\n",
    "print(llista)"
   ]
  },
  {
   "cell_type": "markdown",
   "metadata": {},
   "source": [
    "### join \n",
    "\n",
    "Un dels usos més estesos de join consisteix en convertir llistes a cadenes de text."
   ]
  },
  {
   "cell_type": "code",
   "execution_count": 16,
   "metadata": {},
   "outputs": [
    {
     "name": "stdout",
     "output_type": "stream",
     "text": [
      "El gos, i el gat, menjàven plegats.\n"
     ]
    }
   ],
   "source": [
    "# Exemple\n",
    "llista = ['El', 'gos,', 'i', 'el', 'gat,', 'menjàven', 'plegats.']\n",
    "cadena=\" \".join(llista)  # l'espai farà de separador\n",
    "print(cadena)"
   ]
  },
  {
   "cell_type": "markdown",
   "metadata": {},
   "source": [
    "### strip\n",
    "\n",
    "Elimina els caràcters indicats de l'inici i del final de la cadena, o els espais en blanc si no s'indiquen caràcters específics."
   ]
  },
  {
   "cell_type": "code",
   "execution_count": 17,
   "metadata": {},
   "outputs": [
    {
     "data": {
      "text/plain": [
       "'troducció a Pyth'"
      ]
     },
     "execution_count": 17,
     "metadata": {},
     "output_type": "execute_result"
    }
   ],
   "source": [
    "# Exemple\n",
    "\"introducció a Python\".strip('nio')"
   ]
  },
  {
   "cell_type": "code",
   "execution_count": 18,
   "metadata": {},
   "outputs": [
    {
     "data": {
      "text/plain": [
       "'introducció'"
      ]
     },
     "execution_count": 18,
     "metadata": {},
     "output_type": "execute_result"
    }
   ],
   "source": [
    "\" introducció   \".strip()"
   ]
  },
  {
   "cell_type": "markdown",
   "metadata": {},
   "source": [
    "## Exercici 7\n",
    "A partir de la cadena \"El gos i el gat es barallen al carrer\", amb operacions sobre strings aconsegueix els següents textos:\n",
    "\n",
    "- \"el\"\n",
    "- \"rerrac\"\n",
    "- \"l gs l gt s brlln l crrr\""
   ]
  },
  {
   "cell_type": "code",
   "execution_count": 71,
   "metadata": {},
   "outputs": [
    {
     "name": "stdout",
     "output_type": "stream",
     "text": [
      "el\n",
      "rerrac\n",
      "l gs  l gt s brlln l crrr\n"
     ]
    }
   ],
   "source": [
    "cadena= \"El gos i el gat es barallen al carrer\"\n",
    "a=\"el\".strip()\n",
    "print (a)\n",
    "\n",
    "b=\"carrer\".strip()\n",
    "print((b [::-1]))\n",
    "\n",
    "c=cadena.split('a')\n",
    "c1=\"\".join(c)\n",
    "c2=c1.split('e')\n",
    "c3=\"\".join(c2)\n",
    "c4=c3.split('o')\n",
    "c5=\"\".join(c4)\n",
    "c6=c5.split('i')\n",
    "c7=\"\".join(c6)\n",
    "print(c7.strip('E'))"
   ]
  },
  {
   "cell_type": "markdown",
   "metadata": {},
   "source": [
    "## Exercici 8\n",
    "Fes un programa que demani tres paraules d'una frase a l'usuari i crei una única cadena amb elles i la mostri a pantalla."
   ]
  },
  {
   "cell_type": "code",
   "execution_count": 10,
   "metadata": {},
   "outputs": [
    {
     "name": "stdout",
     "output_type": "stream",
     "text": [
      "Escriu una frase: gos i gat son animals\n",
      "ara escull tres paraules de la frase, separades per un espai: gos gat animals\n",
      "['gos', 'gat', 'animals']\n",
      "gos gat animals\n"
     ]
    }
   ],
   "source": [
    "def pro():\n",
    "    c=input(\"Escriu una frase: \")\n",
    "    lista= c.split(' ')\n",
    "    m=input(\"ara escull tres paraules de la frase, separades per un espai: \")\n",
    "    lista2= m.split(' ')\n",
    "    print(lista2)\n",
    "    lista3=[i for i in lista2 if i in lista]\n",
    "    cadena=\" \".join(lista3)\n",
    "    print (cadena)\n",
    "pro()"
   ]
  },
  {
   "cell_type": "markdown",
   "metadata": {},
   "source": [
    "### islower, isupper i isalpha\n",
    "\n",
    "Verifiquen si la cadena és majúscules, minúscules o tota de lletres respectivament.\n",
    "\n",
    "### lower i upper\n",
    "\n",
    "Converteixen la cadena de majúscules a minúscules i de minúscules a majúscules respectivament."
   ]
  },
  {
   "cell_type": "code",
   "execution_count": 20,
   "metadata": {},
   "outputs": [
    {
     "name": "stdout",
     "output_type": "stream",
     "text": [
      "ENFADAT!  is upper? True\n",
      "ENFADAT!  is lower? False\n",
      "123  is alpha? False\n",
      "a10b  is alpha? False\n",
      "abc  is alpha? True\n",
      "ENFADAT! a lower: enfadat!\n",
      "adormit a uppper: ADORMIT\n"
     ]
    }
   ],
   "source": [
    "# Exemple\n",
    "cadena1 = \"ENFADAT!\"\n",
    "print(cadena1, \" is upper?\", cadena1.isupper())\n",
    "print(cadena1, \" is lower?\", cadena1.islower())\n",
    "cadena2 = \"123\"\n",
    "cadena3 = \"a10b\"\n",
    "cadena4 = \"abc\"\n",
    "print(cadena2, \" is alpha?\", cadena2.isalpha())\n",
    "print(cadena3, \" is alpha?\", cadena3.isalpha())\n",
    "print(cadena4, \" is alpha?\", cadena4.isalpha())\n",
    "print(cadena1, \"a lower:\", cadena1.lower())\n",
    "cadena5 = \"adormit\"\n",
    "print(cadena5, \"a uppper:\", cadena5.upper())"
   ]
  },
  {
   "cell_type": "markdown",
   "metadata": {},
   "source": [
    "## Exercici 9\n",
    "Crea un petit programa que saludi a l'usuari i li pregunti com estàs. Si l'usuari li respon tot en majúscules ha de dir: no em cridis!"
   ]
  },
  {
   "cell_type": "code",
   "execution_count": 14,
   "metadata": {},
   "outputs": [
    {
     "name": "stdout",
     "output_type": "stream",
     "text": [
      "Hola, com estas? BE\n",
      "no em cridis!\n",
      "Hola, com estas? be\n",
      "okay\n"
     ]
    }
   ],
   "source": [
    "def holi():\n",
    "    m=input(\"Hola, com estas? \")\n",
    "    c=m.isupper()\n",
    "    if c==True:\n",
    "        print(\"no em cridis!\")\n",
    "    else:\n",
    "        print(\"okay\")\n",
    "holi()\n",
    "holi()"
   ]
  },
  {
   "cell_type": "markdown",
   "metadata": {},
   "source": [
    "## Exercici 10\n",
    "Escriu un petit programa que verifiqui si un string de longitud 1 donat és una lletra (minúscula o majúscula) i no és un dígit."
   ]
  },
  {
   "cell_type": "code",
   "execution_count": 2,
   "metadata": {},
   "outputs": [
    {
     "name": "stdout",
     "output_type": "stream",
     "text": [
      "introdueix una lletra (majuscula o minuscula)a\n",
      "es una lletra\n",
      "introdueix una lletra (majuscula o minuscula)1\n",
      "no es una lletra\n"
     ]
    }
   ],
   "source": [
    "def ver():\n",
    "    m=input(\"introdueix una lletra (majuscula o minuscula)\")\n",
    "    c=m.isalpha()\n",
    "    if c==True:\n",
    "        print(\"es una lletra\")\n",
    "    else:\n",
    "        print (\"no es una lletra\")\n",
    "ver()\n",
    "ver()"
   ]
  },
  {
   "cell_type": "markdown",
   "metadata": {},
   "source": [
    "## Exercici 11\n",
    "\n",
    "Volem fer un programa que, donat un string qualsevol, ens retorni les paraules en majúscules i amb el nombre de lletres, tal com s'indica a baix."
   ]
  },
  {
   "cell_type": "code",
   "execution_count": 5,
   "metadata": {},
   "outputs": [],
   "source": [
    "def frase_llarga(st):\n",
    "    m=st.split()\n",
    "    for i in m:\n",
    "        a=0\n",
    "        for x in i:\n",
    "            a+=1\n",
    "        print(i.upper(),\" --> \",a,\" lletres\")"
   ]
  },
  {
   "cell_type": "code",
   "execution_count": 6,
   "metadata": {},
   "outputs": [
    {
     "name": "stdout",
     "output_type": "stream",
     "text": [
      "UNA  -->  3  lletres\n",
      "FRASE  -->  5  lletres\n",
      "QUALSEVOL  -->  9  lletres\n"
     ]
    }
   ],
   "source": [
    "frase_llarga(\"Una frase qualsevol\")\n",
    "# Això hauria d'imprimir:\n",
    "\n",
    "# UNA --> 3 lletres\n",
    "# FRASE --> 5 lletres\n",
    "# QUALSEVOL --> 9 lletres"
   ]
  },
  {
   "cell_type": "markdown",
   "metadata": {},
   "source": [
    "## Estil de programació\n",
    "\n",
    "Els programes sovint es comparteixen entre diferents programadors o es modifiquen al cap d'un temps.\n",
    "\n",
    "Per això és important que estiguin escrits de forma clara i seguint unes convencions d'estil per fer-los més llegibles.\n",
    "\n",
    "Cada llenguatge sol tenir unes directrius d'estil. A Python s'usen les directrius [PEP8](https://www.python.org/dev/peps/pep-0008/)\n",
    "\n",
    "Spyder ens ajuda a seguir aquestes directrius si configurem l'editor per a què ens avisi. Això es fa amb ``Herramientas - Preferencias - Editor - Análisis de estilo del código en el Editor``.\n",
    "\n",
    "Amb això Spyder ja ens avisarà si no seguim les convencions bàsiques de PEP8.\n",
    "\n",
    "### Comentaris\n",
    "\n",
    "Inicieu les funcions amb unes línies de comentaris delimitades per \"\"\" que indiquin l'objectiu de la funció. Incloeu una línia de comentari pels paràmetres, i una línia pel què retorna.\n",
    "\n",
    "Incloeu comentaris breus addicionals entre línies amb # per explicar algun detall del codi en particular que no quedi prou clar.\n",
    "\n",
    "```python\n",
    "# Exemple\n",
    "\n",
    "def primerDarrer8(llista):\n",
    "    \"\"\"\n",
    "    Aquesta funció, donada una llista d’enters,\n",
    "    retorna True si 8 és el primer o el darrer element de la llista,\n",
    "    retorna False altrament\n",
    "    :param llista una llista d'enters\n",
    "    :return: True si 8 és a l'inici o final, False altrament\n",
    "    \"\"\"\n",
    "    if llista[0]==8 or llista[-1]==8: # Amb -1 comencem pel darrera\n",
    "        return True\n",
    "    else:\n",
    "        return False\n",
    "```\t\t\n",
    "\n",
    "\n",
    "### Noms de funcions i de variables\n",
    "Useu noms en minúscules per les funcions i variables. Si són compostes per dues o més paraules, inicieu la segona i següents amb majúscules.\n",
    "\n",
    "```python\n",
    "a = 5\n",
    "meuCotxe = \"Toyota\"\n",
    "valorAproximat = 3.567\n",
    "def calculSuma(a,b):\n",
    "    pass\n",
    "```\n",
    "Ara bé, per a les constants useu majúscules\n",
    "```python\n",
    "MAXIM = 9999999\n",
    "```\n",
    "\n",
    "### Identació\n",
    "Useu 4 espais per marcar els diferents nivells de blocs.\n",
    "\n",
    "Si el codi d'una funció ocupa dues línies, identeu-lo per a què siguin consistents.\n",
    "```python\n",
    "def funcio():\n",
    "    print(\"les instruccions comencen 4 espais a la dreta\")\n",
    "    for i in range(2):\n",
    "        print(\"per cada nou bloc, 4 espais més\")\n",
    "\t\tprint(\"pero si vull posar moltes coses en un print\",\n",
    "              \"i no m'hi caben, idento per a què sigui\",\n",
    "              \"consistent\")\n",
    "```\n",
    "\n",
    "### Llargada de les línies\n",
    "Una línia de codi ha d'ocupar com a màxim 79 caràcters.\n",
    "Si una línia no hi cap en 79 caràcters, la puc continuar amb el caràcter \\\n",
    "\n",
    "```python\n",
    "with open('/path/to/some/file/you/want/to/read') as file_1, \\\n",
    "     open('/path/to/some/file/being/written', 'w') as file_2:\n",
    "    pass\n",
    "```\n",
    " El caràcter \\ no cal si la continuació és dintre el mateix parèntesi que la línia anterior\n",
    "\n",
    "```python\n",
    "print('a', 'b', 'c', 'd', 'e', 'f', 'g', 'h', 'i', 'j', 'k', 'l', 'm', 'n', 'o', 'p', 'q', 'r',\n",
    "      's', 't', 'u', 'v', 'x', 'y', 'z')\n",
    "```\n",
    "\n",
    "### Línies en blanc\n",
    "Les funcions han d'anar precedides i seguides de dues línies en blanc.\n",
    "\n",
    "### Espais en blanc\n",
    "Deixeu espais en blanc davant i darrera dels operadors. Deixeu un espai en blanc darrera de la coma. No poseu espais en blanc al final de les línies de codi. Acabeu sempre les funcions amb un salt de línia.\n",
    "\n",
    "```python\n",
    "a = b + c\n",
    "llista = ['a', 'b', 'c']\n",
    "```\n",
    "\n",
    "### Import\n",
    "Posar cada import en una línia diferent. Situar-los al principi de tot.\n",
    "\n",
    "```python\n",
    "import math\n",
    "import string\n",
    "\n",
    "\n",
    "def funcio():\n",
    "    pass\n",
    "```"
   ]
  },
  {
   "cell_type": "markdown",
   "metadata": {},
   "source": [
    "## Exercici 12\n",
    "Reescriu la funció de l'exercici 2 amb un bon estil de programació"
   ]
  },
  {
   "cell_type": "code",
   "execution_count": null,
   "metadata": {},
   "outputs": [],
   "source": [
    "def canvi():\n",
    "    \n",
    "    \"\"\"Aquesta funció donat una quantitat de diners i una divisa expressada en simbols\n",
    "    retorna la quantitat seguida de la divisa escrita en lletres.\"\"\"\n",
    "    \n",
    "    DIC = {\"$\":'dollars', \"€\":'euros', \"¥\":'yens'}   #creem u diccionari\n",
    "    x = input(\"Introdueix una quantitat de diners (amb símbol): \")  #demanem les dades al usuari\n",
    "    a = x[-1]   #establim a com l'últim caracter del input, que serà el símbol de la divisa\n",
    "    print(x[0:-1],DIC[a])   #mostrem en pantalla la quantitat i la divisa tranformada segons el diccionari"
   ]
  },
  {
   "cell_type": "code",
   "execution_count": null,
   "metadata": {},
   "outputs": [],
   "source": [
    "canvi()"
   ]
  },
  {
   "cell_type": "markdown",
   "metadata": {},
   "source": [
    "Per a **frikis**: ara que ja saps Python pots memoritzar el *mantra* de Python, executa la següent línia."
   ]
  },
  {
   "cell_type": "code",
   "execution_count": 7,
   "metadata": {},
   "outputs": [
    {
     "name": "stdout",
     "output_type": "stream",
     "text": [
      "The Zen of Python, by Tim Peters\n",
      "\n",
      "Beautiful is better than ugly.\n",
      "Explicit is better than implicit.\n",
      "Simple is better than complex.\n",
      "Complex is better than complicated.\n",
      "Flat is better than nested.\n",
      "Sparse is better than dense.\n",
      "Readability counts.\n",
      "Special cases aren't special enough to break the rules.\n",
      "Although practicality beats purity.\n",
      "Errors should never pass silently.\n",
      "Unless explicitly silenced.\n",
      "In the face of ambiguity, refuse the temptation to guess.\n",
      "There should be one-- and preferably only one --obvious way to do it.\n",
      "Although that way may not be obvious at first unless you're Dutch.\n",
      "Now is better than never.\n",
      "Although never is often better than *right* now.\n",
      "If the implementation is hard to explain, it's a bad idea.\n",
      "If the implementation is easy to explain, it may be a good idea.\n",
      "Namespaces are one honking great idea -- let's do more of those!\n"
     ]
    }
   ],
   "source": [
    "import this"
   ]
  },
  {
   "cell_type": "markdown",
   "metadata": {},
   "source": [
    "## Referències\n",
    "Les explicacions, exemples i exercicis s'han basat en les següents fonts:\n",
    "\n",
    "- Singh et al. “Time complexity of algorithms” dins Study tonight [http://www.studytonight.com/data-structures/time-complexity-of-algorithms] consultat el 26 de novembre de 2015\n",
    "- Umesh V. Vazirani “Chapter 2: divide and conquer algorithms” [https://www.cs.berkeley.edu/~vazirani/algorithms/chap2.pdf] consultat el 26 de novembre de 2015\n",
    "- Cormen, T. C., Leiserson, C. E., Rivest, R. L., & Stein, C. (2009). *Introduction to algorithms* (3rd ed.). Cambridge: The MIT Press. ISBN 9780262033848"
   ]
  },
  {
   "cell_type": "markdown",
   "metadata": {},
   "source": [
    "<p style=\"text-align:right;font-size:0.9em\">\n",
    "&copy;Jordi Vitrià i Mireia Ribera\n",
    "</p>"
   ]
  }
 ],
 "metadata": {
  "kernelspec": {
   "display_name": "Python 3",
   "language": "python",
   "name": "python3"
  },
  "language_info": {
   "codemirror_mode": {
    "name": "ipython",
    "version": 3
   },
   "file_extension": ".py",
   "mimetype": "text/x-python",
   "name": "python",
   "nbconvert_exporter": "python",
   "pygments_lexer": "ipython3",
   "version": "3.6.5"
  }
 },
 "nbformat": 4,
 "nbformat_minor": 2
}
