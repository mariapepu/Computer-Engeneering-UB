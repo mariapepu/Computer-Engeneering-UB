{
 "cells": [
  {
   "cell_type": "code",
   "execution_count": null,
   "metadata": {
    "collapsed": true
   },
   "outputs": [],
   "source": [
    "def isCyclic(G, u, visited, prev, path): \n",
    "    # Pone en visitado el actual\n",
    "    visited[u]= True\n",
    "    # Recorre los vecinos\n",
    "    for v in G.neighbors(u):\n",
    "        # Si el vecino no está visitado le visitamos \n",
    "        if not visited[v]:\n",
    "            if isCyclic(G,v,visited,u,path):\n",
    "                path.append(v)\n",
    "                return True\n",
    "        # Si un vecino está visitado y su padre no, hay un ciclo\n",
    "        elif  prev != v:\n",
    "            path.append(v)\n",
    "            return True\n",
    "    path = []\n",
    "    return False\n",
    "\n",
    "def detect_cycle(G):\n",
    "    path = []\n",
    "    visited = {}\n",
    "    for u in G.node:\n",
    "        visited[u] = False\n",
    "    for u in G.nodes(): \n",
    "        if not visited[u]: #Don't recur for u if it is already visited \n",
    "            if isCyclic(G,u,visited,-1,path):\n",
    "                path.append(path[0])\n",
    "                path.reverse()\n",
    "                return True, path\n",
    "    return False, path"
   ]
  }
 ],
 "metadata": {
  "kernelspec": {
   "display_name": "Python 3",
   "language": "python",
   "name": "python3"
  },
  "language_info": {
   "codemirror_mode": {
    "name": "ipython",
    "version": 3
   },
   "file_extension": ".py",
   "mimetype": "text/x-python",
   "name": "python",
   "nbconvert_exporter": "python",
   "pygments_lexer": "ipython3",
   "version": "3.6.1"
  }
 },
 "nbformat": 4,
 "nbformat_minor": 2
}
