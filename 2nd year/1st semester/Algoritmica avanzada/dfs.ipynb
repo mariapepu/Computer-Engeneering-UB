{
 "cells": [
  {
   "cell_type": "code",
   "execution_count": null,
   "metadata": {
    "collapsed": true
   },
   "outputs": [],
   "source": [
    "%matplotlib inline\n",
    "import networkx as nx\n",
    "G = nx.Graph()"
   ]
  },
  {
   "cell_type": "code",
   "execution_count": null,
   "metadata": {
    "collapsed": true
   },
   "outputs": [],
   "source": [
    "def dfs(G, origen, destino, depth=0):\n",
    "    \n",
    "    path = []\n",
    "    expanded = 1\n",
    "    \n",
    "    visited = {}\n",
    "    previous = {}\n",
    "    \n",
    "    for node in G.nodes():\n",
    "        visited[node] = False\n",
    "        previous[node] = None\n",
    "    \n",
    "    stack = [origen]\n",
    "    trobat = False\n",
    "    \n",
    "    \n",
    "    \n",
    "    while ((len(stack) != 0) and (not trobat)):\n",
    "        \n",
    "        nodoActual = stack.pop()\n",
    "        expanded += 1\n",
    "        \n",
    "        vecinos = [nodoVecino \n",
    "                   for nodoVecino in G.neighbors(nodoActual) \n",
    "                   if not visited[nodoVecino]]\n",
    "        \n",
    "        for nodoVecino in vecinos:\n",
    "            \n",
    "            visited[nodoVecino] = True\n",
    "            stack.append (nodoVecino)\n",
    "            previous[nodoVecino] = nodoActual\n",
    "            \n",
    "            if (nodoVecino == destino):\n",
    "                trobat = True\n",
    "                \n",
    "        visited[nodoActual] = True\n",
    "        \n",
    "        \n",
    "        \n",
    "    path = [destino]\n",
    "            \n",
    "    while previous[path[0]] != origen:\n",
    "        path = [previous[path[0]]] + path\n",
    "            \n",
    "    path = [origen] + path\n",
    "\n",
    "    return {\n",
    "        'path' : path,\n",
    "        'expanded' : expanded\n",
    "    }"
   ]
  },
  {
   "cell_type": "code",
   "execution_count": null,
   "metadata": {},
   "outputs": [],
   "source": [
    "G.add_nodes_from(['S', 'A', 'B', 'C', 'D', 'E', 'F'])\n",
    "G.add_edges_from([('S','A'),('S','C'),('S','D'),('S','E'),('A','B'),('D','E'),('C','B')])\n",
    "nx.draw_circular(G, with_labels = True)\n",
    "print(dfs(G, 'B', 'E'))"
   ]
  },
  {
   "cell_type": "code",
   "execution_count": null,
   "metadata": {
    "collapsed": true
   },
   "outputs": [],
   "source": [
    "# DFS recursivo que te devuelve todos los subgrafos de un grafo\n",
    "\n",
    "def dfs(G):\n",
    "    \n",
    "    expanded = 0\n",
    "    \n",
    "    visited = []\n",
    "    pending = []\n",
    "    subgraphs = []\n",
    "    \n",
    "    for nodo in G.nodes():\n",
    "        if (nodo not in visited):\n",
    "            \n",
    "            pending.append(nodo)\n",
    "            subgraph = []\n",
    "            \n",
    "            exploreDFS(G, visited, pending, subgraph)\n",
    "            expanded += len(subgraph)\n",
    "            \n",
    "            subgraphs.append(subgraph)\n",
    "    \n",
    "    return {\n",
    "        \"subgraphs\": subgraphs,\n",
    "        \"expanded\": expanded\n",
    "    }\n",
    "    \n",
    "def exploreDFS(G,visited,pending,subgraph):\n",
    "    \n",
    "    if (len(pending) != 0):\n",
    "        nodo = pending.pop()\n",
    "        \n",
    "        if nodo not in visited:\n",
    "            visited.append(nodo)\n",
    "            subgraph.append(nodo)\n",
    "            \n",
    "            for nodoVecino in G.neighbors(nodo):\n",
    "                if nodoVecino not in visited:\n",
    "                    pending.append(nodoVecino)\n",
    "                    \n",
    "        exploreDFS(G,visited,pending,subgraph)"
   ]
  },
  {
   "cell_type": "code",
   "execution_count": null,
   "metadata": {},
   "outputs": [],
   "source": [
    "print(dfs(G))\n",
    "print(list(nx.dfs_edges(G, 'S')))"
   ]
  },
  {
   "cell_type": "code",
   "execution_count": null,
   "metadata": {},
   "outputs": [],
   "source": [
    "# DFS recursivo que te devuelve el path minimo de un nodo origen a un nodo destino\n",
    "\n",
    "\"\"\" Made by JUDIT ;) \"\"\"\n",
    "\n",
    "def dfs_rec(G, origen, destino): \n",
    "    expanded = 0\n",
    "    visited = {}\n",
    "    prev = {}\n",
    "    \n",
    "    for node in G.nodes():\n",
    "        visited[node] = False\n",
    "    \n",
    "    visited, prev, expanded = exploreDFS_rec(G, origen, destino, visited, prev, expanded)\n",
    "    \n",
    "    current = destino\n",
    "    path = []\n",
    "    while current != origen:\n",
    "        path.append(current)\n",
    "        current = prev[current]\n",
    "    path.append(origen)\n",
    "    path.reverse()\n",
    "    \n",
    "    return {\n",
    "        'path' : path,\n",
    "        'expanded' : expanded\n",
    "    }\n",
    "    \n",
    "def exploreDFS_rec(G, current, destino, visited, prev, expanded):\n",
    "    \n",
    "    if current == destino:\n",
    "        return visited, prev, expanded\n",
    "    \n",
    "    expanded += 1\n",
    "    visited[current] = True\n",
    "    \n",
    "    for neighbor in nx.neighbors(G, current):\n",
    "        if visited[neighbor] == False:\n",
    "            prev[neighbor] = current\n",
    "            visited, prev, expanded = exploreDFS_rec(G, neighbor, destino, visited, prev, expanded)\n",
    "    \n",
    "    return visited, prev, expanded\n"
   ]
  },
  {
   "cell_type": "code",
   "execution_count": null,
   "metadata": {},
   "outputs": [],
   "source": [
    "G = nx.generators.barabasi_albert_graph(100, 2)\n",
    "dfs_rec(G, 1, 95)"
   ]
  }
 ],
 "metadata": {
  "kernelspec": {
   "display_name": "Python 3",
   "language": "python",
   "name": "python3"
  },
  "language_info": {
   "codemirror_mode": {
    "name": "ipython",
    "version": 3
   },
   "file_extension": ".py",
   "mimetype": "text/x-python",
   "name": "python",
   "nbconvert_exporter": "python",
   "pygments_lexer": "ipython3",
   "version": "3.6.1"
  }
 },
 "nbformat": 4,
 "nbformat_minor": 2
}
