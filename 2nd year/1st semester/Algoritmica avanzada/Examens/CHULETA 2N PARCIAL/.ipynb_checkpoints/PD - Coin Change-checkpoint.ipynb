{
 "cells": [
  {
   "cell_type": "code",
   "execution_count": 6,
   "metadata": {},
   "outputs": [
    {
     "name": "stdout",
     "output_type": "stream",
     "text": [
      "Minimum coins required is 2\n"
     ]
    }
   ],
   "source": [
    "# A Naive recursive python program to find minimum of coins \n",
    "# to make a given change V \n",
    "  \n",
    "import sys \n",
    "  \n",
    "# m is size of coins array (number of different coins) \n",
    "def minCoins(coins, m, V): \n",
    "  \n",
    "    # base case \n",
    "    if (V == 0): \n",
    "        return 0\n",
    "  \n",
    "    # Initialize result \n",
    "    res = sys.maxsize \n",
    "      \n",
    "    # Try every coin that has smaller value than V \n",
    "    for i in range(0, m): \n",
    "        if (coins[i] <= V): \n",
    "            sub_res = minCoins(coins, m, V-coins[i]) \n",
    "  \n",
    "            # Check for INT_MAX to avoid overflow and see if \n",
    "            # result can minimized \n",
    "            if (sub_res != sys.maxsize and sub_res + 1 < res): \n",
    "                res = sub_res + 1\n",
    "  \n",
    "    return res \n",
    "  \n",
    "# Driver program to test above function \n",
    "coins = [9, 6, 5, 1] \n",
    "m = len(coins) \n",
    "V = 11\n",
    "print(\"Minimum coins required is\",minCoins(coins, m, V)) "
   ]
  },
  {
   "cell_type": "code",
   "execution_count": null,
   "metadata": {},
   "outputs": [],
   "source": []
  }
 ],
 "metadata": {
  "kernelspec": {
   "display_name": "Python 3",
   "language": "python",
   "name": "python3"
  },
  "language_info": {
   "codemirror_mode": {
    "name": "ipython",
    "version": 3
   },
   "file_extension": ".py",
   "mimetype": "text/x-python",
   "name": "python",
   "nbconvert_exporter": "python",
   "pygments_lexer": "ipython3",
   "version": "3.8.8"
  }
 },
 "nbformat": 4,
 "nbformat_minor": 2
}
