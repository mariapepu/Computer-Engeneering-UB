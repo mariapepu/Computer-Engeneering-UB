{
 "cells": [
  {
   "cell_type": "markdown",
   "metadata": {},
   "source": [
    "<div style=\"padding:30px; color: white; background-color: #0071CD\">\n",
    "<center>\n",
    "<img src=\"img/logoub.jpeg\"></img>\n",
    "<p>\n",
    "<h1>Algorítimica Avançada</h1>\n",
    "<h2>Exámen práctico II - NQueens </h2>\n",
    "</center>\n",
    "</p>\n",
    "</div>"
   ]
  },
  {
   "cell_type": "markdown",
   "metadata": {},
   "source": [
    "<div class=\"alert alert-danger\">\n",
    "<center>\n",
    "  <h1>ATENCIÓN!</h1>\n",
    "  \n",
    "  Para realizar la entrega, hay que subir únicamente este fichero renombrado como: __*grupo*\\_*apellidos*\\_*nombre*_EP2.ipynb__ donde el grupo ha de ser uno de los cuatro de prácticas (A, B, C o F).\n",
    "</center>\n",
    "</div>"
   ]
  },
  {
   "cell_type": "markdown",
   "metadata": {},
   "source": [
    "<div class=\"alert alert-info\">\n",
    "<center>\n",
    "  <h1>Introducción</h1>\n",
    "</center>\n",
    "</div>"
   ]
  },
  {
   "cell_type": "markdown",
   "metadata": {},
   "source": [
    "El objetivo de este examen es solucionar una variante del problema de las N-Reinas que visteis en clase de teoría. En este caso, dado un tablero de $NxN$ buscamos situar el mínimo número de reinas necesarias para que todas las casillas del tablero se encuentren amenazadas por al menos una reina. Recordad que una reina puede atacar en cualquier dirección (horizontal, diagonal y vertical) y a cualquier distancia. En la imagen podéis ver todas las casillas que estarían amenazadas por una reina (en verde) en un tablero de 8x8:\n",
    "<img src='img/quenmove.png' width=150></IMG>\n",
    "Una casilla en la que hay una reina la consideraremos también como bajo amenaza. Una posible solución en un tablero de 4x4 con dos reinas se muestra en la siguiente imagen:\n",
    "<img src='img/quensolve.png' width=150></IMG>"
   ]
  },
  {
   "cell_type": "markdown",
   "metadata": {},
   "source": [
    "Para simplificar el problema se os ofrece la clase `Queens` que contiene las utilidades necesarias para trabajar con el tablero. Para crear un nuevo tablero de dimensión N llamamos simplemente `board = Queens(N)`. Para añadir una reina en una posición determinada $pos = (p_0,p_1)$, podemos emplear la función `new_board = board.add_queen(pos)`. Cada vez que añadimos una reina, la función nos devuelve __una nueva instancia__ de la clase Queens modificada con la nueva reina en la posición deseada.\n",
    "\n",
    "También tenemos varios atributos:\n",
    "<ul>\n",
    "    <li> <mark>board.free</mark> que nos devolverá una lista con las posiciones que no son amenazadas por ninguna reina.</li>\n",
    "    <li> <mark>board.empty</mark> que nos devolverá la lista de posiciones en las que no hay ninguna reina. </li> \n",
    "    <li> <mark>board.occupied</mark> que nos devolverá la lista de posiciones en las que hay reinas. </li>\n",
    "<ul>"
   ]
  },
  {
   "cell_type": "code",
   "execution_count": null,
   "metadata": {},
   "outputs": [],
   "source": [
    "from queens import Queens\n",
    "\n",
    "print(\"Crea un tablero de 3x3\")\n",
    "b1 = Queens(n=3)\n",
    "print(b1)\n",
    "print(\"Pon una reina en (1,0):\")\n",
    "b2 = b1.add_queen((1,0)) # Nótese que b1 != b2\n",
    "print(b2)\n",
    "print(\"Las posiciones que todavía no están amenazadas son:\")\n",
    "print(b2.free)\n",
    "print(\"Las posiciones con reians son:\")\n",
    "print(b2.occupied)\n",
    "print(\"Las posiciones sin reinas son:\")\n",
    "print(b2.empty)"
   ]
  },
  {
   "cell_type": "markdown",
   "metadata": {},
   "source": [
    "Además tenemos la función `board.is_all_under_attack()` que nos indicará si ya hemos acabado (todas las casillas están amenazadas) `True` o todavía no `False`."
   ]
  },
  {
   "cell_type": "code",
   "execution_count": null,
   "metadata": {},
   "outputs": [],
   "source": [
    "print(\"El estado de resolución b2 es: %s\" % str(b2.is_all_under_attack()))\n",
    "print(b2)\n",
    "b3 = b1.add_queen((1,1))\n",
    "print(\"El estado de resolución b3 es: %s\" % str(b3.is_all_under_attack()))\n",
    "print(b3)\n"
   ]
  },
  {
   "cell_type": "markdown",
   "metadata": {},
   "source": [
    "<div class=\"alert alert-info\">\n",
    "<center>\n",
    "  <h1>Examen</h1>\n",
    "</center>"
   ]
  },
  {
   "cell_type": "markdown",
   "metadata": {},
   "source": [
    "\n",
    "<div class=\"alert alert-success\" style=\"width:90%; margin:0 auto;\">\n",
    "\n",
    "  <p>\n",
    "  Se pide implementar una función iterativa que, mediante <b>ramificación y poda</b>, resuelva el problema planteado, es decir, que con el mínimo número de reinas consiga que todas las casillas del tablero estén amenazadas por al menos una de ellas. Se valorará principalmente el uso de un algoritmo que siga la estructura de ramificación y poda, no tanto lo eficientes que resulten las cotas a la hora de podar. \n",
    "    \n",
    "   A la hora de probar vuestros algoritmos es recomendable empezar con tamaños de N pequeños (hasta 6). El número de reinas esperadas para tableros de 1 a 8 son: 1, 1, 1, 2, 3, 3, 4 y 5.\n",
    "  \n",
    "  Solo se corregirá el código contenido en la función con cabecera `attacking` (de la cual no podéis cambiar la definición) y todo el que ésta llame. Es decir, si creáis funciones o clases auxiliares, solo las corregiremos si se emplean dentro de esta función. Además, no puede existir más de una versión de esta función en el notebook (por ejemplo, en celdas distintas).\n",
    "  </p>\n",
    "\n",
    "</div>"
   ]
  },
  {
   "cell_type": "code",
   "execution_count": null,
   "metadata": {},
   "outputs": [],
   "source": [
    "\"\"\"\n",
    "    Debéis implementar vuestra solución con la cabecera attacking, la cual tendrá como entradas:\n",
    "        queens (Queens) --> Tablero sin reinas.\n",
    "    Y devolverá:\n",
    "        queens (Queens) --> Tablero con el mínimo número de reinas situadas de \n",
    "                            manera tal que todo el tablero esté amenazado.\n",
    "        expanded (int)  --> Número de nodos de los cuales producimos hijos posibles.\n",
    "\"\"\"\n",
    "\n",
    "def attacking(queens):\n",
    "    expanded = 0\n",
    "    \n",
    "    return queens,expanded # El tablero solucionado"
   ]
  },
  {
   "cell_type": "code",
   "execution_count": null,
   "metadata": {},
   "outputs": [],
   "source": [
    "c = Queens(5)\n",
    "print(attacking(c))"
   ]
  },
  {
   "cell_type": "markdown",
   "metadata": {},
   "source": [
    "<div class=\"alert alert-info\">\n",
    "<center>\n",
    "  <h1>Preguntas</h1>\n",
    "</center>\n",
    "</div>"
   ]
  },
  {
   "cell_type": "markdown",
   "metadata": {},
   "source": [
    "### 1. Como has implementado el algoritmo?\n",
    "\n",
    "_CONTESTAR AQUÍ_\n",
    "\n",
    "### 2. Que criterios utilizas para hacer la ramificación y la poda?\n",
    "\n",
    "_CONTESTAR AQUÍ_\n",
    "\n",
    "### 3. Realiza un análisis de complejidad del algoritmo\n",
    "\n",
    "_CONTESTAR AQUÍ_"
   ]
  },
  {
   "cell_type": "markdown",
   "metadata": {},
   "source": [
    "<div class=\"alert alert-info\">\n",
    "<center>\n",
    "  <h1>Entrega</h1>\n",
    "</center>\n",
    "<p>\n",
    "Se habilitará una tarea en el Campus Virtual pasada media hora desde el comienzo del examen. Una vez terminéis, subid el examen (<b>sólo el notebook</b>) a la tarea \"Entrega segundo parcial de pácticas\" con vuestro nombre y el grupo de pácticas al que asistís:\n",
    "</p>\n",
    "<p>\n",
    "```\n",
    "[grupo_practicas]_[apellido]_[nombre]_AA_EP2.ipynb\n",
    "```\n",
    "\n",
    "</p>\n",
    "\n",
    "Donde [grupo_practicas] es uno de entre: A, B, C o F.\n",
    "<p>\n",
    "    Por ejemplo, para un alumno llamado <i>Nombre Genérico</i> perteneciente al <i>grupo Z</i> el nombre del archivo debería ser:\n",
    "</p>\n",
    "<p>\n",
    "```\n",
    "Z_Generico_Nombre_AA_EXP.ipynb\n",
    "```\n",
    "\n",
    "Y <b>NO</b>:\n",
    "<ul>\n",
    "<li>Z00_Generico_Nombre_AA_EXP.zip</li>\n",
    "    \n",
    "<li>ZX_Generico_Nombre_AA_EXP.ipynb</li>\n",
    "\n",
    "<li>Ex1_Generico_Nombre_AA_EXP.rar</li>\n",
    "\n",
    "<li>AA_EXP.ipynb</li>\n",
    "<li> ... cualquier otra cosa</li>\n",
    "</ul>\n",
    "</p>\n",
    "<b>Nota</b>: Recordad la importancia de de mantener el formato facilitado. Nombre de la función, entrada/s y salida/s.\n",
    "</div>"
   ]
  },
  {
   "cell_type": "code",
   "execution_count": null,
   "metadata": {},
   "outputs": [],
   "source": []
  }
 ],
 "metadata": {
  "kernelspec": {
   "display_name": "Python 3",
   "language": "python",
   "name": "python3"
  },
  "language_info": {
   "codemirror_mode": {
    "name": "ipython",
    "version": 3
   },
   "file_extension": ".py",
   "mimetype": "text/x-python",
   "name": "python",
   "nbconvert_exporter": "python",
   "pygments_lexer": "ipython3",
   "version": "3.7.4"
  }
 },
 "nbformat": 4,
 "nbformat_minor": 2
}
