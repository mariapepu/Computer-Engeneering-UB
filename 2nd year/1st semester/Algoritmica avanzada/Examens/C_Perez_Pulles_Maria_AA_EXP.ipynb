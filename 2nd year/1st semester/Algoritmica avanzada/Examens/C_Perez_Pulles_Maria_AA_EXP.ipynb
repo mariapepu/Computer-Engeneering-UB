{
 "cells": [
  {
   "cell_type": "markdown",
   "metadata": {},
   "source": [
    "<div style=\"padding:30px; color: white; background-color: #0071CD\">\n",
    "<center>\n",
    "<img src=\"img/logoub.jpeg\"></img>\n",
    "<center>\n",
    "<p>\n",
    "<h1>Algorítmica Avanzada</h1>\n",
    "<h2>Recuperación Parcial Práctico 1</h2>\n",
    "</center>\n",
    "</p>\n",
    "</div>"
   ]
  },
  {
   "cell_type": "markdown",
   "metadata": {},
   "source": [
    "<div class=\"alert alert-success\" style=\"width:90%; margin:0 auto;\">\n",
    "\n",
    "<h2><p>Placas</p></h2>\n",
    "  \n",
    "<p>\n",
    "    \n",
    "Para reparar baches en el pavimento de una carretera disponemos de placas de cemento prefabricadas con una anchura igual a la de la carretera, y un largo de $P$ metros. Las placas son monolíticas, no se pueden partir. El problema consiste en reparar una carretera de longitud $L$ kilómetros de la cual tenemos registradas las posiciones de los baches en una lista $S$. Es decir, $S[0]$ nos indica la posición respecto el inicio de la carretera del primer bache. $S[1]$ la posición del segundo, etc.\n",
    "\n",
    "Implementad un algoritmo greedy, <i>placas($L$, $S$, $P$)</i>, que dadas una longitud $L$, una lista de baches $S$ y un tamaño de placas $P$, obtenga la lista de posiciones en las que deberían colocarse placas minimizando la cantidad.\n",
    "    \n",
    "</p>\n",
    "\n",
    "<h4>Ejemplo</h4>\n",
    "   \n",
    "<p>\n",
    "    \n",
    "En una carretera de $L = 1$ kilómetro, con baches en los puntos $S = [244, 248, 280, 305, 569, 610, 620, 790, 811, 949]$, y placas de longitud $P = 50$ metros. La solución debería consistir en $6$ placas colocadas de esta forma:\n",
    "    \n",
    "</p>\n",
    "\n",
    "<img src=\"img/img.png\">\n",
    "\n",
    "<p>\n",
    "    La solución en forma de lista sería $X = [244, 305, 569, 620, 790, 949]$. <br>La posición de una placa se indica como la distancia entre el inicio de la carretera y el inicio de la placa (Una placa de longitud $P = 50$ colocada en el punto $244$, cubrirá la carretera hasta los $294$ metros).\n",
    "</p>"
   ]
  },
  {
   "cell_type": "markdown",
   "metadata": {},
   "source": [
    "<div class=\"alert alert-danger\" style=\"width:80%; margin:0 auto; padding\">\n",
    "<center><p><h3> Código </h3></p> </center>\n",
    "<p>\n",
    "<h3>INPUT</h3>\n",
    "<ul>\n",
    "<li>$L$. Longitud de la carretera en kilómetros.</li>\n",
    "<li>$S$. Lista de baches en metros.</li>\n",
    "<li>$P$. Tamaño de las placas en metros.</li>\n",
    "</ul>\n",
    "<br>\n",
    "<h3>OUTPUT</h3>\n",
    "<ul>\n",
    "<li>$X$. Lista con las posiciones en las que deberán colocarse las placas. El tamaño de la lista indicará implícitamente el número de placas necesarias.</li>\n",
    "<ul>\n",
    "\n",
    "</p>\n",
    "</div>"
   ]
  },
  {
   "cell_type": "code",
   "execution_count": 1,
   "metadata": {},
   "outputs": [],
   "source": [
    "def placas(L, S, P):\n",
    "    X=[]  \n",
    "    \n",
    "    #caso base: no hay baches\n",
    "    if len(S) == 0:\n",
    "        return X\n",
    "    \n",
    "    else:\n",
    "    #caso mas complicado:\n",
    "        while len(S) != 0:\n",
    "            i=0\n",
    "            start= S[i] #punto de inicio de la placa\n",
    "            X.append[start]\n",
    "            dist=0\n",
    "            while dist < P:#MIENTRAS LA DISTANCIA ENTRE BACHES SEA MENOS Q LA PLACA CON UNA SOLA LOS PODEMOS CUBRIR\n",
    "                dist=S[i+1]-S[i]\n",
    "                i+=1\n",
    "            S[0].delete\n",
    "     \n",
    "        #por ultimo falta mirar que la ultima placa no se pase de largo       \n",
    "        if (X[-1]+P) > L:\n",
    "            X[-1]= L-P\n",
    "    \n",
    "    return X"
   ]
  },
  {
   "cell_type": "code",
   "execution_count": 2,
   "metadata": {},
   "outputs": [],
   "source": [
    "# Problema del ejemplo\n",
    "L = 1 # kilómetros\n",
    "S = [244, 248, 280, 305, 569, 610, 620, 790, 811, 949] # metros\n",
    "P = 50 # metros\n",
    "\n",
    "# Problema aleatorio (descomentar)\n",
    "# import random\n",
    "# L = random.randint(1, 5)\n",
    "# S = sorted(random.sample(range(L*1000), random.randint(10*L, 20*L)))\n",
    "# P = random.randint(10, 100)\n",
    "\n",
    "#placas(L, S, P)"
   ]
  },
  {
   "cell_type": "markdown",
   "metadata": {},
   "source": [
    "<div class=\"alert alert-warning\" style=\"width:80%; margin:0 auto; padding\">\n",
    "<center><p><h3> Comentarios y análisis de complejidad</h3></p> </center> </div>"
   ]
  },
  {
   "cell_type": "markdown",
   "metadata": {},
   "source": [
    "\n",
    "<b> \n",
    "    <ul>\n",
    "        <li>¿La solución encontrada mediante tu implementación greedy es óptima? Demuéstralo.</li>\n",
    "        <li>Realiza un análisis de complejidad de tu algoritmo.</li>\n",
    "    </ul>\n",
    "</b>"
   ]
  },
  {
   "cell_type": "markdown",
   "metadata": {},
   "source": [
    "<div class=\"alert alert-info\">\n",
    "<center>\n",
    "  <h1>Entrega</h1>\n",
    "</center>\n",
    "<p>\n",
    "Se habilitará una tarea en el Campus Virtual pasada media hora desde el comienzo del examen. Una vez terminéis, subid el examen (<b>sólo el notebook</b>) a la tarea \"Recuperación primer parcial de pácticas\" con vuestro nombre y el grupo de pácticas al que asistís:\n",
    "</p>\n",
    "<p>\n",
    "```\n",
    "[grupo_practicas]_[apellido]_[nombre]_AA_EXP.ipynb\n",
    "```\n",
    "\n",
    "</p>\n",
    "\n",
    "Donde [grupo_practicas] es uno de [A, B, C, F].\n",
    "<p>\n",
    "    Por ejemplo, para un alumno llamado <i>Nombre Genérico</i> perteneciente al <i>grupo Z</i> el nombre del archivo debería ser:\n",
    "</p>\n",
    "<p>\n",
    "```\n",
    "Z_Generico_Nombre_AA_EXP.ipynb\n",
    "```\n",
    "\n",
    "Y <b>NO</b>:\n",
    "<ul>\n",
    "<li>Z00_Generico_Nombre_AA_EXP.zip</li>\n",
    "    \n",
    "<li>ZX_Generico_Nombre_AA_EXP.ipynb</li>\n",
    "\n",
    "<li>Ex1_Generico_Nombre_AA_EXP.rar</li>\n",
    "\n",
    "<li>AA_EXP.ipynb</li>\n",
    "<li> ... cualquier otra cosa</li>\n",
    "</ul>\n",
    "</p>\n",
    "<b>Nota</b>: Recordad la importancia de de mantener el formato facilitado. Nombre de la función, entrada/s y salida/s.\n",
    "</div>"
   ]
  }
 ],
 "metadata": {
  "kernelspec": {
   "display_name": "Python 3",
   "language": "python",
   "name": "python3"
  },
  "language_info": {
   "codemirror_mode": {
    "name": "ipython",
    "version": 3
   },
   "file_extension": ".py",
   "mimetype": "text/x-python",
   "name": "python",
   "nbconvert_exporter": "python",
   "pygments_lexer": "ipython3",
   "version": "3.8.8"
  }
 },
 "nbformat": 4,
 "nbformat_minor": 2
}
