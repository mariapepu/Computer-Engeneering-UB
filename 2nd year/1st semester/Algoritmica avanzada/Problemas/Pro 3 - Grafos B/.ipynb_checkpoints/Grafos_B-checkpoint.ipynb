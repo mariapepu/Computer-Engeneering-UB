{
 "cells": [
  {
   "cell_type": "markdown",
   "metadata": {},
   "source": [
    "<div style=\"padding:30px; color: white; background-color: #0071CD\">\n",
    "<center>\n",
    "<img src=\"img/logoub.jpeg\">\n",
    "<center>\n",
    "<p>\n",
    "<h1>Algorítmica Avanzada</h1>\n",
    "<h2>Problemas 1.B - Grafos </h2>\n",
    "</center>\n",
    "</p>\n",
    "</div>"
   ]
  },
  {
   "cell_type": "markdown",
   "metadata": {},
   "source": [
    "\n",
    "<div class=\"alert alert-success\" style=\"width:90%; margin:0 auto;\">\n",
    "  <h2><p>0 - Depth-First Search</p></h2>\n",
    "  \n",
    "  <p>\n",
    "  El objetivo de _Depth First Search_ (DFS) es el mismo que el de BFS, encontrar un camino entre dos puntos del grafo\n",
    "  </p>\n",
    "  \n",
    "  <p>\n",
    "  <a href=\"https://en.wikipedia.org/wiki/Depth-first_search\">Aquí</a> podeis encontrar mas detalles sobre la implementación y características de este algoritmo.\n",
    "  </p>\n"
   ]
  },
  {
   "cell_type": "markdown",
   "metadata": {},
   "source": [
    "<div class=\"alert alert-danger\" style=\"width:80%; margin:0 auto; padding\">\n",
    "<center><p><h3> Código </h3></p> </center> \n",
    "\n",
    "<p>\n",
    "<h3>INPUT</h3>\n",
    "<ul>\n",
    "<li>__G__: Grafo sobre el que buscar el camino.</li>\n",
    "<li>__origen__: Este parámetro corresponde al índice de un nodo. En este caso deberá ser un entero _(e.g. 231)_.</li>\n",
    "<li>__destino__: El índice del nodo al que queremos llegar.</li>\n",
    "</ul>\n",
    "<br>\n",
    "<h3>OUTPUT</h3>\n",
    "El output de una funcion es un diccionario que contiene los siguientes valores\n",
    "<ul>\n",
    "<li>__ _'path'_ __: Una lista de índices correspondientes al camino encontrado del nodo inicial al nodo final, __ambos nodos, inicio y final, han de estar incluidos en esta lista__.</li>\n",
    "<li>__ _'expanded'_ __: El número de nodos que se han visitado para encontrar la solución.</li>\n",
    "<ul>\n",
    "\n",
    "</p>\n",
    "\n",
    "</div>"
   ]
  },
  {
   "cell_type": "code",
   "execution_count": 8,
   "metadata": {},
   "outputs": [],
   "source": [
    "from utils import nx\n",
    "from collections import deque\n",
    "\n",
    "def dfs(G, origen, destino):\n",
    "    visited = set()\n",
    "    stack = deque()\n",
    "    stack.appendleft(origen)\n",
    "    expanded = 0\n",
    "    parent = {origen: None}\n",
    "    node = origen\n",
    "    \n",
    "    while (node != destino):\n",
    "        node = stack.popleft()\n",
    "        if node not in visited:\n",
    "            visited.add(node)\n",
    "            expanded += 1 \n",
    "            for n in G.neighbors(node):\n",
    "                if n in visited:\n",
    "                    continue\n",
    "                stack.appendleft(n)\n",
    "                parent[n] = node\n",
    "               \n",
    "    node = destino\n",
    "    path = []\n",
    "    while node != origen:\n",
    "        path.append(node)\n",
    "        node = parent[node]\n",
    "    path.append(node)\n",
    "    path.reverse()\n",
    "    \n",
    "    return {\n",
    "        'path' : path,\n",
    "        'expanded' : expanded\n",
    "    }"
   ]
  },
  {
   "cell_type": "code",
   "execution_count": 13,
   "metadata": {},
   "outputs": [],
   "source": [
    "from utils import nx\n",
    "def _clase_dfs(G, origen, destino):\n",
    "    visited, queue = set(), [origen]\n",
    "    expanded = 0\n",
    "    parent = {origen:None}\n",
    "    while queue:\n",
    "        node = queue.pop()\n",
    "        if node == destino: break\n",
    "        if node not in visited:\n",
    "            visited.add(node)\n",
    "            expanded+=1\n",
    "            for n in G.neighbors(node):\n",
    "                if n in visited:\n",
    "                    continue\n",
    "                queue.append(n)\n",
    "                parent[n] = node\n",
    "                    \n",
    "    node = destino\n",
    "    path = [node]\n",
    "    while node != origen:\n",
    "        node = parent[node]\n",
    "        path.append(node)\n",
    "        path.reverse()\n",
    "\n",
    "    return {\n",
    "        'path' : path,\n",
    "        'expanded' : expanded\n",
    "    }"
   ]
  },
  {
   "cell_type": "code",
   "execution_count": 14,
   "metadata": {},
   "outputs": [
    {
     "data": {
      "text/plain": [
       "{'path': [1,\n",
       "  91,\n",
       "  18,\n",
       "  47,\n",
       "  2,\n",
       "  88,\n",
       "  81,\n",
       "  97,\n",
       "  0,\n",
       "  70,\n",
       "  23,\n",
       "  98,\n",
       "  14,\n",
       "  95,\n",
       "  32,\n",
       "  89,\n",
       "  79,\n",
       "  82,\n",
       "  65,\n",
       "  15,\n",
       "  51,\n",
       "  75,\n",
       "  99,\n",
       "  68,\n",
       "  96,\n",
       "  90],\n",
       " 'expanded': 26}"
      ]
     },
     "execution_count": 14,
     "metadata": {},
     "output_type": "execute_result"
    }
   ],
   "source": [
    "G = nx.generators.barabasi_albert_graph(100, 2)\n",
    "dfs(G, 1, 95)\n",
    "#_clase_dfs(G, 1, 95)"
   ]
  },
  {
   "cell_type": "markdown",
   "metadata": {},
   "source": [
    "<div class=\"alert alert-success\" style=\"width:90%; margin:0 auto;\">\n",
    "  <h2><p>1 - Componentes conexos</p></h2>\n",
    "  <p>\n",
    "    Para este ejercicio deberéis implementar una función que identifique los distintos componentes conexos de un grafo. Esto es, agrupar todos los nodos que estén conectados por un camino.\n",
    "  </p>"
   ]
  },
  {
   "cell_type": "markdown",
   "metadata": {},
   "source": [
    "<div class=\"alert alert-danger\" style=\"width:80%; margin:0 auto; padding\">\n",
    "<center><p><h3> Código </h3></p> </center> \n",
    "\n",
    "<p>\n",
    "<h3>INPUT</h3>\n",
    "<ul>\n",
    "<li>__G__: Objeto de tipo grafo sobre el cual buscaremos componentes conexos.</li>\n",
    "</ul>\n",
    "<br>\n",
    "<h3>OUTPUT</h3>\n",
    "<ul>\n",
    "<li>__ _'componentes'_ __: Una lista de listas. Cada sub-lista contendrá los índices de los nodos de uno de los componentes conexos.</li>\n",
    "<ul>\n",
    "\n",
    "</p>\n",
    "\n",
    "</div>"
   ]
  },
  {
   "cell_type": "markdown",
   "metadata": {},
   "source": [
    "empezar en un nodo cualquiera, y explorarlo a traves de los vecinos. cuando se acabe, habra nodos a los que no se ha podido llegar (no es conexo). cuando pase eso se seleccionara otro nodo al azar entre los restante (no visitados) y se seguiran explorando los vecinos, así hasta llegar a explorar todos los nodos del grafo."
   ]
  },
  {
   "cell_type": "code",
   "execution_count": 31,
   "metadata": {},
   "outputs": [],
   "source": [
    "from collections import deque\n",
    "\n",
    "def _dfs(G, origen):\n",
    "    visited = set()\n",
    "    stack = deque()\n",
    "    stack.appendleft(origen)\n",
    "    node = origen\n",
    "    \n",
    "    while (stack != deque([])):\n",
    "        node = stack.popleft()\n",
    "        if node not in visited:\n",
    "            visited.add(node)\n",
    "            for n in G.neighbors(node):\n",
    "                if n in visited:\n",
    "                    continue\n",
    "                stack.appendleft(n)\n",
    "    \n",
    "    return visited"
   ]
  },
  {
   "cell_type": "code",
   "execution_count": 32,
   "metadata": {},
   "outputs": [],
   "source": [
    "from queue import Queue\n",
    "import random\n",
    "\n",
    "def cnx(G):\n",
    "    visited = []\n",
    "    componentes = []\n",
    "    \n",
    "    while (list((set(list(G.nodes()))) - set(visited))):\n",
    "        nodo = random.choice(list((set(G.nodes())) - set(visited)))        \n",
    "        visited.extend(list(_dfs(G, nodo)))\n",
    "        componentes.append(list(_dfs(G,nodo)))\n",
    "          \n",
    "\n",
    "    return componentes"
   ]
  },
  {
   "cell_type": "code",
   "execution_count": 33,
   "metadata": {},
   "outputs": [],
   "source": [
    "def _clase_cnx(G):\n",
    "    componentes = []\n",
    "    visited = set()\n",
    "    for node in G:\n",
    "        if node in visited : continue\n",
    "        comp = _clase_dfs(G, node, set())\n",
    "        visited.update(comp)\n",
    "        componentes.append(list(comp))\n",
    "    return componentes\n",
    "\n",
    "def _clase_dfs (G, node, verts):\n",
    "    verts.add(node)\n",
    "    for neigh in G[node]:\n",
    "        if neigh not in verts:\n",
    "            verts = _dfs(G, neigh, verts)\n",
    "    return verts"
   ]
  },
  {
   "cell_type": "code",
   "execution_count": 34,
   "metadata": {
    "scrolled": true
   },
   "outputs": [
    {
     "data": {
      "text/plain": [
       "[[1, 2, 3, 4, 5, 6, 7, 8, 9, 10, 11, 12, 13],\n",
       " [32, 33, 34, 35, 24, 25, 26, 27, 28, 29, 30, 31],\n",
       " [17, 18, 19, 20, 21, 22, 23],\n",
       " [16, 14, 15],\n",
       " [0]]"
      ]
     },
     "execution_count": 34,
     "metadata": {},
     "output_type": "execute_result"
    },
    {
     "data": {
      "image/png": "[encoded data removed]",
      "text/plain": [
       "<Figure size 504x504 with 1 Axes>"
      ]
     },
     "metadata": {
      "needs_background": "light"
     },
     "output_type": "display_data"
    }
   ],
   "source": [
    "%matplotlib inline\n",
    "from utils import draw, random_multiple_component_graph\n",
    "G = random_multiple_component_graph(c=4)\n",
    "draw(G)\n",
    "cnx(G)"
   ]
  },
  {
   "cell_type": "code",
   "execution_count": null,
   "metadata": {},
   "outputs": [],
   "source": []
  }
 ],
 "metadata": {
  "kernelspec": {
   "display_name": "Python 3",
   "language": "python",
   "name": "python3"
  },
  "language_info": {
   "codemirror_mode": {
    "name": "ipython",
    "version": 3
   },
   "file_extension": ".py",
   "mimetype": "text/x-python",
   "name": "python",
   "nbconvert_exporter": "python",
   "pygments_lexer": "ipython3",
   "version": "3.7.3"
  }
 },
 "nbformat": 4,
 "nbformat_minor": 2
}
