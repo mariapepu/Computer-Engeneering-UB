{
 "cells": [
  {
   "cell_type": "markdown",
   "metadata": {},
   "source": [
    "<div style=\"padding:30px; color: white; background-color: #0071CD\">\n",
    "<center>\n",
    "<img src=\"img/logoub.jpeg\">\n",
    "<center>\n",
    "<p>\n",
    "<h1>Algorítmica Avanzada</h1>\n",
    "<h2>Problemas 2.A - Greedy </h2>\n",
    "</center>\n",
    "</p>\n",
    "</div>"
   ]
  },
  {
   "cell_type": "markdown",
   "metadata": {},
   "source": [
    "<div class=\"alert alert-info\">\n",
    "<center>\n",
    "  <h1>Introducción</h1>\n",
    "</center>"
   ]
  },
  {
   "cell_type": "markdown",
   "metadata": {},
   "source": [
    "<p>Un algoritmo Greedy es aquel que trata de resolver un problema con la heurística de escoger, a cada paso, la opción óptima con la intención de encontrar una solución óptima global al problema. En caso general, este tipo de algoritmos no son capaces de encontrar la solución óptima, sin embargo, sí pueden encontrar soluciones subóptimas suficientemente cercanas con una coste computacional significativamente menor.</p>\n",
    "\n",
    "<h3>Ejemplo</h3>\n",
    "<p>Supongamos que intentamos encontrar la suma más grande en este grafo en forma de árbol. Un algoritmo greedy no consiste en encontrar una estrategia óptima global al problema, sino que a cada paso, buscará entre sus siguientes opciones cuál lleva más cerca de la solución (óptimo local).</p>\n",
    "<img src=\"https://upload.wikimedia.org/wikipedia/commons/8/8c/Greedy-search-path-example.gif\">\n",
    "\n",
    "<h2>Estructura</h2>\n",
    "\n",
    "Todos los algoritmos greedy comparten ciertas características:\n",
    "<ol>\n",
    "    <li><b>Conjunto</b> de elementos a partir de los cuales formar una solución.</li>\n",
    "    <li>Criterio de <b>elección</b> del siguiente elemento candidato (Heurística).</li>\n",
    "    <li>Criterio de <b>validación</b> sobre los elementos candidatos.</li>\n",
    "    <li>Criterio de <b>terminación</b>, que indica cuando hemos alcanzado una solución completa.</li>\n",
    "    <li>Métrica de <b>evaluación</b> de una solución, total o parcial.</li>\n",
    "</ol>"
   ]
  },
  {
   "cell_type": "markdown",
   "metadata": {},
   "source": [
    "<div class=\"alert alert-info\">\n",
    "<center>\n",
    "  <h1>Contenido</h1>\n",
    "  </center><p>\n",
    "\n"
   ]
  },
  {
   "cell_type": "markdown",
   "metadata": {},
   "source": [
    "\n",
    "<div class=\"alert alert-success\" style=\"width:90%; margin:0 auto;\">\n",
    "  <h2><p>0 - Problema de selección de actividades</p></h2>\n",
    "  \n",
    "  <p>\n",
    "  El problema de selección de actividades nos plantea la tarea de escoger una combinación de actividades que no se solapen dado un intervalo de tiempo. El objetivo final es poder realizar el mayor número de actividades, asumiendo que sólo es posible realizar una actividad simultáneamente.\n",
    "  </p>\n",
    "  \n",
    "  <p>\n",
    "   Dadas N actividades, cada una de ellas representadas por un tiempo de inicio $s_i$ y un tiempo de fin $f_i$. Dos actividades no se solapan si se cumple que $s_i \\geq f_j$ o $s_j \\geq f_i$. El problema de selección de actividades consiste en encontrar el mayor conjunto de entre las posibles soluciones de actividades que no se solapen.\n",
    "  </p>\n"
   ]
  },
  {
   "cell_type": "markdown",
   "metadata": {},
   "source": [
    "<div class=\"alert alert-danger\" style=\"width:80%; margin:0 auto; padding\">\n",
    "<center><p><h3> Código </h3></p> </center> \n",
    "\n",
    "<p>\n",
    "<h3>INPUT</h3>\n",
    "<ul>\n",
    "<li>__A__: Lista de actividades en forma de tupla (_inicio_, _fin_).</li>\n",
    "</ul>\n",
    "<br>\n",
    "<h3>OUTPUT</h3>\n",
    "<ul>\n",
    "<li>__S__: Lista de actividades que forman la solución.</li>\n",
    "<ul>\n",
    "\n",
    "</p>\n",
    "\n",
    "</div>"
   ]
  },
  {
   "cell_type": "markdown",
   "metadata": {},
   "source": [
    "reordenar las actividades segun la duración, y luego ir cogiendo por orden de la lista las que empiecen antes"
   ]
  },
  {
   "cell_type": "code",
   "execution_count": 6,
   "metadata": {},
   "outputs": [],
   "source": [
    "def activity_selection_problem(A):   \n",
    "    x = set()\n",
    "    # Earliest activity time (initial value to compare to)\n",
    "    min_end = min(a[0] for a in A)\n",
    "    # Pick by earliest ending time\n",
    "    for(s,e) in sorted(A, key=lambda t: t[1]):\n",
    "        if min_end <= s: # iIf an activity starts AFTER this, it can be done\n",
    "            x.add((s,e))\n",
    "            min_end = e\n",
    "    return x, len(x)"
   ]
  },
  {
   "cell_type": "code",
   "execution_count": 7,
   "metadata": {},
   "outputs": [
    {
     "name": "stdout",
     "output_type": "stream",
     "text": [
      "[('10:48', '13:20'), ('13:25', '14:22'), ('11:03', '13:07'), ('10:10', '10:50'), ('18:46', '20:00'), ('14:56', '15:55'), ('11:55', '12:13'), ('08:17', '10:01'), ('16:49', '19:14'), ('10:40', '11:25'), ('09:04', '11:52'), ('19:43', '20:00'), ('16:03', '16:33'), ('12:41', '14:52'), ('18:22', '19:02'), ('16:57', '19:56'), ('19:01', '20:00'), ('15:57', '17:53'), ('14:17', '15:01'), ('17:01', '19:05')]\n"
     ]
    }
   ],
   "source": [
    "from util import randomActivities\n",
    "\n",
    "A = randomActivities(8, 20)\n",
    "activity_selection_problem(A)\n",
    "print(A)"
   ]
  },
  {
   "cell_type": "markdown",
   "metadata": {},
   "source": [
    "<div class=\"alert alert-warning\">\n",
    "<h1>Pregunta 1</h1>\n",
    "<p><strong>\n",
    "¿Las soluciones que encontremos con este algoritmo serán óptimas?\n",
    "</strong></p>\n",
    "</div>"
   ]
  },
  {
   "cell_type": "markdown",
   "metadata": {},
   "source": [
    "\n",
    "<div class=\"alert alert-success\" style=\"width:90%; margin:0 auto;\">\n",
    "  <h2><p>1 - Problema del cambio</p></h2>\n",
    "  \n",
    "  <p>\n",
    "  Dada una cantidad de dinero $V$ a devolver, cual debería ser el cambio si queremos que el número total de monedas y billetes a utilizar sea el mínimo posible. Asumimos que tenemos una cantidad ilimitada de monedas y billetes de cada tipo.\n",
    "  </p>\n"
   ]
  },
  {
   "cell_type": "markdown",
   "metadata": {},
   "source": [
    "<div class=\"alert alert-danger\" style=\"width:80%; margin:0 auto; padding\">\n",
    "<center><p><h3> Código </h3></p> </center> \n",
    "\n",
    "<p>\n",
    "<h3>INPUT</h3>\n",
    "<ul>\n",
    "<li>__V__: Cantidad de dinero a devolver.</li>\n",
    "</ul>\n",
    "<br>\n",
    "<h3>OUTPUT</h3>\n",
    "<ul>\n",
    "<li>__C__: Cambio devuelto. Debe ser una lista de tuplas de la forma (valor, cantidad)</li>\n",
    "<ul>\n",
    "\n",
    "</p>\n",
    "\n",
    "</div>"
   ]
  },
  {
   "cell_type": "code",
   "execution_count": null,
   "metadata": {},
   "outputs": [],
   "source": [
    "# MI CODIGO\n",
    "def coin_change_problem(V):\n",
    "    #debido a errores en las operaciones con los float, paso todos los valores a int y posteriormente\n",
    "    #volvere a pasarlos a float para dar el resultado\n",
    "    _V = V*100\n",
    "    auxV = int(_V)\n",
    "    sistema = [0.01,0.02,0.05,0.1,0.2,0.5,1,2,5,10,20,50,100,200,500]\n",
    "    _sistema = []\n",
    "    for moneda in sistema:\n",
    "        _sistema.append(int(moneda*100))\n",
    "    \n",
    "    _C = []\n",
    "    i = len(_sistema)-1\n",
    "    while ((_V > 0) and (i >= 0)):\n",
    "        cont = 0\n",
    "        while (_V >= _sistema[i]):\n",
    "            cont += 1\n",
    "            _V = _V - _sistema[i]\n",
    "        if (cont > 0):\n",
    "            _C.append((_sistema[i], cont))\n",
    "        i = i-1\n",
    "    \n",
    "    #comprovacion:\n",
    "    total = 0\n",
    "    for x in _C:\n",
    "        x0 = int(x[0])\n",
    "        x1 = int(x[1])\n",
    "        total = total + (x0*x1)\n",
    "        \n",
    "    if (auxV == total):\n",
    "        print (\"VALIDO\")\n",
    "    \n",
    "    #volvemos a pasar a float\n",
    "    C = []\n",
    "    for tupla in _C:\n",
    "        C.append(((float(tupla[0]/100)), tupla[1]))\n",
    "        \n",
    "    return C"
   ]
  },
  {
   "cell_type": "code",
   "execution_count": 18,
   "metadata": {},
   "outputs": [
    {
     "ename": "SyntaxError",
     "evalue": "unexpected EOF while parsing (<ipython-input-18-22454014641a>, line 15)",
     "output_type": "error",
     "traceback": [
      "\u001b[1;36m  File \u001b[1;32m\"<ipython-input-18-22454014641a>\"\u001b[1;36m, line \u001b[1;32m15\u001b[0m\n\u001b[1;33m    \u001b[0m\n\u001b[1;37m    ^\u001b[0m\n\u001b[1;31mSyntaxError\u001b[0m\u001b[1;31m:\u001b[0m unexpected EOF while parsing\n"
     ]
    }
   ],
   "source": [
    "# CODIGO CORRECCION\n",
    "C = [0.01,0.02,0.05,0.1,0.2,0.5,1,2,5,10,20,50,100,200,500]\n",
    "\n",
    "def coin_change_problem(V):\n",
    "    v = V\n",
    "    x = {}\n",
    "    n = len(C) - 1\n",
    "    while v > le-10:\n",
    "        while n and C[n] > v:\n",
    "            n-=1\n",
    "        if not C[n] in x: x[C]\n",
    "\n",
    "    \n",
    "for (v,c) in coins:\n",
    "    "
   ]
  },
  {
   "cell_type": "code",
   "execution_count": 12,
   "metadata": {},
   "outputs": [
    {
     "ename": "NameError",
     "evalue": "name 'coin_change_problem' is not defined",
     "output_type": "error",
     "traceback": [
      "\u001b[1;31m---------------------------------------------------------------------------\u001b[0m",
      "\u001b[1;31mNameError\u001b[0m                                 Traceback (most recent call last)",
      "\u001b[1;32m<ipython-input-12-11ba4249f705>\u001b[0m in \u001b[0;36m<module>\u001b[1;34m\u001b[0m\n\u001b[0;32m      6\u001b[0m \u001b[0mV\u001b[0m \u001b[1;33m=\u001b[0m \u001b[0mround\u001b[0m\u001b[1;33m(\u001b[0m\u001b[0mrandom\u001b[0m\u001b[1;33m.\u001b[0m\u001b[0muniform\u001b[0m\u001b[1;33m(\u001b[0m\u001b[1;36m0.01\u001b[0m\u001b[1;33m,\u001b[0m \u001b[1;36m1000\u001b[0m\u001b[1;33m)\u001b[0m\u001b[1;33m,\u001b[0m\u001b[1;36m2\u001b[0m\u001b[1;33m)\u001b[0m\u001b[1;33m\u001b[0m\u001b[1;33m\u001b[0m\u001b[0m\n\u001b[0;32m      7\u001b[0m \u001b[1;33m\u001b[0m\u001b[0m\n\u001b[1;32m----> 8\u001b[1;33m \u001b[0mcoin_change_problem\u001b[0m\u001b[1;33m(\u001b[0m\u001b[0mV\u001b[0m\u001b[1;33m)\u001b[0m\u001b[1;33m\u001b[0m\u001b[1;33m\u001b[0m\u001b[0m\n\u001b[0m",
      "\u001b[1;31mNameError\u001b[0m: name 'coin_change_problem' is not defined"
     ]
    }
   ],
   "source": [
    "import random\n",
    "\n",
    "sistema = [0.01,0.02,0.05,0.1,0.2,0.5,1,2,5,10,20,50,100,200,500]\n",
    "monedero = {s:random.randint(0,5) for s in sistema}\n",
    "\n",
    "V = round(random.uniform(0.01, 1000),2)\n",
    "\n",
    "coin_change_problem(V)"
   ]
  },
  {
   "cell_type": "markdown",
   "metadata": {},
   "source": [
    "<div class=\"alert alert-warning\">\n",
    "<h1>Pregunta 2</h1>\n",
    "<p><strong>\n",
    "¿Qué cambios habría que realizar al algoritmo si no asumimos una cantidad ilimitada de cada tipo de moneda/billete?\n",
    "</strong></p>\n",
    "</div>"
   ]
  },
  {
   "cell_type": "code",
   "execution_count": 16,
   "metadata": {},
   "outputs": [],
   "source": [
    "C = [0.01,0.02,0.05,0.1,0.2,0.5,1,2,5,10,20,50,100,200,500]\n",
    "monedero = {c:0 for c in C}\n",
    "monedero = {c: random.randint(0,5) for c in C}\n",
    "\n",
    "def coin_change_prolem2(V):\n",
    "    v = V\n",
    "    x = {}\n",
    "    n = len(C) - 1\n",
    "    while v > le-10:\n",
    "        while n and C[n] > v:\n",
    "            n -= 1\n",
    "            if not C[n] in x: x[C[n]] = 0\n",
    "            # If no more coins/bills of current type\n",
    "            if monedero[C[n]] == x[C[n]]:\n",
    "                if n == 0: break # No smaller coins to try\n",
    "                else: n -= 1 #Try next smaller one\n",
    "            # Coin/bill available\n",
    "            else: \n",
    "                s[C[n]] += 1\n",
    "                V -= C[n]\n",
    "        x = [(k, x[k]) for k in x]\n",
    "        change = round(sum(c*v for (v,c) in x), 2)\n",
    "        return x, change, V - change\n",
    "    "
   ]
  },
  {
   "cell_type": "code",
   "execution_count": 17,
   "metadata": {},
   "outputs": [
    {
     "name": "stdout",
     "output_type": "stream",
     "text": [
      "VALIDO\n"
     ]
    },
    {
     "data": {
      "text/plain": [
       "[(500.0, 1), (200.0, 2), (20.0, 1), (2.0, 1), (0.1, 1)]"
      ]
     },
     "execution_count": 17,
     "metadata": {},
     "output_type": "execute_result"
    }
   ],
   "source": [
    "import random\n",
    "\n",
    "V = random.uniform(0.01, 1000)\n",
    "\n",
    "coin_change_problem2(V)"
   ]
  },
  {
   "cell_type": "markdown",
   "metadata": {},
   "source": [
    "\n",
    "<div class=\"alert alert-success\" style=\"width:90%; margin:0 auto;\">\n",
    "  <h2><p>2 - Problema del vendedor ambulante</p></h2>\n",
    "  \n",
    "  <p>\n",
    "  Dada una lista de ciudades y las distancias entre cada par de ellas, ¿cuál es la ruta más corta posible que visita cada ciudad exactamente una vez y al finalizar regresa a la ciudad origen?\n",
    "  </p>"
   ]
  },
  {
   "cell_type": "markdown",
   "metadata": {},
   "source": [
    "<div class=\"alert alert-danger\" style=\"width:80%; margin:0 auto; padding\">\n",
    "<center><p><h3> Código </h3></p> </center> \n",
    "\n",
    "<p>\n",
    "<h3>INPUT</h3>\n",
    "<ul>\n",
    "<li>__cities__: Lista de ciudades en forma de tuplas (ciudad, latitud, longitud).</li>\n",
    "</ul>\n",
    "<br>\n",
    "<h3>OUTPUT</h3>\n",
    "<ul>\n",
    "<li>__path__: Camino encontrado en forma de lista de ciudades</li>\n",
    "<ul>\n",
    "\n",
    "</p>\n",
    "\n",
    "</div>"
   ]
  },
  {
   "cell_type": "code",
   "execution_count": null,
   "metadata": {
    "collapsed": true
   },
   "outputs": [],
   "source": [
    "def travelling_salesman_problem(cities):\n",
    "    num_cities = len(cities)\n",
    "    distance = np.zeros((num_cities, num_cities))\n",
    "    for i in range(num_cities):\n",
    "        for j in rage(i+1, num_cities):\n",
    "            dist = euc1_norm(cities[i], cities[j])\n",
    "            distance[i,j] = dist\n",
    "            distance[j,i] = dist\n",
    "            \n",
    "        visited = (x:False for x in range(num_cities))\n",
    "        path = [rd.choice(cities)[0]]\n",
    "        while len(path) < num_cities:\n",
    "            minum = float('inf')\n",
    "            next_city = idx\n",
    "            "
   ]
  },
  {
   "cell_type": "code",
   "execution_count": 159,
   "metadata": {},
   "outputs": [
    {
     "ename": "NameError",
     "evalue": "name 'travelling_salesman_problem' is not defined",
     "output_type": "error",
     "traceback": [
      "\u001b[1;31m---------------------------------------------------------------------------\u001b[0m",
      "\u001b[1;31mNameError\u001b[0m                                 Traceback (most recent call last)",
      "\u001b[1;32m<ipython-input-159-f23377cd9661>\u001b[0m in \u001b[0;36m<module>\u001b[1;34m\u001b[0m\n\u001b[0;32m      3\u001b[0m \u001b[0mcities\u001b[0m \u001b[1;33m=\u001b[0m \u001b[1;33m[\u001b[0m\u001b[1;33m(\u001b[0m\u001b[0m_\u001b[0m\u001b[1;33m,\u001b[0m \u001b[0muniform\u001b[0m\u001b[1;33m(\u001b[0m\u001b[1;33m-\u001b[0m\u001b[1;36m50\u001b[0m\u001b[1;33m,\u001b[0m \u001b[1;36m50\u001b[0m\u001b[1;33m)\u001b[0m\u001b[1;33m,\u001b[0m \u001b[0muniform\u001b[0m\u001b[1;33m(\u001b[0m\u001b[1;33m-\u001b[0m\u001b[1;36m50\u001b[0m\u001b[1;33m,\u001b[0m \u001b[1;36m50\u001b[0m\u001b[1;33m)\u001b[0m\u001b[1;33m)\u001b[0m \u001b[1;32mfor\u001b[0m \u001b[0m_\u001b[0m \u001b[1;32min\u001b[0m \u001b[0mrange\u001b[0m\u001b[1;33m(\u001b[0m\u001b[1;36m1000\u001b[0m\u001b[1;33m)\u001b[0m\u001b[1;33m]\u001b[0m\u001b[1;33m\u001b[0m\u001b[1;33m\u001b[0m\u001b[0m\n\u001b[0;32m      4\u001b[0m \u001b[1;33m\u001b[0m\u001b[0m\n\u001b[1;32m----> 5\u001b[1;33m \u001b[0mtravelling_salesman_problem\u001b[0m\u001b[1;33m(\u001b[0m\u001b[0mcities\u001b[0m\u001b[1;33m)\u001b[0m\u001b[1;33m\u001b[0m\u001b[1;33m\u001b[0m\u001b[0m\n\u001b[0m",
      "\u001b[1;31mNameError\u001b[0m: name 'travelling_salesman_problem' is not defined"
     ]
    }
   ],
   "source": [
    "from random import uniform\n",
    "\n",
    "cities = [(_, uniform(-50, 50), uniform(-50, 50)) for _ in range(1000)]\n",
    "\n",
    "travelling_salesman_problem(cities)"
   ]
  },
  {
   "cell_type": "markdown",
   "metadata": {},
   "source": [
    "<div class=\"alert alert-warning\">\n",
    "<h1>Pregunta 3</h1>\n",
    "<p><strong>\n",
    "¿Los caminos que encontremos con este algoritmo serán óptimos?\n",
    "</strong></p>\n",
    "</div>"
   ]
  },
  {
   "cell_type": "markdown",
   "metadata": {},
   "source": [
    "\n",
    "<div class=\"alert alert-success\" style=\"width:90%; margin:0 auto;\">\n",
    "  <h2><p>3 - Fracciones Egipcias</p></h2>\n",
    "  \n",
    "  <p>\n",
    "  Toda fracción positiva puede ser expresada como la suma de fracciones unitarias. Una fracción unitaria es aquella cuyo numerador es $1$ y el denominador es un entero positivo. \n",
    "  </p>\n",
    "  \n",
    "  <p>\n",
    "   Ejemplos:\n",
    "    <ul>\n",
    "        <li>$2/3 = 1/2 + 1/6$</li>\n",
    "        <li>$6/14 = 1/3 + 1/11 + 1/231$</li>\n",
    "        <li>$12/13 = 1/2 + 1/3 + 1/12 + 1/156$</li>\n",
    "    </ul>\n",
    "  </p>"
   ]
  },
  {
   "cell_type": "markdown",
   "metadata": {},
   "source": [
    "<div class=\"alert alert-danger\" style=\"width:80%; margin:0 auto; padding\">\n",
    "<center><p><h3> Código </h3></p> </center> \n",
    "\n",
    "<p>\n",
    "<h3>INPUT</h3>\n",
    "<ul>\n",
    "<li>__numerator__: Numerador.</li>\n",
    "<li>__denominator__: Denominador.</li>\n",
    "</ul>\n",
    "<br>\n",
    "<h3>OUTPUT</h3>\n",
    "<ul>\n",
    "<li>Sin output. Debe mostrar en pantalla la solución de esta forma: '1/2 + 1/3 + ...'</li>\n",
    "<ul>\n",
    "\n",
    "</p>\n",
    "\n",
    "</div>"
   ]
  },
  {
   "cell_type": "code",
   "execution_count": 5,
   "metadata": {},
   "outputs": [],
   "source": [
    "import math\n",
    "def egyptian_fractions(n, d):\n",
    "    sol = []\n",
    "    # While not done\n",
    "    while n:\n",
    "        # Compute closest unitary fraction\n",
    "        e = math.ceil(d/n)\n",
    "        # Add to sol\n",
    "        sol += [e]\n",
    "        # Compute residual fraction\n",
    "        n = -d % n\n",
    "        d += e\n",
    "        \n",
    "    return sol"
   ]
  },
  {
   "cell_type": "code",
   "execution_count": 6,
   "metadata": {},
   "outputs": [
    {
     "data": {
      "text/plain": [
       "[2, 3, 3, 9, 9, 83, 165]"
      ]
     },
     "execution_count": 6,
     "metadata": {},
     "output_type": "execute_result"
    }
   ],
   "source": [
    "from random import randint\n",
    "\n",
    "n = randint(1, 1000)\n",
    "d = randint(1, 1000)\n",
    "\n",
    "egyptian_fractions(n, d)"
   ]
  },
  {
   "cell_type": "code",
   "execution_count": null,
   "metadata": {},
   "outputs": [],
   "source": []
  }
 ],
 "metadata": {
  "kernelspec": {
   "display_name": "Python 3",
   "language": "python",
   "name": "python3"
  },
  "language_info": {
   "codemirror_mode": {
    "name": "ipython",
    "version": 3
   },
   "file_extension": ".py",
   "mimetype": "text/x-python",
   "name": "python",
   "nbconvert_exporter": "python",
   "pygments_lexer": "ipython3",
   "version": "3.7.3"
  }
 },
 "nbformat": 4,
 "nbformat_minor": 2
}
