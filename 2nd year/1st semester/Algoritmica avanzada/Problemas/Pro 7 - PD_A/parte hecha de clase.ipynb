{
 "cells": [
  {
   "cell_type": "markdown",
   "metadata": {},
   "source": [
    "<div style=\"padding:30px; color: white; background-color: #0071CD\">\n",
    "<center>\n",
    "<img src=\"img/logoub.jpeg\">\n",
    "<center>\n",
    "<p>\n",
    "<h1>Algorítmica Avanzada</h1>\n",
    "<h2>Problemas 3.A - Programación Dinámica </h2>\n",
    "</center>\n",
    "</p>\n",
    "</div>"
   ]
  },
  {
   "cell_type": "markdown",
   "metadata": {},
   "source": [
    "<div class=\"alert alert-danger\" style=\"width:95%; margin:0 auto; padding\">\n",
    "A la hora de crear las matrices de programación dinámica podéis emplear diversas estructuras de datos. A la hora de gestionar matrices, la lista de listas puede ser una buena opción, pero existen librerías como NumPy que hacen una mejor gestión de las matrices.\n",
    "\n",
    "Podéis consultar aquí la documentación: https://docs.scipy.org/doc/numpy/reference/"
   ]
  },
  {
   "cell_type": "markdown",
   "metadata": {},
   "source": [
    "<div class=\"alert alert-success\" style=\"width:90%; margin:0 auto;\">\n",
    "\n",
    "  <h2><p>1- El problema de la mochila</p></h2>\n",
    "  \n",
    "  <p> En esta primera sección trabajaremos con el problema de la mochila que ya vimos en los problemas de Greedy. Refrequemos un poco:\n",
    "</p>\n",
    "  <center><img src=\"img/knapsack.png\" width=30%></center>\n",
    "  \n",
    "  <p>\n",
    "    Nos encontramos en una habitación en la que hay $N$ objetos, cada cual con un peso $w_1, w_2, w_3 ... w_N$ y un valor $v_1, v_2, v_3 ... v_N$. Disponemos de una mochila que puede soportar una carga máxima de $W$.\n",
    "    Se busca conseguir llenar la mochila maximizando el valor total de la misma. Es decir queremos encontrar la combinación de objetos $b$ tal que $\\arg_{b} \\max{\\sum_{i=0}^{N}{v_i · b_i}}$ manteniendo siempre cierto que no superamos el peso máximo de la mochila: $\\sum_{i=0}^{N}{(w_i · b_i)}\\leq W$.\n",
    "     \n",
    "</p>\n",
    "  \n",
    "Trabajaremos tres variantes de este problema. En el primero, dispondremos solo de un objeto de cada tipo; en otro dispondremos de una cantidad ilimitada de objetos de cada tipo; finalmente, dispondremos de una cantidad limitada $c_1, c_2, c_3 ... c_N$ de cada objeto.\n"
   ]
  },
  {
   "cell_type": "code",
   "execution_count": null,
   "metadata": {},
   "outputs": [],
   "source": [
    "''' \n",
    "Implementa aquí la solución de PD que resuelve el problema de la mochila simple (sin cantidades)\n",
    "@input: Lista de listas con la forma [peso,valor] representando los objetos que podemos escoger.\n",
    "@output: Lista de listas con la forma [peso,valor] representando los objetos escogidos.\n",
    "'''\n",
    "def dynamic_knapsack(D):\n",
    "    V = np.zeros((len(D)+1,W+1))\n",
    "    P = dict()\n",
    "    for i in range(1,len(D)+1):\n",
    "        for w in range(1,W+1):\n",
    "            # If object is heavier than capacity\n",
    "            if D[i-1][0] > w:\n",
    "                # Can't take the object\n",
    "                V[i,w] = V[i-1,w]\n",
    "                P[(i,w)] = (i-1,w)\n",
    "            # If I have objects and they fit in the knapsack\n",
    "            elif D[i-1][0] <= w:\n",
    "                # Choose the maxium value between taking the object and not\n",
    "                choice,which = max((V[i-1,w],0),(V[i-1,w-D[i-1][0]]+D[i-1][1],1))\n",
    "                V[i,w] = choice\n",
    "                P[(i,w)] = (i-1,w-D[i-1][0]) if which else (i-1,w)\n",
    "    \n",
    "    knapsack = []\n",
    "    \n",
    "    i,w = np.unravel_index(np.argumax(V),V.shape)\n",
    "    print(\"Max is:\",np.max(V),\"found in\",i,w)\n",
    "    while i != 0:\n",
    "        # If parent value is different, the objects was taken\n",
    "        if P.get((que tristeza venir para escuchar hablar al puto tonto este :3))\n",
    "\n",
    "''' \n",
    "Implementa aquí la solución de PD que resuelve el problema de la mochila con cantidad de objetos limitados\n",
    "@input: Lista de listas con la forma [peso,valor,cantidad] representando los objetos que podemos escoger.\n",
    "@output: Lista de listas con la forma [peso,valor,cantidad] representando los objetos escogidos.\n",
    "'''\n",
    "def dynamic_knapsac_quantities(D):\n",
    "    pass\n",
    "\n",
    "''' \n",
    "Implementa aquí la solución de PD que resuelve el problema de la mochila con cantidad de objetos ilimitados\n",
    "@input: Lista de listas con la forma [peso,valor] representando los objetos que podemos escoger.\n",
    "@output: Lista de listas con la forma [peso,valor,cantidad] representando los objetos escogidos.\n",
    "'''\n",
    "def dynamic_kapsac_infinite(D):\n",
    "    pass"
   ]
  },
  {
   "cell_type": "code",
   "execution_count": 3,
   "metadata": {},
   "outputs": [
    {
     "name": "stdout",
     "output_type": "stream",
     "text": [
      "[[8, 4], [33, 14], [48, 60], [27, 69], [6, 18], [18, 33], [28, 15], [21, 65], [23, 17], [12, 38]]\n"
     ]
    }
   ],
   "source": [
    "from utils import random_objects\n",
    "# random_objects genera una lista de objetos, \n",
    "# cada uno representado como [peso,valor] o [peso,valor,cantidad].\n",
    "# Su único parámetro es un booleano opcional que indica si la \n",
    "# cantidad de objetos es finita (False) o infinita (True, por defecto)\n",
    "W = randint(30,500) # Capacidad de la mochila\n",
    "# Prueba tus algoritmos aquí.\n",
    "\n",
    "dynamic_knapsack(random_objects(True))\n"
   ]
  },
  {
   "cell_type": "markdown",
   "metadata": {},
   "source": [
    "<div class=\"alert alert-warning\" style=\"width:80%; margin:0 auto; padding\">\n",
    "<center><p><h3> Cuestiones</h3></p> </center> </div>"
   ]
  },
  {
   "cell_type": "markdown",
   "metadata": {},
   "source": [
    "<ul>\n",
    "    <li>¿En qué casos se encuentra solución óptima al problema?</li>\n",
    "    <li>Explica las soluciones planteadas y analiza su complejidad. Comparalo con las implementaciones greedy.</li>\n",
    "</ul>"
   ]
  },
  {
   "cell_type": "markdown",
   "metadata": {},
   "source": [
    "__Escribe aquí tus respuestas__\n",
    "\n",
    "<h4> Pregunta 1 </h4>\n",
    "\n",
    "<h4> Pregunta 2 </h4>"
   ]
  },
  {
   "cell_type": "markdown",
   "metadata": {},
   "source": [
    "<div class=\"alert alert-success\" style=\"width:90%; margin:0 auto;\">\n",
    "\n",
    "  <h2><p>2 - Algoritmo Floyd-Warshall</p></h2>\n",
    "  \n",
    "  <p> El algoritmo Floyd-Warshall es un algoritmo de programación dinámica que se emplea para encontrar los caminos mínimos en un grafo con pesos (que no tenga ciclos negativos) entre todos los pares de nodos. Se basa en ir construyendo una matriz con caminos intermedios entre trios de nodos. Podéis ver más información y consultar el pseudocódigo <a href=\"https://es.wikipedia.org/wiki/Algoritmo_de_Floyd-Warshall\">aquí</a>.</p>\n"
   ]
  },
  {
   "cell_type": "code",
   "execution_count": null,
   "metadata": {},
   "outputs": [],
   "source": [
    "''' \n",
    "Implementa aquí el algoritmo Floyd Warshall\n",
    "'''\n",
    "def floyd_warshall(G):\n",
    "    pass"
   ]
  },
  {
   "cell_type": "code",
   "execution_count": null,
   "metadata": {},
   "outputs": [],
   "source": [
    "from utils import random_graph, draw_graph, draw_path\n",
    "# random_graph(N,E) genera un grafo aleatorio con N vértices y E aristas.\n",
    "#                   Podéis asumir que los ids de los nodos serán enteros del 0 a N-1\n",
    "# draw_graph(G,s) dibuja el grafo G, el parámetro opcional s indica el tamaño del dibujo.\n",
    "# draw_path(G,p,s) igual que draw_graph pero destacando las aristas que forman el path.\n",
    "\n",
    "# Prueba aquí tu algoritmo."
   ]
  },
  {
   "cell_type": "markdown",
   "metadata": {},
   "source": [
    "<div class=\"alert alert-warning\" style=\"width:80%; margin:0 auto; padding\">\n",
    "<center><p><h3> Cuestiones</h3></p> </center> </div>"
   ]
  },
  {
   "cell_type": "markdown",
   "metadata": {},
   "source": [
    "<ul>\n",
    "    <li>Analiza la complejidad del algoritmo.</li>\n",
    "</ul>"
   ]
  }
 ],
 "metadata": {
  "kernelspec": {
   "display_name": "Python 3",
   "language": "python",
   "name": "python3"
  },
  "language_info": {
   "codemirror_mode": {
    "name": "ipython",
    "version": 3
   },
   "file_extension": ".py",
   "mimetype": "text/x-python",
   "name": "python",
   "nbconvert_exporter": "python",
   "pygments_lexer": "ipython3",
   "version": "3.7.3"
  }
 },
 "nbformat": 4,
 "nbformat_minor": 2
}
