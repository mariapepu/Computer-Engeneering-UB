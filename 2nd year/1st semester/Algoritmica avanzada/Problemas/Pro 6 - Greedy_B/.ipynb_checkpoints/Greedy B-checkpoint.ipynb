{
 "cells": [
  {
   "cell_type": "markdown",
   "metadata": {},
   "source": [
    "<div style=\"padding:30px; color: white; background-color: #0071CD\">\n",
    "<center>\n",
    "<img src=\"img/logoub.jpeg\">\n",
    "<center>\n",
    "<p>\n",
    "<h1>Algorítmica Avanzada</h1>\n",
    "<h2>Problemas 2.B - Greedy </h2>\n",
    "</center>\n",
    "</p>\n",
    "</div>"
   ]
  },
  {
   "cell_type": "markdown",
   "metadata": {},
   "source": [
    "<div class=\"alert alert-success\" style=\"width:90%; margin:0 auto;\">\n",
    "  <h2><p>4 - El número más grande</p></h2>\n",
    "  \n",
    "  <p>\n",
    "  Dados dos números, $N$ y $S$, encuentra el número más grande posible de $N$ dígitos tal que la suma de dichos dígitos sea $S$.\n",
    "  </p>"
   ]
  },
  {
   "cell_type": "markdown",
   "metadata": {},
   "source": [
    "<div class=\"alert alert-danger\" style=\"width:80%; margin:0 auto; padding\">\n",
    "<center><p><h3> Código </h3></p> </center> \n",
    "\n",
    "<p>\n",
    "<h3>INPUT</h3>\n",
    "<ul>\n",
    "<li>__N__: Número de dígitos.</li>\n",
    "<li>__S__: Suma de los dígitos.</li>\n",
    "</ul>\n",
    "<br>\n",
    "<h3>OUTPUT</h3>\n",
    "<ul>\n",
    "<li>__T__: Número que cumple las condiciones requeridas.</li>\n",
    "<ul>\n",
    "\n",
    "</p>\n",
    "\n",
    "</div>"
   ]
  },
  {
   "cell_type": "code",
   "execution_count": 142,
   "metadata": {},
   "outputs": [],
   "source": [
    "def _largest_number(N, S):\n",
    "    print(\"N:\",N,\"S:\",S)\n",
    "    T = 0\n",
    "    _S = S\n",
    "    exp = N -1\n",
    "    for i in range(N):\n",
    "        num = 9\n",
    "        while (num >= 0) or (S < num*(10**exp)):\n",
    "            if _S >= num*(10**exp):\n",
    "                _S -= num*(10**exp)\n",
    "                T += num*(10**exp)\n",
    "            num -= 1\n",
    "        exp -= 1\n",
    "    \n",
    "    if (S == T):\n",
    "        print(\"VALID\")\n",
    "    return T "
   ]
  },
  {
   "cell_type": "code",
   "execution_count": 3,
   "metadata": {},
   "outputs": [],
   "source": [
    "# Codigo Clase (algo he copiao mal)\n",
    "def largest_number(N, S):\n",
    "    if (N*9 < S):\n",
    "        return -1\n",
    "    T = ''\n",
    "    for i in range(N):\n",
    "        if S > 8:\n",
    "            T += '9'\n",
    "            S -= 9\n",
    "        else:\n",
    "            T += str(S)\n",
    "            S = 0\n",
    "    return int(T)"
   ]
  },
  {
   "cell_type": "code",
   "execution_count": 5,
   "metadata": {},
   "outputs": [
    {
     "data": {
      "text/plain": [
       "-1"
      ]
     },
     "execution_count": 5,
     "metadata": {},
     "output_type": "execute_result"
    }
   ],
   "source": [
    "from random import randint\n",
    "\n",
    "n = randint(1, 50)\n",
    "s = randint(1, 500)\n",
    "\n",
    "largest_number(n, s)"
   ]
  },
  {
   "cell_type": "markdown",
   "metadata": {},
   "source": [
    "<div class=\"alert alert-success\" style=\"width:90%; margin:0 auto;\">\n",
    "  <h2><p>5 - Minimiza la suma del producto</p></h2>\n",
    "  \n",
    "  <p>\n",
    "  Dadas dos listas de números $A$ y $B$ del mismo tamaño $N$, minimiza $A[0]*B[0] + A[1]*B[1] + ... + A[N]*B[N]$ cambiando de orden los elementos de la listas.\n",
    "  </p>"
   ]
  },
  {
   "cell_type": "markdown",
   "metadata": {},
   "source": [
    "<div class=\"alert alert-danger\" style=\"width:80%; margin:0 auto; padding\">\n",
    "<center><p><h3> Código </h3></p> </center> \n",
    "\n",
    "<p>\n",
    "<h3>INPUT</h3>\n",
    "<ul>\n",
    "<li>__A__: Lista de números.</li>\n",
    "<li>__B__: Lista de números.</li>\n",
    "</ul>\n",
    "<br>\n",
    "<h3>OUTPUT</h3>\n",
    "<ul>\n",
    "<li>__S__: Suma de productos.</li>\n",
    "<ul>\n",
    "\n",
    "</p>\n",
    "\n",
    "</div>"
   ]
  },
  {
   "cell_type": "code",
   "execution_count": 8,
   "metadata": {},
   "outputs": [],
   "source": [
    "def minimize_sum_prod(A, B):\n",
    "    # Ordenar una lista de menor a mayor y la otra de mayor a menor\n",
    "    A = sorted(A)\n",
    "    B = sorted(B, reverse = True)\n",
    "    S = 0\n",
    "    for i in range(0, len(A)):\n",
    "        S += A[i]*B[i]\n",
    "    return S"
   ]
  },
  {
   "cell_type": "code",
   "execution_count": 10,
   "metadata": {},
   "outputs": [
    {
     "data": {
      "text/plain": [
       "100788"
      ]
     },
     "execution_count": 10,
     "metadata": {},
     "output_type": "execute_result"
    }
   ],
   "source": [
    "from random import randint\n",
    "\n",
    "N = 50\n",
    "A = [randint(1,100) for _ in range(N)]\n",
    "B = [randint(1,100) for _ in range(N)]\n",
    "minimize_sum_prod(A,B)"
   ]
  },
  {
   "cell_type": "markdown",
   "metadata": {},
   "source": [
    "  <div class=\"alert alert-success\" style=\"width:90%; margin:0 auto;\">\n",
    "\n",
    "  <h2><p>6- El problema de la mochila</p></h2>\n",
    "  \n",
    "  <center><img src=\"img/knapsack.png\" width=30%></center>\n",
    "  \n",
    "  <p>\n",
    "    Nos encontramos en una habitación en la que hay $N$ objetos, cada cual con un peso $w_1, w_2, w_3 ... w_N$ y un valor $v_1, v_2, v_3 ... v_N$. Disponemos de una mochila que puede soportar una carga máxima de $W$.\n",
    "    Se os pide que implementéis un algoritmo greedy Greedy para conseguir llenar la mochila maximizando el valor total de la misma. Es decir queremos encontrar la combinación de objetos $b$ tal que $\\arg_{b} \\max{\\sum_{i=0}^{N}{v_i · b_i}}$ manteniendo siempre cierto que no superamos el peso máximo de la mochila: $\\sum_{i=0}^{N}{(w_i · b_i)}\\leq W$.\n",
    "     \n",
    "</p>"
   ]
  },
  {
   "cell_type": "markdown",
   "metadata": {},
   "source": [
    "<div class=\"alert alert-danger\" style=\"width:80%; margin:0 auto; padding\">\n",
    "<center><p><h3> Código </h3></p> </center> \n",
    "\n",
    "<p>\n",
    "<h3>INPUT</h3>\n",
    "<ul>\n",
    "<li>__Items__: Lista de objetos en forma de tuplas (peso, valor).</li>\n",
    "</ul>\n",
    "<br>\n",
    "<h3>OUTPUT</h3>\n",
    "<ul>\n",
    "<li>__Packed__: Lista de objetos que nos llevaremos en la mochila.</li>\n",
    "<ul>\n",
    "\n",
    "</p>\n",
    "\n",
    "</div>"
   ]
  },
  {
   "cell_type": "code",
   "execution_count": 16,
   "metadata": {},
   "outputs": [],
   "source": [
    "import heapq\n",
    "def knapsack(W, items):\n",
    "    lista = []\n",
    "    peso_total = 0\n",
    "    Packed = []\n",
    "    # Calculamos la media de valor entre peso de todos los items\n",
    "    for item in items:\n",
    "        media = item[1] / item[0]\n",
    "        lista.append((media, item[0], item[1]))\n",
    "    # Mientras no nos pasemos del valor total, iremos añadiendo los items con media mas alta\n",
    "    lista = sorted(lista, reverse = True)\n",
    "    for item in lista:\n",
    "        if (peso_total + item[1] <= W):\n",
    "            peso_total += item[1]\n",
    "            Packed.append((item[1], item[2]))\n",
    "        if (peso_total == W):\n",
    "            break\n",
    "    return Packed"
   ]
  },
  {
   "cell_type": "code",
   "execution_count": 17,
   "metadata": {},
   "outputs": [
    {
     "data": {
      "text/plain": [
       "[(0.9081225174552826, 78.30444347615288),\n",
       " (1.0274490560399718, 79.61652015075207),\n",
       " (1.6133897036817977, 68.26236538371037),\n",
       " (1.1460525575411025, 32.58192318014642),\n",
       " (4.874957838394969, 83.62346449709516),\n",
       " (5.136862769698889, 80.96023817765186),\n",
       " (7.041014453939877, 97.59607643706369),\n",
       " (5.74298179131112, 67.58155726237477),\n",
       " (4.151601875413832, 47.60249469394837),\n",
       " (4.919386748385888, 46.63000637576536),\n",
       " (1.4531881818450822, 13.399026382172451),\n",
       " (4.741587847107134, 42.31573360273354),\n",
       " (9.716803531058455, 73.7157189638174),\n",
       " (3.7938268998060902, 24.197421477787607),\n",
       " (9.991333099463986, 60.89443449270225),\n",
       " (9.848552231220745, 47.965635682734884),\n",
       " (8.346245306748482, 38.339370283665005),\n",
       " (7.917147089155138, 35.83431650762632),\n",
       " (6.231085360329135, 24.135097604194687)]"
      ]
     },
     "execution_count": 17,
     "metadata": {},
     "output_type": "execute_result"
    }
   ],
   "source": [
    "from random import uniform\n",
    "\n",
    "W = 100\n",
    "N_items = 25\n",
    "items = [(uniform(0.01, 10), uniform(0, 100)) for _ in range(N_items)]\n",
    "\n",
    "knapsack(W, items)"
   ]
  },
  {
   "cell_type": "code",
   "execution_count": null,
   "metadata": {},
   "outputs": [],
   "source": []
  }
 ],
 "metadata": {
  "kernelspec": {
   "display_name": "Python 3",
   "language": "python",
   "name": "python3"
  },
  "language_info": {
   "codemirror_mode": {
    "name": "ipython",
    "version": 3
   },
   "file_extension": ".py",
   "mimetype": "text/x-python",
   "name": "python",
   "nbconvert_exporter": "python",
   "pygments_lexer": "ipython3",
   "version": "3.7.3"
  }
 },
 "nbformat": 4,
 "nbformat_minor": 2
}
