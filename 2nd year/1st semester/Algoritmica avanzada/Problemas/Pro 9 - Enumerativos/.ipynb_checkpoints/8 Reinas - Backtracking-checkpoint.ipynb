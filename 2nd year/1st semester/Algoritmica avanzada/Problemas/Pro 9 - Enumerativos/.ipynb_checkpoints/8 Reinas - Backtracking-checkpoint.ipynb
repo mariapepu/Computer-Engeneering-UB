{
 "cells": [
  {
   "cell_type": "code",
   "execution_count": 4,
   "metadata": {},
   "outputs": [
    {
     "name": "stdout",
     "output_type": "stream",
     "text": [
      "8\n",
      "Solution exists\n",
      "[[1, 0, 0, 0, 0, 0, 0, 0], [0, 0, 0, 0, 0, 0, 1, 0], [0, 0, 0, 0, 1, 0, 0, 0], [0, 0, 0, 0, 0, 0, 0, 1], [0, 1, 0, 0, 0, 0, 0, 0], [0, 0, 0, 1, 0, 0, 0, 0], [0, 0, 0, 0, 0, 1, 0, 0], [0, 0, 1, 0, 0, 0, 0, 0]]\n"
     ]
    }
   ],
   "source": [
    "def isSafe (board, row, col):\n",
    "    # check left row\n",
    "    for y in range(col):\n",
    "        if board[row][y] == 1:\n",
    "            return False\n",
    "    # check diagonal left top\n",
    "    for x, y in zip(range(row, -1, -1), range(col, -1, -1)):\n",
    "        if board[x][y] == 1:\n",
    "            return False\n",
    "    # check diagonal left bottom\n",
    "    for x, y in zip(range(row, N, 1), range(col, -1, -1)):\n",
    "        if board[x][y] == 1:\n",
    "            return False\n",
    "\n",
    "    return True\n",
    "\n",
    "def generateSolution(board, col):\n",
    "    # terminating condition\n",
    "    # all columns covered\n",
    "    global N\n",
    "    if col >= N:\n",
    "        return True\n",
    "    # loop over all the rows\n",
    "    for i in range(N):\n",
    "        if isSafe(board, i, col) == True:\n",
    "            board[i][col] = 1\n",
    "            # recursively place other queens\n",
    "            if generateSolution(board, col + 1) == True:\n",
    "                return True\n",
    "            # unmark queen spot\n",
    "            board[i][col] = 0\n",
    "    # backtrack\n",
    "    return False\n",
    "\n",
    "\n",
    "N = int(input())\n",
    "startCol = 0\n",
    "board = [[0 for i in range(N)] for j in range(N)]\n",
    "# print(board)\n",
    "\n",
    "if generateSolution(board, startCol) == False:\n",
    "    print(\"No Solution Exists\")\n",
    "else:\n",
    "    print(\"Solution exists\")\n",
    "    print(board)"
   ]
  },
  {
   "cell_type": "code",
   "execution_count": null,
   "metadata": {},
   "outputs": [],
   "source": []
  }
 ],
 "metadata": {
  "kernelspec": {
   "display_name": "Python 3",
   "language": "python",
   "name": "python3"
  }
 },
 "nbformat": 4,
 "nbformat_minor": 2
}
