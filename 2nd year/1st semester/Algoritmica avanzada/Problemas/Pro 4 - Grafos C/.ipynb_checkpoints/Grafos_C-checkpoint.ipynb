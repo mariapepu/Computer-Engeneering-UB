{
 "cells": [
  {
   "cell_type": "markdown",
   "metadata": {},
   "source": [
    "<div style=\"padding:30px; color: white; background-color: #0071CD\">\n",
    "<center>\n",
    "<img src=\"img/logoub.jpeg\">\n",
    "<center>\n",
    "<p>\n",
    "<h1>Algorítmica Avanzada</h1>\n",
    "<h2>Problemas 1.C - Grafos </h2>\n",
    "</center>\n",
    "</p>\n",
    "</div>"
   ]
  },
  {
   "cell_type": "markdown",
   "metadata": {},
   "source": [
    "\n",
    "<div class=\"alert alert-success\" style=\"width:90%; margin:0 auto;\">\n",
    "  <h2><p>0 - Detección de ciclos</p></h2>\n",
    "  \n",
    "  <p>\n",
    "  En este ejercicio deberéis implementar un algoritmo capaz de detectar si un grafo cualquiera contiene ciclos.\n",
    "  </p>\n"
   ]
  },
  {
   "cell_type": "markdown",
   "metadata": {},
   "source": [
    "<div class=\"alert alert-danger\" style=\"width:80%; margin:0 auto; padding\">\n",
    "<center><p><h3> Código </h3></p> </center> \n",
    "\n",
    "<p>\n",
    "<h3>INPUT</h3>\n",
    "<ul>\n",
    "<li>__G__: Este es el grafo que utilizaremos para buscar ciclos.</li>\n",
    "</ul>\n",
    "<br>\n",
    "<h3>OUTPUT</h3>\n",
    "<ul>\n",
    "<li>__ _'TF'_ __: Booleano indicando si el grafo de entrada contiene algún ciclo.</li>\n",
    "<ul>\n",
    "\n",
    "</p>\n",
    "\n",
    "</div>"
   ]
  },
  {
   "cell_type": "markdown",
   "metadata": {},
   "source": [
    "((((coger un nodo al azar. si solo tiene una aresta descartarlo. ir recorriendo (visitados) hasta que se pueda acabar en el mismo nodo como final. ¿dfs? para parar cuando se encuentre un ciclo))))\n",
    "\n",
    "no coger un origen = destino. recorrer el grafo sin ir descartando los nodos (pero guardarlos en una lista de visitados. Al ir al siguiente nodo, no considerar el actual, pero comprobar si es un nodo ya visitado. Si lo es, habremos econtrado un ciclo.\n",
    "considerar tambien que el grafo podria no ser conexo\n"
   ]
  },
  {
   "cell_type": "code",
   "execution_count": 5,
   "metadata": {},
   "outputs": [],
   "source": [
    "from collections import deque\n",
    "from queue import Queue\n",
    "import random\n",
    "\n",
    "def _dfs(G, origen):\n",
    "    visited = set()\n",
    "    stack = deque()\n",
    "    stack.appendleft(origen)\n",
    "    node = origen\n",
    "    \n",
    "    while (stack != deque([])):\n",
    "        node = stack.popleft()\n",
    "        if node not in visited:\n",
    "            visited.add(node)\n",
    "            for n in G.neighbors(node):\n",
    "                if n in visited:\n",
    "                    continue\n",
    "                stack.appendleft(n)\n",
    "    \n",
    "    return visited\n",
    "#_________________________________________________________________\n",
    "\n",
    "def _cnx(G):\n",
    "    visited = []\n",
    "    componentes = []\n",
    "    \n",
    "    while (list((set(list(G.nodes()))) - set(visited))):\n",
    "        nodo = random.choice(list((set(G.nodes())) - set(visited)))        \n",
    "        visited.extend(list(_dfs(G, nodo)))\n",
    "        componentes.append(list(_dfs(G,nodo)))\n",
    "          \n",
    "\n",
    "    return componentes\n"
   ]
  },
  {
   "cell_type": "code",
   "execution_count": 6,
   "metadata": {},
   "outputs": [],
   "source": [
    "from utils import nx\n",
    "def cycles(G):\n",
    "    componentes = _cnx(G) #cogemos los componentes del grafo\n",
    "    previous = dict()\n",
    "    visited = []\n",
    "    for node in G.nodes(): #inicializar el diccionario de nodos previos\n",
    "        previous[node] = None\n",
    "    for componente in componentes: #para cada componente miramos si va  ahaber un ciclo (no tiene por que recorrerlos todos)\n",
    "        origen = random.choice(componente) #comenzamos en un nodo cualquiera del componente\n",
    "        queue = [origen] #añadimos ese nodo en la queue\n",
    "        while queue: #mientras haya nodos en la queue\n",
    "            node_actual = queue.pop() #se cogera el último añadido\n",
    "            if node_actual not in visited: #si no hemos visitado el nodo anteriormente lo añadiremos a visited\n",
    "                visited.append(node_actual)\n",
    "                for n in G.neighbors(node_actual): #comprobamos los vecinos\n",
    "                    #si uno ya lo hemos visitado\n",
    "                    if (n in visited) and (previous[node_actual] != n):\n",
    "                        return True\n",
    "                    queue.append(n)\n",
    "                    previous[n] = node_actual\n",
    "    \n",
    "    return False"
   ]
  },
  {
   "cell_type": "code",
   "execution_count": 7,
   "metadata": {},
   "outputs": [
    {
     "data": {
      "text/plain": [
       "True"
      ]
     },
     "execution_count": 7,
     "metadata": {},
     "output_type": "execute_result"
    }
   ],
   "source": [
    "G = nx.generators.barabasi_albert_graph(100, 2)\n",
    "cycles(G)"
   ]
  },
  {
   "cell_type": "code",
   "execution_count": null,
   "metadata": {},
   "outputs": [],
   "source": []
  },
  {
   "cell_type": "code",
   "execution_count": 37,
   "metadata": {},
   "outputs": [],
   "source": [
    "from utils import nx\n",
    "from collections import deque\n",
    "\n",
    "def _cycles(G):\n",
    "    visited = set() #llista de nodes visitats\n",
    "    stack = deque() # \n",
    "    previous = dict() #diccionari on guardarem els nodes previs de cada node\n",
    "    \n",
    "    while (len(visited) == len(list(G.nodes()))):\n",
    "        node_actual = random.choice(list(G.nodes))\n",
    "        stack.append(node_actual)\n",
    "        while ():\n",
    "            node_actual = stack.pop()\n",
    "            if node not in visited:\n",
    "                visited.add(node)\n",
    "                for n in G.neighbors(node):\n",
    "                    if n in visited:\n",
    "                        return True\n",
    "                    queue.append(n)\n",
    "                \n",
    "        if (len(visited) < list(G.nodes())):\n",
    "            node_actual = random.choice(list(set(G.nodes) - visited))\n",
    "                \n",
    "    return False  "
   ]
  },
  {
   "cell_type": "markdown",
   "metadata": {},
   "source": [
    "<div class=\"alert alert-success\" style=\"width:90%; margin:0 auto;\">\n",
    "  <h2><p>1 - Circuito Euleriano</p></h2>\n",
    "  <p>\n",
    "  Se define como circuito euleriano aquel que pasa por todas las aristas de un grafo una única vez y que acaba en el mismo lugar en el que empieza. El problema de los caminos eulerianos fué la base de toda la teoría de grafos y fué postulado por Lehonard Euler en el famoso problema de __los siete puentes de Königsberg__. En este problema Euler se preguntaba si podía acabar en el mismo sitio tras cruzar todos los puentes una sola vez.\n",
    "  </p>\n",
    "  <img src=\"img/konigsberg.jpg\"></img>\n",
    "  <p>\n",
    "  En este ejercicio se os propone implementar un algoritmo que, dado un grafo _G_ encuentre un camino euleriano.\n",
    "  </p>"
   ]
  },
  {
   "cell_type": "markdown",
   "metadata": {},
   "source": [
    "<div class=\"alert alert-danger\" style=\"width:80%; margin:0 auto; padding\">\n",
    "<center><p><h3> Código </h3></p> </center> \n",
    "\n",
    "<p>\n",
    "<h3>INPUT</h3>\n",
    "<ul>\n",
    "<li>__G__: Objeto de tipo grafo sobre el cual queremos encontrar el circuito Euleriano.</li>\n",
    "</ul>\n",
    "<br>\n",
    "<h3>OUTPUT</h3>\n",
    "<ul>\n",
    "<li>__ _nodelist_ __: Una lista de nodos ordenados que formarían el circuito.</li>\n",
    "<ul>\n",
    "\n",
    "</p>\n",
    "\n",
    "</div>"
   ]
  },
  {
   "cell_type": "markdown",
   "metadata": {},
   "source": [
    "caso general (el grafo podria no ser conexo). \n",
    "el primer y ultimo nodo deben ser el mismo. No se pueden repetir aristas, pero sí nodos. \n",
    "da igual el nodo que se elija como origen\n",
    "lista aristas visitadas\n",
    "\n",
    "al haber explorado y cerrado el camino sin recorrer todas las aristas, ir al nodo donde tienes mas aristas por visitar, empezando el camino por ahi otra vez (esto cada vez que cierre un ciclo). Al final tendremos una lista de ciclos, que deberemos juntar en una unica lista (abrir el camino en el nodo donde hay mas aristas e inlcluir ahi el \"nuevo\" ciclo)\n",
    "\n"
   ]
  },
  {
   "cell_type": "code",
   "execution_count": 5,
   "metadata": {},
   "outputs": [],
   "source": [
    "from utils import nx\n",
    "import random\n",
    "\n",
    "def euler(G):\n",
    "    origen = random.choice(list(G.nodes()))\n",
    "    node_actual = origen\n",
    "    aristas_visitadas = []\n",
    "    path = [nodo_origen]\n",
    "    #while (len(path) < len(G.nodes()))\n",
    "    \n",
    "    #comprobar que todos los nodos tienen grado par\n",
    "    for nodo in list(G.nodes()):\n",
    "        if ((G.edges(nodo))%2 != 0):\n",
    "            return -1\n",
    "    \n",
    "    while (len(path) < len(G.edges())):\n",
    "        path.append(node_actual)\n",
    "        for arista in G.edges(node_actual):\n",
    "            \n",
    "    \n",
    "    \n",
    "    \n",
    "    \n",
    "    "
   ]
  },
  {
   "cell_type": "code",
   "execution_count": 17,
   "metadata": {},
   "outputs": [
    {
     "name": "stdout",
     "output_type": "stream",
     "text": [
      "[(1, 2, None)]\n"
     ]
    },
    {
     "data": {
      "image/png": "[encoded data removed]",
      "text/plain": [
       "<Figure size 504x504 with 1 Axes>"
      ]
     },
     "metadata": {
      "needs_background": "light"
     },
     "output_type": "display_data"
    }
   ],
   "source": [
    "%matplotlib inline\n",
    "from utils import nx\n",
    "from utils import draw, random_multiple_component_graph\n",
    "G = nx.generators.barabasi_albert_graph(10, 2)\n",
    "draw(G)"
   ]
  },
  {
   "cell_type": "markdown",
   "metadata": {},
   "source": [
    "<div class=\"alert alert-warning\">\n",
    "<h1>Pregunta</h1>\n",
    "<p><strong>\n",
    "¿Qué condiciones se deben de cumplir para que un grafo cualquiera contenga un camino euleriano? Demuéstralo.\n",
    "</strong></p>\n",
    "</div>"
   ]
  },
  {
   "cell_type": "markdown",
   "metadata": {},
   "source": [
    "<div class=\"alert alert-warning\">\n",
    "<h1>Extra</h1>\n",
    "<p><strong>\n",
    "Además de circuitos Eulerianos, definimos caminos Eulerianos aquellos que recorren todas las aristas de un grafo sin repetirlas, pero no termina en el mismo nodo que empieza. Modifica el algoritmo anterior para que sea capaz de detectar si el grafo contiene un ciclo o un camino Euleriano, y devuelva la lista de nodos ordenados que componen dicho ciclo o camino. Tened en cuenta que son casos excluyentes.\n",
    "</strong></p>\n",
    "</div>"
   ]
  }
 ],
 "metadata": {
  "kernelspec": {
   "display_name": "Python 3",
   "language": "python",
   "name": "python3"
  },
  "language_info": {
   "codemirror_mode": {
    "name": "ipython",
    "version": 3
   },
   "file_extension": ".py",
   "mimetype": "text/x-python",
   "name": "python",
   "nbconvert_exporter": "python",
   "pygments_lexer": "ipython3",
   "version": "3.7.3"
  }
 },
 "nbformat": 4,
 "nbformat_minor": 2
}
