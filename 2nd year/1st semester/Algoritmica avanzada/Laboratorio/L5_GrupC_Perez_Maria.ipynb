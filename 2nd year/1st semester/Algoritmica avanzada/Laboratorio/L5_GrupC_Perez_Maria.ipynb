{
 "cells": [
  {
   "cell_type": "markdown",
   "metadata": {},
   "source": [
    "<div style=\"padding:30px; color: white; background-color: #0071CD\">\n",
    "<center>\n",
    "<img src=\"img/logoub.jpeg\"></img>\n",
    "<center>\n",
    "<h1>Algorísmica Avançada 2021</h1>\n",
    "<h2>Laboratori 5 - Enumeratius, Ramificació i Poda</h2>\n",
    "</center>\n",
    "</div>"
   ]
  },
  {
   "cell_type": "code",
   "execution_count": 1,
   "metadata": {},
   "outputs": [
    {
     "data": {
      "text/html": [
       "<style>.container { width:100% !important; }</style>"
      ],
      "text/plain": [
       "<IPython.core.display.HTML object>"
      ]
     },
     "metadata": {},
     "output_type": "display_data"
    }
   ],
   "source": [
    "import sys\n",
    "sys.path.insert(0, '../../')\n",
    "\n",
    "from IPython.core.display import display, HTML\n",
    "display(HTML(\"<style>.container { width:100% !important; }</style>\"))"
   ]
  },
  {
   "cell_type": "markdown",
   "metadata": {},
   "source": [
    "# Backtracking"
   ]
  },
  {
   "cell_type": "markdown",
   "metadata": {},
   "source": [
    "El <b>backtracking</b> és una tècnica d'exploració exhaustiva, és a dir, que explora tots els possibles estats d'un problema. La implementació d'un algorisme mitjançant backtracking no és gaire diferent a les estratègies de recursió que hem vist fins ara peró amb un matís important que veurem a continuació. Tots els algorismes de backtracking es caracteritzen per anar avançant fins que es pugui i, en cas d'arribar a un punt on no podem seguir explorant, <b>desfer el camí fins a l'últim punt possible</b> i explorar els següents estats.<br><br>\n",
    "Un exemple per al problema de les N-Reines (N=4) el podeu veure representat en la figura següent.<br>\n",
    "Observeu com inicialment es col·loca una reina a la primera casella (0,0) i, al no arribar a una solució, s'acaba movent a la posició (1,0).\n",
    "<img src=\"https://i.imgur.com/FYu8t3s.gif\" width='20%'/>\n"
   ]
  },
  {
   "cell_type": "markdown",
   "metadata": {},
   "source": [
    "## Com programem algorismes usant backtracking?\n",
    "\n",
    "Tot algorimse de backtracking ha de tenir, com a mínim, els següents tres blocs de codi."
   ]
  },
  {
   "cell_type": "markdown",
   "metadata": {},
   "source": [
    "<img src=\"img/backscheme.png\" width='40%'/>"
   ]
  },
  {
   "cell_type": "markdown",
   "metadata": {},
   "source": [
    "<ol>\n",
    "    <li><b>Solució trobada</b>: Hem de tenir una forma de comprovar si hem arribat a una solució. En el cas que aquest sigui l'únic objectiu del problema, ja haurem acabat i simplement haurem de desfer les crides recursives.\n",
    "    <li><b>Exploració</b>: Donat un estat actual, mirem quins moviments podem fer (si és que en podem fer algun!). Triem un dels moviments (seguint un criteri, o no) i cridem recursivament la funció esperant trobar una solució al problema. En el cas que el resultat d'una exploració no hagi retornat cap solució vàlida, hem de desfer el moviment que havíem fet.\n",
    "    <li><b>Estat no vàlid</b>: En el cas que durant l'exploració ens trobem amb un estat que no es vàlid per seguir explorant, per exemple, no podem fer cap altre moviment i tampoc hem resolt el problema, avisem a les crides anteriors d'això per a que puguin desfer-lo.\n",
    "</ol>"
   ]
  },
  {
   "cell_type": "markdown",
   "metadata": {},
   "source": [
    "<div class=\"alert alert-success\">\n",
    "    <h1>Problema 1: Lights Out!</h1>\n",
    "    <img src=\"https://upload.wikimedia.org/wikipedia/commons/a/a9/LightsOutIllustration.svg\" width='70%'>\n",
    "    <p>\n",
    "        Lights Out és un joc que consisteix en encendre o apagar totes les llums d'un tauler de dimensió $W\\times H$ en el <b>mínim nombre de clics possibles</b>. L'objectiu d'aquest problema és una mica diferent. Donades dues configuracions de tauler (per exemple la primera i última imatge de la figura anterior), volem trobar el mínim nombre de clics que ens permeten transformar un tauler en l'altre.<br><br>\n",
    "        Cada cel·la de la graella té dos estats possibles (encesa/apagada) i al fer clic sobre una cel·la es canvia l'estat d'ella mateixa i de les cel·les adjacents horitzontals i verticals com podeu veure representat també en la figura anterior.<br><br>\n",
    "        Implementeu les dues funcions <b>compare_grids</b> i <b>solve_lights_out</b>. \n",
    "        <ol>\n",
    "            <li>La funció <b>compare_grids</b> ha de retornar un valor de similitud entre dues graelles.\n",
    "            <li>La funció <b>solve_lights_out</b> ha d'implementar estratègies de backtracking i/o ramificació i poda per tal d'optimitzar el màxim el temps d'execució. Podeu plantejar-vos també usar cues de prioritat per prioritzar l'expansió de certs estats en concret.\n",
    "        </ol>        \n",
    "    La classe <b>LightsOut</b> conté una sola variable, <b>grid</b> amb la representació de cada posició de la graella.<br>\n",
    "    Té implementades les funcions <b>click, board_id, show_board</b> que s'expliquen a continuació.    \n",
    "    </p>\n",
    "    \n",
    "</div>"
   ]
  },
  {
   "cell_type": "code",
   "execution_count": 1,
   "metadata": {},
   "outputs": [],
   "source": [
    "from lights_out import LightsOut\n",
    "import random\n",
    "from matplotlib import pyplot as plt"
   ]
  },
  {
   "cell_type": "markdown",
   "metadata": {},
   "source": [
    "### Generació de taulers aleatoris"
   ]
  },
  {
   "cell_type": "code",
   "execution_count": 2,
   "metadata": {},
   "outputs": [],
   "source": [
    "# Generem dos configuracions aleatòries\n",
    "W, H = 3,4\n",
    "shuffle = 100\n",
    "\n",
    "# Inicialitzem dos objectes amb la dimensió de la graella\n",
    "a = LightsOut(W, H) # Configuració inicial\n",
    "b = LightsOut(W, H) # Configuració objectiu\n",
    "\n",
    "# Clicks aleatoris\n",
    "for _ in range(shuffle ):\n",
    "    i, j = random.randint(0, len(b.grid)-1), random.randint(0, len(b.grid[0])-1)\n",
    "    b = b.click(i,j)\n",
    "    \n",
    "for _ in range(shuffle):\n",
    "    i, j = random.randint(0, len(a.grid)-1), random.randint(0, len(a.grid[0])-1)\n",
    "    a = a.click(i,j)"
   ]
  },
  {
   "cell_type": "markdown",
   "metadata": {},
   "source": [
    "### Mostrem els dos taulells generats"
   ]
  },
  {
   "cell_type": "code",
   "execution_count": 3,
   "metadata": {},
   "outputs": [
    {
     "data": {
      "image/png": "[encoded data removed]",
      "text/plain": [
       "<Figure size 720x360 with 2 Axes>"
      ]
     },
     "metadata": {
      "needs_background": "light"
     },
     "output_type": "display_data"
    }
   ],
   "source": [
    "fig, axs = plt.subplots(1,2,figsize=(10,5))\n",
    "\n",
    "a.show_board(ax = axs[0])\n",
    "axs[0].set_title('Configuració inicial')\n",
    "b.show_board(ax = axs[1])\n",
    "axs[1].set_title('Configuració objectiu')\n",
    "\n",
    "plt.show()"
   ]
  },
  {
   "cell_type": "markdown",
   "metadata": {},
   "source": [
    "### Ús de la variable 'grid' i de les funcions 'board_id()', 'click()' i 'show_board()'"
   ]
  },
  {
   "cell_type": "code",
   "execution_count": 4,
   "metadata": {
    "scrolled": true
   },
   "outputs": [
    {
     "data": {
      "text/plain": [
       "[['X', 'X', '-', '-'], ['X', 'X', '-', 'X'], ['X', '-', '-', 'X']]"
      ]
     },
     "execution_count": 4,
     "metadata": {},
     "output_type": "execute_result"
    }
   ],
   "source": [
    "# Podem accedir a a la graella amb la variable 'grid'\n",
    "a.grid"
   ]
  },
  {
   "cell_type": "code",
   "execution_count": 5,
   "metadata": {},
   "outputs": [
    {
     "data": {
      "text/plain": [
       "7513069475596082777"
      ]
     },
     "execution_count": 5,
     "metadata": {},
     "output_type": "execute_result"
    }
   ],
   "source": [
    "# Podem usar un identificador únic de cada graella cridant a board_id()\n",
    "a.board_id()"
   ]
  },
  {
   "cell_type": "code",
   "execution_count": 6,
   "metadata": {},
   "outputs": [
    {
     "data": {
      "image/png": "[encoded data removed]",
      "text/plain": [
       "<Figure size 1080x288 with 3 Axes>"
      ]
     },
     "metadata": {
      "needs_background": "light"
     },
     "output_type": "display_data"
    }
   ],
   "source": [
    "# Inicialitzem una figura amb tres subfigures i hi mostrem en primer lloc la configuració inicial\n",
    "fig, axs = plt.subplots(1,3,figsize=(15,4))\n",
    "a.show_board(ax = axs[0])\n",
    "axs[0].set_title('Configuració inicial')\n",
    "\n",
    "# Triem un punt aleatori i mostrem el click.\n",
    "i, j = random.randint(0, len(a.grid)-1), random.randint(0, len(a.grid[0])-1)\n",
    "a.show_board(ax = axs[1], show_click=(i,j))\n",
    "axs[1].set_title(f'Click a la casella ({i},{j})')\n",
    "\n",
    "# Executem el click i mirem el resultat\n",
    "new_a = a.click(i,j)\n",
    "new_a.show_board(ax = axs[2])\n",
    "axs[2].set_title(f'Configuració després del click ({i},{j})')\n",
    "\n",
    "plt.show()"
   ]
  },
  {
   "cell_type": "code",
   "execution_count": 7,
   "metadata": {},
   "outputs": [],
   "source": [
    "def get_elems_pq(pq): \n",
    "    values = []\n",
    "    \n",
    "    while not pq.empty():\n",
    "        priority, value = pq.get()\n",
    "        values.append(value)\n",
    "    print(\"Priority queue: \",  values)\n",
    "    return values"
   ]
  },
  {
   "cell_type": "code",
   "execution_count": 17,
   "metadata": {},
   "outputs": [],
   "source": [
    "from queue import PriorityQueue\n",
    "import operator\n",
    "\n",
    "def compare_grids(l1, l2):\n",
    "    \"\"\"\n",
    "    Aquesta funció assigna una puntuació a la similitud entre l1 i l2.\n",
    "    \n",
    "    Params\n",
    "    ======\n",
    "    :l1, l2: Dos objectes de tipus LightsOut\n",
    "    \n",
    "    Returns\n",
    "    =======\n",
    "    :score: Una puntuació entre aquests dos elements.\n",
    "    \"\"\"\n",
    "    score = 0\n",
    "    \n",
    "    #recorro la matriz\n",
    "    for r, rl1 in enumerate(l1.grid):\n",
    "        for c, cl1 in enumerate(rl1):\n",
    "            if(l1.grid[r][c]!=l2.grid[r][c]): #si son distintos sumo uno al score\n",
    "                score+=1\n",
    "    \n",
    "    return score\n",
    "\n",
    "def light_out_rec(ini, tar, expanded, path):\n",
    "    similarity = compare_grids(ini,tar) #obtengo similitud\n",
    "    \n",
    "    #si son iguales termino, si son iguales el score sera 0 (tiene 0 diferencias respecto al target)\n",
    "    if (similarity == 0): \n",
    "        return ini, expanded, path\n",
    "        \n",
    "    movements = ordered_movements(ini, tar)\n",
    "    \n",
    "    if (len(movements)==0): #si no hay movimientos posibles, no hay solucion\n",
    "        path.pop() #elimino el ultimo click que hice ya que estava mal\n",
    "        return 0, expanded, path\n",
    "    \n",
    "    for move in movements:\n",
    "        ini2 = ini.click(move)\n",
    "        path.add (move) #despues del click lo anyado al path\n",
    "        expanded += 1\n",
    "        _return, expanded = light_out_rec(ini2, tar, expanded)\n",
    "        if (_return != 0):\n",
    "            return _return, expanded, path\n",
    "    \n",
    "    return 0, expanded, path\n",
    "\n",
    "def ordered_movements(ini, tar):\n",
    "    sorted_moves=[]\n",
    "    # Calculamos todos los movimientos posibles\n",
    "    for rowIndex, rowL1 in enumerate(ini.grid):\n",
    "        for colIndex, colL1 in enumerate(rowL1):\n",
    "            score = compare_grids(ini.click(rowIndex, colIndex), tar)\n",
    "            sorted_moves.append((score,(rowIndex, colIndex)))\n",
    "            \n",
    "    # ordenar por score\n",
    "    sorted_moves.sort(key=lambda x:x[0])\n",
    "    print(sorted_moves)\n",
    "    return sorted_moves     \n",
    "\n",
    "def solve_lights_out(ini, tar):\n",
    "    \"\"\"\n",
    "    Aquesta funció soluciona el problema Lights Out i retorna una solució de moviments mínims.\n",
    "    \n",
    "    Params\n",
    "    ======\n",
    "    :ini, tar: Dos objectes de tipus LightsOut\n",
    "    \n",
    "    Returns\n",
    "    =======\n",
    "    :expanded: Número de taulers que s'han expandit\n",
    "    :best_moves: La seqüència de moviments que s'han de realitzar per arribar d'un tauler \n",
    "    a l'altre en el format [(0,0), (3,2), (1,2),...]\n",
    "    \"\"\"\n",
    "    \n",
    "    expanded = 0\n",
    "    best_moves = []\n",
    "    \n",
    "    result = light_out_rec(ini, tar, expanded, best_moves)\n",
    "    expanded = result[1]   \n",
    "    best_moves = result[2]    \n",
    "    \n",
    "    return expanded, best_moves\n",
    "\n",
    "\n",
    "def show_steps(ini, tar, steps):\n",
    "    \"\"\"\n",
    "    Mostra una figura per pas donat un tauler inicial i un conjunt de passos\n",
    "    \n",
    "    Params\n",
    "    ======\n",
    "    :ini: Un objecte de la classe LightsOut amb la configuració original\n",
    "    :tar: Un objecte de la classe LightsOut amb la configuració objectiu\n",
    "    :steps: Una llista de passos amb el format [(0,0), (3,2), (1,2),...]\n",
    "    \"\"\"\n",
    "    fig, axs = plt.subplots(1, len(steps)+2, figsize=(30,5))\n",
    "    axs = axs.flatten()\n",
    "    for i, step in enumerate(steps):\n",
    "        ini.show_board(ax=axs[i], show_click=step)\n",
    "        axs[i].set_title(f\"Click at {step}\")\n",
    "        ini = ini.click(*step)\n",
    "    ini.show_board(ax=axs[i+1])\n",
    "    axs[i+1].set_title(f'Result after {len(steps)} steps')\n",
    "    tar.show_board(ax=axs[i+2])\n",
    "    axs[i+2].set_title(f'Target configuration')\n",
    "    plt.show()"
   ]
  },
  {
   "cell_type": "markdown",
   "metadata": {},
   "source": [
    "Proveu-ho aquí:"
   ]
  },
  {
   "cell_type": "code",
   "execution_count": 18,
   "metadata": {},
   "outputs": [
    {
     "name": "stdout",
     "output_type": "stream",
     "text": [
      "[(5, (1, 1)), (6, (0, 2)), (6, (2, 1)), (6, (2, 2)), (7, (1, 2)), (7, (2, 0)), (8, (0, 1)), (8, (1, 0)), (8, (1, 3)), (9, (0, 0)), (9, (0, 3)), (9, (2, 3))]\n"
     ]
    },
    {
     "ename": "TypeError",
     "evalue": "click() missing 1 required positional argument: 'j'",
     "output_type": "error",
     "traceback": [
      "\u001b[1;31m---------------------------------------------------------------------------\u001b[0m",
      "\u001b[1;31mTypeError\u001b[0m                                 Traceback (most recent call last)",
      "\u001b[1;32m<ipython-input-18-128d792b9254>\u001b[0m in \u001b[0;36m<module>\u001b[1;34m\u001b[0m\n\u001b[1;32m----> 1\u001b[1;33m \u001b[0mexpanded\u001b[0m\u001b[1;33m,\u001b[0m \u001b[0mmoves\u001b[0m \u001b[1;33m=\u001b[0m \u001b[0msolve_lights_out\u001b[0m\u001b[1;33m(\u001b[0m\u001b[0ma\u001b[0m\u001b[1;33m,\u001b[0m\u001b[0mb\u001b[0m\u001b[1;33m)\u001b[0m\u001b[1;33m\u001b[0m\u001b[1;33m\u001b[0m\u001b[0m\n\u001b[0m",
      "\u001b[1;32m<ipython-input-17-acd4d661b836>\u001b[0m in \u001b[0;36msolve_lights_out\u001b[1;34m(ini, tar)\u001b[0m\n\u001b[0;32m     78\u001b[0m     \u001b[0mbest_moves\u001b[0m \u001b[1;33m=\u001b[0m \u001b[1;33m[\u001b[0m\u001b[1;33m]\u001b[0m\u001b[1;33m\u001b[0m\u001b[1;33m\u001b[0m\u001b[0m\n\u001b[0;32m     79\u001b[0m \u001b[1;33m\u001b[0m\u001b[0m\n\u001b[1;32m---> 80\u001b[1;33m     \u001b[0mresult\u001b[0m \u001b[1;33m=\u001b[0m \u001b[0mlight_out_rec\u001b[0m\u001b[1;33m(\u001b[0m\u001b[0mini\u001b[0m\u001b[1;33m,\u001b[0m \u001b[0mtar\u001b[0m\u001b[1;33m,\u001b[0m \u001b[0mexpanded\u001b[0m\u001b[1;33m,\u001b[0m \u001b[0mbest_moves\u001b[0m\u001b[1;33m)\u001b[0m\u001b[1;33m\u001b[0m\u001b[1;33m\u001b[0m\u001b[0m\n\u001b[0m\u001b[0;32m     81\u001b[0m     \u001b[0mexpanded\u001b[0m \u001b[1;33m=\u001b[0m \u001b[0mresult\u001b[0m\u001b[1;33m[\u001b[0m\u001b[1;36m1\u001b[0m\u001b[1;33m]\u001b[0m\u001b[1;33m\u001b[0m\u001b[1;33m\u001b[0m\u001b[0m\n\u001b[0;32m     82\u001b[0m     \u001b[0mbest_moves\u001b[0m \u001b[1;33m=\u001b[0m \u001b[0mresult\u001b[0m\u001b[1;33m[\u001b[0m\u001b[1;36m2\u001b[0m\u001b[1;33m]\u001b[0m\u001b[1;33m\u001b[0m\u001b[1;33m\u001b[0m\u001b[0m\n",
      "\u001b[1;32m<ipython-input-17-acd4d661b836>\u001b[0m in \u001b[0;36mlight_out_rec\u001b[1;34m(ini, tar, expanded, path)\u001b[0m\n\u001b[0;32m     38\u001b[0m \u001b[1;33m\u001b[0m\u001b[0m\n\u001b[0;32m     39\u001b[0m     \u001b[1;32mfor\u001b[0m \u001b[0mmove\u001b[0m \u001b[1;32min\u001b[0m \u001b[0mmovements\u001b[0m\u001b[1;33m:\u001b[0m\u001b[1;33m\u001b[0m\u001b[1;33m\u001b[0m\u001b[0m\n\u001b[1;32m---> 40\u001b[1;33m         \u001b[0mini2\u001b[0m \u001b[1;33m=\u001b[0m \u001b[0mini\u001b[0m\u001b[1;33m.\u001b[0m\u001b[0mclick\u001b[0m\u001b[1;33m(\u001b[0m\u001b[0mmove\u001b[0m\u001b[1;33m)\u001b[0m\u001b[1;33m\u001b[0m\u001b[1;33m\u001b[0m\u001b[0m\n\u001b[0m\u001b[0;32m     41\u001b[0m         \u001b[0mpath\u001b[0m\u001b[1;33m.\u001b[0m\u001b[0madd\u001b[0m \u001b[1;33m(\u001b[0m\u001b[0mmove\u001b[0m\u001b[1;33m)\u001b[0m \u001b[1;31m#despues del click lo anyado al path\u001b[0m\u001b[1;33m\u001b[0m\u001b[1;33m\u001b[0m\u001b[0m\n\u001b[0;32m     42\u001b[0m         \u001b[0mexpanded\u001b[0m \u001b[1;33m+=\u001b[0m \u001b[1;36m1\u001b[0m\u001b[1;33m\u001b[0m\u001b[1;33m\u001b[0m\u001b[0m\n",
      "\u001b[1;31mTypeError\u001b[0m: click() missing 1 required positional argument: 'j'"
     ]
    }
   ],
   "source": [
    "expanded, moves = solve_lights_out(a,b)"
   ]
  },
  {
   "cell_type": "code",
   "execution_count": 10,
   "metadata": {},
   "outputs": [
    {
     "ename": "NameError",
     "evalue": "name 'expanded' is not defined",
     "output_type": "error",
     "traceback": [
      "\u001b[1;31m---------------------------------------------------------------------------\u001b[0m",
      "\u001b[1;31mNameError\u001b[0m                                 Traceback (most recent call last)",
      "\u001b[1;32m<ipython-input-10-05679c8ad3c2>\u001b[0m in \u001b[0;36m<module>\u001b[1;34m\u001b[0m\n\u001b[1;32m----> 1\u001b[1;33m \u001b[0mprint\u001b[0m\u001b[1;33m(\u001b[0m\u001b[1;34m'Expanded boards:'\u001b[0m\u001b[1;33m,\u001b[0m\u001b[0mexpanded\u001b[0m\u001b[1;33m)\u001b[0m\u001b[1;33m\u001b[0m\u001b[1;33m\u001b[0m\u001b[0m\n\u001b[0m\u001b[0;32m      2\u001b[0m \u001b[0mshow_steps\u001b[0m\u001b[1;33m(\u001b[0m\u001b[0ma\u001b[0m\u001b[1;33m,\u001b[0m \u001b[0mb\u001b[0m\u001b[1;33m,\u001b[0m\u001b[0mmoves\u001b[0m\u001b[1;33m)\u001b[0m\u001b[1;33m\u001b[0m\u001b[1;33m\u001b[0m\u001b[0m\n",
      "\u001b[1;31mNameError\u001b[0m: name 'expanded' is not defined"
     ]
    }
   ],
   "source": [
    "print('Expanded boards:',expanded)\n",
    "show_steps(a, b,moves)"
   ]
  },
  {
   "cell_type": "markdown",
   "metadata": {},
   "source": [
    "<div class=\"alert alert-success\">\n",
    "    <h1>Problema 2: Roomba!</h1>\n",
    "    <p>\n",
    "        En el nostre pis quadrat, tenim una roomba endollada a la seva base de càrrega. Volem que visiti un seguit de punts que hem embrutat i que ho faci en el menor temps possible. Si el nostre pis és de $W\\times H$ cel·les i la roomba està situada inicialment a les coordenades $(x_0,y_0)$ volem trobar el menor nombre de passos possibles $p$ d'un recorregut que comenci i acabi a $(x_0,y_0)$ i que visiti tots els punts.<br><br>\n",
    "        Implementeu la funció <b>solve_roomba</b> utilitzant estratègies de backtracking i ramificació i poda. Ha de retornar els taulers expandits i un camí que comenci i acabi a $(x_0,y_0)$ passant per tots els punts que es demanen. També heu d'implementar les funcions <b>inferior_bound</b> i <b>superior_bound</b> per a que retornin una cota inferior i superior, respectivament.\n",
    "        <ol>\n",
    "            <li><b>Cota inferior</b>: Considereu que tots els punts estan alinets horitzontalment amb la roomba. Quin seria el cost de visitar tots els punts en aquest cas?\n",
    "            <li><b>Cota superior</b>: Trobeu una solució, no òptima evidentment, usant una estratègia greedy. Com a mínim ja tindrem una solució que, segurament, no serà la millor però la podrem fer servir per comparar durant l'execució del nostre algorisme.\n",
    "        </ol>\n",
    "        La classe <b>Roomba</b> conté quatre variables:\n",
    "        <ol>\n",
    "            <li><b>H, W</b>: amb les dimensions del pis.\n",
    "            <li><b>origin</b>: una parella $(x_0,y_0)$ amb l'estació de càrrega de la roomba.\n",
    "            <li><b>points</b>: una llista de parelles diferents entre elles $(i,j)$ amb els punts que s'han de netejar.\n",
    "        </ol>\n",
    "    </p>\n",
    "    \n",
    "</div>"
   ]
  },
  {
   "cell_type": "code",
   "execution_count": 11,
   "metadata": {},
   "outputs": [],
   "source": [
    "from roomba import Roomba"
   ]
  },
  {
   "cell_type": "code",
   "execution_count": 12,
   "metadata": {
    "scrolled": true
   },
   "outputs": [
    {
     "data": {
      "image/png": "[encoded data removed]",
      "text/plain": [
       "<Figure size 864x432 with 1 Axes>"
      ]
     },
     "metadata": {
      "needs_background": "light"
     },
     "output_type": "display_data"
    }
   ],
   "source": [
    "# Inicialitzem un tauler aleatori\n",
    "H, W = 10,20\n",
    "r = Roomba(H, W)\n",
    "num_points = 10\n",
    "\n",
    "points = random.sample([(i,j) for i in range(H) for j in range(W)], num_points)\n",
    "origin = random.choice([(i,j) for i in range(H) for j in range(W)])\n",
    "while origin in points:\n",
    "    origin = random.choice([(i,j) for i in range(H) for j in range(W)])\n",
    "\n",
    "# Afegim els punts a netejar i l'orígen\n",
    "r.set_points(points)\n",
    "r.set_origin(origin)\n",
    "\n",
    "# Mostrem la graella\n",
    "r.show_board()"
   ]
  },
  {
   "cell_type": "markdown",
   "metadata": {},
   "source": [
    "## Distància de Manhattan\n",
    "La distància de manhattan ens permet trobar la distància entre dos punts d'una graella. A diferència de la <b>distància euclidiana</b> (blava), la <b>distància de manhattan</b> (vermella) no contempla la distància en línia recta sinó que té en compte la morfologia de la grella. D'aquesta forma ens dóna una distància real entre dos punts d'una ciutat quadriculada o del taulell del problema que volem resoldre."
   ]
  },
  {
   "cell_type": "markdown",
   "metadata": {},
   "source": [
    "<img src='https://static.packt-cdn.com/products/9781787121515/graphics/bd978c4c-8251-489d-bcda-5ce7b7b825dd.png' width='20%'>"
   ]
  },
  {
   "cell_type": "code",
   "execution_count": 13,
   "metadata": {},
   "outputs": [],
   "source": [
    "def manhattan_dist(point1, point2):\n",
    "    \"\"\"\n",
    "    Donats dos punts point1, point2, retorna la distància de manhattan\n",
    "    \n",
    "    Params\n",
    "    ======\n",
    "    :point1, point2: Dos punts amb el format point1=(a1,b1), point2=(a2,b2)\n",
    "    \n",
    "    Returns\n",
    "    =======\n",
    "    :dist: La distància de manhattan entre els dos punts. dist = |a1-a2| + |b1-b2|\n",
    "    \n",
    "    \"\"\"\n",
    "    a1, b1 = point1\n",
    "    a2, b2 = point2\n",
    "    \n",
    "    #Dist_Manhatan = |X1 – X2| + |Y1 – Y2|\n",
    "    return abs(a1-a2)+abs(b1-b2)"
   ]
  },
  {
   "cell_type": "code",
   "execution_count": 14,
   "metadata": {},
   "outputs": [],
   "source": [
    "def superior_bound(roomba):\n",
    "    \"\"\"\n",
    "    Retorna la cota superior inicial per al problema de la Roomba usant una estratègia greedy.\n",
    "    \n",
    "    Params\n",
    "    ======\n",
    "    :roomba: Un objecte de la classe Roomba. Podeu accedir a les variables roomba.points, roomba.origin, roomba.W, roomba.H\n",
    "    \n",
    "    Returns\n",
    "    =======\n",
    "    :sup: La cota inferior incial per a aquest problema. \n",
    "    \"\"\"\n",
    "    sup = 0\n",
    "    return sup\n",
    "\n",
    "def inferior_bound(roomba):\n",
    "    \"\"\"\n",
    "    Retorna la cota inferior inicial per al problema de la Roomba. Considereu que tots els punts estan el més aprop possible de la roomba i calculeu-ne el cost de visitar-los tots i tornar a la base de càrrega.\n",
    "    \n",
    "    Params\n",
    "    ======\n",
    "    :roomba: Un objecte de la classe Roomba. Podeu accedir a les variables roomba.points, roomba.origin, roomba.W, roomba.H\n",
    "    \n",
    "    Returns\n",
    "    =======\n",
    "    ::\n",
    "    \"\"\"\n",
    "    inf = 0\n",
    "    return inf"
   ]
  },
  {
   "cell_type": "code",
   "execution_count": 15,
   "metadata": {},
   "outputs": [],
   "source": [
    "def solve_roomba(roomba):\n",
    "    \"\"\"\n",
    "    Soluciona el problema de trobar el camí mínim en una graella 2-Dimensional passant per un seguit de punts.\n",
    "    \n",
    "    Params\n",
    "    ======\n",
    "    :roomba: Un objecte de la classe Roomba\n",
    "    \n",
    "    Returns\n",
    "    =======\n",
    "    :expanded: Número de taulers que s'han expandit\n",
    "    :best_moves: La seqüència de moviments que ha de realitzar la roomba per visitar tots els punts amb el format [(0,0), (0,1), (0,2),...,(0,0)]\n",
    "    \"\"\"\n",
    "    \n",
    "    sup_bound = superior_bound(roomba)\n",
    "    inf_bound = inferior_bound(roomba)\n",
    "    \n",
    "    \n",
    "    expanded = 0\n",
    "    best_moves = [(0,0),(0,1),(0,2),(1,2),(1,1),(2,1),(2,0),(1,0),(0,0)]\n",
    "    \n",
    "    return expanded, best_moves"
   ]
  },
  {
   "cell_type": "code",
   "execution_count": 16,
   "metadata": {},
   "outputs": [
    {
     "data": {
      "image/png": "[encoded data removed]",
      "text/plain": [
       "<Figure size 288x288 with 1 Axes>"
      ]
     },
     "metadata": {
      "needs_background": "light"
     },
     "output_type": "display_data"
    }
   ],
   "source": [
    "H, W = 3,3\n",
    "r = Roomba(H, W)\n",
    "r.set_origin((0,0))\n",
    "r.set_points([(0,2),(1,1),(2,0)])\n",
    "\n",
    "expanded, path = solve_roomba(r)\n",
    "r.show_board(path=path)"
   ]
  },
  {
   "cell_type": "markdown",
   "metadata": {},
   "source": [
    "<div class=\"alert alert-info\">\n",
    "<center>\n",
    "  <h1>Entrega</h1>\n",
    "</center>\n",
    "\n",
    "<p>\n",
    "L'entrega es farà a través del campus virtual. Teniu fins el dia <b>30 de Desembre a les 23:55</b> per entregar la pràctica. A la tasca que obrirem al campus, <b>només heu d'entregar aquest fitxer .ipynb</b>. El notebook ha de tenir com a nom:\n",
    "</p>\n",
    "<p>\n",
    "    <code>L5_Grup_Cognom_Nom.ipynb</code>\n",
    "</p>\n",
    "    <br>\n",
    "On 'Grup' és una sola lletra que identifica el grup on esteu matriculats. Els grups disponibles són: A, B, C, F.\n",
    "\n",
    "És imprescindible que respecteu el format de les funcions i que el vostre codi estigui degudament comentat.<br><br>\n",
    "</div>"
   ]
  }
 ],
 "metadata": {
  "kernelspec": {
   "display_name": "Python 3",
   "language": "python",
   "name": "python3"
  },
  "language_info": {
   "codemirror_mode": {
    "name": "ipython",
    "version": 3
   },
   "file_extension": ".py",
   "mimetype": "text/x-python",
   "name": "python",
   "nbconvert_exporter": "python",
   "pygments_lexer": "ipython3",
   "version": "3.8.8"
  }
 },
 "nbformat": 4,
 "nbformat_minor": 4
}
