{
 "cells": [
  {
   "cell_type": "markdown",
   "metadata": {},
   "source": [
    "<div style=\"padding:30px; color: white; background-color: #0071CD\">\n",
    "<center>\n",
    "<img src=\"img/logoub.jpeg\"></img>\n",
    "<center>\n",
    "<p>\n",
    "<h1>Algorítmica Avanzada</h1>\n",
    "<h2>Práctica 1 - Grafos </h2>\n",
    "</center>\n",
    "</p>\n",
    "</div>"
   ]
  },
  {
   "cell_type": "markdown",
   "metadata": {},
   "source": [
    "<div class=\"alert alert-danger\" style=\"width:95%; margin:0 auto; padding\">\n",
    "<center><p><h2> ¡¡IMPORTANTE!! </h2></p> </center> \n",
    "\n",
    "<p>\n",
    "Para la realización de esta práctica tendréis que utilizar la clase de grafos NetworkX y <b>NO</b> la clase `Graph` que implementasteis en la Práctica 0. Hay casos muy concretos que no contemplaban los tests y podría hacer que vuestros algoritmos no funcionen correctamente. NetworkX tiene una interfaz muy similar a la librería <i>Graph</i> que implementasteis la semana pasada. Para más información podéis consultar la documentación de la librería <a href=\"https://networkx.github.io/documentation/latest/reference/introduction.html\">aquí.</a>\n",
    "</p>\n",
    "</div>"
   ]
  },
  {
   "cell_type": "markdown",
   "metadata": {},
   "source": [
    "<div class=\"alert alert-info\">\n",
    "<center>\n",
    "  <h1>Introducción</h1>\n",
    "</center>"
   ]
  },
  {
   "cell_type": "markdown",
   "metadata": {},
   "source": [
    "A lo largo de esta práctica trabajaremos con el grafo generado a partir de la red de metro de Londres. En este grafo, los nodos representan las estaciones y las aristas las vias que van de una estación a otra. Todas las aristas tienen cuatro atributos:\n",
    "\n",
    "* Linea\n",
    "* Color\n",
    "* Nombre (de la linea)\n",
    "* Distancia\n",
    "\n",
    "Los nodos contienen: \n",
    "* El nombre de la estación\n",
    "* La latitud y longitud de la estación\n",
    "* Número de lineas\n",
    "* Zona\n"
   ]
  },
  {
   "cell_type": "code",
   "execution_count": 1,
   "metadata": {},
   "outputs": [
    {
     "ename": "AttributeError",
     "evalue": "'Graph' object has no attribute 'node'",
     "output_type": "error",
     "traceback": [
      "\u001b[1;31m---------------------------------------------------------------------------\u001b[0m",
      "\u001b[1;31mAttributeError\u001b[0m                            Traceback (most recent call last)",
      "\u001b[1;32m<ipython-input-1-8fd359060eed>\u001b[0m in \u001b[0;36m<module>\u001b[1;34m\u001b[0m\n\u001b[0;32m      3\u001b[0m \u001b[1;33m\u001b[0m\u001b[0m\n\u001b[0;32m      4\u001b[0m \u001b[1;31m# Carga del grafo del metro con el que trabajaremos\u001b[0m\u001b[1;33m\u001b[0m\u001b[1;33m\u001b[0m\u001b[1;33m\u001b[0m\u001b[0m\n\u001b[1;32m----> 5\u001b[1;33m \u001b[0mG\u001b[0m\u001b[1;33m,\u001b[0m \u001b[0mlines\u001b[0m \u001b[1;33m=\u001b[0m \u001b[0mget_subway_graph\u001b[0m\u001b[1;33m(\u001b[0m\u001b[1;34m'csv'\u001b[0m\u001b[1;33m)\u001b[0m\u001b[1;33m\u001b[0m\u001b[1;33m\u001b[0m\u001b[0m\n\u001b[0m\u001b[0;32m      6\u001b[0m \u001b[1;33m\u001b[0m\u001b[0m\n\u001b[0;32m      7\u001b[0m \u001b[1;31m# Algunos nodos\u001b[0m\u001b[1;33m\u001b[0m\u001b[1;33m\u001b[0m\u001b[1;33m\u001b[0m\u001b[0m\n",
      "\u001b[1;32m~\\Desktop\\AA\\chuletaUSB\\Nueva carpeta\\AA-Chuleta-2oParcial\\Laboratorio\\Lab 1\\util.py\u001b[0m in \u001b[0;36mget_subway_graph\u001b[1;34m(csv_dir, Klass)\u001b[0m\n\u001b[0;32m     59\u001b[0m     \u001b[1;32mfor\u001b[0m \u001b[0mnode1\u001b[0m\u001b[1;33m,\u001b[0m \u001b[0mnode2\u001b[0m \u001b[1;32min\u001b[0m \u001b[0mG\u001b[0m\u001b[1;33m.\u001b[0m\u001b[0medges\u001b[0m\u001b[1;33m(\u001b[0m\u001b[1;33m)\u001b[0m\u001b[1;33m:\u001b[0m\u001b[1;33m\u001b[0m\u001b[1;33m\u001b[0m\u001b[0m\n\u001b[0;32m     60\u001b[0m         norm = math.sqrt(\n\u001b[1;32m---> 61\u001b[1;33m                 \u001b[1;33m(\u001b[0m\u001b[0mG\u001b[0m\u001b[1;33m.\u001b[0m\u001b[0mnode\u001b[0m\u001b[1;33m[\u001b[0m\u001b[0mnode1\u001b[0m\u001b[1;33m]\u001b[0m\u001b[1;33m[\u001b[0m\u001b[1;34m'longitude'\u001b[0m\u001b[1;33m]\u001b[0m \u001b[1;33m-\u001b[0m \u001b[0mG\u001b[0m\u001b[1;33m.\u001b[0m\u001b[0mnode\u001b[0m\u001b[1;33m[\u001b[0m\u001b[0mnode2\u001b[0m\u001b[1;33m]\u001b[0m\u001b[1;33m[\u001b[0m\u001b[1;34m'longitude'\u001b[0m\u001b[1;33m]\u001b[0m\u001b[1;33m)\u001b[0m\u001b[1;33m**\u001b[0m\u001b[1;36m2\u001b[0m \u001b[1;33m+\u001b[0m\u001b[1;33m\u001b[0m\u001b[1;33m\u001b[0m\u001b[0m\n\u001b[0m\u001b[0;32m     62\u001b[0m                 \u001b[1;33m(\u001b[0m\u001b[0mG\u001b[0m\u001b[1;33m.\u001b[0m\u001b[0mnode\u001b[0m\u001b[1;33m[\u001b[0m\u001b[0mnode1\u001b[0m\u001b[1;33m]\u001b[0m\u001b[1;33m[\u001b[0m\u001b[1;34m'latitude'\u001b[0m\u001b[1;33m]\u001b[0m \u001b[1;33m-\u001b[0m \u001b[0mG\u001b[0m\u001b[1;33m.\u001b[0m\u001b[0mnode\u001b[0m\u001b[1;33m[\u001b[0m\u001b[0mnode2\u001b[0m\u001b[1;33m]\u001b[0m\u001b[1;33m[\u001b[0m\u001b[1;34m'latitude'\u001b[0m\u001b[1;33m]\u001b[0m\u001b[1;33m)\u001b[0m\u001b[1;33m**\u001b[0m\u001b[1;36m2\u001b[0m\u001b[1;33m\u001b[0m\u001b[1;33m\u001b[0m\u001b[0m\n\u001b[0;32m     63\u001b[0m         )\n",
      "\u001b[1;31mAttributeError\u001b[0m: 'Graph' object has no attribute 'node'"
     ]
    }
   ],
   "source": [
    "from util import get_subway_graph, draw_subway_graph\n",
    "from networkx import nx\n",
    "\n",
    "# Carga del grafo del metro con el que trabajaremos\n",
    "G, lines = get_subway_graph('csv')\n",
    "\n",
    "# Algunos nodos\n",
    "print(list(G.nodes())[:20],'...')\n",
    "# Algunas aristas\n",
    "print(list(G.edges())[:20],'...')\n",
    "print('\\n')\n",
    "print(\"Ejemplo de arista: \",G.edges[156,167])\n",
    "print(\"Ejemplo de nodo: \",G.node[33])"
   ]
  },
  {
   "cell_type": "markdown",
   "metadata": {},
   "source": [
    "Para más consultas, la información ha sido extraida de Wikimedia Commons:\n",
    "\n",
    "https://commons.wikimedia.org/wiki/London_Underground_geographic_maps/CSV"
   ]
  },
  {
   "cell_type": "markdown",
   "metadata": {},
   "source": [
    "# util.py\n",
    "\n",
    "En este archivo se os facilitan varias funciones que os permitiran cargar y visualizar la red de metro.\n",
    "```python\n",
    "\"\"\"\n",
    "Retorna un objeto nx.Graph que corresponde al grafo de la red de metro y un \n",
    "diccionario con las lineas del metro\n",
    " - location: ruta donde esta almacenado el archivo .csv\n",
    "\"\"\"\n",
    "G, lines = get_subway_graph(location)\n",
    "\n",
    "\"\"\"\n",
    "Dibuja el grafo que le pasemos por parametro.\n",
    "- G: Grafo de la red de metro\n",
    "- lines: diccionario con la información sobre las lineas del metro\n",
    "- figsize: parametro opcional que nos permite definir el tamaño de la figura\n",
    "- show_labels: parametro opcional que nos permite indicar si queremos mostrar los \n",
    "    nombres de las estaciones\n",
    "\"\"\"\n",
    "draw_subway_graph(G, lines, figsize=(10,6), show_labels=False)\n",
    "\n",
    "```"
   ]
  },
  {
   "cell_type": "code",
   "execution_count": 2,
   "metadata": {},
   "outputs": [
    {
     "ename": "NameError",
     "evalue": "name 'G' is not defined",
     "output_type": "error",
     "traceback": [
      "\u001b[1;31m---------------------------------------------------------------------------\u001b[0m",
      "\u001b[1;31mNameError\u001b[0m                                 Traceback (most recent call last)",
      "\u001b[1;32m<ipython-input-2-5436e446bb0e>\u001b[0m in \u001b[0;36m<module>\u001b[1;34m\u001b[0m\n\u001b[1;32m----> 1\u001b[1;33m \u001b[0mdraw_subway_graph\u001b[0m\u001b[1;33m(\u001b[0m\u001b[0mG\u001b[0m\u001b[1;33m,\u001b[0m \u001b[0mlines\u001b[0m\u001b[1;33m,\u001b[0m \u001b[0mfigsize\u001b[0m\u001b[1;33m=\u001b[0m\u001b[1;33m(\u001b[0m\u001b[1;36m20\u001b[0m\u001b[1;33m,\u001b[0m\u001b[1;36m12\u001b[0m\u001b[1;33m)\u001b[0m\u001b[1;33m)\u001b[0m\u001b[1;33m\u001b[0m\u001b[1;33m\u001b[0m\u001b[0m\n\u001b[0m",
      "\u001b[1;31mNameError\u001b[0m: name 'G' is not defined"
     ]
    }
   ],
   "source": [
    "draw_subway_graph(G, lines, figsize=(20,12))"
   ]
  },
  {
   "cell_type": "markdown",
   "metadata": {},
   "source": [
    "<div class=\"alert alert-info\">\n",
    "<center>\n",
    "  <h1>Contenido</h1>\n",
    "  </center><p>\n",
    "\n"
   ]
  },
  {
   "cell_type": "markdown",
   "metadata": {},
   "source": [
    "<div class=\"alert alert-success\" style=\"width:90%; margin:0 auto;\">\n",
    "\n",
    "  <h2><p>1- Dijkstra</p></h2>\n",
    "  <p>\n",
    " En esta segunda parte de la práctica se propone que implementéis el algoritmo <a href=\"https://en.wikipedia.org/wiki/Dijkstra%27s_algorithm\">Dijkstra</a> (explicado en teoría) para encontrar el camino más corto entre dos paradas de la red de metro de Londres.\n",
    "</p>\n",
    "\n"
   ]
  },
  {
   "cell_type": "markdown",
   "metadata": {},
   "source": [
    "<div class=\"alert alert-danger\" style=\"width:80%; margin:0 auto; padding\">\n",
    "<center><p><h3> Código </h3></p> </center>\n",
    "<p>\n",
    "<h3>INPUT</h3>\n",
    "<ul>\n",
    "<li>__G__: Este es el grafo (en el caso de esta practica la red de metro) que utilizaremos para buscar el camino. Debe de ser un objeto de tipo `nx.Graph`.</li>\n",
    "<li>__origen__: Este parámetro corresponde al índice de un nodo. En este caso, como indexamos los nodos con el identificador de las paradas de Metro, deberá ser un entero _(e.g. 231)_.</li>\n",
    "<li>__destino__: El indice del nodo al que queremos llegar. Igual que el origen, deberá ser un entero.</li>\n",
    "<li>__infinity=*(int)*__: Parametro opcional en el que definimos que numero nos va bien para utilizar como infinito en el momento de inicializar los pesos de los nodos.</li>\n",
    "</ul>\n",
    "<br>\n",
    "<h3>OUTPUT</h3>\n",
    "El output de una funcion es un <b>diccionario</b> que contiene los siguientes valores\n",
    "<ul>\n",
    "<li>__ _'path'_ __: Una lista de índices correspondientes al camino encontrado del nodo inicial al nodo final (ambos nodos, inicio y final, han de estar incluidos en esta lista).</li>\n",
    "<li>__ _'expanded'_ __: El numero de nodos que se han visitado para encontrar la solución.</li>\n",
    "<li>__ _'distance'_ __: La distancia del camino mínimo desde el origen hasta el destino (es decir, el valor del nodo destino).\n",
    "<ul>\n",
    "\n",
    "</p>\n",
    "</div>\n"
   ]
  },
  {
   "cell_type": "code",
   "execution_count": 3,
   "metadata": {},
   "outputs": [],
   "source": [
    "import heapq\n",
    "def dijkstra(G, origen, destino, infinity=2**32-1):\n",
    "    \n",
    "    path = []\n",
    "    expanded = 0\n",
    "    \n",
    "    visited = dict() #creamos diccionarios para los nodos visitados, los nodos previos y la distancia entre ellos\n",
    "    previous = dict()\n",
    "    distance = dict()\n",
    "    \n",
    "    for x in G.nodes(): #inicializamos estos valores para todos los nodos del grafo\n",
    "        visited[x] = False\n",
    "        previous[x] = None\n",
    "        distance[x] = infinity\n",
    "        \n",
    "    if destino not in G.nodes(): return 0 #tratamos el caso en el que el destino indicado no exista en el grafo\n",
    "   \n",
    "    distance[origen] = 0 #ajustamos los valores para el nodo origen\n",
    "                         #el previo ya esta como None\n",
    "    path.append((0,origen)) #añadimos al path el nodo origen y la distancia a este(0)\n",
    "    \n",
    "    while (len(path) != 0): #mientras el camino no sea 0\n",
    "        aux = heapq.heappop(path)\n",
    "        dist_origen = aux[0] #cogemos la distancia al nodo origen\n",
    "        node = aux[1] #cogeremos el primer nodo del path\n",
    "        visited[node] = True #marcamos el nodo como visitado\n",
    "        \n",
    "        if (node == destino): #si hemos llegado al nodo destino, paramos\n",
    "            break\n",
    "            \n",
    "        for n in G.neighbors(node): #seguimos explorando los vecinos del nodo            \n",
    "            if (visited[n] == True): #si ya esta visitado, seguimos con los otros vecinos\n",
    "                continue\n",
    "            expanded += 1\n",
    "            #si la distancia encontrada es menor a la guardada previamente, se actualiza\n",
    "            if (distance[n] > dist_origen + G.edges[node, n]['distance']):\n",
    "                distance[n] = dist_origen + G.edges[node, n]['distance']\n",
    "                previous[n] = node #se guarda el previous\n",
    "                heapq.heappush(path, (distance[n], n)) #se actualiza el path\n",
    "   \n",
    "    path_min = []\n",
    "    prev = destino\n",
    "    while (prev != None):\n",
    "        path_min.append(prev)\n",
    "        prev = previous[prev] \n",
    "    \n",
    "    path_min.reverse()\n",
    "    \n",
    "    \n",
    "    return {\n",
    "        'path': path_min,\n",
    "        'expanded': expanded,\n",
    "        'distance': distance[destino]\n",
    "    }"
   ]
  },
  {
   "cell_type": "code",
   "execution_count": 3,
   "metadata": {},
   "outputs": [
    {
     "data": {
      "text/plain": [
       "{'path': [10,\n",
       "  128,\n",
       "  39,\n",
       "  145,\n",
       "  89,\n",
       "  277,\n",
       "  192,\n",
       "  107,\n",
       "  133,\n",
       "  146,\n",
       "  236,\n",
       "  99,\n",
       "  74,\n",
       "  17,\n",
       "  110,\n",
       "  265,\n",
       "  1,\n",
       "  73,\n",
       "  182,\n",
       "  194,\n",
       "  5,\n",
       "  252,\n",
       "  251,\n",
       "  235],\n",
       " 'expanded': 334,\n",
       " 'distance': 0.31895111263175857}"
      ]
     },
     "execution_count": 3,
     "metadata": {},
     "output_type": "execute_result"
    }
   ],
   "source": [
    "# Prueba tu algoritmo! \n",
    "# El camino esperado es: [10, 128, 39, 145, 89, 277, 192, 107, 133, 146, 236, 99, 74, 17, 110, 265, 1, 73, 182, 194, 5, 252, 251, 235]\n",
    "dijkstra(G, 10, 235)"
   ]
  },
  {
   "cell_type": "markdown",
   "metadata": {},
   "source": [
    "<div class=\"alert alert-success\" style=\"width:90%; margin:0 auto;\">\n",
    "\n",
    "  <h2><p>2- Paradas intermedias</p></h2>\n",
    "   <p>\n",
    " Se propone aquí implementar una variante del algoritmo Dijkstra que encuentre el camino más corto entre dos paradas de metro forzando el mismo a pasar por una serie de paradas intermedias. Por ejemplo, queremos encontrar el camino más corto entre el nodo 10 y 235 pero pasando por el 33 y el 122. El algoritmo debe encontrar el orden idóneo de visita de los nodos intermedios (33 --> 122 o 122 --> 33) sabiendo que empezamos en 10 y acabamos en 235.\n",
    "</p>\n",
    "\n",
    "<p></p>\n",
    "\n",
    "<p>\n",
    "<b> Nota: </b> Recordad que en Algorítmica Avanzada buscamos la implementación de algoritmos que no solo resuelvan el problema, sino que lo hagan de manera eficiente.\n",
    "</p>\n"
   ]
  },
  {
   "cell_type": "markdown",
   "metadata": {},
   "source": [
    "<div class=\"alert alert-danger\" style=\"width:80%; margin:0 auto; padding\">\n",
    "<center><p><h3> Código </h3></p> </center>\n",
    "<p>\n",
    "<h3>INPUT</h3>\n",
    "<ul>\n",
    "<li>__G__: Este es el grafo (en el caso de esta practica la red de metro) que utilizaremos para buscar el camino. Debe de ser un objeto de tipo `nx.Graph`.</li>\n",
    "<li>__origen__: Este parámetro corresponde al índice de un nodo. En este caso, como indexamos los nodos con el identificador de las paradas de Metro, deberá ser un entero _(e.g. 231)_.</li>\n",
    "<li>__destino__: El indice del nodo al que queremos llegar. Igual que el origen, deberá ser un entero.</li>\n",
    "<li>__paradas__: Una lista de índices de nodos por los que queremos pasar de camino entre el origen y el destino. </li>\n",
    "<li>__infinity=*(int)*__: Parametro opcional en el que definimos que numero nos va bien para utilizar como infinito en el momento de inicializar los pesos de los nodos.</li>\n",
    "</ul>\n",
    "<br>\n",
    "<h3>OUTPUT</h3>\n",
    "El output de una funcion es un <b>diccionario</b> que contiene los siguientes valores\n",
    "<ul>\n",
    "<li>__'ordering'__: Una lista de índices en el orden óptimo de visita. El primer y último elemento de la lista deben corresponderse, respectivamente, con el nodo origen y destino. El resto de elementos de la lista serán todas las paradas solicitadas.</li>\n",
    "<li>__'expanded'__: El numero de nodos que se han visitado para encontrar la solución.</li>\n",
    "    <li>__'distance'__: La distancia que se recorrerá desde el origen hasta el destino.</li>\n",
    "</ul>\n",
    "\n",
    "</p>\n",
    "\n",
    "\n",
    "<p>\n",
    "<b>Nota: </b> No se pide el camino completo entre origen y destino, solo el orden óptimo de visita de los nodos. No obstante, se valorará positivamente la reconstrucción del camino completo. Si lo incluís, añadidlo al diccionario que se devuelve con la clave 'complete_path'.\n",
    "    </p>\n",
    "</div>\n"
   ]
  },
  {
   "cell_type": "code",
   "execution_count": 4,
   "metadata": {},
   "outputs": [],
   "source": [
    "import heapq\n",
    "def _dijkstra(G, origen, destino, infinity=2**32-1):\n",
    "    path = []\n",
    "    expanded = 0\n",
    "    visited = dict()\n",
    "    previous = dict()\n",
    "    distance = dict()\n",
    "    for x in G.nodes():\n",
    "        visited[x] = False\n",
    "        previous[x] = None\n",
    "        distance[x] = infinity\n",
    "    distance[origen] = 0\n",
    "    previous[origen] = None\n",
    "    path.append((0,origen))\n",
    "    while (len(path) != 0):\n",
    "        aux = heapq.heappop(path)\n",
    "        dist_origen = aux[0]\n",
    "        node = aux[1]\n",
    "        visited[node] = True\n",
    "        if (node == destino):\n",
    "            break \n",
    "        for n in G.neighbors(node):          \n",
    "            if (visited[n] == True):\n",
    "                continue\n",
    "            expanded += 1\n",
    "            if (distance[n] > dist_origen + G.edges[node, n]['distance']):\n",
    "                distance[n] = dist_origen + G.edges[node, n]['distance']\n",
    "                previous[n] = node\n",
    "                heapq.heappush(path, (distance[n], n))\n",
    "    path_min = []\n",
    "    prev = destino\n",
    "    while (prev != None):\n",
    "        path_min.append(prev)\n",
    "        prev = previous[prev]\n",
    "    path_min.reverse()\n",
    "    return {\n",
    "        'path': path_min,\n",
    "        'expanded': expanded,\n",
    "        'distance': distance[destino]\n",
    "    }"
   ]
  },
  {
   "cell_type": "code",
   "execution_count": 5,
   "metadata": {},
   "outputs": [],
   "source": [
    "import itertools\n",
    "def stops_ordering(G, origen, destino, paradas, infinity=2**32-1):\n",
    "    ordering = [origen]\n",
    "    expanded = 0\n",
    "    distance = 0\n",
    "    _ord = []\n",
    "    _exp = [] #llista on anirem guardant el expanded de cada cami\n",
    "    _dist = [] #llista on anirem guardant les distancies de cada cami\n",
    "    caminos = list(itertools.permutations(paradas)) #guardem en una llista tots els camins possibles\n",
    "    #node_actual = origen\n",
    "    for camino in caminos:\n",
    "        node_actual = origen\n",
    "        for parada in camino:\n",
    "            _return = _dijkstra(G, node_actual, parada, infinity=2**32-1)\n",
    "            expanded += _return['expanded']\n",
    "            distance += _return['distance']\n",
    "            node_actual = parada\n",
    "            ordering.append(parada)\n",
    "        \n",
    "        _return = _dijkstra(G, node_actual, destino, infinity=2**32-1)\n",
    "        expanded += _return['expanded']\n",
    "        distance += _return['distance']\n",
    "        ordering.append(destino)\n",
    "        \n",
    "        _exp.append(expanded)\n",
    "        _dist.append(distance)\n",
    "        _ord.append(ordering)\n",
    "        expanded = 0\n",
    "        distance = 0\n",
    "        ordering = [origen]\n",
    "    \n",
    "    distance = min(_dist)\n",
    "    expanded = min(_exp)\n",
    "    ordering = _ord[_dist.index(min(_dist))]\n",
    "    \n",
    "    return {\n",
    "        'ordering': ordering,\n",
    "        'expanded': expanded,\n",
    "        'distance': distance\n",
    "    }    "
   ]
  },
  {
   "cell_type": "code",
   "execution_count": 6,
   "metadata": {},
   "outputs": [
    {
     "data": {
      "text/plain": [
       "{'ordering': [10, 33, 122, 235],\n",
       " 'expanded': 684,\n",
       " 'distance': 0.5169849201008004}"
      ]
     },
     "execution_count": 6,
     "metadata": {},
     "output_type": "execute_result"
    }
   ],
   "source": [
    "# Prueba tu algoritmo! El orden de recorrido esperado es: [10, 33, 122, 235]\n",
    "stops_ordering(G, 10, 235, [33,122])\n",
    "#stops_ordering(G,10,33,[35,122,92,87]) #[10, 87, 122, 35, 92, 33]"
   ]
  },
  {
   "cell_type": "code",
   "execution_count": 75,
   "metadata": {},
   "outputs": [],
   "source": [
    "#algoritmo de prueba\n",
    "def _prueba (G, origen, destino, paradas, infinity=2**32-1):\n",
    "    ordering = [origen]\n",
    "    expanded = 0\n",
    "    distance = 0\n",
    "    _dist = []\n",
    "    _exp = []\n",
    "    node_actual = origen\n",
    "    while (len(paradas) > 0):\n",
    "        #print(\"principio while: \", node_actual, paradas)\n",
    "        for parada in paradas:\n",
    "            #print(\"mirar paradas: \", parada)\n",
    "            _return = _dijkstra(G, node_actual, parada, infinity=2**32-1)\n",
    "            _dist.append(_return['distance'])\n",
    "            #print(_return['distance'])\n",
    "            _exp.append(_return['expanded'])\n",
    "        nodo = paradas[_dist.index(min(_dist))]\n",
    "        distance += min(_dist)\n",
    "        expanded += _exp[_dist.index(min(_dist))]\n",
    "        _dist = []\n",
    "        _exp = []\n",
    "        ordering.append(nodo)\n",
    "        #print(\"ordering\", ordering)\n",
    "        node_actual = nodo\n",
    "        paradas.remove(nodo)\n",
    "        #print(paradas)\n",
    "    \n",
    "    #print(\"salida bucle\")\n",
    "    _return = _dijkstra(G, node_actual, destino, infinity=2**32-1)\n",
    "    expanded += _return['expanded']\n",
    "    distance += _return['distance']   \n",
    "    ordering.append(destino)\n",
    "    \n",
    "    return {\n",
    "        'ordering': ordering,\n",
    "        'expanded': expanded,\n",
    "        'distance': distance\n",
    "    }"
   ]
  },
  {
   "cell_type": "markdown",
   "metadata": {},
   "source": [
    "<div class=\"alert alert-warning\" style=\"width:80%; margin:0 auto; padding\">\n",
    "<center><p><h3> Comentarios Dijkstra</h3></p> </center> </div>"
   ]
  },
  {
   "cell_type": "markdown",
   "metadata": {},
   "source": [
    "### _(En esta sección se os propone explicar como habeis realizado la implementación y cual es la complejidad detallada del algoritmo. Podéis contestar en este mismo bloque)_"
   ]
  },
  {
   "cell_type": "markdown",
   "metadata": {},
   "source": [
    "Primero he creado 3 diccionarios. Uno para los nodos visitados, otro para el nodo previo a cada nodo y otro para la distancia del nodo hasta el origen. Todos los diccionarios son inicalizados, añadiendo todos los nodos del grafo y, en visitados, ponerlos todos a False; en los previos todos None y en la distancia el parámetro infinity.\n",
    "Luego ajustamos la distancia del nodo origen que es 0, añadimos al path, que es una heapq, la distancia del nodo junto al nodo (0, origen) y podemos empezar a explorar el grafo.\n",
    "Se entra en un while hasta que el path sea 0, que significara que todos los nodos ya han sido analizados, ya que usamos la función heappop(). Del contenido retornado por esta funcion guardaremos el nodo, el cual marcaremos como visitado, y su distancia al origen (dist_origen). Se hace un break si el nodo coincide con el destino. Ahora exploraremos los vecinos del actual nodo y comprobaremos la distancia guardada previamente y la encontrada a partir del nodo actual. Si la distancia guardada es mayor (en el caso de que sea la primera vez que se explora el nodo la distancia guadada es el parámetro infinity, por lo tanto siempre será mayor) se sustituirá por la encontrada a partir del nodo actual (el cual será guardado como previo en el diccionario previous). Y hacemos un heappush del path añadiendo tal nodo vecino y la distancia actual.\n",
    "\n",
    "Por último, al salir del bucle, busaremos el path minimo recorriendo el grafo \"hacia atrás\" partiendo del destino. Ya tendremos guardado todo el recorrido minimo entre los nodos así que solo tendremos que hacer path.reverse() y ya tendremos el camino más corto entre el nodo origen y el nodo destino.\n",
    "\n",
    "Complejidad alog(n), siendo n el número de nodos y a el numero de aristas."
   ]
  },
  {
   "cell_type": "markdown",
   "metadata": {},
   "source": [
    "<div class=\"alert alert-warning\" style=\"width:80%; margin:0 auto; padding\">\n",
    "<center><p><h3> Comentarios Orden óptimo de Paradas Intermedias</h3></p> </center> </div>"
   ]
  },
  {
   "cell_type": "markdown",
   "metadata": {},
   "source": [
    "### _(En esta sección se os propone explicar como habeis realizado la implementación y cual es la complejidad detallada del algoritmo. Podéis contestar en este mismo bloque)_"
   ]
  },
  {
   "cell_type": "markdown",
   "metadata": {},
   "source": [
    "Para este algoritmo vamos a necesitar analizar todos los posibles caminos entre las paradas intermedias (sin tener en cuenta el origen y el destino). \n",
    "Para cada posible camino hacemos dijkstra desde el nodo origen hacia la parada 1, de la parada1 a la 2, y así hasta el destino. Iremos guardando la distancia de cada caminio en la lista _dist, los expanded en la lista _exp y el ordering en la lista _ord.\n",
    "Al final cogeremos la distancia más corta de entre la lista _dist, y accederemos al expanded y el ordering del mismo índice.\n",
    "\n",
    "Complejidad n^2 por el doble bucle"
   ]
  },
  {
   "cell_type": "markdown",
   "metadata": {},
   "source": [
    "<div class=\"alert alert-info\">\n",
    "<center>\n",
    "  <h1>Entrega</h1>\n",
    "</center>\n",
    "<p>\n",
    "La entrega de esta práctica se podrá realizar en el campus virtual hasta el día <b>27 de Octubre a las 23:55</b>. En la tarea que se habilitará en el campus deberéis colgar únicamente este notebook con el nombre:\n",
    "</p>\n",
    "<p>\n",
    "```\n",
    "* [grupo]_[apellido]_[nombre]_1-Grafos.ipynb\n",
    "```\n",
    "\n",
    "</p>\n",
    "<p>\n",
    "    Por ejemplo, para un alumno llamado <i>Nombre Genérico</i> perteneciente al <i>grupo Z</i> el nombre del archivo debería ser:\n",
    "</p>\n",
    "<p>\n",
    "```\n",
    "Z_Generico_Nombre_1-Grafos.ipynb\n",
    "```\n",
    "\n",
    "</p>\n",
    "<p>\n",
    "\n",
    "Es muy importante que en el notebook exista <b> una sola función </b> con el nombre <i>dijkstra</i> y <i>stops_ordering</i> ya que emplearemos un corrector automático para agilizar el proceso. No os preocupéis si no os funciona del todo, el no pasar los tests no significa necesariamente que tengáis un 0 en la práctica; también revisaremos manualmente el código así como los comentarios del final del notebook y vuestro análisis de complejidad.\n",
    "\n",
    "\n",
    "Es fundamental que el código esté bién comentado y con un análisis de complejidad exhaustivo del algoritmo. La importancia de poner nombre correcto al archivo debería ser directamente proporcional a lo contentos que queráis que los profesores de prácticas corrijan.\n",
    "</p>\n",
    "</div>"
   ]
  }
 ],
 "metadata": {
  "kernelspec": {
   "display_name": "Python 3",
   "language": "python",
   "name": "python3"
  },
  "language_info": {
   "codemirror_mode": {
    "name": "ipython",
    "version": 3
   },
   "file_extension": ".py",
   "mimetype": "text/x-python",
   "name": "python",
   "nbconvert_exporter": "python",
   "pygments_lexer": "ipython3",
   "version": "3.8.8"
  }
 },
 "nbformat": 4,
 "nbformat_minor": 1
}
