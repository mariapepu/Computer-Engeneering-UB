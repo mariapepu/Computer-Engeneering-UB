{
 "cells": [
  {
   "cell_type": "code",
   "execution_count": 0,
   "metadata": {
    "colab": {},
    "colab_type": "code",
    "collapsed": true,
    "id": "bMGFRsSrCR-z"
   },
   "outputs": [],
   "source": [
    "%matplotlib inline\n",
    "import networkx as nx\n",
    "G = nx.Graph()"
   ]
  },
  {
   "cell_type": "code",
   "execution_count": 0,
   "metadata": {
    "colab": {},
    "colab_type": "code",
    "collapsed": true,
    "id": "yqM9eMb1CR-7"
   },
   "outputs": [],
   "source": [
    "def bfs(G, origen, destino):\n",
    "\n",
    "    \n",
    "    path = []\n",
    "    expanded = 0\n",
    "    \n",
    "    queue = [origen]\n",
    "    \n",
    "    for nodo in G.nodes():\n",
    "        G.node[nodo].update({'previous': None,\n",
    "                             'distance': float('inf')})\n",
    "    \n",
    "    G.node[origen]['distance'] = 0\n",
    "\n",
    "    nodoActual = origen\n",
    "    \n",
    "\n",
    "    \n",
    "    while (len(queue) != 0):\n",
    "        \n",
    "        nodoActual = queue[0]\n",
    "        queue.remove(queue[0])\n",
    "        expanded += 1\n",
    "        \n",
    "        for nodoVecino in G.neighbors(nodoActual):\n",
    "            \n",
    "            if (G.node[nodoVecino]['distance'] == float('inf')):\n",
    "                G.node[nodoVecino]['distance'] = G.node[nodoActual]['distance'] + 1\n",
    "                G.node[nodoVecino]['previous'] = nodoActual\n",
    "                \n",
    "                queue.append(nodoVecino)\n",
    "          \n",
    "\n",
    "        \n",
    "    nodoActual = destino\n",
    "    \n",
    "    while (nodoActual != origen):\n",
    "        path.append(nodoActual)\n",
    "        nodoActual = G.node[nodoActual]['previous']\n",
    "        \n",
    "    path.append(origen)\n",
    "    path.reverse()\n",
    "    \n",
    "    return {'path': path, 'expanded': expanded}\n",
    "    "
   ]
  },
  {
   "cell_type": "code",
   "execution_count": 0,
   "metadata": {
    "colab": {},
    "colab_type": "code",
    "collapsed": true,
    "id": "55vYdO9HCR-_"
   },
   "outputs": [],
   "source": [
    "G = nx.generators.barabasi_albert_graph(10, 1)\n",
    "nx.draw_circular(G, with_labels = True)\n",
    "bfs(G, 5, 7)"
   ]
  },
  {
   "cell_type": "code",
   "execution_count": null,
   "metadata": {
    "collapsed": true
   },
   "outputs": [],
   "source": [
    "# BFS que te encuentra los subgrafos de un grafo que le pasas por parámetro\n",
    "\n",
    "def bfs(G):\n",
    "    \n",
    "    visited = []\n",
    "    pending = []\n",
    "    subgraphs = []\n",
    "    \n",
    "    expanded = 0\n",
    "    \n",
    "    for nodeActual in G.nodes():\n",
    "        \n",
    "        if (nodeActual not in visited):\n",
    "            \n",
    "            subgraph = []\n",
    "            pending.append(nodeActual)\n",
    "            \n",
    "            while (len(pending) != 0):\n",
    "                nodo = pending.pop(0)\n",
    "                \n",
    "                if (nodo not in visited):\n",
    "                    expanded += 1\n",
    "                    visited.append(nodo)\n",
    "                    subgraph.append(nodo)\n",
    "                    \n",
    "                    for nodoVecino in G.neighbors(nodo):\n",
    "                        if ((nodoVecino not in visited) and (nodoVecino not in pending)):\n",
    "                            \n",
    "                            pending.append(nodoVecino)\n",
    "                            \n",
    "            subgraphs.append(subgraph)\n",
    "            \n",
    "    return {\n",
    "        'subgraphs' : subgraphs,\n",
    "        'expanded' : expanded\n",
    "    }"
   ]
  },
  {
   "cell_type": "code",
   "execution_count": null,
   "metadata": {
    "collapsed": true
   },
   "outputs": [],
   "source": [
    "G = nx.generators.barabasi_albert_graph(10, 1)\n",
    "nx.draw_circular(G, with_labels = True)\n",
    "bfs(G)"
   ]
  }
 ],
 "metadata": {
  "colab": {
   "name": "bfs.ipynb",
   "provenance": [],
   "version": "0.3.2"
  },
  "kernelspec": {
   "display_name": "Python 3",
   "language": "python",
   "name": "python3"
  },
  "language_info": {
   "codemirror_mode": {
    "name": "ipython",
    "version": 3
   },
   "file_extension": ".py",
   "mimetype": "text/x-python",
   "name": "python",
   "nbconvert_exporter": "python",
   "pygments_lexer": "ipython3",
   "version": "3.6.1"
  }
 },
 "nbformat": 4,
 "nbformat_minor": 1
}
