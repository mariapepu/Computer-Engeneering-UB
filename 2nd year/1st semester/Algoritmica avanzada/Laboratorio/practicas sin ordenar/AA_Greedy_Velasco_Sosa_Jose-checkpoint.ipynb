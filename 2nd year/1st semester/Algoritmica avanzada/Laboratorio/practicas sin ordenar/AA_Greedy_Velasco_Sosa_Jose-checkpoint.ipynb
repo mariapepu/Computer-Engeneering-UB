{
 "cells": [
  {
   "cell_type": "markdown",
   "metadata": {},
   "source": [
    "<div style=\"padding:30px; color: white; background-color: #0071CD\">\n",
    "<center>\n",
    "<img src=\"img/logoub.jpeg\"></img>\n",
    "<center>\n",
    "<p>\n",
    "<h1>Algorísmica Avançada</h1>\n",
    "<h2>Pràctica 2.A - Greedy </h2>\n",
    "</center>\n",
    "</p>\n",
    "</div>"
   ]
  },
  {
   "cell_type": "markdown",
   "metadata": {},
   "source": [
    "<div class=\"alert alert-info\">\n",
    "<center>\n",
    "  <h1>Introducción</h1>\n",
    "</center>"
   ]
  },
  {
   "cell_type": "markdown",
   "metadata": {},
   "source": [
    "<p>Un algoritmo Greedy es aquel que trata de resolver un problema con la heurística de escoger, a cada paso, la opción óptima con la intención de encontrar una solución óptima global al problema. En caso general, este tipo de algoritmos no son capaces de encontrar la solución óptima, sin embargo, sí pueden encontrar soluciones subóptimas suficientemente cercanas con una coste computacional significativamente menor.</p>\n",
    "\n",
    "<h3>Ejemplo</h3>\n",
    "<p>Supongamos que intentamos encontrar la suma más grande en este grafo en forma de árbol. Un algoritmo greedy no consiste en encontrar una estrategia óptima global al problema, sino que a cada paso, buscará entre sus siguientes opciones cuál lleva más cerca de la solución (óptimo local).</p>\n",
    "<img src=\"https://upload.wikimedia.org/wikipedia/commons/8/8c/Greedy-search-path-example.gif\">\n",
    "\n",
    "<h2>Estructura</h2>\n",
    "\n",
    "Todos los algoritmos greedy comparten ciertas características:\n",
    "<ol>\n",
    "    <li><b>Conjunto</b> de elementos a partir de los cuales formar una solución.</li>\n",
    "    <li>Criterio de <b>elección</b> del siguiente elemento candidato (Heurística).</li>\n",
    "    <li>Criterio de <b>validación</b> sobre los elementos candidatos.</li>\n",
    "    <li>Criterio de <b>terminación</b>, que indica cuando hemos alcanzado una solución completa.</li>\n",
    "    <li>Métrica de <b>evaluación</b> de una solución, total o parcial.</li>\n",
    "</ol>"
   ]
  },
  {
   "cell_type": "markdown",
   "metadata": {},
   "source": [
    "<div class=\"alert alert-info\">\n",
    "<center>\n",
    "  <h1>Contenido</h1>\n",
    "  </center><p>\n",
    "\n"
   ]
  },
  {
   "cell_type": "markdown",
   "metadata": {},
   "source": [
    "<div class=\"alert alert-success\" style=\"width:90%; margin:0 auto;\">\n",
    "<h2>0 - Greedy Solver</h2>\n",
    "\n",
    "Dado que todos los algoritmos Greedy siguen la misma estrategia, es posible crear una función que, dados los criterios de elección, validación y terminación, resuelva cualquier problema genéricamente. Adicionalmente, una función de evaluación de soluciones para determinar lo buena que es la solución propuesta por el algoritmo."
   ]
  },
  {
   "cell_type": "code",
   "execution_count": 1,
   "metadata": {
    "collapsed": true
   },
   "outputs": [],
   "source": [
    "class GreedySolver:\n",
    "    # Define los criterios que utilizará el GreedySolver\n",
    "    def __init__(self, choice, is_valid, is_complete, evaluate,preprocess=lambda D: None):\n",
    "        self._choice = choice\n",
    "        self._is_valid = is_valid\n",
    "        self._is_complete = is_complete\n",
    "        self._evaluate = evaluate\n",
    "        self._preprocess = preprocess \n",
    "\n",
    "    # Estrategia genérica de resolución de problemas\n",
    "    def solve(self, D):\n",
    "        self._preprocess(D)\n",
    "        x = []\n",
    "        # Mientras no se cumpla el criterio de terminación\n",
    "        while D and not self._is_complete(x, D):\n",
    "            # Escoge un elemento\n",
    "            d = self._choice(x, D)\n",
    "            # Comprueba si el elemento puede ser incluido en la solución\n",
    "            if self._is_valid(x, d):\n",
    "                x.append(d)\n",
    "        # Devuelve la solución y la métrica\n",
    "        return x, self._evaluate(x)\n",
    "\n",
    "# Genera un conjunto de objetos de prueba\n",
    "def random_objects(one_or_inf=True):\n",
    "    objects = []\n",
    "    # Genera una lista de listas, cada una de las cuales representa un elemento [peso,valor] o [peso,valor,cantidad]\n",
    "    if one_or_inf:\n",
    "        for p,v in zip(random.sample(range(1, 50), k=10), random.sample(range(1, 100), k=10)):\n",
    "            objects.append([p,v])\n",
    "    else:\n",
    "        for p,v,c in zip(random.sample(range(1, 50), k=10), random.sample(range(1, 100), k=10),random.sample(range(1, 15), k=10)):\n",
    "            objects.append([p,v,c])\n",
    "    return objects"
   ]
  },
  {
   "cell_type": "markdown",
   "metadata": {},
   "source": [
    "<div class=\"alert alert-success\" style=\"width:90%; margin:0 auto;\">\n",
    "\n",
    "  <h2><p>1- El problema de la mochila</p></h2>\n",
    "  \n",
    "  <center><img src=\"img/knapsack.png\" width=40%></center>\n",
    "  \n",
    "  <p>\n",
    "    Nos encontramos en una habitación en la que hay $N$ objetos con pesos $w_1, w_2, w_3 ... w_N$ y tenemos una mochila que puede soportar una carga máxima de $W$.\n",
    "    En esta práctica se pide que realicéis una implementación Greedy para resolver los siguientes problemas:\n",
    " <ol><li>\n",
    " **mochila:** En este caso buscamos llenar la mochila lo máximo posible. En otras palabras,queremos que $\\sum_{i=0}^{N}{(w_i · b_i)}\\leq W$ aproximándose lo más posible a $W$, donde $b_k$ es un valor binario que representa si el objeto es escogido o no.\n",
    " </li><li>\n",
    " **mochila_valor:** Igual que en el caso anterior, pero ahora cada objeto tendrá asignado un valor $v_1, v_2, v_3 ... v_N$. En este caso buscamos llenar la mochila maximizando el valor total de la mochila. Es decir queremos encontrar la combinación de objetos $b$ tal que $\\arg_{b} \\max{\\sum_{i=0}^{N}{v_i · b_i}}$ manteniendo la condición anterior de que $\\sum_{i=0}^{N}{(w_i · b_i)}\\leq W$.\n",
    "     </li>\n",
    "     <li>\n",
    "     **mochila_diversa:** Para este problema queremos meter en la mochila la mayor cantidad de objetos posibles. De esta manera, buscamos que la combinación de objetos $b$ tal que $\\arg_{b} \\max{\\sum_{i=0}^{N}{b_i}}$.\n",
    "     </li><li>\n",
    "     **mochila_fraccionada:** Aquí podemos coger solo una parte del objeto. Así pues, dispondremos de una lista $x_1, x_2, x_3 ... x_N$ tal que $0 \\leq x_i \\leq 1$ y queremos que $\\arg_{b} \\max{\\sum_{i=0}^{N}{v_i · x_i}}$ manteniendo la condición anterior de que $\\sum_{i=0}^{N}{(w_i · x_i)}\\leq W$.\n",
    "     </li>\n",
    " </ol>\n",
    "</p>"
   ]
  },
  {
   "cell_type": "markdown",
   "metadata": {},
   "source": [
    "<div class=\"alert alert-danger\" style=\"width:80%; margin:0 auto; padding\">\n",
    "<center><p><h3> Código </h3></p> </center>\n",
    "<p>\n",
    "**choice.** Esta función debe seleccionar el siguiente elemento.\n",
    "    <ul>\n",
    "        <li>Input:\n",
    "            <ul>\n",
    "                <li>x. Elementos que forman la solución actual</li>\n",
    "                <li>D. Conjunto de elementos disponibles</li>\n",
    "            </ul>\n",
    "        </li>\n",
    "        <li>Output:\n",
    "            <ul>\n",
    "                <li>d. Elemento seleccionado</li>\n",
    "            </ul>\n",
    "        </li>\n",
    "        </ul>\n",
    "</p>\n",
    "\n",
    "<p>\n",
    "**is_valid.** Esta función debe decidir si el elemento seleccionado puede añadirse a la solución.\n",
    "    <ul>\n",
    "        <li>Input:\n",
    "            <ul>\n",
    "                <li>x. Elementos que forman la solución actual</li>\n",
    "                <li>d. Elemento seleccionado</li>\n",
    "            </ul>\n",
    "        </li>\n",
    "        <li>Output:\n",
    "            <ul>\n",
    "                <li>valid. Booleano que indica la validez del elemento a añadir</li>\n",
    "            </ul>\n",
    "        </li>\n",
    "    </ul>\n",
    "</p>\n",
    "\n",
    "<p>\n",
    "**is_complete.** Esta función debe decidir si la solución encontrada es completa o si no puede continuarse.\n",
    "    <ul>\n",
    "        <li>Input:\n",
    "            <ul>\n",
    "                <li>x. Elementos que forman la solución actual</li>\n",
    "                <li>D. Conjunto de elementos disponibles</li>\n",
    "            </ul>\n",
    "        </li>\n",
    "        <li>Output:\n",
    "            <ul>\n",
    "                <li>complete. Booleano que indica si la solución es completa o imposible seguir</li>\n",
    "            </ul>\n",
    "        </li>\n",
    "    </ul>\n",
    "</p>\n",
    "\n",
    "<p>\n",
    "**evaluate.** Esta función devuelve una métrica indicando lo buena que es la solución encontrada.\n",
    "    <ul>\n",
    "        <li>Input:\n",
    "            <ul>\n",
    "                <li>x. Elementos que forman la solución</li>\n",
    "            </ul>\n",
    "        </li>\n",
    "        <li>Output:\n",
    "            <ul>\n",
    "                <li>metric. Valor de la métrica evaluada sobre la solución</li>\n",
    "            </ul>\n",
    "        </li>\n",
    "    </ul>\n",
    "</p>\n",
    "<p> <b> Nota: </b> El output de llamar a <i>GreedySolver.solve(D)</i> debe seguir un formato concreto:\n",
    "    <ul>\n",
    "        <li> La solución será la lista de objetos escogidos con la forma $[w_i,v_i]$ cuando solo se pueda coger un elemento de cada tipo y con la forma $[w_i,v_i,c_i]$ cuando la cantidad de objetos sea relevante.</li>\n",
    "        <li> A la solución lo acompañará el resultado de la función <i>GreedySolver.evaluate()</i>: el peso total de la mochila $w_t$ o una tupla $(w_T,v_T)$ para indicar el peso y valor totales de la mochila (en los casos en que el valor sea relevante).</li>\n",
    "    </ul>\n",
    "</p>\n",
    "</div>\n"
   ]
  },
  {
   "cell_type": "markdown",
   "metadata": {},
   "source": [
    "Define para cada una de las variantes del problema de la mochila las funciones necesarias para el correcto funcionamiento del GreedySolver."
   ]
  },
  {
   "cell_type": "code",
   "execution_count": 2,
   "metadata": {
    "collapsed": true
   },
   "outputs": [],
   "source": [
    "# Capacidad de la mochila\n",
    "W = 150"
   ]
  },
  {
   "cell_type": "code",
   "execution_count": 3,
   "metadata": {
    "collapsed": true
   },
   "outputs": [],
   "source": [
    "def choice1(x, D):\n",
    "    D.sort(reverse = True,key = crit) #Decidim el criteri\n",
    "    d = D[0] #La solucio final es el pes de D \n",
    "    D.remove(D[0]) #Elimina D[0] O(n)\n",
    "    return d\n",
    "    \n",
    "def crit(x):\n",
    "    return x[0] #Pes\n",
    "\n",
    "def is_valid1(x, d):\n",
    "    valid = False #Posem a false\n",
    "    weight = 0 #Posem una variable a 0\n",
    "    for n in x: #Recorrem tota la solucio actual O(1)\n",
    "        weight = weight + n[0] #Li sumem a la nostre variable el pes n[0]\n",
    "    if(len(x)==0): #Si la longitud de x es 0 es vàlid O(n) O(1)\n",
    "        valid =  True\n",
    "    else:\n",
    "        if(d[0]<= weight): #Si el pes de la solució final es menor o igual a la nostre variable retorna True O(n)\n",
    "            valid = True\n",
    "        else: #Sino False\n",
    "            valid = False\n",
    "    return valid\n",
    "\n",
    "def is_complete1(x, D):\n",
    "    weight = 0 #Variable a 0\n",
    "    complete = False #Posem compelte a False\n",
    "    for n in x: #Recorrem la solucio actual i li sumem a la nostre variable el pes n[0] O(1)\n",
    "        weight = weight+n[0] \n",
    "    if weight < W: #Si el pes es menor a W O(n)\n",
    "        weight = weight+min(D[0]) #Li sumem a la variable el min(D[0]) O(n)\n",
    "        if(weight < W): #Si el pes es menor a W return False\n",
    "            complete = False\n",
    "        elif weight >= W: #Si el pes es major o igual retornem True O(n)\n",
    "            complete = True\n",
    "    return complete\n",
    "\n",
    "def evaluate1(x):\n",
    "    weight = 0\n",
    "    for n in x: #Recorrem la solucio actual i retornem el pes O(1)\n",
    "        weight += n[0]\n",
    "    return weight"
   ]
  },
  {
   "cell_type": "code",
   "execution_count": 4,
   "metadata": {
    "collapsed": true
   },
   "outputs": [],
   "source": [
    "def choice2(x, D):\n",
    "    D.sort(reverse = True,key = crit2) #Decidim el criteri\n",
    "    d = D[0] #La solucio final es el pes de D\n",
    "    D.remove(D[0]) #Eliminem D[0] de D O(n)\n",
    "    return d\n",
    "    \n",
    "def crit2(x):\n",
    "    return x[1]/x[0] #Proporcio, valor entre pes\n",
    "\n",
    "def is_valid2(x, d):\n",
    "    valid = False\n",
    "    weight = 0\n",
    "    for n in x: #Recorrem la solucio actual i li sumem a la nostre variable el pes n[0] O(1)\n",
    "        weight = weight + n[0]\n",
    "    if(len(x)==0): #Si la longitud de x es 0 True O(1)\n",
    "        valid =  True\n",
    "    else: \n",
    "        if(d[0]<= (W-weight)): #Si el pes de la solucio es menor o iguall a W-la nostre variable es True O(n)\n",
    "            valid = True\n",
    "        else:#Si no retorna False\n",
    "            valid = False\n",
    "    return valid\n",
    "\n",
    "def is_complete2(x, D):\n",
    "    weight = 0\n",
    "    complete = False\n",
    "    for n in x:#Recorrem la solucio actual i li sumem a la nostre variable el pes n[0] O(1)\n",
    "        weight = weight+n[0]\n",
    "    if weight < W: #Si la nostre variable es menor a 150 O(n)\n",
    "        weight = weight+min(D[0]) #Li sumem el mind(D[0]) O(n)\n",
    "        if(weight < W):#Si la nostre variable es menor a 150 O(n)\n",
    "            complete = False #False\n",
    "        elif weight >= W: #Si es major o igual a 150 true O(n)\n",
    "            complete = True\n",
    "    return complete\n",
    "\n",
    "def evaluate2(x):\n",
    "    value = 0\n",
    "    for n in x: #Recorrem la solucio actual i li sumem a la nostre variable el pes n[0] O(1)\n",
    "        value += n[0]\n",
    "    return value"
   ]
  },
  {
   "cell_type": "code",
   "execution_count": 5,
   "metadata": {
    "collapsed": true
   },
   "outputs": [],
   "source": [
    "def choice3(x, D):\n",
    "    D.sort(reverse = False,key = crit3) #Decidim el criteri\n",
    "    d = D[0] #La solucio final es el pes de D\n",
    "    D.remove(D[0]) #Eliminem D[0] de D O(n)\n",
    "    return d\n",
    "    \n",
    "def crit3(x):\n",
    "    return x[0] #Pes\n",
    "\n",
    "def is_valid3(x, d):\n",
    "    valid = False #Inicialitzem a false\n",
    "    weight = 0 #Inicialitzem a 0\n",
    "    for n in x: #Recorrem la solucio actual i li sumem a la nostre variable el pes n[0] O(1)\n",
    "        weight = weight + n[0]\n",
    "    if(len(x)==0): #Si la longitud de la solucio actual es 0 True O(n)\n",
    "        valid =  True\n",
    "    else:\n",
    "        if(d[0]<= (W-weight)): #Si el pes de la solucio es menor o iguall a W-la nostre variable es True O(n)\n",
    "            valid = True\n",
    "        else: #Si no retorna False\n",
    "            valid = False\n",
    "    return valid\n",
    "\n",
    "def is_complete3(x, D):\n",
    "    weight = 0\n",
    "    complete = False\n",
    "    for n in x: #Recorrem la solucio actual i li sumem a la nostre variable el pes n[0] O(1)\n",
    "        weight = weight+n[0] \n",
    "    if weight < W: #Si la nostre variable es menor a 150 O(n)\n",
    "        weight = weight+min(D[0]) #Li sumem el mind(D[0])\n",
    "        if(weight < W): #Si la nostre variable es menor a 150 False O(n)\n",
    "            complete = False\n",
    "        elif weight >= W: #Si es major o igual a 150 true O(n)\n",
    "            complete = True\n",
    "    return complete\n",
    "\n",
    "def evaluate3(x):\n",
    "    value = 0\n",
    "    for n in x:#Recorrem la solucio actual i li sumem a la nostre variable el pes n[0] O(1)\n",
    "        value += n[0]\n",
    "    return value"
   ]
  },
  {
   "cell_type": "code",
   "execution_count": 6,
   "metadata": {
    "collapsed": true
   },
   "outputs": [],
   "source": [
    "def choice4(x, D):\n",
    "    D.sort(reverse = True,key = crit4) #Decidim el criteri\n",
    "    d = D[0] #La solucio final es el pes de D\n",
    "    D.remove(D[0]) #Eliminem D[0] de D O(n)\n",
    "    return d\n",
    "    \n",
    "def crit4(x):\n",
    "    return x[1]/x[0] #Proporcio, valor entre pes\n",
    "\n",
    "def is_valid4(x, d):\n",
    "    weight = 0\n",
    "    valid = False\n",
    "    for n in x: #Recorrem la solucio actual i li sumem a la nostre variable el pes n[0] O(1)\n",
    "        weight = weight + n[0]\n",
    "    if(weight == W): # Si el pes es igual a W False O(n)\n",
    "        valid = False\n",
    "    else:\n",
    "        if((weight + d[0] <= W)): #Si la suma del pes amb el pes de la solucio fianl es menor o igual a 150 True O(n)\n",
    "            valid = True\n",
    "        else: #Si es el contrari llavors fem la proporcio,  O(n)\n",
    "            frac = W - weight #Fraccio es 150 - la nostre variable\n",
    "            d[1] = (d[1]*frac)/d[0] #El valor de la solucio final es = el valor per frac entre el pes de la solucio O(n)\n",
    "            d[0]  = frac #Fem que d[0] sigui frac\n",
    "            valid = True #True\n",
    "    return valid\n",
    "        \n",
    "\n",
    "def is_complete4(x, D):\n",
    "    complete = False\n",
    "    weight = 0\n",
    "    for n in x: #Recorrem la solucio actual i li sumem a la nostre variable el pes n[0] O(1)\n",
    "        weight = weight + n[0]\n",
    "    if (weight == W): # Si el pes es igual a W true O(n)\n",
    "        complete = True\n",
    "    else: #False O(n)\n",
    "        complete = False\n",
    "\n",
    "def evaluate4(x):\n",
    "    value = 0\n",
    "    for n in x: #Recorrem la solucio actual i li sumem a la nostre variable el pes n[0] O(1)\n",
    "        value += n[0]\n",
    "    return value"
   ]
  },
  {
   "cell_type": "markdown",
   "metadata": {},
   "source": [
    "Añade aquí el código para instanciar un GreedySolver y utilizarlo para resolver cada uno de los problemas y mostrar la solución y su evaluación en pantalla."
   ]
  },
  {
   "cell_type": "code",
   "execution_count": 7,
   "metadata": {
    "scrolled": true
   },
   "outputs": [
    {
     "name": "stdout",
     "output_type": "stream",
     "text": [
      "[[25, 75], [27, 28], [3, 65], [17, 18], [33, 37], [32, 97], [26, 13], [20, 80], [31, 33], [23, 69]]\n",
      "([[33, 37], [32, 97], [31, 33], [27, 28], [26, 13]], 149)\n",
      "([[3, 65], [20, 80], [32, 97], [25, 75], [23, 69], [33, 37]], 136)\n",
      "([[3, 65], [17, 18], [20, 80], [23, 69], [25, 75], [26, 13], [27, 28]], 141)\n",
      "([[3, 65], [20, 80], [32, 97], [25, 75], [23, 69], [33, 37], [14, 14.903225806451612]], 150)\n"
     ]
    }
   ],
   "source": [
    "import copy\n",
    "import random\n",
    "# Con un seed fijo, el generador de objetos no cambia\n",
    "random.seed(0)\n",
    "\n",
    "# Genera una lista de elementos al azar en forma listas [peso, valor]\n",
    "D = random_objects()\n",
    "print(D)\n",
    "# Instancia los GreedySolvers y úsalos para resolver las variantes del problema de la mochila\n",
    "G1 = GreedySolver(choice1,is_valid1,is_complete1,evaluate1)\n",
    "print(G1.solve(copy.deepcopy(D)))\n",
    "G2 = GreedySolver(choice2,is_valid2,is_complete2,evaluate2)\n",
    "print(G2.solve(copy.deepcopy(D)))\n",
    "G3 = GreedySolver(choice3,is_valid3,is_complete3,evaluate3)\n",
    "print(G3.solve(copy.deepcopy(D)))\n",
    "G4 = GreedySolver(choice4,is_valid4,is_complete4,evaluate4)\n",
    "print(G4.solve(copy.deepcopy(D)))"
   ]
  },
  {
   "cell_type": "markdown",
   "metadata": {},
   "source": [
    "<div class=\"alert alert-success\" style=\"width:90%; margin:0 auto;\">\n",
    "\n",
    "  <h3>1.1- La mochila con varios objetos</h3>\n",
    "  <p>Supongamos ahora que en lugar de tener un único elemento de cada objeto, tenemos una cantidad determinada de cada uno y la solución no solo consiste en coger el objeto o no, sino también en cuántos cogemos de cada objeto. ¿Cómo cambia la implementación de la solución del ejercicio 2? Impleméntalo. ¿Es posible resolverlo con el esquema dado del GreedySolver? En caso negativo, crea una nueva clase GreedySolver_v con los cambios que consideres oportunos.\n",
    "</p>"
   ]
  },
  {
   "cell_type": "code",
   "execution_count": 8,
   "metadata": {
    "collapsed": true
   },
   "outputs": [],
   "source": [
    "def choice2_v(x, D):\n",
    "    D.sort(reverse = True,key = crit5) #Definiim el criteri\n",
    "    d = D[0]\n",
    "    n = evaluate2_v(x) #fem que ens cridi recursivament el metode evaluate\n",
    "    cant = (W - n)//d[2] #Cant es 150 - el valor de evaluate entre la quantitat de la solucio final\n",
    "    if cant < d[2]: #S i cant es menor a la quantitat la igualem O(n)\n",
    "          d[2] = cant\n",
    "    D.remove(D[0]) # Eliminem D[0] de D O(n)\n",
    "    return d\n",
    "\n",
    "    \n",
    "def crit5(x):\n",
    "    return x[1]/x[0] #proporcio entre valor i pes\n",
    "\n",
    "def is_valid2_v(x, d):\n",
    "    weight = evaluate2_v(x) #Cridem al metode evaluate\n",
    "    valid = False\n",
    "    if(len(x) == 0): #Si la longitud de la solucio actual es 0 True O(1)\n",
    "        valid = True\n",
    "    else:\n",
    "        if(d[2] == 0): # Si la quantitat es 0 llavors False O(n)\n",
    "            valid = False\n",
    "        elif(d[0]*d[2] <= (W-weight)): #Si la quantitat per el pes es menor a 150 - el pes llavors True O(n)\n",
    "            valid = True\n",
    "        else:  #False O(n)\n",
    "            valid = False\n",
    "    return valid\n",
    "        \n",
    "\n",
    "def is_complete2_v(x, D):\n",
    "    complete = False\n",
    "    weight = evaluate2_v(x) #Cridem al metode evaluate\n",
    "    if weight < W: #Si el pes es menor a 150 O(n)\n",
    "        weight = weight + min(D)[0] #Li sumem el mind(D[0])\n",
    "        if (weight <= W): #Si el pes es menor o igual a 150 llavors false O(n)\n",
    "            complete = False\n",
    "        else: #True O(n)\n",
    "            compelte = True\n",
    "    else: #O(n)\n",
    "        complete = True\n",
    "    \n",
    "def evaluate2_v(x):\n",
    "    value = 0\n",
    "    for n in x:#Recorrem la solucio actual i li sumem a la nostre variable el pes n[0] i li multipliquem la quantitat O(1)\n",
    "        value += n[0]*n[2]\n",
    "    return value"
   ]
  },
  {
   "cell_type": "code",
   "execution_count": 9,
   "metadata": {},
   "outputs": [
    {
     "name": "stdout",
     "output_type": "stream",
     "text": [
      "[[25, 75, 12], [27, 28, 13], [3, 65, 10], [17, 18, 3], [33, 37, 5], [32, 97, 2], [26, 13, 9], [20, 80, 7], [31, 33, 6], [23, 69, 11]]\n",
      "([[3, 65, 10], [32, 97, 2], [17, 18, 3]], 145)\n"
     ]
    }
   ],
   "source": [
    "import random\n",
    "random.seed(0)\n",
    "\n",
    "# Genera una lista de elementos al azar en forma de listas [peso, valor, cantidad]\n",
    "D=random_objects(False)\n",
    "print(D)\n",
    "# Instancia el GreedySolver y úsalo para resolver esta variante del problema de la mochila\n",
    "G2_v = GreedySolver(choice2_v,is_valid2_v,is_complete2_v,evaluate2_v)\n",
    "print(G2_v.solve(copy.deepcopy(D)))"
   ]
  },
  {
   "cell_type": "markdown",
   "metadata": {},
   "source": [
    "<div class=\"alert alert-success\" style=\"width:90%; margin:0 auto;\">\n",
    "\n",
    "  <h3>1.2- La mochila con infinitos objetos</h3>\n",
    "<p>Supongamos ahora que tenemos una cantidad ilimitada de cada objeto. ¿Cómo cambia la implementación de la solución del ejercicio ahora? Impleméntalo. ¿Es posible resolverlo con el esquema dado del GreedySolver? En caso negativo, crea una nueva clase GreedySolver_inf con los cambios que consideres oportunos.\n",
    "</p>"
   ]
  },
  {
   "cell_type": "code",
   "execution_count": 10,
   "metadata": {
    "collapsed": true
   },
   "outputs": [],
   "source": [
    "def choice2_inf(x, D):\n",
    "    D.sort(reverse = True,key = crit6) #Definim el criteri\n",
    "    d = D[0] #La solucio final es igual a D[0]\n",
    "    n = evaluate2_inf(x) #Cridem a evaluate\n",
    "    u = W//d[0] # 150 entre el pes de la solucio final\n",
    "    d.append(u) #Afegim u a la solucio final O(1)\n",
    "    D.remove(D[0]) #O(n)\n",
    "    return d\n",
    "    \n",
    "def crit6(x):\n",
    "    return x[1]/x[0] #Proporcio entre el valor i el pes\n",
    "\n",
    "\n",
    "def is_valid2_inf(x, d):\n",
    "    weight = evaluate2_inf(x)\n",
    "    valid = False\n",
    "    if(len(x) == 0): #Si la longitud de x es 0 llavors true O(1)\n",
    "        valid = True\n",
    "    else: #O(n)\n",
    "        if( d[2] == 0): #Si la quantitat es igual a 0 retorna False O(n)\n",
    "            valid = False\n",
    "        elif(d[0]*d[2] <= (W-weight)): #Si la multiplicacio entre quantitat i pes es menor a 150 - pes retorna true O(n)\n",
    "            valid = True\n",
    "        else: #False O(n)\n",
    "            valid = False\n",
    "    return valid\n",
    "\n",
    "def is_complete2_inf(x, D):\n",
    "    complete = False\n",
    "    weight = evaluate2_inf(x) #Cridem a evaluate\n",
    "    if weight < W: #Si el pes menor a 150 O(n)\n",
    "        weight = weight + min(D)[0] #Li sumem el mind(D[0]) O(n)\n",
    "        if (weight <= W): #Si el pes es menor o igual a 150 llavors false O(n)\n",
    "            complete = False\n",
    "        else: #True O(n)\n",
    "            complete = True\n",
    "    else:  #true O(n)\n",
    "        complete = True\n",
    "\n",
    "\n",
    "def evaluate2_inf(x):\n",
    "    value = 0\n",
    "    for n in x:#Recorrem la solucio actual i li sumem a la nostre variable el pes n[0] i li multipliquem W//n[0] O(1)\n",
    "        value = value + n[0]*(W//n[0])\n",
    "    return value"
   ]
  },
  {
   "cell_type": "code",
   "execution_count": 11,
   "metadata": {},
   "outputs": [
    {
     "name": "stdout",
     "output_type": "stream",
     "text": [
      "[[25, 75], [27, 28], [3, 65], [17, 18], [33, 37], [32, 97], [26, 13], [20, 80], [31, 33], [23, 69]]\n",
      "([[3, 65, 50]], 150)\n"
     ]
    }
   ],
   "source": [
    "import random\n",
    "random.seed(0)\n",
    "\n",
    "# Genera una lista de elementos al azar en forma listas [peso, valor]\n",
    "D = random_objects()\n",
    "print(D)\n",
    "# Instancia el GreedySolver y úsalo para resolver esta variante del problema de la mochila\n",
    "\n",
    "G2_inf = GreedySolver(choice2_inf,is_valid2_inf,is_complete2_inf,evaluate2_inf)\n",
    "print(G2_inf.solve(copy.deepcopy(D)))"
   ]
  },
  {
   "cell_type": "markdown",
   "metadata": {},
   "source": [
    "<div class=\"alert alert-warning\" style=\"width:80%; margin:0 auto; padding\">\n",
    "<center><p><h3> Cuestiones</h3></p> </center> </div>"
   ]
  },
  {
   "cell_type": "markdown",
   "metadata": {},
   "source": [
    "<ul>\n",
    "    <li>¿En qué casos se encuentra solución óptima al problema?</li>\n",
    "    <li>Explica las soluciones planteadas y analiza su complejidad.</li>\n",
    "    <li>Explica la estrategia que has empleado para las variantes del problema 2, enfatizando las diferencias principales con respecto al problema original ¿Ha cambiado la complejidad? Justifica tu respuesta.</li>\n",
    "</ul>"
   ]
  },
  {
   "cell_type": "markdown",
   "metadata": {},
   "source": [
    "__Escribe aquí tus respuestas__\n",
    "\n",
    "<h4> Pregunta 1: En Greedy en teoria nunca hay una solucion optima no obstante,la solucion que creo que es optima para este problema se encuentra en esos casos en los que se llega a 150 o casi. Por ejemplo en el caso 1 de la mochila con peso,en la mochila fraccioanria y por ultimo en la mochila de objetos infinitos</h4> \n",
    "\n",
    "<h4> Pregunta 2: Las soluciones planteadas están explicadas en el código junto con su complejidad </h4> \n",
    "\n",
    "<h4> Pregunta 3: La estrategia en las variantes del problema 2 han sido ir llamando de forma recursiva la funcion evaluate para que nos de el valor en cuestión, a partir de ese valor hemos tenido que ir modificando sobretodo las partes de is_valid y is_complete porque no son las mismas que para los casos anteriores, ya que en estos 2 casos, la mochila tiene objetos con una cantidad asociada y por lo tanto se tiene que ver cuantos objetos se cojen de un mismo tipo y en el otro problema nos pide hacer una mochila con infinitos objetos. Por lo tanto hemos tenido que modificar el codigo para satisfacer estos dos enunciados de problemas</h4>\n",
    "\n",
    "<h4> Pregunta 4: La complejidad obviamente ha cambiado, ya que el código al final ha tenido que cambiar para poder representar estas variantes del problema. Se ha hecho de manera recursiva por lo tanto la complejidad ha mejorado y además es más eficiente que los primeros problemas </h4>"
   ]
  },
  {
   "cell_type": "markdown",
   "metadata": {},
   "source": [
    "<div class=\"alert alert-info\">\n",
    "<center>\n",
    "  <h1>Entrega</h1>\n",
    "</center>\n",
    "<p>\n",
    "La entrega de esta práctica (junto a la de programación dinámica) se podrá realizar en el campus virtual hasta el día __25 de Noviembre a las 23:55__. En la tarea que se habilitará en el campus deberéis colgar __un archivo .zip__ que contenga __únicamente__ los notebooks de las dos prácticas siguiendo la siguiente nomenclatura:\n",
    "</p>\n",
    "<p>\n",
    "```\n",
    "*AA_P2_<apellido1>_<apellido2>_<nombre>.zip\n",
    "|___* AA_Greedy_<apellido1>_<apellido2>_<nombre>.ipynb\n",
    "|___* AA_PD_<apellido1>_<apellido2>_<nombre>.ipynb\n",
    "```\n",
    "\n",
    "</p>\n",
    "<p>\n",
    "Por ejemplo:\n",
    "</p>\n",
    "<p>\n",
    "```\n",
    "AA_P2_Doe_Ritchie_John.zip\n",
    "```\n",
    "\n",
    "</p>\n",
    "<p>\n",
    "\n",
    "Es fundamental que el código esté bién comentado y con un análisis de complejidad exhaustivo del algoritmo.También resulta de gran importancia que la entrega siga el formato indicado. \n",
    "</p>\n",
    "</div>"
   ]
  },
  {
   "cell_type": "code",
   "execution_count": null,
   "metadata": {
    "collapsed": true
   },
   "outputs": [],
   "source": []
  }
 ],
 "metadata": {
  "kernelspec": {
   "display_name": "Python 3",
   "language": "python",
   "name": "python3"
  },
  "language_info": {
   "codemirror_mode": {
    "name": "ipython",
    "version": 3
   },
   "file_extension": ".py",
   "mimetype": "text/x-python",
   "name": "python",
   "nbconvert_exporter": "python",
   "pygments_lexer": "ipython3",
   "version": "3.6.2"
  }
 },
 "nbformat": 4,
 "nbformat_minor": 1
}
