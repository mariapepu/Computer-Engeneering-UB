{
 "cells": [
  {
   "cell_type": "markdown",
   "metadata": {},
   "source": [
    "<div style=\"padding:30px; color: white; background-color: #0071CD\">\n",
    "<center>\n",
    "<img src=\"img/logoub.jpeg\"></img>\n",
    "<center>\n",
    "<p>\n",
    "<h1>Algorísmica Avançada</h1>\n",
    "<h2>Pràctica 2.A - Greedy </h2>\n",
    "</center>\n",
    "</p>\n",
    "</div>"
   ]
  },
  {
   "cell_type": "markdown",
   "metadata": {},
   "source": [
    "<div class=\"alert alert-info\">\n",
    "<center>\n",
    "  <h1>Introducción</h1>\n",
    "</center>"
   ]
  },
  {
   "cell_type": "markdown",
   "metadata": {},
   "source": [
    "<p>Un algoritmo Greedy es aquel que trata de resolver un problema con la heurística de escoger, a cada paso, la opción óptima con la intención de encontrar una solución óptima global al problema. En caso general, este tipo de algoritmos no son capaces de encontrar la solución óptima, sin embargo, sí pueden encontrar soluciones subóptimas suficientemente cercanas con una coste computacional significativamente menor.</p>\n",
    "\n",
    "<h3>Ejemplo</h3>\n",
    "<p>Supongamos que intentamos encontrar la suma más grande en este grafo en forma de árbol. Un algoritmo greedy no consiste en encontrar una estrategia óptima global al problema, sino que a cada paso, buscará entre sus siguientes opciones cuál lleva más cerca de la solución (óptimo local).</p>\n",
    "<img src=\"https://upload.wikimedia.org/wikipedia/commons/8/8c/Greedy-search-path-example.gif\">\n",
    "\n",
    "<h2>Estructura</h2>\n",
    "\n",
    "Todos los algoritmos greedy comparten ciertas características:\n",
    "<ol>\n",
    "    <li><b>Conjunto</b> de elementos a partir de los cuales formar una solución.</li>\n",
    "    <li>Criterio de <b>elección</b> del siguiente elemento candidato (Heurística).</li>\n",
    "    <li>Criterio de <b>validación</b> sobre los elementos candidatos.</li>\n",
    "    <li>Criterio de <b>terminación</b>, que indica cuando hemos alcanzado una solución completa.</li>\n",
    "    <li>Métrica de <b>evaluación</b> de una solución, total o parcial.</li>\n",
    "</ol>"
   ]
  },
  {
   "cell_type": "markdown",
   "metadata": {},
   "source": [
    "<div class=\"alert alert-info\">\n",
    "<center>\n",
    "  <h1>Contenido</h1>\n",
    "  </center><p>\n",
    "\n"
   ]
  },
  {
   "cell_type": "markdown",
   "metadata": {},
   "source": [
    "<div class=\"alert alert-success\" style=\"width:90%; margin:0 auto;\">\n",
    "<h2>0 - Greedy Solver</h2>\n",
    "\n",
    "Dado que todos los algoritmos Greedy siguen la misma estrategia, es posible crear una función que, dados los criterios de elección, validación y terminación, resuelva cualquier problema genéricamente. Adicionalmente, una función de evaluación de soluciones para determinar lo buena que es la solución propuesta por el algoritmo."
   ]
  },
  {
   "cell_type": "code",
   "execution_count": 42,
   "metadata": {
    "collapsed": true
   },
   "outputs": [],
   "source": [
    "class GreedySolver:\n",
    "    # Define los criterios que utilizará el GreedySolver\n",
    "    def __init__(self, choice, is_valid, is_complete, evaluate):\n",
    "        self._choice = choice\n",
    "        self._is_valid = is_valid\n",
    "        self._is_complete = is_complete\n",
    "        self._evaluate = evaluate\n",
    "        \n",
    "    # Estrategia genérica de resolución de problemas\n",
    "    def solve(self, D):\n",
    "        x = set()\n",
    "        # Mientras no se cumpla el criterio de terminación\n",
    "        while D and not self._is_complete(x, D):\n",
    "            # Escoge un elemento\n",
    "            d = self._choice(x, D)\n",
    "            # Comprueba si el elemento puede ser incluido en la solución\n",
    "            if self._is_valid(x, d):\n",
    "                x.add(d)\n",
    "        # Devuelve la solución y la métrica\n",
    "        return x, self._evaluate(x)"
   ]
  },
  {
   "cell_type": "markdown",
   "metadata": {},
   "source": [
    "<div class=\"alert alert-success\" style=\"width:90%; margin:0 auto;\">\n",
    "\n",
    "  <h2><p>1- El problema de la mochila</p></h2>\n",
    "  \n",
    "  <center><img src=\"img/knapsack.png\" width=40%></center>\n",
    "  \n",
    "  <p>\n",
    "    Nos encontramos en una habitación en la que hay $N$ objetos con pesos $w_1, w_2, w_3 ... w_N$ y tenemos una mochila que puede soportar una carga máxima de $W$.\n",
    "    En esta práctica se pide que realicéis una implementación Greedy para resolver los siguientes problemas:\n",
    " <ol><li>\n",
    " **mochila:** En este caso buscamos llenar la mochila lo máximo posible. En otras palabras,queremos que $\\sum_{i=0}^{N}{(w_i · b_i)}\\leq W$ aproximándose lo más posible a $W$, donde $b_k$ es un valor binario que representa si el objeto es escogido o no.\n",
    " </li><li>\n",
    " **mochila_valor:** Igual que en el caso anterior, pero ahora cada objeto tendrá asignado un valor $v_1, v_2, v_3 ... v_N$. En este caso buscamos llenar la mochila maximizando el valor total de la mochila. Es decir queremos encontrar la combinación de objetos $b$ tal que $\\arg_{b} \\max{\\sum_{i=0}^{N}{v_i · b_i}}$ manteniendo la condición anterior de que $\\sum_{i=0}^{N}{(w_i · b_i)}\\leq W$.\n",
    "     </li>\n",
    "     <li>\n",
    "     **mochila_diversa:** Para este problema queremos meter en la mochila la mayor cantidad de objetos posibles. De esta manera, buscamos que la combinación de objetos $b$ tal que $\\arg_{b} \\max{\\sum_{i=0}^{N}{b_i}}$.\n",
    "     </li><li>\n",
    "     **mochila_fraccionada:** Aquí podemos coger solo una parte del objeto. Así pues, dispondremos de una lista $x_1, x_2, x_3 ... x_N$ tal que $0 \\leq x_i \\leq 1$ y queremos que $\\arg_{b} \\max{\\sum_{i=0}^{N}{v_i · x_i}}$ manteniendo la condición anterior de que $\\sum_{i=0}^{N}{(w_i · x_i)}\\leq W$.\n",
    "     </li>\n",
    " </ol>\n",
    "</p>"
   ]
  },
  {
   "cell_type": "markdown",
   "metadata": {},
   "source": [
    "<div class=\"alert alert-danger\" style=\"width:80%; margin:0 auto; padding\">\n",
    "<center><p><h3> Código </h3></p> </center>\n",
    "<p>\n",
    "**choice.** Esta función debe seleccionar el siguiente elemento.\n",
    "    <ul>\n",
    "        <li>Input:\n",
    "            <ul>\n",
    "                <li>x. Elementos que forman la solución actual</li>\n",
    "                <li>D. Conjunto de elementos disponibles</li>\n",
    "            </ul>\n",
    "        </li>\n",
    "        <li>Output:\n",
    "            <ul>\n",
    "                <li>d. Elemento seleccionado</li>\n",
    "            </ul>\n",
    "        </li>\n",
    "        </ul>\n",
    "</p>\n",
    "\n",
    "<p>\n",
    "**is_valid.** Esta función debe decidir si el elemento seleccionado puede añadirse a la solución.\n",
    "    <ul>\n",
    "        <li>Input:\n",
    "            <ul>\n",
    "                <li>x. Elementos que forman la solución actual</li>\n",
    "                <li>d. Elemento seleccionado</li>\n",
    "            </ul>\n",
    "        </li>\n",
    "        <li>Output:\n",
    "            <ul>\n",
    "                <li>valid. Booleano que indica la validez del elemento a añadir</li>\n",
    "            </ul>\n",
    "        </li>\n",
    "    </ul>\n",
    "</p>\n",
    "\n",
    "<p>\n",
    "**is_complete.** Esta función debe decidir si la solución encontrada es completa o si no puede continuarse.\n",
    "    <ul>\n",
    "        <li>Input:\n",
    "            <ul>\n",
    "                <li>x. Elementos que forman la solución actual</li>\n",
    "                <li>D. Conjunto de elementos disponibles</li>\n",
    "            </ul>\n",
    "        </li>\n",
    "        <li>Output:\n",
    "            <ul>\n",
    "                <li>complete. Booleano que indica si la solución es completa o imposible seguir</li>\n",
    "            </ul>\n",
    "        </li>\n",
    "    </ul>\n",
    "</p>\n",
    "\n",
    "<p>\n",
    "**evaluate.** Esta función devuelve una métrica indicando lo buena que es la solución encontrada.\n",
    "    <ul>\n",
    "        <li>Input:\n",
    "            <ul>\n",
    "                <li>x. Elementos que forman la solución</li>\n",
    "            </ul>\n",
    "        </li>\n",
    "        <li>Output:\n",
    "            <ul>\n",
    "                <li>metric. Valor de la métrica evaluada sobre la solución</li>\n",
    "            </ul>\n",
    "        </li>\n",
    "    </ul>\n",
    "</p>\n",
    "</div>\n"
   ]
  },
  {
   "cell_type": "markdown",
   "metadata": {},
   "source": [
    "Define para cada una de las variantes del problema de la mochila las funciones necesarias para el correcto funcionamiento del GreedySolver."
   ]
  },
  {
   "cell_type": "code",
   "execution_count": 172,
   "metadata": {
    "collapsed": true
   },
   "outputs": [],
   "source": [
    "# Capacidad de la mochila\n",
    "W = 150"
   ]
  },
  {
   "cell_type": "code",
   "execution_count": 209,
   "metadata": {},
   "outputs": [],
   "source": [
    "def choice1(x, D):\n",
    "    d = max(D)\n",
    "    D.remove(d)\n",
    "    return d\n",
    "\n",
    "def is_valid1(x, d):\n",
    "    valid = False\n",
    "    weight = 0\n",
    "    for n in x:\n",
    "        weight = weight + n[0]\n",
    "    if(len(x)==0):\n",
    "        valid =  True\n",
    "    else:\n",
    "        if(d[0]<= weight):\n",
    "            valid = True\n",
    "        else:\n",
    "            valid = False\n",
    "    return valid\n",
    "\n",
    "def is_complete1(x, D):\n",
    "    weight = 0\n",
    "    complete = False\n",
    "    for n in x:\n",
    "        weight = weight+n[0]\n",
    "    if weight < W:\n",
    "        weight = weight+min(D[0])\n",
    "        if(weight < W):\n",
    "            complete = False\n",
    "        elif weight >= W:\n",
    "            complete = True\n",
    "    return complete\n",
    "\n",
    "def evaluate1(x):\n",
    "    weight = 0\n",
    "    for n in x:\n",
    "        weight += n[0]\n",
    "    return weight"
   ]
  },
  {
   "cell_type": "code",
   "execution_count": 210,
   "metadata": {
    "collapsed": true
   },
   "outputs": [],
   "source": [
    "def choice2(x, D):\n",
    "    pass\n",
    "\n",
    "def is_valid2(x, d):\n",
    "    pass\n",
    "\n",
    "\n",
    "def is_complete2(x, D):\n",
    "    pass\n",
    "\n",
    "def evaluate2(x):\n",
    "    valor = 0\n",
    "    for n in x:\n",
    "        valor += n[1]\n",
    "    return valor"
   ]
  },
  {
   "cell_type": "code",
   "execution_count": 211,
   "metadata": {
    "collapsed": true
   },
   "outputs": [],
   "source": [
    "def choice3(x, D):\n",
    "    pass\n",
    "\n",
    "def is_valid3(x, d):\n",
    "    pass\n",
    "\n",
    "def is_complete3(x, D):\n",
    "    pass\n",
    "\n",
    "def evaluate3(x):\n",
    "    pass"
   ]
  },
  {
   "cell_type": "code",
   "execution_count": 212,
   "metadata": {
    "collapsed": true
   },
   "outputs": [],
   "source": [
    "def choice4(x, D):\n",
    "    pass\n",
    "\n",
    "def is_valid4(x, d):\n",
    "    pass\n",
    "\n",
    "def is_complete4(x, D):\n",
    "    pass\n",
    "\n",
    "def evaluate4(x):\n",
    "    pass"
   ]
  },
  {
   "cell_type": "markdown",
   "metadata": {},
   "source": [
    "Añade aquí el código para instanciar un GreedySolver y utilizarlo para resolver cada uno de los problemas y mostrar la solución y su evaluación en pantalla."
   ]
  },
  {
   "cell_type": "code",
   "execution_count": 213,
   "metadata": {},
   "outputs": [
    {
     "name": "stdout",
     "output_type": "stream",
     "text": [
      "[(25, 75), (27, 28), (3, 65), (17, 18), (33, 37), (32, 97), (26, 13), (20, 80), (31, 33), (23, 69)]\n",
      "({(32, 97), (33, 37), (26, 13), (27, 28), (31, 33)}, 149)\n"
     ]
    }
   ],
   "source": [
    "import random\n",
    "import copy\n",
    "random.seed(0)\n",
    "\n",
    "# Genera una lista de elementos al azar en forma tuplas (peso, valor)\n",
    "D = list(zip(random.sample(range(1, 50), k=10), random.sample(range(1, 100), k=10)))\n",
    "print(D)\n",
    "# Instancia los GreedySolvers y úsalos para resolver las variantes del problema de la mochila\n",
    "G1 = GreedySolver(choice1,is_valid1,is_complete1,evaluate1)\n",
    "print(G1.solve(copy.copy(D)))\n",
    "#G2 = GreedySolver(choice2,is_valid2,is_complete2,evaluate2)\n",
    "#print(G2.solve(copy.copy(D)))\n",
    "#G3 = GreedySolver(choice3,is_valid3,is_complete3,evaluate3)\n",
    "#print(G3.solve(copy.copy(D)))\n",
    "#G4 = GreedySolver(choice4,is_valid4,is_complete4,evaluate4)\n",
    "#print(G4.solve(copy.copy(D)))"
   ]
  },
  {
   "cell_type": "markdown",
   "metadata": {},
   "source": [
    "<div class=\"alert alert-success\" style=\"width:90%; margin:0 auto;\">\n",
    "\n",
    "  <h3>1.1- La mochila con varios objetos</h3>\n",
    "  <p>Supongamos ahora que en lugar de tener un único elemento de cada objeto, tenemos una cantidad determinada de cada uno y la solución no solo consiste en coger el objeto o no, sino en cuántos cogemos de cada objeto. ¿Cómo cambia la implementación de la solución del ejercicio 2?\n",
    "</p>"
   ]
  },
  {
   "cell_type": "code",
   "execution_count": null,
   "metadata": {
    "collapsed": true
   },
   "outputs": [],
   "source": [
    "def choice2_v(x, D):\n",
    "    pass\n",
    "\n",
    "def is_valid2_v(x, d):\n",
    "    pass\n",
    "\n",
    "def is_complete2_v(x, D):\n",
    "    pass\n",
    "\n",
    "def evaluate2_v(x):\n",
    "    pass"
   ]
  },
  {
   "cell_type": "code",
   "execution_count": null,
   "metadata": {
    "collapsed": true
   },
   "outputs": [],
   "source": [
    "import random\n",
    "random.seed(0)\n",
    "\n",
    "# Genera una lista de elementos al azar en forma tuplas (peso, valor, cantidad)\n",
    "D = list(zip(random.sample(range(1, 50), k=10), random.sample(range(1, 100), k=10),random.sample(range(1, 15), k=10)))\n",
    "print(D)\n",
    "# Instancia los GreedySolvers y úsalos para resolver las variantes del problema de la mochila"
   ]
  },
  {
   "cell_type": "markdown",
   "metadata": {},
   "source": [
    "<div class=\"alert alert-success\" style=\"width:90%; margin:0 auto;\">\n",
    "\n",
    "  <h3>1.2- La mochila con infinitos objetos</h3>\n",
    "<p>Supongamos ahora que tenemos una cantidad ilimitada de cada objeto. ¿Cómo cambia la implementación de la solución del ejercicio ahora? \n",
    "</p>"
   ]
  },
  {
   "cell_type": "code",
   "execution_count": null,
   "metadata": {
    "collapsed": true
   },
   "outputs": [],
   "source": [
    "def choice2_inf(x, D):\n",
    "    pass\n",
    "\n",
    "def is_valid2_inf(x, d):\n",
    "    pass\n",
    "\n",
    "def is_complete2_inf(x, D):\n",
    "    pass\n",
    "\n",
    "def evaluate2_inf(x):\n",
    "    pass"
   ]
  },
  {
   "cell_type": "code",
   "execution_count": null,
   "metadata": {
    "collapsed": true
   },
   "outputs": [],
   "source": [
    "import random\n",
    "random.seed(0)\n",
    "\n",
    "# Genera una lista de elementos al azar en forma tuplas (peso, valor)\n",
    "D = list(zip(random.sample(range(1, 50), k=10), random.sample(range(1, 100), k=10)))\n",
    "print(D)\n",
    "# Instancia los GreedySolvers y úsalos para resolver las variantes del problema de la mochila"
   ]
  },
  {
   "cell_type": "markdown",
   "metadata": {},
   "source": [
    "<div class=\"alert alert-warning\" style=\"width:80%; margin:0 auto; padding\">\n",
    "<center><p><h3> Cuestiones</h3></p> </center> </div>"
   ]
  },
  {
   "cell_type": "markdown",
   "metadata": {},
   "source": [
    "<ul>\n",
    "    <li>¿En qué casos se encuentra solución óptima al problema?</li>\n",
    "    <li>Explica las soluciones planteadas y analiza su complejidad.</li>\n",
    "    <li>Explica la estrategia que has empleado para las variantes del problema 2, enfatizando las diferencias principales con respecto al problema original ¿Ha cambiado la complejidad? Justifica tu respuesta.</li>\n",
    "</ul>"
   ]
  },
  {
   "cell_type": "markdown",
   "metadata": {},
   "source": [
    "__Escribe aquí tus respuestas__\n",
    "\n",
    "<h4> Pregunta 1 </h4>\n",
    "\n",
    "<h4> Pregunta 2 </h4>\n",
    "\n",
    "<h4> Pregunta 3 </h4>\n",
    "\n",
    "<h4> Pregunta 4 </h4>"
   ]
  },
  {
   "cell_type": "markdown",
   "metadata": {},
   "source": [
    "<div class=\"alert alert-info\">\n",
    "<center>\n",
    "  <h1>Entrega</h1>\n",
    "</center>\n",
    "<p>\n",
    "La entrega de esta práctica (junto a la de programación dinámica) se podrá realizar en el campus virtual hasta el día __25 de Noviembre a las 23:55__. En la tarea que se habilitará en el campus deberéis colgar __un archivo .zip__ que contenga __únicamente__ los notebooks de las dos prácticas siguiendo la siguiente nomenclatura:\n",
    "</p>\n",
    "<p>\n",
    "```\n",
    "*AA_P2_<apellido1>_<apellido2>_<nombre>.zip\n",
    "|___* AA_Greedy_<apellido1>_<apellido2>_<nombre>.ipynb\n",
    "|___* AA_PD_<apellido1>_<apellido2>_<nombre>.ipynb\n",
    "```\n",
    "\n",
    "</p>\n",
    "<p>\n",
    "Por ejemplo:\n",
    "</p>\n",
    "<p>\n",
    "```\n",
    "AA_P2_Doe_Ritchie_John.zip\n",
    "```\n",
    "\n",
    "</p>\n",
    "<p>\n",
    "\n",
    "Es fundamental que el código esté bién comentado y con un análisis de complejidad exhaustivo del algoritmo.También resulta de gran importancia que la entrega siga el formato indicado. \n",
    "</p>\n",
    "</div>"
   ]
  },
  {
   "cell_type": "code",
   "execution_count": null,
   "metadata": {
    "collapsed": true
   },
   "outputs": [],
   "source": []
  }
 ],
 "metadata": {
  "kernelspec": {
   "display_name": "Python 3",
   "language": "python",
   "name": "python3"
  },
  "language_info": {
   "codemirror_mode": {
    "name": "ipython",
    "version": 3
   },
   "file_extension": ".py",
   "mimetype": "text/x-python",
   "name": "python",
   "nbconvert_exporter": "python",
   "pygments_lexer": "ipython3",
   "version": "3.6.2"
  }
 },
 "nbformat": 4,
 "nbformat_minor": 1
}
