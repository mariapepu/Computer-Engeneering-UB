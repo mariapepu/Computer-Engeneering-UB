{
 "cells": [
  {
   "cell_type": "markdown",
   "metadata": {},
   "source": [
    "<div style=\"padding:30px; color: white; background-color: #0071CD\">\n",
    "<center>\n",
    "<img src=\"img/logoub.jpeg\"></img>\n",
    "<center>\n",
    "<p>\n",
    "<h1>Algorísmica Avançada</h1>\n",
    "<h2>Examen de prácticas 1</h2>\n",
    "</center>\n",
    "</p>\n",
    "</div>"
   ]
  },
  {
   "cell_type": "markdown",
   "metadata": {},
   "source": [
    "<div class=\"alert alert-success\" style=\"width:90%; margin:0 auto;\">\n",
    "  <h2><p>Búsqueda de componentes conexos</p></h2>\n",
    "  <p>\n",
    "  Se dice que un grafo $G$ es inconexo si está formado por dos o más subconjuntos disjuntos de nodos (no hay aristas que conecten nodos de un subconjunto con nodos de otro subconjunto), la figura siguiente muestra un grafo inconexo en el que se pueden observar claramente dos subgrafos:\n",
    "  <img src=\"img/inconex.png\" width=\"500px\">\n",
    "  </p>\n",
    "  <p>\n",
    "  El examen contiene dos ejercicios en el que se os propone implementar __un algoritmo basado en la búsqueda en amplitud (BFS)__ y __un algoritmo basado en la búsqueda en profundidad (DFS)__ que séan capaces, dado cualquier grafo $G$, de identificar todos los componentes conexos de dicho grafo.\n",
    "  </p>\n",
    "  </div>\n"
   ]
  },
  {
   "cell_type": "markdown",
   "metadata": {},
   "source": [
    "<div class=\"alert alert-danger\" style=\"width:80%; margin:0 auto; padding\">\n",
    "<center><p><h3> Código </h3></p> </center>\n",
    "<p>\n",
    "<h3>INPUT</h3>\n",
    "<ul>\n",
    "<li>__G__: Un grafo de tipo `Graph`.</li>\n",
    "<li>_opt_: Se pueden añadir en los headers de las funciones tantos parametros opcionales como se necesiten.</li>\n",
    "</ul>\n",
    "<br>\n",
    "<h3>OUTPUT</h3>\n",
    "El output de una funcion es un diccionario que contiene los siguientes valores\n",
    "<ul>\n",
    "<li>__ _'subgraphs'_ __: Una lista en la que cada elemento sea otra lista que contenga los nodos de cada uno de los subgrafos.</li>\n",
    "<li>__ _'expanded'_ __: El numero de nodos que se han visitado para encontrar la solución.</li>\n",
    "<ul>\n",
    "\n",
    "</p>\n",
    "</div>\n"
   ]
  },
  {
   "cell_type": "code",
   "execution_count": 1,
   "metadata": {
    "collapsed": true
   },
   "outputs": [],
   "source": [
    "from graph import Graph\n",
    "visited = []\n",
    "pending = []\n",
    "subgraphs = []\n",
    "\n",
    "\n",
    "def subgraph_search_BFS(G):\n",
    "    expanded = 0\n",
    "    for i in G._nodes:\n",
    "        if i not in visited:\n",
    "            sub_g = []\n",
    "            expanded = explore(G,i,sub_g,expanded)\n",
    "            subgraphs.append(sub_g)\n",
    "    \n",
    "    return{\n",
    "        'subraphs' : subgraphs,\n",
    "        'expanded' : expanded\n",
    "         }    \n",
    "    \n",
    "    \n",
    "    \n",
    "def explore(G,nodo,sub_g,expanded):\n",
    "    \n",
    "    visited.append(nodo)\n",
    "    expanded += 1\n",
    "    for x in G.neighbors(nodo):\n",
    "        if x not in visited and x not in pending:\n",
    "            G.node[x]['prev'] = nodo\n",
    "            pending.append(x)\n",
    "    if nodo not in sub_g:\n",
    "        sub_g.append(nodo)\n",
    "    if len(pending)>0:\n",
    "        explore(G,pending.pop(0),sub_g,expanded)\n",
    "        return expanded"
   ]
  },
  {
   "cell_type": "code",
   "execution_count": 2,
   "metadata": {},
   "outputs": [
    {
     "data": {
      "text/plain": [
       "{'expanded': 1,\n",
       " 'subraphs': [['A', 'B', 'C', 'D', 'E', 'F', 'G', 'H', 'I', 'J']]}"
      ]
     },
     "execution_count": 2,
     "metadata": {},
     "output_type": "execute_result"
    }
   ],
   "source": [
    "from graph import Graph\n",
    "\n",
    "G = Graph()\n",
    "G.add_node('A',attr_dict={'prev':None})\n",
    "G.add_node('B',attr_dict={'prev':None})\n",
    "G.add_node('C',attr_dict={'prev':None})\n",
    "G.add_node('D',attr_dict={'prev':None})\n",
    "G.add_node('E',attr_dict={'prev':None})\n",
    "G.add_node('F',attr_dict={'prev':None})\n",
    "G.add_node('G',attr_dict={'prev':None})\n",
    "G.add_node('H',attr_dict={'prev':None})\n",
    "G.add_node('I',attr_dict={'prev':None})\n",
    "G.add_node('J',attr_dict={'prev':None})\n",
    "\n",
    "G.add_edge('A','B',attr_dict={})\n",
    "G.add_edge('A','C',attr_dict={})\n",
    "G.add_edge('A','D',attr_dict={})\n",
    "G.add_edge('B','E',attr_dict={})\n",
    "G.add_edge('B','F',attr_dict={})\n",
    "G.add_edge('C','F',attr_dict={})\n",
    "G.add_edge('E','I',attr_dict={})\n",
    "G.add_edge('E','J',attr_dict={})\n",
    "G.add_edge('J','I',attr_dict={})\n",
    "G.add_edge('D','G',attr_dict={})\n",
    "G.add_edge('D','H',attr_dict={})\n",
    "G.add_edge('H','G',attr_dict={})\n",
    "\n",
    "subgraph_search_BFS(G)"
   ]
  },
  {
   "cell_type": "code",
   "execution_count": null,
   "metadata": {
    "collapsed": true
   },
   "outputs": [],
   "source": []
  },
  {
   "cell_type": "code",
   "execution_count": 7,
   "metadata": {
    "collapsed": true
   },
   "outputs": [],
   "source": [
    "#BFS correcto iterativo\n",
    "def bfs(G):\n",
    "    visited = []\n",
    "    pending = []\n",
    "    expanded = 0\n",
    "    subgrafhs = []\n",
    "    \n",
    "    for i in G.nodes():\n",
    "        if i not in visited:\n",
    "            subgraph = []\n",
    "            pending.append(i)\n",
    "            while len(pending)>0:\n",
    "                nodo = pending.pop(0)\n",
    "                if nodo not in visited:\n",
    "                    expanded += 1\n",
    "                    visited.append(nodo)\n",
    "                    subgraph.append(nodo)\n",
    "                    for x in G.neighbors(nodo):\n",
    "                        if x not in visited and x not in pending:\n",
    "                            pending.append(x)\n",
    "            subgrafhs.append(subgraph)\n",
    "            \n",
    "    return {\n",
    "        'subgraphs' : subgrafhs,\n",
    "        'expanded' : expanded\n",
    "    }"
   ]
  },
  {
   "cell_type": "code",
   "execution_count": 8,
   "metadata": {},
   "outputs": [
    {
     "data": {
      "text/plain": [
       "{'expanded': 10,\n",
       " 'subgraphs': [['A', 'B', 'C', 'F'], ['D', 'H', 'G'], ['E', 'I', 'J']]}"
      ]
     },
     "execution_count": 8,
     "metadata": {},
     "output_type": "execute_result"
    }
   ],
   "source": [
    "from graph import Graph\n",
    "G = Graph()\n",
    "G.add_node('A',attr_dict={})\n",
    "G.add_node('B',attr_dict={})\n",
    "G.add_node('C',attr_dict={})\n",
    "G.add_node('D',attr_dict={})\n",
    "G.add_node('E',attr_dict={})\n",
    "G.add_node('F',attr_dict={})\n",
    "G.add_node('G',attr_dict={})\n",
    "G.add_node('H',attr_dict={})\n",
    "G.add_node('I',attr_dict={})\n",
    "G.add_node('J',attr_dict={})\n",
    "\n",
    "G.add_edge('A','B',attr_dict={})\n",
    "#G.add_edge('A','D',attr_dict={})\n",
    "G.add_edge('A','C',attr_dict={})\n",
    "G.add_edge('D','H',attr_dict={})\n",
    "G.add_edge('D','G',attr_dict={})\n",
    "G.add_edge('G','H',attr_dict={})\n",
    "G.add_edge('B','F',attr_dict={})\n",
    "#G.add_edge('B','E',attr_dict={})\n",
    "G.add_edge('C','F',attr_dict={})\n",
    "G.add_edge('E','I',attr_dict={})\n",
    "G.add_edge('E','J',attr_dict={})\n",
    "G.add_edge('I','J',attr_dict={})\n",
    "\n",
    "bfs(G)"
   ]
  },
  {
   "cell_type": "code",
   "execution_count": 1,
   "metadata": {
    "collapsed": true
   },
   "outputs": [],
   "source": [
    "# EJERCICIO 2\n",
    "from graph import Graph\n",
    "\n",
    "def subgraph_search_DFS(G):\n",
    "    expanded = 0\n",
    "    visited = []\n",
    "    pending = []\n",
    "    subgrafphs = []\n",
    "    \n",
    "    for i in G.nodes():\n",
    "        if i not in visited:\n",
    "            nodo = i\n",
    "            subgraf = []\n",
    "            s = explore2(G,nodo,visited,expanded)\n",
    "            \n",
    "            subgrafphs.append(visited)\n",
    "            \n",
    "    return{\n",
    "        'subraphs' : subgraphs,\n",
    "        'expanded' : expanded\n",
    "         }   \n",
    "    \n",
    "def explore2(G,nodo,visited,expanded):\n",
    "    while len(pending)>0:\n",
    "        visited.append(nodo)\n",
    "        expanded += 1\n",
    "        for i in G.neighbors(nodo):\n",
    "            if i not in visited:\n",
    "                pending.append(i)\n",
    "                subgraf.append(i)\n",
    "        explore2(G,pending.pop(),visited,expanded)\n",
    "    return visited"
   ]
  },
  {
   "cell_type": "code",
   "execution_count": 2,
   "metadata": {},
   "outputs": [
    {
     "ename": "NameError",
     "evalue": "name 'pending' is not defined",
     "output_type": "error",
     "traceback": [
      "\u001b[0;31m---------------------------------------------------------------------------\u001b[0m",
      "\u001b[0;31mNameError\u001b[0m                                 Traceback (most recent call last)",
      "\u001b[0;32m<ipython-input-2-a47efd8a4b7d>\u001b[0m in \u001b[0;36m<module>\u001b[0;34m()\u001b[0m\n\u001b[1;32m     26\u001b[0m \u001b[0mG\u001b[0m\u001b[0;34m.\u001b[0m\u001b[0madd_edge\u001b[0m\u001b[0;34m(\u001b[0m\u001b[0;34m'H'\u001b[0m\u001b[0;34m,\u001b[0m\u001b[0;34m'G'\u001b[0m\u001b[0;34m,\u001b[0m\u001b[0mattr_dict\u001b[0m\u001b[0;34m=\u001b[0m\u001b[0;34m{\u001b[0m\u001b[0;34m}\u001b[0m\u001b[0;34m)\u001b[0m\u001b[0;34m\u001b[0m\u001b[0m\n\u001b[1;32m     27\u001b[0m \u001b[0;34m\u001b[0m\u001b[0m\n\u001b[0;32m---> 28\u001b[0;31m \u001b[0msubgraph_search_DFS\u001b[0m\u001b[0;34m(\u001b[0m\u001b[0mG\u001b[0m\u001b[0;34m)\u001b[0m\u001b[0;34m\u001b[0m\u001b[0m\n\u001b[0m",
      "\u001b[0;32m<ipython-input-1-7e5e90e13770>\u001b[0m in \u001b[0;36msubgraph_search_DFS\u001b[0;34m(G)\u001b[0m\n\u001b[1;32m     12\u001b[0m             \u001b[0mnodo\u001b[0m \u001b[0;34m=\u001b[0m \u001b[0mi\u001b[0m\u001b[0;34m\u001b[0m\u001b[0m\n\u001b[1;32m     13\u001b[0m             \u001b[0msubgraf\u001b[0m \u001b[0;34m=\u001b[0m \u001b[0;34m[\u001b[0m\u001b[0;34m]\u001b[0m\u001b[0;34m\u001b[0m\u001b[0m\n\u001b[0;32m---> 14\u001b[0;31m             \u001b[0ms\u001b[0m \u001b[0;34m=\u001b[0m \u001b[0mexplore2\u001b[0m\u001b[0;34m(\u001b[0m\u001b[0mG\u001b[0m\u001b[0;34m,\u001b[0m\u001b[0mnodo\u001b[0m\u001b[0;34m,\u001b[0m\u001b[0mvisited\u001b[0m\u001b[0;34m,\u001b[0m\u001b[0mexpanded\u001b[0m\u001b[0;34m)\u001b[0m\u001b[0;34m\u001b[0m\u001b[0m\n\u001b[0m\u001b[1;32m     15\u001b[0m \u001b[0;34m\u001b[0m\u001b[0m\n\u001b[1;32m     16\u001b[0m             \u001b[0msubgrafphs\u001b[0m\u001b[0;34m.\u001b[0m\u001b[0mappend\u001b[0m\u001b[0;34m(\u001b[0m\u001b[0mvisited\u001b[0m\u001b[0;34m)\u001b[0m\u001b[0;34m\u001b[0m\u001b[0m\n",
      "\u001b[0;32m<ipython-input-1-7e5e90e13770>\u001b[0m in \u001b[0;36mexplore2\u001b[0;34m(G, nodo, visited, expanded)\u001b[0m\n\u001b[1;32m     22\u001b[0m \u001b[0;34m\u001b[0m\u001b[0m\n\u001b[1;32m     23\u001b[0m \u001b[0;32mdef\u001b[0m \u001b[0mexplore2\u001b[0m\u001b[0;34m(\u001b[0m\u001b[0mG\u001b[0m\u001b[0;34m,\u001b[0m\u001b[0mnodo\u001b[0m\u001b[0;34m,\u001b[0m\u001b[0mvisited\u001b[0m\u001b[0;34m,\u001b[0m\u001b[0mexpanded\u001b[0m\u001b[0;34m)\u001b[0m\u001b[0;34m:\u001b[0m\u001b[0;34m\u001b[0m\u001b[0m\n\u001b[0;32m---> 24\u001b[0;31m     \u001b[0;32mwhile\u001b[0m \u001b[0mlen\u001b[0m\u001b[0;34m(\u001b[0m\u001b[0mpending\u001b[0m\u001b[0;34m)\u001b[0m\u001b[0;34m>\u001b[0m\u001b[0;36m0\u001b[0m\u001b[0;34m:\u001b[0m\u001b[0;34m\u001b[0m\u001b[0m\n\u001b[0m\u001b[1;32m     25\u001b[0m         \u001b[0mvisited\u001b[0m\u001b[0;34m.\u001b[0m\u001b[0mappend\u001b[0m\u001b[0;34m(\u001b[0m\u001b[0mnodo\u001b[0m\u001b[0;34m)\u001b[0m\u001b[0;34m\u001b[0m\u001b[0m\n\u001b[1;32m     26\u001b[0m         \u001b[0mexpanded\u001b[0m \u001b[0;34m+=\u001b[0m \u001b[0;36m1\u001b[0m\u001b[0;34m\u001b[0m\u001b[0m\n",
      "\u001b[0;31mNameError\u001b[0m: name 'pending' is not defined"
     ]
    }
   ],
   "source": [
    "from graph import Graph\n",
    "\n",
    "G = Graph()\n",
    "G.add_node('A',attr_dict={'prev':None})\n",
    "G.add_node('B',attr_dict={'prev':None})\n",
    "G.add_node('C',attr_dict={'prev':None})\n",
    "G.add_node('D',attr_dict={'prev':None})\n",
    "G.add_node('E',attr_dict={'prev':None})\n",
    "G.add_node('F',attr_dict={'prev':None})\n",
    "G.add_node('G',attr_dict={'prev':None})\n",
    "G.add_node('H',attr_dict={'prev':None})\n",
    "G.add_node('I',attr_dict={'prev':None})\n",
    "G.add_node('J',attr_dict={'prev':None})\n",
    "\n",
    "G.add_edge('A','B',attr_dict={})\n",
    "G.add_edge('A','C',attr_dict={})\n",
    "G.add_edge('A','D',attr_dict={})\n",
    "G.add_edge('B','E',attr_dict={})\n",
    "G.add_edge('B','F',attr_dict={})\n",
    "G.add_edge('C','F',attr_dict={})\n",
    "G.add_edge('E','I',attr_dict={})\n",
    "G.add_edge('E','J',attr_dict={})\n",
    "G.add_edge('J','I',attr_dict={})\n",
    "G.add_edge('D','G',attr_dict={})\n",
    "G.add_edge('D','H',attr_dict={})\n",
    "G.add_edge('H','G',attr_dict={})\n",
    "\n",
    "subgraph_search_DFS(G)"
   ]
  },
  {
   "cell_type": "code",
   "execution_count": null,
   "metadata": {
    "collapsed": true
   },
   "outputs": [],
   "source": []
  },
  {
   "cell_type": "code",
   "execution_count": 3,
   "metadata": {
    "collapsed": true
   },
   "outputs": [],
   "source": [
    "#DFS correcto recursivo\n",
    "def dfs(graph):\n",
    "    visited = []\n",
    "    pending = []\n",
    "    expanded = 0\n",
    "    subgraphs = []\n",
    "    \n",
    "    for i in G.nodes():\n",
    "        if i not in visited:\n",
    "            pending.append(i)\n",
    "            subgraph = []\n",
    "            exploreDFS(G,visited,pending,subgraph)\n",
    "            expanded += len(subgraph)\n",
    "            subgraphs.append(subgraph)\n",
    "    \n",
    "    return {\n",
    "        \"subgraphs\":subgraphs,\n",
    "        \"expanded\":expanded\n",
    "    }\n",
    "    \n",
    "def exploreDFS(G,visited,pending,subgraph):\n",
    "    if len(pending)>0:\n",
    "        nodo = pending.pop()\n",
    "        if nodo not in visited:\n",
    "            visited.append(nodo)\n",
    "            subgraph.append(nodo)\n",
    "            for x in G.neighbors(nodo):\n",
    "                if x not in visited:\n",
    "                    pending.append(x)\n",
    "        exploreDFS(G,visited,pending,subgraph)"
   ]
  },
  {
   "cell_type": "code",
   "execution_count": 4,
   "metadata": {},
   "outputs": [
    {
     "data": {
      "text/plain": [
       "{'expanded': 10,\n",
       " 'subgraphs': [['A', 'C', 'F', 'B'], ['D', 'G', 'H'], ['E', 'J', 'I']]}"
      ]
     },
     "execution_count": 4,
     "metadata": {},
     "output_type": "execute_result"
    }
   ],
   "source": [
    "from graph import Graph\n",
    "G = Graph()\n",
    "G.add_node('A',attr_dict={})\n",
    "G.add_node('B',attr_dict={})\n",
    "G.add_node('C',attr_dict={})\n",
    "G.add_node('D',attr_dict={})\n",
    "G.add_node('E',attr_dict={})\n",
    "G.add_node('F',attr_dict={})\n",
    "G.add_node('G',attr_dict={})\n",
    "G.add_node('H',attr_dict={})\n",
    "G.add_node('I',attr_dict={})\n",
    "G.add_node('J',attr_dict={})\n",
    "\n",
    "G.add_edge('A','B',attr_dict={})\n",
    "#G.add_edge('A','D',attr_dict={})\n",
    "G.add_edge('A','C',attr_dict={})\n",
    "G.add_edge('D','H',attr_dict={})\n",
    "G.add_edge('D','G',attr_dict={})\n",
    "G.add_edge('G','H',attr_dict={})\n",
    "G.add_edge('B','F',attr_dict={})\n",
    "#G.add_edge('B','E',attr_dict={})\n",
    "G.add_edge('C','F',attr_dict={})\n",
    "G.add_edge('E','I',attr_dict={})\n",
    "G.add_edge('E','J',attr_dict={})\n",
    "G.add_edge('I','J',attr_dict={})\n",
    "\n",
    "dfs(G)"
   ]
  },
  {
   "cell_type": "markdown",
   "metadata": {},
   "source": [
    "<div class=\"alert alert-info\">\n",
    "<center>\n",
    "  <h1>Comentarios</h1>\n",
    "  <p>\n",
    "  En esta sección tenéis que comentar brevemente (1) __cómo habéis realizado la implementación de los algoritmos__ así como un (2) __análisis detallado de la complejidad__ de los mismos.\n",
    "  </p>\n",
    "</center>\n",
    "</div>"
   ]
  },
  {
   "cell_type": "markdown",
   "metadata": {},
   "source": [
    "## 1 BFS\n",
    "_ Tus comentarios aquí _\n",
    "En el BFS usa la estructura de una cola para recorrer el grafo\n",
    "Para insertar es O(1) ya que añade al final, y para eliminar es O(1) ya elimina el primero\n",
    "\n",
    "## 2 DFS\n",
    "\n",
    "_ Tus comentarios aquí _\n",
    "\n",
    "DFS usa Pila, elimina y añade por el final O(1)\n"
   ]
  },
  {
   "cell_type": "markdown",
   "metadata": {},
   "source": [
    "<div class=\"alert alert-info\">\n",
    "<center>\n",
    "  <h1>Entrega</h1>\n",
    "  <p>\n",
    "  La entrega de esta práctica se realizará a través del __Campus Virtual__. En ella tenéis que incluir únicamente el fichero `.ipynb` sin comprimir con el código debidamente comentado y los comentarios que se os proponen en la anterior sección.\n",
    "  </p>\n",
    "  <p>\n",
    "  El nombre del archivo ha de seguir el formato:\n",
    "  </p><p style=\"text-align:center\">\n",
    "  ```\n",
    "  <apellidos>_<nombre>_EP1.ipynb\n",
    "  ```\n",
    "  </p>\n",
    "</center>\n",
    "</div>"
   ]
  }
 ],
 "metadata": {
  "kernelspec": {
   "display_name": "Python 3",
   "language": "python",
   "name": "python3"
  },
  "language_info": {
   "codemirror_mode": {
    "name": "ipython",
    "version": 3
   },
   "file_extension": ".py",
   "mimetype": "text/x-python",
   "name": "python",
   "nbconvert_exporter": "python",
   "pygments_lexer": "ipython3",
   "version": "3.6.1"
  }
 },
 "nbformat": 4,
 "nbformat_minor": 2
}
