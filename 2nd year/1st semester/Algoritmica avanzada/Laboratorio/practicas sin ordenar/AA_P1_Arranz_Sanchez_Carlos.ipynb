{
 "cells": [
  {
   "cell_type": "markdown",
   "metadata": {},
   "source": [
    "<div style=\"padding:30px; color: white; background-color: #0071CD\">\n",
    "<center>\n",
    "<img src=\"img/logoub.jpeg\"></img>\n",
    "<center>\n",
    "<p>\n",
    "<h1>Algorísmica Avançada</h1>\n",
    "<h2>Pràctica 1 - Grafs </h2>\n",
    "</center>\n",
    "</p>\n",
    "</div>"
   ]
  },
  {
   "cell_type": "markdown",
   "metadata": {},
   "source": [
    "<div class=\"alert alert-danger\" style=\"width:95%; margin:0 auto; padding\">\n",
    "<center><p><h2> ¡¡IMPORTANTE!! </h2></p> </center> \n",
    "\n",
    "<p>\n",
    "Para la realizacón de esta práctica tendréis que utilizar vuestra propia clase `Graph` implementada en la Práctica 0. Si dicha clase no cumple los requisitos funcionales y no pasa los tests, con muy alta probabilidad los tests propuestos para esta práctica tampoco funcionen correctamente. \n",
    "</p>\n",
    "</div>"
   ]
  },
  {
   "cell_type": "markdown",
   "metadata": {},
   "source": [
    "<div class=\"alert alert-info\">\n",
    "<center>\n",
    "  <h1>Introducción</h1>\n",
    "</center>"
   ]
  },
  {
   "cell_type": "markdown",
   "metadata": {},
   "source": [
    "\n",
    "A lo largo de esta práctica trabajaremos con el grafo generado a partir de la red de metro de Londres. En este grafo los nodos representan las estaciones y los ejes las vias que van de una estación a otra. Todos los ejes tienen cuatro atributos:\n",
    "\n",
    "* Linea\n",
    "* Color\n",
    "* Nombre (de la linea)\n",
    "* Distancia\n"
   ]
  },
  {
   "cell_type": "code",
   "execution_count": null,
   "metadata": {},
   "outputs": [],
   "source": [
    "# TODO: Importar grafo de la Práctica0\n",
    "from util import get_subway_graph, draw_subway_graph\n",
    "from graph import Graph\n",
    "\n",
    "G, lines = get_subway_graph('csv', Graph)\n",
    "G.edge[1][52]"
   ]
  },
  {
   "cell_type": "markdown",
   "metadata": {},
   "source": [
    "Los nodos contienen el nombre de la estación, la latitud y longitud a la que está situada la estación, el número de lineas y la zona."
   ]
  },
  {
   "cell_type": "code",
   "execution_count": null,
   "metadata": {},
   "outputs": [],
   "source": [
    "G.node[124]"
   ]
  },
  {
   "cell_type": "markdown",
   "metadata": {},
   "source": [
    "Para mas consultas, la información ha sido extraida de Wikimedia Commons:\n",
    "\n",
    "https://commons.wikimedia.org/wiki/London_Underground_geographic_maps/CSV"
   ]
  },
  {
   "cell_type": "markdown",
   "metadata": {},
   "source": [
    "# util.py\n",
    "\n",
    "En este archivo se os facilitan tres funciones que os permitiran cargar y visualizar la red de metro.\n",
    "```python\n",
    "\"\"\"\n",
    "Retorna un objeto nx.Graph que corresponde al grafo de la red de metro y un \n",
    "diccionario con las lineas del metro\n",
    " - location: ruta donde esta almacenado el archivo .csv\n",
    " - Klass: la clase Graph que hemos desarrollado en la práctica 0\n",
    "\"\"\"\n",
    "G, lines = get_subway_graph(location, Klass)\n",
    "\n",
    "\"\"\"\n",
    "Dibuja el grafo que le pasemos por parametro.\n",
    "- G: Grafo de la red de metro\n",
    "- lines: diccionario con la información sobre las lineas del metro\n",
    "- figsize: parametro opcional que nos permite definir el tamaño de la figura\n",
    "- show_labels: parametro opcional que nos permite indicar si queremos mostrar los \n",
    "    nombres de las estaciones\n",
    "\"\"\"\n",
    "draw_metro_graph(G, lines, figsize=(10,6), show_labels=False)\n",
    "\n",
    "```"
   ]
  },
  {
   "cell_type": "code",
   "execution_count": null,
   "metadata": {},
   "outputs": [],
   "source": [
    "draw_subway_graph(G, lines, figsize=(10,6))"
   ]
  },
  {
   "cell_type": "markdown",
   "metadata": {},
   "source": [
    "<div class=\"alert alert-info\">\n",
    "<center>\n",
    "  <h1>Contenido</h1>\n",
    "  </center><p>\n",
    "\n"
   ]
  },
  {
   "cell_type": "markdown",
   "metadata": {},
   "source": [
    "<div class=\"alert alert-success\" style=\"width:90%; margin:0 auto;\">\n",
    "\n",
    "  <h2><p>1- Dijkstra</p></h2>\n",
    "  \n",
    "  <p>\n",
    " Se propone que hagáis dos implementaciones del algoritmo <a href=\"https://en.wikipedia.org/wiki/Dijkstra%27s_algorithm\">Dijkstra</a>. \n",
    " <ul><li>\n",
    " **dijkstra1:** La primera consiste en el algoritmo común en el que tendremos en cuenta las distancias definidas en los edges. \n",
    " </li><li>\n",
    " **dijkstra2:** La segunda implementación es simplemente una ampliación del primer algoritmo en el que añadiremos una penalización por cambio de linea.</li>\n",
    " </ul>\n",
    "</p>\n",
    "<h3> Ejemplo _dijkstra2_</h3>\n",
    "<p>\n",
    "Para ilustrar lo que se pide en la práctica veamos como se calcularía el valor de **C** y **D** en el siguiente gráfico:\n",
    "</p>\n",
    "\n",
    "\n",
    "<p><center><img src='img/e1.png'></img></center></p>\n",
    "\n",
    "\n",
    "<p>\n",
    "<ul><li>\n",
    "**[C]** Calculamos V(B) como V(A) + d([A,B]), calculamos V(C) como V(B) + d([B,C]), ya hemos acabado.\n",
    "</li>\n",
    "<li>\n",
    "**[D]** Calculamos V(B) como V(A) + d([A,B]), calculamos V(D) como V(B) + d([B,D]), como [A,B] es linea azul y [B,D] es linea verde, añadimos una penalización por el transbordo a la que llamamos **P**. Por lo tanto, al final obtenemos que V(D) = V(B) + d([B,C]) + P\n",
    "</li>\n",
    "</ul>\n",
    "\n",
    "<br>\n",
    "-**V(X)**: Valor de X\n",
    "<br>\n",
    "-**d([X,Y])**: Distancia de X a Y\n",
    "<br>\n",
    "-**P**: Penalización por transbordo\n",
    "\n",
    "</p>\n"
   ]
  },
  {
   "cell_type": "markdown",
   "metadata": {},
   "source": [
    "<div class=\"alert alert-danger\" style=\"width:80%; margin:0 auto; padding\">\n",
    "<center><p><h3> Código </h3></p> </center>\n",
    "<p>\n",
    "<h3>INPUT</h3>\n",
    "<ul>\n",
    "<li>__G__: Este es el grafo (en el caso de esta práctica la red de metro) que utilizaremos para buscar el camino. Debe de ser un objeto de tipo `Graph` como el que habéis implementado en la Práctica 0.</li>\n",
    "<li>__origen__: Este parámetro corresponde al índice de un nodo. En este caso, como indexamos los nodos con el identificador de las paradas de Metro, deberá ser un entero _(e.g. 231)_.</li>\n",
    "<li>__destino__: El indice del nodo al que queremos llegar.</li>\n",
    "<li>__infinity=*(int)*__: Parametro opcional en el que definimos que numero nos va bien para utilizar como infinito en el momento de inicializar los pesos de los nodos.</li>\n",
    "<li>__penalty=*(int)*__: (_Solo necesario para dijkstra2)_ Es un numero entero que corresponde a la penalización que aplicamos al valor de un nodo cuando hay cambio de linea.\n",
    "</ul>\n",
    "<br>\n",
    "<h3>OUTPUT</h3>\n",
    "El output de la función es un diccionario que contiene los siguientes valores:\n",
    "<ul>\n",
    "<li>__ _'path'_ __: Una lista de índices correspondientes al camino encontrado del nodo inicial al nodo final __ambos nodos, inicio y final, han de estar incluidos en esta lista__.</li>\n",
    "<li>__ _'expanded'_ __: El numero de nodos que se han visitado para encontrar la solución.</li>\n",
    "<li>__ _'distance'_ __: La distancia del camino mínimo desde el origen hasta el destino (es decir, el valor del nodo destino).\n",
    "<ul>\n",
    "\n",
    "</p>\n",
    "</div>\n"
   ]
  },
  {
   "cell_type": "code",
   "execution_count": 1,
   "metadata": {},
   "outputs": [],
   "source": [
    "import heapq\n",
    "\n",
    "def dijkstra(G, origen, destino, infinity=float('inf')):\n",
    "    \n",
    "    path = [(0, origen)]\n",
    "    expanded = 0\n",
    "    \n",
    "    for iteratorNode in G.nodes():\n",
    "        G.node[iteratorNode].update({'distance': infinity, \n",
    "                          'previous': None, \n",
    "                          'visited' : False})\n",
    "        \n",
    "    G.node[origen]['distance'] = 0\n",
    "    \n",
    "    while (len(path) != 0):\n",
    "        actualNode = heapq.heappop(path)[1]\n",
    "        \n",
    "        if (actualNode == destino):\n",
    "            break\n",
    "            \n",
    "        if not (G.node[actualNode]['visited']):\n",
    "            expanded += 1\n",
    "            G.node[actualNode]['visited'] = True\n",
    "            \n",
    "            for neighborNode in G.neighbors(actualNode):\n",
    "                actualNode_and_edge_distance = G.node[actualNode]['distance'] + G.edge[actualNode][neighborNode]['distance']\n",
    "                \n",
    "                if (G.node[neighborNode]['distance'] > actualNode_and_edge_distance):\n",
    "                    G.node[neighborNode]['distance'] = actualNode_and_edge_distance\n",
    "                    G.node[neighborNode]['previous'] = actualNode\n",
    "                    \n",
    "                    heapq.heappush(path, (G._nodes[neighborNode]['distance'], neighborNode))\n",
    "\n",
    "    path = [destino]\n",
    "    \n",
    "    while not (G.node[path[-1]]['previous'] == None):\n",
    "        path.append(G.node[path[-1]]['previous'])\n",
    "        \n",
    "    path.reverse()\n",
    "    \n",
    "    return {'path': path, \n",
    "            'expanded': expanded, \n",
    "            'distance': G.node[destino]['distance']}\n"
   ]
  },
  {
   "cell_type": "code",
   "execution_count": 2,
   "metadata": {
    "scrolled": true
   },
   "outputs": [
    {
     "ename": "NameError",
     "evalue": "name 'G' is not defined",
     "output_type": "error",
     "traceback": [
      "\u001b[1;31m---------------------------------------------------------------------------\u001b[0m",
      "\u001b[1;31mNameError\u001b[0m                                 Traceback (most recent call last)",
      "\u001b[1;32m<ipython-input-2-ce767f0f4bc5>\u001b[0m in \u001b[0;36m<module>\u001b[1;34m\u001b[0m\n\u001b[1;32m----> 1\u001b[1;33m \u001b[0mdijkstra\u001b[0m\u001b[1;33m(\u001b[0m\u001b[0mG\u001b[0m\u001b[1;33m,\u001b[0m \u001b[1;36m10\u001b[0m\u001b[1;33m,\u001b[0m \u001b[1;36m235\u001b[0m\u001b[1;33m)\u001b[0m\u001b[1;33m\u001b[0m\u001b[1;33m\u001b[0m\u001b[0m\n\u001b[0m",
      "\u001b[1;31mNameError\u001b[0m: name 'G' is not defined"
     ]
    }
   ],
   "source": [
    "dijkstra(G, 10, 235)"
   ]
  },
  {
   "cell_type": "code",
   "execution_count": null,
   "metadata": {
    "collapsed": true
   },
   "outputs": [],
   "source": [
    "import heapq\n",
    "\n",
    "def dijkstra2(G, origen, destino, penalty = 5000000, infinity = float('inf')):\n",
    "\n",
    "    path = [(0, origen)]\n",
    "    expanded = 0\n",
    "    \n",
    "    for iteratorNode in G.nodes():\n",
    "        G.node[iteratorNode].update({'distance': infinity, \n",
    "                          'previous': None, \n",
    "                          'visited' : False})\n",
    "        \n",
    "    # DIJKSTRA 2    \n",
    "    \n",
    "    G.node[origen]['distance'] = 0\n",
    "    \n",
    "    while (len(path) != 0):\n",
    "        actualNode = heapq.heappop(path)[1]\n",
    "        \n",
    "        if (actualNode == destino):\n",
    "            break\n",
    "            \n",
    "        if not (G.node[actualNode]['visited']):\n",
    "            expanded += 1\n",
    "            G.node[actualNode]['visited'] = True\n",
    "            \n",
    "            for neighborNode in G.neighbors(actualNode):\n",
    "                actualNode_and_edge_distance = G.node[actualNode]['distance'] + G.edge[actualNode][neighborNode]['distance']\n",
    "                \n",
    "                if (G.node[neighborNode]['distance'] > actualNode_and_edge_distance):\n",
    "                    G.node[neighborNode]['distance'] = actualNode_and_edge_distance\n",
    "                    G.node[neighborNode]['previous'] = actualNode\n",
    "                    \n",
    "                    heapq.heappush(path, (G._nodes[neighborNode]['distance'], neighborNode))\n",
    "\n",
    "    path = [destino]\n",
    "    \n",
    "    while not (G.node[path[-1]]['previous'] == None):\n",
    "        path.append(G.node[path[-1]]['previous'])\n",
    "        \n",
    "    path.reverse()\n",
    "    \n",
    "    return {'path': path, \n",
    "            'expanded': expanded, \n",
    "            'distance': G.node[destino]['distance']}"
   ]
  },
  {
   "cell_type": "code",
   "execution_count": null,
   "metadata": {},
   "outputs": [],
   "source": [
    "dijkstra2(G, 10, 235)"
   ]
  },
  {
   "cell_type": "markdown",
   "metadata": {},
   "source": [
    "<div class=\"alert alert-warning\" style=\"width:80%; margin:0 auto; padding\">\n",
    "<center><p><h3> Comentarios Dijkstra</h3></p> </center> </div>"
   ]
  },
  {
   "cell_type": "markdown",
   "metadata": {},
   "source": [
    "<b>Dijkstra1</b>\n",
    "\n",
    "Primero de todo, he creado tres nuevos atributos a los nodos del grafo, siendo estos <i>distance</i>, el cual almacena la distancia acumulada desde el nodo origen hasta el nodo actual, <i>previous</i>, el cual se usa para almacenar el nodo previo al nodo acutal en el recorrido de Dijkstra por el grafo, y, por último, <i>visited</i>, que indica si ese nodo ya ha sido visitado durante el recorrido o no lo ha estado.\n",
    "\n",
    "He asignado los siguientes valores a los tres atributos antes mencionados:\n",
    "\n",
    "<ul style=\"list-style-type:disc\">\n",
    "  <li><i>distance</i>: infinity (ya que todos los nodos tienen distancia infinita por no ser vecinos del nodo origen).</li>\n",
    "  <li><i>previous</i>: None (ya que no pueden haber nodos previos en el camino si aún no hay ningún camino definido).</li>\n",
    "  <li><i>visited</i>: False (ya que aún no se ha visitado ningún nodo).</li>\n",
    "</ul>  \n",
    "\n",
    "Después de esto, he asignado el atributo <i>distance</i> del nodo origen como 0, ya que ahí empieza el recorrido.\n",
    "\n",
    "Habiendo hecho esto, puedo empezar a iterar.\n",
    "\n",
    "Para cada iteración, se actualiza el nodo (el mínimo de toda la lista) a partir del cual trabajaremos. Habiendo seleccionado el nodo, comprobamos si ese es el nodo destino, si eso se cumpliese se acabaría la búsqueda, aunque si no fuese así, la búsqueda continuaría. Ahora miramos si el nodo actual ha sido ya visitado, si ha sido visitado actualizamos el nodo actual, y si no es así, guardamos en el path el nodo vecino y su distancia si la distancia del vecino es mayor a la distancia del nodo actual más la de la arista que los une. Además de eso, también se guarda el nodo previo del recorrido para cada nodo actual.\n",
    "\n",
    "Cuando este bucle termina (cuando no quedan más elementos en el path, ya que a cada iteración se elimina un elemento) se recorre el path del final al principio encadenando los nodos a través de su nodo previo, de tal manera que queda el recorrido al revés, únicamente quedando invertir la lista y retornar los resultados.\n",
    "\n",
    "\n",
    "\n",
    "La complejidad de este algoritmo es <b>(E + V) * log V</b>, donde E son las aristas y V son los vértices."
   ]
  },
  {
   "cell_type": "markdown",
   "metadata": {},
   "source": [
    "<div class=\"alert alert-warning\" style=\"width:80%; margin:0 auto; padding\">\n",
    "<center><p><h3> Comentarios Dijkstra2</h3></p> </center> </div>"
   ]
  },
  {
   "cell_type": "markdown",
   "metadata": {},
   "source": [
    "### _(En esta sección se os propone explicar como habeis realizado la implementación y cual es la complejidad detallada del algoritmo. Podéis contestar en este mismo bloque)_"
   ]
  },
  {
   "cell_type": "markdown",
   "metadata": {},
   "source": [
    "<div class=\"alert alert-success\" style=\"width:90%; margin:0 auto;\">\n",
    "\n",
    "  <h2><p>2- Matriz de distancias</p></h2>\n",
    "   <p>\n",
    " Se propone el desarrollo de un algoritmo que dado un grafo construya una matriz de $V \\times V$ (donde $V$ es el número de vértices del grafo) que contenga la distancia mínima de cada vértice al resto. \n",
    "</p>\n",
    "\n",
    "<p></p>\n",
    "\n",
    "<p>\n",
    "<b> Nota: </b> Recordad que en Algorítmica Avanzada buscamos la implementación de algoritmos que no solo resuelvan el problema, sino que lo hagan de manera eficiente\n",
    "</p>\n"
   ]
  },
  {
   "cell_type": "markdown",
   "metadata": {},
   "source": [
    "<div class=\"alert alert-danger\" style=\"width:80%; margin:0 auto; padding\">\n",
    "<center><p><h3> Código </h3></p> </center>\n",
    "<p>\n",
    "<h3>INPUT</h3>\n",
    "<ul>\n",
    "<li>__G__: Este es el grafo (en el caso de esta práctica la red de metro) sobre el que calcularemos la matriz de distancias. Debe de ser un objeto de tipo `Graph` como el que habéis implementado en la Práctica 0.</li>\n",
    "</ul>\n",
    "<br>\n",
    "<h3>OUTPUT</h3>\n",
    "<ul>\n",
    "<li>El output de la función es un diccionario cuya clave es un nodo (origen) y el valor es otro diccionario con la forma $\\{nodo\\_destino: distancia\\}$.</li>\n",
    "    </ul>\n",
    "\n",
    "</p>\n",
    "</div>\n"
   ]
  },
  {
   "cell_type": "code",
   "execution_count": null,
   "metadata": {
    "collapsed": true
   },
   "outputs": [],
   "source": [
    "import heapq\n",
    "\n",
    "def dijkstraModificat(G, origen, infinity=float('inf')):\n",
    "    \n",
    "    path = [(0, origen)]\n",
    "    distancias = {}\n",
    "    \n",
    "    for iteratorNode in G.nodes():\n",
    "        G.node[iteratorNode].update({'distance': infinity, \n",
    "                                     'visited' : False})\n",
    "        \n",
    "    G.node[origen]['distance'] = 0\n",
    "    \n",
    "    while (len(path) != 0):\n",
    "        actualNode = heapq.heappop(path)[1]\n",
    "                    \n",
    "        if not (G.node[actualNode]['visited']):\n",
    "            G.node[actualNode]['visited'] = True\n",
    "            \n",
    "            for neighborNode in G.neighbors(actualNode):\n",
    "                actualNode_and_edge_distance = G.node[actualNode]['distance'] + G.edge[actualNode][neighborNode]['distance']\n",
    "                \n",
    "                if (G.node[neighborNode]['distance'] > actualNode_and_edge_distance):\n",
    "                    G.node[neighborNode]['distance'] = actualNode_and_edge_distance\n",
    "                    \n",
    "                    heapq.heappush(path, (G._nodes[neighborNode]['distance'], neighborNode))\n",
    "    \n",
    "            for iteratorNode in G.nodes():\n",
    "                distancias[iteratorNode] = G._nodes[iteratorNode]['distance']\n",
    "    \n",
    "    return distancias"
   ]
  },
  {
   "cell_type": "code",
   "execution_count": null,
   "metadata": {},
   "outputs": [],
   "source": [
    "def dist_mat(G):\n",
    "    \n",
    "    matrix = {}\n",
    "    \n",
    "    for iteratorNode in G.nodes():\n",
    "        matrix[iteratorNode] = dijkstraModificat(G, iteratorNode)\n",
    "            \n",
    "    return matrix"
   ]
  },
  {
   "cell_type": "code",
   "execution_count": null,
   "metadata": {},
   "outputs": [],
   "source": [
    "dist_mat(G)"
   ]
  },
  {
   "cell_type": "markdown",
   "metadata": {},
   "source": [
    "<div class=\"alert alert-warning\" style=\"width:80%; margin:0 auto; padding\">\n",
    "<center><p><h3> Comentarios Matriz de Distancias</h3></p> </center> </div>"
   ]
  },
  {
   "cell_type": "markdown",
   "metadata": {},
   "source": [
    "<b>Matriz de distancias</b>\n",
    "\n",
    "Para hacer este ejercicio he tenido que modificar el algoritmo de Dijkstra1 de tal manera que únicamente reciba como parámetro el nodo origen y éste devuelva la distancia desde el nodo origen a todos los demás nodos del grafo, de tal manera que, en el ejercicio de la matriz de distancias, únicamente será necesario iterar sobre nodos del grafo y llamar a la función de Dijkstra modificada para obtener las distancias y guardarlo todo en un diccionario.\n",
    "\n",
    "La complejidad de este algoritmo es <b>O(n)</b>."
   ]
  },
  {
   "cell_type": "markdown",
   "metadata": {},
   "source": [
    "<div class=\"alert alert-info\">\n",
    "<center>\n",
    "  <h1>Entrega</h1>\n",
    "</center>\n",
    "<p>\n",
    "La entrega de esta práctica se podrá realizar en el campus virtual hasta el día __21 de Octubre a las 23:55__. En la tarea que se habilitará en el campus deberéis colgar __el archivo .ipynb__ asi como __el fichero .pyc con vuestra clase grafo__ con los nombres:\n",
    "</p>\n",
    "<p>\n",
    "```\n",
    "* AA_P1_<apellido1>_<apellido2>_<nombre>.ipynb\n",
    "* graphs.pyc\n",
    "```\n",
    "\n",
    "</p>\n",
    "<p>\n",
    "Por ejemplo:\n",
    "</p>\n",
    "<p>\n",
    "```\n",
    "AA_P1_Doe_Ritchie_John.ipynb\n",
    "```\n",
    "\n",
    "</p>\n",
    "<p>\n",
    "\n",
    "Es fundamental que el código esté bién comentado y con un análisis de complejidad exhaustivo del algoritmo.\n",
    "</p>\n",
    "</div>"
   ]
  }
 ],
 "metadata": {
  "kernelspec": {
   "display_name": "Python 3",
   "language": "python",
   "name": "python3"
  },
  "language_info": {
   "codemirror_mode": {
    "name": "ipython",
    "version": 3
   },
   "file_extension": ".py",
   "mimetype": "text/x-python",
   "name": "python",
   "nbconvert_exporter": "python",
   "pygments_lexer": "ipython3",
   "version": "3.7.3"
  }
 },
 "nbformat": 4,
 "nbformat_minor": 1
}
