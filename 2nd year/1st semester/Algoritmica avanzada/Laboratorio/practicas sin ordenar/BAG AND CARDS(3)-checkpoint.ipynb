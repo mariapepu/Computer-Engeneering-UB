{
 "cells": [
  {
   "cell_type": "code",
   "execution_count": 3,
   "metadata": {},
   "outputs": [],
   "source": [
    "def deck(N):\n",
    "    sol = []\n",
    "    \n",
    "    valid = {i: 0 for i in range (1,N+1)}\n",
    "    sol = deck_rec (N,valid,[])\n",
    "    return sol\n",
    "def deck_rec(N,valid,valors):\n",
    "    if len(valors) == 2*N: return valors\n",
    "    \n",
    "    prova = [i for i in range (1,N+1) if valid[i] < 2]\n",
    "    \n",
    "    for item in prova:\n",
    "        if not valid[item] or (len(valors) > item and valid[item] == 1 and isValid (valors, item)):\n",
    "                               valid[item] += 1\n",
    "                               ret = deck_rec (N,valid, valors + [items])\n",
    "                               if ret: return ret\n",
    "                               else:\n",
    "                                   valid[item] -= 1\n",
    "    return False\n",
    "                               \n",
    "def isValid(llista,element):\n",
    "    return llista[len(llista) - element -1] == element\n",
    "        "
   ]
  },
  {
   "cell_type": "code",
   "execution_count": null,
   "metadata": {},
   "outputs": [],
   "source": []
  },
  {
   "cell_type": "code",
   "execution_count": 10,
   "metadata": {},
   "outputs": [],
   "source": [
    "def branch_bound2(elements, total_weight):\n",
    "    list_div_items = []\n",
    "    i = 0\n",
    "    num_elements = 0\n",
    "    \n",
    "    for x in elements:\n",
    "        list_div_items.append([x,elements[x][1]/elements[x][0],elements[x][2]])\n",
    "        i += 1\n",
    "        num_elements += elements[x][2]\n",
    "    list_div_elements.sort(reverse= True,key = lambda x: x[1])\n",
    "    \n",
    "    pes_bag = 0\n",
    "    total_value = 0\n",
    "    list_items = []\n",
    "    index = 0\n",
    "    processant = True\n",
    "    \n",
    "    while processant and num_elements > 0:\n",
    "        num = pes_bag + elements[list_div_items[index][0]][0]\n",
    "        if num < total_weight:\n",
    "            list_items.append(list_div_items[index][0])\n",
    "            list_div_items[index][2] -= 1\n",
    "            num_elements -=1\n",
    "            pes_bag += elements[list_div_items[[index][0]][0]]\n",
    "            total_value += elements[list_div_items[[index][0]][1]]\n",
    "            if list_div_items[index][2] == 0:\n",
    "                index += 1\n",
    "            if index == len(list_div_items):\n",
    "                processant = False\n",
    "        else:\n",
    "            processant = False\n",
    "                                    \n",
    "    return('ITEMS: ', list_items, 'VALOR: ', total_value, 'PESO: ', pes_bag)"
   ]
  },
  {
   "cell_type": "code",
   "execution_count": 11,
   "metadata": {},
   "outputs": [
    {
     "ename": "NameError",
     "evalue": "name 'list_div_elements' is not defined",
     "output_type": "error",
     "traceback": [
      "\u001b[0;31m---------------------------------------------------------------------------\u001b[0m",
      "\u001b[0;31mNameError\u001b[0m                                 Traceback (most recent call last)",
      "\u001b[0;32m<ipython-input-11-60e6870b7204>\u001b[0m in \u001b[0;36m<module>\u001b[0;34m()\u001b[0m\n\u001b[1;32m      8\u001b[0m \u001b[0;34m\u001b[0m\u001b[0m\n\u001b[1;32m      9\u001b[0m }\n\u001b[0;32m---> 10\u001b[0;31m \u001b[0mbranch_bound2\u001b[0m\u001b[0;34m(\u001b[0m\u001b[0melements\u001b[0m\u001b[0;34m,\u001b[0m\u001b[0;36m300\u001b[0m\u001b[0;34m)\u001b[0m\u001b[0;34m\u001b[0m\u001b[0m\n\u001b[0m",
      "\u001b[0;32m<ipython-input-10-a5a446b44848>\u001b[0m in \u001b[0;36mbranch_bound2\u001b[0;34m(elements, total_weight)\u001b[0m\n\u001b[1;32m      8\u001b[0m         \u001b[0mi\u001b[0m \u001b[0;34m+=\u001b[0m \u001b[0;36m1\u001b[0m\u001b[0;34m\u001b[0m\u001b[0m\n\u001b[1;32m      9\u001b[0m         \u001b[0mnum_elements\u001b[0m \u001b[0;34m+=\u001b[0m \u001b[0melements\u001b[0m\u001b[0;34m[\u001b[0m\u001b[0mx\u001b[0m\u001b[0;34m]\u001b[0m\u001b[0;34m[\u001b[0m\u001b[0;36m2\u001b[0m\u001b[0;34m]\u001b[0m\u001b[0;34m\u001b[0m\u001b[0m\n\u001b[0;32m---> 10\u001b[0;31m     \u001b[0mlist_div_elements\u001b[0m\u001b[0;34m.\u001b[0m\u001b[0msort\u001b[0m\u001b[0;34m(\u001b[0m\u001b[0mreverse\u001b[0m\u001b[0;34m=\u001b[0m \u001b[0;32mTrue\u001b[0m\u001b[0;34m,\u001b[0m\u001b[0mkey\u001b[0m \u001b[0;34m=\u001b[0m \u001b[0;32mlambda\u001b[0m \u001b[0mx\u001b[0m\u001b[0;34m:\u001b[0m \u001b[0mx\u001b[0m\u001b[0;34m[\u001b[0m\u001b[0;36m1\u001b[0m\u001b[0;34m]\u001b[0m\u001b[0;34m)\u001b[0m\u001b[0;34m\u001b[0m\u001b[0m\n\u001b[0m\u001b[1;32m     11\u001b[0m \u001b[0;34m\u001b[0m\u001b[0m\n\u001b[1;32m     12\u001b[0m     \u001b[0mpes_bag\u001b[0m \u001b[0;34m=\u001b[0m \u001b[0;36m0\u001b[0m\u001b[0;34m\u001b[0m\u001b[0m\n",
      "\u001b[0;31mNameError\u001b[0m: name 'list_div_elements' is not defined"
     ]
    }
   ],
   "source": [
    "elements = {\n",
    "    'lamp': [10,100,3], #WEIGHT,VALUE,AMOUNT\n",
    "    'rock': [100,1,4],\n",
    "    'match': [1,80,2],\n",
    "    'meat': [5,100,5],\n",
    "    'shirt': [3,20,2],\n",
    "    'tea': [2,15,6],\n",
    "\n",
    "}\n",
    "branch_bound2(elements,300)"
   ]
  },
  {
   "cell_type": "code",
   "execution_count": null,
   "metadata": {},
   "outputs": [],
   "source": []
  }
 ],
 "metadata": {
  "kernelspec": {
   "display_name": "Python 3",
   "language": "python",
   "name": "python3"
  },
  "language_info": {
   "codemirror_mode": {
    "name": "ipython",
    "version": 3
   },
   "file_extension": ".py",
   "mimetype": "text/x-python",
   "name": "python",
   "nbconvert_exporter": "python",
   "pygments_lexer": "ipython3",
   "version": "3.7.0"
  }
 },
 "nbformat": 4,
 "nbformat_minor": 2
}
