{
 "cells": [
  {
   "cell_type": "markdown",
   "metadata": {},
   "source": [
    "<div style=\"padding:30px; color: white; background-color: #0071CD\">\n",
    "<center>\n",
    "<img src=\"img/logoub.jpeg\"></img>\n",
    "<center>\n",
    "<p>\n",
    "<h1>Algorísmica Avançada</h1>\n",
    "<h2>Práctica 3 - Enumerativos </h2>\n",
    "</center>\n",
    "</p>\n",
    "</div>"
   ]
  },
  {
   "cell_type": "markdown",
   "metadata": {},
   "source": [
    "<div class=\"alert alert-info\">\n",
    "<center>\n",
    "  <h1>Introducción</h1>\n",
    "</center>\n",
    "</div>"
   ]
  },
  {
   "cell_type": "markdown",
   "metadata": {},
   "source": [
    "En esta práctica implementaremos un algoritmo de ramificación y poda para solucionar el problema de la mochila:\n",
    "\n",
    "(from Wikipedia): En algoritmia, el problema de la mochila, comúnmente abreviado por KP (del inglés Knapsack problem) es un problema de optimización combinatoria, es decir, que busca la mejor solución entre un conjunto finito de posibles soluciones a un problema. Modela una situación análoga al llenar una mochila, incapaz de soportar más de un peso determinado, con todo o parte de un conjunto de objetos, cada uno con un peso y valor específicos. Los objetos colocados en la mochila deben maximizar el valor total sin exceder el peso máximo.\n",
    "\n",
    "Supongamos que tenemos n distintos tipos de ítems, que van del 1 al n. De cada tipo de ítem se tienen q ítems disponibles (que puede ser diferente para cada ítem).\n",
    "\n",
    "Cada tipo de ítem tiene un beneficio asociado v y un peso (o volumen) w. Se asume que el beneficio y el peso no son negativos. \n",
    "\n",
    "Por otro lado se tiene una mochila, donde se pueden introducir los ítems, que soporta un peso máximo (o volumen máximo) W.\n",
    "\n",
    "El problema consiste en meter en la mochila ítems de tal forma que se maximice el valor de los ítems que contiene y siempre que no se supere el peso (o volumen) máximo que puede soportar la misma. La solución al problema vendrá dado por la secuencia de variables x1, x2, ..., xn donde el valor de xi indica cuantas copias se meterán en la mochila del tipo de ítem i."
   ]
  },
  {
   "cell_type": "markdown",
   "metadata": {},
   "source": [
    "<div class=\"alert alert-info\">\n",
    "<center>\n",
    "  <h1>Contenido</h1>\n",
    "  </center><p>\n",
    "    </p></div>\n",
    "\n"
   ]
  },
  {
   "cell_type": "markdown",
   "metadata": {},
   "source": [
    "\n",
    "<div class=\"alert alert-success\" style=\"width:90%; margin:0 auto;\">\n",
    "  <h2><p>Ramificación y poda: Problema de la mochila</p></h2>\n",
    "  \n",
    "  <div class=\"row\">\n",
    "  <div>\n",
    "  <p style=\"text-align: justify; padding-right: 30px\">\n",
    "  Implementa mediante ramificación y poda una solución al problema de la mochila con tal de encontrar el listado ordenado de items a introducir en la mochila de tal forma que el beneficio (en términos de valor) acumulado en la mochila sea máximo.\n",
    "  </p>\n",
    "  </div>\n",
    "    </div></div>\n"
   ]
  },
  {
   "cell_type": "markdown",
   "metadata": {},
   "source": [
    "<div class=\"alert alert-danger\" style=\"width:80%; margin:0 auto; padding\">\n",
    "<center><p><h3> Código </h3></p> </center> \n",
    "\n",
    "<p>\n",
    "<h3>INPUT</h3>\n",
    "<ul>\n",
    "<li>elements: Diccionario que contiene una clave con el nombre del item, y como valor una tupla de tres elementos que contienen (Peso, Valor, Cantidad).  \n",
    "</li>\n",
    "<li>total_weight: peso máximo que soporta la mochila a ser rellenada por ítems con el objetivo de maximizar el valor que contiene.</li>\n",
    "</ul>\n",
    "<br>\n",
    "<h3>OUTPUT</h3>\n",
    "Listado de elementos que se introducen en la mochila (en el orden en el que se introducen, índice del ítem, la longitud del vector es la cantidad de elementos que se introducen en la mochila) y el valor total de la mochila.\n",
    "</p>\n",
    "\n",
    "</div>"
   ]
  },
  {
   "cell_type": "code",
   "execution_count": 7,
   "metadata": {},
   "outputs": [],
   "source": [
    "import copy\n",
    "\n",
    "def branch_bound(elements, total_weight):\n",
    "    \"\"\"\n",
    "    Función que obtiene la mejor combinación de elementos que podemos insertar dentro de la mochila.\n",
    "    Args:\n",
    "        - elements: Diccionario donde la clave es el nombre del item y el valor es una tupla de\n",
    "        tres elementos que contiene (Peso, Valor, Cantidad)\n",
    "        - total_weight: Peso total que soporta la mochila (p.e. 1000) \n",
    "    \"\"\"\n",
    "    \n",
    "    items = []\n",
    "    valor = 0\n",
    "    peso = 0\n",
    "    cota_m = 0\n",
    "    \n",
    "    #Creamos la lista de estados ya visitados y los pendientes por visitar\n",
    "    visited = []\n",
    "    pending = []\n",
    "    \n",
    "    #Creamos el estado inicial del cual iremos creando las ramas\n",
    "    pending.append((valor,peso,items,elements))\n",
    "            \n",
    "    while pending:\n",
    "        valor, peso, lista, dic_it = pending.pop(-1) #El max value esta al final y el mínimo al principio\n",
    "        \n",
    "        #PODA1\n",
    "        if peso >= total_weight:\n",
    "            continue\n",
    "        \n",
    "        #RECORRIDO\n",
    "        visited.append(sorted(lista)) #ordenamos y añadimos la lista de objetos para eliminar casos repetidos\n",
    "        veins = False #inicializamos veins para comprobar si es o no es hoja  \n",
    "        \n",
    "        for x in dic_it:\n",
    "            if dic_it[x][2]>0 and peso+dic_it[x][0]<=total_weight:\n",
    "\n",
    "                valor_n = valor + dic_it[x][1] #valor previo + valor del objeto\n",
    "                peso_n = peso + dic_it[x][0] #peso previo + peso del objeto\n",
    "                lista_n = lista.copy()\n",
    "                lista_n.append(x) #copiamos la lista previa y añadimos el nuevo objeto a esta\n",
    "\n",
    "                dic_it_n = copy.deepcopy(dic_it)\n",
    "                dic_it_n[x][2] -= 1 #hacemos una copia del diccionario previo y le restamos 1 a la cantidad del obj\n",
    "\n",
    "                #PODA2\n",
    "                if sorted(lista_n) not in visited: #si añadimos un obj y esa lista ord no esta en visited, NO sera hoja\n",
    "                    veins = True \n",
    "                    pending.append((valor_n,peso_n,lista_n,dic_it_n)) #añadimos un nuevo estado a pending\n",
    "\n",
    "        pending.sort() #ordenaremos pending con el max valor al final\n",
    "\n",
    "        #SOLUCION\n",
    "        if not veins and valor>cota_m: #si es estado Hoja y el valor es > al de la cota, establecemos solucion parcial\n",
    "            cota_m = valor \n",
    "            solucion = (valor,peso,lista,dic_it)\n",
    "\n",
    "\n",
    "    return ('ITEMS:',solucion[2], 'VALOR:',solucion[0], 'PESO:',solucion[1]) "
   ]
  },
  {
   "cell_type": "code",
   "execution_count": 8,
   "metadata": {},
   "outputs": [
    {
     "data": {
      "text/plain": [
       "('ITEMS:',\n",
       " ['lamp',\n",
       "  'lamp',\n",
       "  'lamp',\n",
       "  'meat',\n",
       "  'meat',\n",
       "  'meat',\n",
       "  'meat',\n",
       "  'meat',\n",
       "  'match',\n",
       "  'match',\n",
       "  'shirt',\n",
       "  'shirt',\n",
       "  'tea',\n",
       "  'tea',\n",
       "  'tea',\n",
       "  'tea',\n",
       "  'tea',\n",
       "  'tea',\n",
       "  'rock',\n",
       "  'rock'],\n",
       " 'VALOR:',\n",
       " 1092,\n",
       " 'PESO:',\n",
       " 275)"
      ]
     },
     "execution_count": 8,
     "metadata": {},
     "output_type": "execute_result"
    }
   ],
   "source": [
    "elements = {\n",
    "    'lamp': [10, 100, 3], # Weight, Value, Amount\n",
    "    'rock': [100, 1, 4], # Weight, Value, Amount\n",
    "    'match': [1, 80, 2], # Weight, Value, Amount\n",
    "    'meat': [5, 100, 5], # Weight, Value, Amount\n",
    "    'shirt': [3, 20, 2], # Weight, Value, Amount\n",
    "    'tea': [2, 15, 6], # Weight, Value, Amount\n",
    "}\n",
    "\n",
    "branch_bound(elements,300)"
   ]
  },
  {
   "cell_type": "markdown",
   "metadata": {},
   "source": [
    "<div class=\"alert alert-danger\" style=\"width:80%; margin:0 auto; padding\">\n",
    "<center><p><h3> Comentarios </h3></p> </center> \n",
    "</div>"
   ]
  },
  {
   "cell_type": "raw",
   "metadata": {},
   "source": [
    "1. El algoritmo tal como lo he hecho, tiene dos condiciones para podar, si el peso del estado con el que recorremos\n",
    "    es superior al de la mochila, pasamos a la siguiente iteración del while, y si ordenamos la lista de objetos de         cada estado, ahorramos muchos estados, ya que aunque no sea lo mismo [tea,rock] que [rock,tea], a la practica si lo \n",
    "    ordenamos es lo mismo, ya que el peso es el mismo, por lo tanto no hara falta que desarrolles la rama 2 veces, con     una ya bastará."
   ]
  },
  {
   "cell_type": "raw",
   "metadata": {},
   "source": [
    "2. La complejidad de este algoritmo de ramificación y poda es O(n!), ya que vamos desarrollando por todos los objetos \n",
    "    que podemos ir añadiendo, y en eso influye la cantidad de cada uno de ellos. Aunque sea de un orden factorial su \n",
    "    complejidad, a la practica una vez encontramos una solución parcial(es hoja y el valor es mayor que el de la cota),\n",
    "    en este caso al ser maximizar, podaremos con al condicion del peso y la de estados ya visitados previamente.\n",
    "    La última solución parcial, será la solución FINAL."
   ]
  },
  {
   "cell_type": "raw",
   "metadata": {},
   "source": [
    "PD: He relajado la cantidad de los objetos de decenas a unidades, porque sinó entraba en un bucle infinito de posibilidades"
   ]
  },
  {
   "cell_type": "markdown",
   "metadata": {},
   "source": [
    "### En esta sección debéis responder a las preguntas siguientes:\n",
    "#### 1. Implementar un juego de test y justificar los resultados\n",
    "#### 2. Análisis de complejidad de vuestra implementación"
   ]
  },
  {
   "cell_type": "markdown",
   "metadata": {},
   "source": [
    "<div class=\"alert alert-info\">\n",
    "<center>\n",
    "  <h1>Entrega</h1>\n",
    "</center>\n",
    "<p>\n",
    "La entrega de esta práctica tiene como fecha límite el **domingo, 24 de diciembre de 2017 a las 23:55**. En el campus virtual deberéis subir este fichero con las funciones implementadas y las secciones de comentarios debidamente rellenadas.\n",
    "</p>\n",
    "\n",
    "<p>\n",
    "La entrega tiene que consistir en un solo fichero **.ipynb** con el nombre: *Apellido1Apellido2*_*Nombre*_ASS3.ipyn\n",
    "</p>\n",
    "</div>"
   ]
  }
 ],
 "metadata": {
  "kernelspec": {
   "display_name": "Python 3",
   "language": "python",
   "name": "python3"
  },
  "language_info": {
   "codemirror_mode": {
    "name": "ipython",
    "version": 3
   },
   "file_extension": ".py",
   "mimetype": "text/x-python",
   "name": "python",
   "nbconvert_exporter": "python",
   "pygments_lexer": "ipython3",
   "version": "3.6.1"
  }
 },
 "nbformat": 4,
 "nbformat_minor": 1
}
