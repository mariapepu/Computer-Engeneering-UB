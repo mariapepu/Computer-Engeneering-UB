{
 "cells": [
  {
   "cell_type": "markdown",
   "metadata": {},
   "source": [
    "<div style=\"padding:30px; color: white; background-color: #0071CD\">\n",
    "<center>\n",
    "<p>\n",
    "<h1>Algorítimica Avançada</h1>\n",
    "<h2>Problemas Enumerativos </h2>\n",
    "</center>\n",
    "</p>\n",
    "</div>"
   ]
  },
  {
   "cell_type": "markdown",
   "metadata": {},
   "source": [
    "<div class=\"alert alert-info\">\n",
    "<center>\n",
    "  <h1>Backtracking</h1>\n",
    "</center>\n",
    "</div>"
   ]
  },
  {
   "cell_type": "markdown",
   "metadata": {},
   "source": [
    "En este ejercicio queremos diseñar un \"solucionador\" de sudokus utilizando estrategias de backtracking. Para ello se os da la clase Sudoku que hace las veces de modelo y contiene funciones útiles que os permitirán centraros en el desarrollo del algoritmo.\n",
    "\n",
    "El problema del sudoku consiste, basicamente en rellenar un tablero con números del 1 al 9 (ambos incluidos). Para insertar los numeros de forma válida en el tablero se tienen que cumplir tres condiciones:\n",
    "\n",
    "* El número no se encuentra repetido en la misma __fila__\n",
    "* El número no se encuentra repetido en la misma __columna__\n",
    "* El número no se encuentra repetido en el mismo __bloque__*\n",
    "\n",
    "\\* _Un bloque es cada una de las sub-divisiones 3x3 del tablero._"
   ]
  },
  {
   "cell_type": "code",
   "execution_count": 1,
   "metadata": {},
   "outputs": [
    {
     "name": "stdout",
     "output_type": "stream",
     "text": [
      "1- Crear un sudoku\n"
     ]
    },
    {
     "ename": "TypeError",
     "evalue": "'module' object is not callable",
     "output_type": "error",
     "traceback": [
      "\u001b[1;31m---------------------------------------------------------------------------\u001b[0m",
      "\u001b[1;31mTypeError\u001b[0m                                 Traceback (most recent call last)",
      "\u001b[1;32m<ipython-input-1-45250f592b50>\u001b[0m in \u001b[0;36m<module>\u001b[1;34m()\u001b[0m\n\u001b[0;32m      5\u001b[0m \u001b[1;33m\u001b[0m\u001b[0m\n\u001b[0;32m      6\u001b[0m \u001b[0mprint\u001b[0m\u001b[1;33m(\u001b[0m\u001b[1;34m\"1- Crear un sudoku\"\u001b[0m\u001b[1;33m)\u001b[0m\u001b[1;33m\u001b[0m\u001b[0m\n\u001b[1;32m----> 7\u001b[1;33m \u001b[0ms2\u001b[0m \u001b[1;33m=\u001b[0m \u001b[0msudoku\u001b[0m\u001b[1;33m(\u001b[0m\u001b[1;34m'sudoku/s2'\u001b[0m\u001b[1;33m)\u001b[0m\u001b[1;33m\u001b[0m\u001b[0m\n\u001b[0m\u001b[0;32m      8\u001b[0m \u001b[0mprint\u001b[0m\u001b[1;33m(\u001b[0m\u001b[0ms2\u001b[0m\u001b[1;33m)\u001b[0m\u001b[1;33m\u001b[0m\u001b[0m\n\u001b[0;32m      9\u001b[0m \u001b[1;33m\u001b[0m\u001b[0m\n",
      "\u001b[1;31mTypeError\u001b[0m: 'module' object is not callable"
     ]
    }
   ],
   "source": [
    "from sudoku import sudoku\n",
    "\n",
    "# Para cargar el sudoku introducimos la ruta al archivo. En la carpeta './sudokus' tenéis un buén número\n",
    "# de ejemplos con los que podéis jugar\n",
    "\n",
    "print(\"1- Crear un sudoku\")\n",
    "s2 = sudoku('sudoku/s2')\n",
    "print(s2)\n",
    "\n",
    "# Dada una posición definida como una tupla de dos elementos (x,y) en el rango [0,8], podemos obtener los\n",
    "# elementos validos para una posición vacía\n",
    "\n",
    "print(\"2- Obtén los números válidos en (0,1)\")\n",
    "print(s2.get_valid((0,1)))\n",
    "\n",
    "# En caso que se trate de una posición que ya contiene un número devolverá una lista vacía\n",
    "print(s2.get_valid((0,0)))\n",
    "\n",
    "# También podemos obtener la lista de todos los elementos vacios\n",
    "print(\"3 - Obtén las posiciones vacías\")\n",
    "print(len(s2.get_empty()))\n",
    "\n",
    "# Finalmente, nos permite insertar un numero en una posición dada.\n",
    "print(\"4 - Añade un 7 a la posición (0,1)\")\n",
    "s3 = s2.set_number((0,1),7)\n",
    "print(s3)\n",
    "\n",
    "# En caso de que no se pueda insertar el numero en esa posición nos devolverá un mensaje de error:\n",
    "print(s2.set_number((0,1),2))"
   ]
  },
  {
   "cell_type": "markdown",
   "metadata": {},
   "source": [
    "Implementa un algoritmo que utilice backtracking y que solucione el juego del Sudoku mediante la clase `Graph` desarrollada en la parte práctica de la asignatura:"
   ]
  },
  {
   "cell_type": "code",
   "execution_count": 23,
   "metadata": {
    "collapsed": true
   },
   "outputs": [],
   "source": [
    "from sudoku import Sudoku\n",
    "\n",
    "def sudoku_solver(S):\n",
    "    \"\"\"\n",
    "    Función que resuelve el sudoku mediante backtracking. El retorno es el mismo objeto Sudoku solucionado.\n",
    "    \"\"\"\n",
    "\n",
    "    #Comprueba que aun quedan casillas vacias\n",
    "    \n",
    "    if not S.get_empty(): \n",
    "        return S\n",
    "    print(S)\n",
    "    for i in S.get_empty():\n",
    "        for j in S.get_valid(i):\n",
    "            ret = sudoku_solver(S.set_number(i,j))\n",
    "            \n",
    "            if ret:\n",
    "                return ret\n",
    "            \n",
    "    return False"
   ]
  },
  {
   "cell_type": "code",
   "execution_count": 24,
   "metadata": {},
   "outputs": [
    {
     "name": "stdout",
     "output_type": "stream",
     "text": [
      "+-------+\n",
      "| 2     |\n",
      "|   6   |\n",
      "|   3   |\n",
      "+-------+\n",
      "\n",
      "+-------+\n",
      "| 2 1   |\n",
      "|   6   |\n",
      "|   3   |\n",
      "+-------+\n",
      "\n",
      "+-------+\n",
      "| 2 1 4 |\n",
      "|   6   |\n",
      "|   3   |\n",
      "+-------+\n",
      "\n",
      "+-------+\n",
      "| 2 1 4 |\n",
      "| 5 6   |\n",
      "|   3   |\n",
      "+-------+\n",
      "\n",
      "+-------+\n",
      "| 2 1 4 |\n",
      "| 5 6 7 |\n",
      "|   3   |\n",
      "+-------+\n",
      "\n",
      "+-------+\n",
      "| 2 1 4 |\n",
      "| 5 6 7 |\n",
      "| 8 3   |\n",
      "+-------+\n",
      "\n",
      "+-------+\n",
      "| 2 1 4 |\n",
      "| 5 6 7 |\n",
      "| 8 3 9 |\n",
      "+-------+\n",
      "\n"
     ]
    }
   ],
   "source": [
    "s2 = Sudoku('sudoku/s10')\n",
    "print(sudoku_solver(s2))"
   ]
  },
  {
   "cell_type": "markdown",
   "metadata": {},
   "source": [
    "<div class=\"alert alert-info\">\n",
    "<center>\n",
    "  <h1>Branch & Bound</h1>\n",
    "</center>\n",
    "</div>"
   ]
  },
  {
   "cell_type": "markdown",
   "metadata": {},
   "source": [
    "El 8-Puzzle es un conocido puzzle deslizante que consiste en una cuadrícula de elementos numerados donde uno de los elementos no tiene ningún valor. El siguiente código muestra un ejemplo de un tablero resuelto, y un tablero por resolver: "
   ]
  },
  {
   "cell_type": "code",
   "execution_count": 7,
   "metadata": {},
   "outputs": [
    {
     "name": "stdout",
     "output_type": "stream",
     "text": [
      "Ejemplo de tablero resuelto:\n",
      "+-----------+\n",
      "| 1 | 2 | 3 | \n",
      "+-----------+\n",
      "| 4 | 5 | 6 | \n",
      "+-----------+\n",
      "| 7 | 8 |   | \n",
      "+-----------+\n",
      "\n",
      "Ejemplo de tablero no resuelto:\n",
      "+-----------+\n",
      "| 8 | 4 | 1 | \n",
      "+-----------+\n",
      "| 6 |   | 2 | \n",
      "+-----------+\n",
      "| 7 | 5 | 3 | \n",
      "+-----------+\n"
     ]
    }
   ],
   "source": [
    "from npuzzle import NPuzzle\n",
    "np = NPuzzle()\n",
    "board = np.create_board()\n",
    "solved_board = np.create_board(solved=True)\n",
    "\n",
    "print (\"Ejemplo de tablero resuelto:\")\n",
    "np.print_board(solved_board)\n",
    "print (\"\\nEjemplo de tablero no resuelto:\")\n",
    "np.print_board(board)\n"
   ]
  },
  {
   "cell_type": "markdown",
   "metadata": {},
   "source": [
    "En este ejercicio queremos resolver de forma automática cualquier 8Puzzle propuesto utilizando __Branch & Bound__. Para simplificar la implementación se os da la clase __NPuzzle__ que os permite realizar las acciones más comunes sobre un tablero."
   ]
  },
  {
   "cell_type": "code",
   "execution_count": 8,
   "metadata": {},
   "outputs": [
    {
     "name": "stdout",
     "output_type": "stream",
     "text": [
      "Imprimir tablero:\n",
      "+-----------+\n",
      "| 7 | 2 | 1 | \n",
      "+-----------+\n",
      "| 8 |   | 5 | \n",
      "+-----------+\n",
      "| 4 | 3 | 6 | \n",
      "+-----------+\n",
      "\n",
      "Movimientos posibles:\n",
      "['L', 'R', 'U', 'D']\n",
      "\n",
      "Tablero despues de realizar el movimiento L\n",
      "+-----------+\n",
      "| 7 | 2 | 1 | \n",
      "+-----------+\n",
      "|   | 8 | 5 | \n",
      "+-----------+\n",
      "| 4 | 3 | 6 | \n",
      "+-----------+\n",
      "\n",
      "La condición de final de juego es: False\n"
     ]
    }
   ],
   "source": [
    "# Crear la clase NPuzzle\n",
    "np = NPuzzle()\n",
    "\n",
    "# Crear un tablero nuevo:\n",
    "board = np.create_board()\n",
    "\n",
    "# Imprimir el tablero\n",
    "print (\"Imprimir tablero:\")\n",
    "np.print_board(board)\n",
    "print (\"\")\n",
    "\n",
    "# Mostrar los movimientos posibles en un estado, L=Left, R=Right, U=Up, D=Down\n",
    "am = np.allowed_moves(board)\n",
    "print (\"Movimientos posibles:\")\n",
    "print (am)\n",
    "print (\"\")\n",
    "\n",
    "# Mover una pieza\n",
    "new_board = np.move(board, am[0])\n",
    "print (\"Tablero despues de realizar el movimiento\", am[0])\n",
    "np.print_board(new_board)\n",
    "print (\"\")\n",
    "\n",
    "# Comprobar el estado (True si está solucionado, False si no lo está)\n",
    "print (\"La condición de final de juego es:\", np.state(new_board))"
   ]
  },
  {
   "cell_type": "markdown",
   "metadata": {},
   "source": [
    "Se os pide que programéis una función que sea capaz de resolver un 8-Puzzle dada cualquier posible configuración inicial (La función NPuzzle.create_board solo devuelve configuraciones que tengan solución)\n",
    "\n",
    "La implementación del algoritmo ha de ser utilizando ramificación y poda. Para ramificar el arbol de estados utilizaremos como heurística la suma de la distáncia de Manhattan de todas las piezas a su posición objetivo. Esta función se os da implementada de la siguiente forma: **NPuzzle.manhattan_distance(board)**\n",
    "\n",
    "El objetivo del código es encontrar la solución óptima, que en este caso es la que tiene un menor número de pasos. Por lo tanto, para la implementación de la poda, utilizaremos como valor de cota la profundidad."
   ]
  },
  {
   "cell_type": "markdown",
   "metadata": {},
   "source": [
    "<div class=\"alert alert-danger\" style=\"width:80%; margin:0 auto; padding\">\n",
    "<center><p><h3> Tips and Tricks </h3></p> </center>\n",
    "<p>\n",
    "<ul>\n",
    "<li>\n",
    "Hay que tener cuidado con los estados repetidos. Se os da la función **NPuzzle.get_state_id(board)** para poder obtener un string único dado un tablero.\n",
    "</li>\n",
    "<li>\n",
    "Para la ramificación, la clase NPuzzle incluye **NPuzzle.manhattan_distance(board)**.\n",
    "</li>\n",
    "\n",
    "\n",
    "</p>\n",
    "</div>\n"
   ]
  },
  {
   "cell_type": "code",
   "execution_count": 7,
   "metadata": {
    "collapsed": true
   },
   "outputs": [],
   "source": [
    "%reset -f\n",
    "from npuzzle import NPuzzle\n",
    "\n",
    "def solve(board):\n",
    "    '''\n",
    "    Función para la resolución de un KPuzzle.\n",
    "    \n",
    "    :param board: Tablero del KPuzzle que queremos resolver\n",
    "    :type board: numpy.array\n",
    "    :returns: diccionario que contiene 'n_moves', 'expanded_nodes' y 'final_board'.\n",
    "    :rtype: dict\n",
    "    '''\n",
    "    np = NPuzzle()\n",
    "    cota = 99999999999999999\n",
    "    pending = [(np.manhattan_distance(board),0,board)]\n",
    "    visited = []\n",
    "    \n",
    "    while len(pending) != 0:\n",
    "        # TODO: La lista ha de estar ordenada\n",
    "        priority, h, current_state = pending.pop(0)\n",
    "        \n",
    "        if np.state(current_state):\n",
    "            cota = h\n",
    "        \n",
    "        if h>=cota:\n",
    "            continue\n",
    "            \n",
    "        for i in np.allowed_moves(current_state):\n",
    "            child = np.move(board,i)\n",
    "            if np.get_state_id(child) not in visited:\n",
    "                pending.append((np.manhattan_distance(child),h+1,child))\n",
    "                \n",
    "                visited.append((np.get_state_id(child)))\n",
    "                \n",
    "        pending.sort()\n",
    "            \n",
    "    \n",
    "    return {\n",
    "        # Número de movimientos hasta alcanzar la solución\n",
    "        'n_moves' : cota,\n",
    "        # Número de nodos expandidos en total\n",
    "        'expanded_nodes' : 0,\n",
    "        # Tablero en el estado final\n",
    "        'final_board' : board\n",
    "    }\n",
    "\n",
    "def bound(states):\n",
    "    '''\n",
    "    Poda de una lista de estados\n",
    "    \n",
    "    :param board: lista de estados que queremos podar\n",
    "    :type states: list\n",
    "    :returns: la lista de estados podada\n",
    "    :rtype: list\n",
    "    '''\n",
    "    global puzzle\n",
    "    bounded_states = []\n",
    "    \n",
    "    return bounded_states"
   ]
  },
  {
   "cell_type": "code",
   "execution_count": 8,
   "metadata": {},
   "outputs": [
    {
     "data": {
      "text/plain": [
       "{'expanded_nodes': 0, 'final_board': array([[0, 4, 1],\n",
       "        [6, 7, 3],\n",
       "        [5, 8, 2]]), 'n_moves': 99999999999999999}"
      ]
     },
     "execution_count": 8,
     "metadata": {},
     "output_type": "execute_result"
    }
   ],
   "source": [
    "# TEST #\n",
    "puzzle = NPuzzle()\n",
    "board = puzzle.create_board()\n",
    "solve(board)"
   ]
  },
  {
   "cell_type": "code",
   "execution_count": null,
   "metadata": {
    "collapsed": true
   },
   "outputs": [],
   "source": []
  }
 ],
 "metadata": {
  "kernelspec": {
   "display_name": "Python 3",
   "language": "python",
   "name": "python3"
  },
  "language_info": {
   "codemirror_mode": {
    "name": "ipython",
    "version": 3
   },
   "file_extension": ".py",
   "mimetype": "text/x-python",
   "name": "python",
   "nbconvert_exporter": "python",
   "pygments_lexer": "ipython3",
   "version": "3.6.2"
  }
 },
 "nbformat": 4,
 "nbformat_minor": 1
}
