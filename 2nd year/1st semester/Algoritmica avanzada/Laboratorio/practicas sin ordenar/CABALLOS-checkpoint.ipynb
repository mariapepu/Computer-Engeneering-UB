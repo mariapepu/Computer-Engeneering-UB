{
 "cells": [
  {
   "cell_type": "code",
   "execution_count": null,
   "metadata": {
    "collapsed": true
   },
   "outputs": [],
   "source": [
    "#Construye el grafo completo de un tablero NxN\n",
    "#N=tamanyoTablero\n",
    "from pythoned.grafos import Grafo\n",
    "\n",
    "def grafoDelCaballo(tamanoTablero):\n",
    "    grafoCbllo = Grafo()\n",
    "    for fil in range(tamanoTablero):\n",
    "       for col in range(tamanoTablero):\n",
    "           idNodo = pos_A_Id_Nodo(fil,col,tamanoTablero)\n",
    "           posicionesNuevas = generarMovLegales(fil,col,tamanoTablero)\n",
    "           for e in posicionesNuevas:\n",
    "               nid = pos_A_Id_Nodo(e[0],e[1],tamanoTablero)\n",
    "               grafoCbllo.agregarArista(idNodo,nid)\n",
    "    return grafoCbllo\n",
    "\n",
    "def pos_A_Id_Nodo(fila, columna, tamano_del_tablero):\n",
    "    return (fila * tamano_del_tablero) + columna"
   ]
  },
  {
   "cell_type": "code",
   "execution_count": null,
   "metadata": {
    "collapsed": true
   },
   "outputs": [],
   "source": [
    "#genera N movimientos posibles\n",
    "#N=tamanyoTablero\n",
    "def generarMovLegales(x,y,tamanoTablero):\n",
    "    nuevosMovimientos = []\n",
    "    desplazamientosEnL = [(-1,-2),(-1,2),(-2,-1),(-2,1),\n",
    "                   ( 1,-2),( 1,2),( 2,-1),( 2,1)]\n",
    "    for i in desplazamientosEnL:\n",
    "        nuevoX = x + i[0]\n",
    "        nuevoY = y + i[1]\n",
    "        if coordLegal(nuevoX,tamanoTablero) and \\\n",
    "                        coordLegal(nuevoY,tamanoTablero):\n",
    "            nuevosMovimientos.append((nuevoX,nuevoY))\n",
    "    return nuevosMovimientos\n",
    "\n",
    "def coordLegal(x,tamanoTablero):\n",
    "    if x >= 0 and x < tamanoTablero:\n",
    "        return True\n",
    "    else:\n",
    "        return False"
   ]
  },
  {
   "cell_type": "code",
   "execution_count": null,
   "metadata": {
    "collapsed": true
   },
   "outputs": [],
   "source": [
    "#\n",
    "\n",
    "from pythoned.grafos import Grafo, Vertice\n",
    "def giraCaballo(n,ruta,u,limite):\n",
    "        u.asignarColor('gris')\n",
    "        ruta.append(u)\n",
    "        if n < limite:\n",
    "            listaVecinos = list(u.obtenerConexiones())\n",
    "            i = 0\n",
    "            hecho = False\n",
    "            while i < len(listaVecinos) and not hecho:\n",
    "                if listaVecinos[i].obtenerColor() == 'blanco':\n",
    "                    hecho = giraCaballo(n+1, ruta, listaVecinos[i], limite)\n",
    "                i = i + 1\n",
    "            if not hecho:  # prepararse para retroceder\n",
    "                ruta.pop()\n",
    "                u.asignarColor('blanco')\n",
    "        else:\n",
    "            hecho = True\n",
    "        return hecho"
   ]
  },
  {
   "cell_type": "code",
   "execution_count": null,
   "metadata": {
    "collapsed": true
   },
   "outputs": [],
   "source": [
    "def ordenPorDisp(n):\n",
    "    listaRes = []\n",
    "    for v in n.obtenerConexiones():\n",
    "        if v.obtenerColor() == 'blanco':\n",
    "            c = 0\n",
    "            for w in v.obtenerConexiones():\n",
    "                if w.obtenerColor() == 'blanco':\n",
    "                    c = c + 1\n",
    "            listaRes.append((c,v))\n",
    "    listaRes.sort(key=lambda x: x[0])\n",
    "    return [y[1] for y in listaRes]"
   ]
  },
  {
   "cell_type": "code",
   "execution_count": null,
   "metadata": {
    "collapsed": true
   },
   "outputs": [],
   "source": [
    "from pythonds.graphs import Grafo\n",
    "class grafoBEP(Grafo):\n",
    "    def __init__(self):\n",
    "        super().__init__()\n",
    "        self.tiempo = 0\n",
    "\n",
    "    def bep(self):\n",
    "        for unVertice in self:\n",
    "            unVertice.asignarColor('blanco')\n",
    "            unVertice.asignarPredecesor(-1)\n",
    "        for unVertice in self:\n",
    "            if unVertice.obtenerColor() == 'blanco':\n",
    "                self.visitabep(unVertice)\n",
    "\n",
    "    def visitabep(self,verticeInicio):\n",
    "        verticeInicio.asignarColor('gris')\n",
    "        self.tiempo += 1\n",
    "        verticeInicio.asignarDescubrimiento(self.tiempo)\n",
    "        for siguienteVertice in verticeInicio.obtenerConexiones():\n",
    "            if siguienteVertice.obtenerColor() == 'blanco':\n",
    "                siguienteVertice.asignarPredecesor(verticeInicio)\n",
    "                self.visitabep(siguienteVertice)\n",
    "        verticeInicio.asignarColor('negro')\n",
    "        self.tiempo += 1\n",
    "        verticeInicio.asignarFinalizacion(self.tiempo)"
   ]
  }
 ],
 "metadata": {
  "kernelspec": {
   "display_name": "Python 3",
   "language": "python",
   "name": "python3"
  },
  "language_info": {
   "codemirror_mode": {
    "name": "ipython",
    "version": 3
   },
   "file_extension": ".py",
   "mimetype": "text/x-python",
   "name": "python",
   "nbconvert_exporter": "python",
   "pygments_lexer": "ipython3",
   "version": "3.6.1"
  }
 },
 "nbformat": 4,
 "nbformat_minor": 2
}
