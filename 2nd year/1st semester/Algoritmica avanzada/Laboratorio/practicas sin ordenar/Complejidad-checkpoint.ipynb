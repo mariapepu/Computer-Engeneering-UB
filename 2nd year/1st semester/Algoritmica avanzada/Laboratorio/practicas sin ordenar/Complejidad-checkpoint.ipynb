{
 "cells": [
  {
   "cell_type": "markdown",
   "metadata": {},
   "source": [
    "<div style=\"padding:30px; color: white; background-color: #0071CD\">\n",
    "<center>\n",
    "<img src=\"img/logoub.jpeg\"></img>\n",
    "<center>\n",
    "<p>\n",
    "<h1>Algorísmica Avançada</h1>\n",
    "<h2>Problemes 1 - Notació asimptótica </h2>\n",
    "</center>\n",
    "</p>\n",
    "</div>"
   ]
  },
  {
   "cell_type": "markdown",
   "metadata": {},
   "source": [
    "## Notación"
   ]
  },
  {
   "cell_type": "markdown",
   "metadata": {},
   "source": [
    "A lo largo de este notebook veremos los conceptos básicos de notación asintótica que nos servirán para definir la complejidad de nuestros algoritmos.\n",
    "\n",
    "Para ello utilizaremos los siguientes símbolos\n",
    "\n",
    "- $\\Theta$ (Theta)\n",
    "- $O$, $o$ (Omicron)\n",
    "- $\\Omega$ (Omega)\n"
   ]
  },
  {
   "cell_type": "markdown",
   "metadata": {},
   "source": [
    "Pero, cómo definimos la complejidad de un algoritmo? Tienen los siguientes tres algoritmos la misma complejidad?"
   ]
  },
  {
   "cell_type": "code",
   "execution_count": 1,
   "metadata": {},
   "outputs": [
    {
     "name": "stdout",
     "output_type": "stream",
     "text": [
      "[3, 13, 14, 18]\n",
      "48\n",
      "384\n"
     ]
    }
   ],
   "source": [
    "def alga(i):\n",
    "    return i\n",
    "    \n",
    "def algb(i):\n",
    "    total = 0\n",
    "    for m in i:\n",
    "        total+=m\n",
    "    return total\n",
    "\n",
    "def algc(i):\n",
    "    total=0\n",
    "    for m in i:\n",
    "        for j in i:\n",
    "            total+=m+j\n",
    "    return total\n",
    "            \n",
    "            \n",
    "import random\n",
    "\n",
    "# Crea una lista de valores aleatorios\n",
    "_list = random.sample(range(30), 4)\n",
    "\n",
    "\n",
    "print(alga(_list))\n",
    "print(algb(_list))\n",
    "print(algc(_list))"
   ]
  },
  {
   "cell_type": "markdown",
   "metadata": {},
   "source": [
    "Comprobemos el tiempo de ejecución de cada uno de los algoritmos"
   ]
  },
  {
   "cell_type": "code",
   "execution_count": 2,
   "metadata": {},
   "outputs": [
    {
     "name": "stdout",
     "output_type": "stream",
     "text": [
      "94.5 ns ± 18.9 ns per loop (mean ± std. dev. of 7 runs, 10000000 loops each)\n",
      "262 ns ± 74.2 ns per loop (mean ± std. dev. of 7 runs, 1000000 loops each)\n",
      "1.05 µs ± 229 ns per loop (mean ± std. dev. of 7 runs, 1000000 loops each)\n"
     ]
    }
   ],
   "source": [
    "%timeit alga(_list)\n",
    "%timeit algb(_list)\n",
    "%timeit algc(_list)"
   ]
  },
  {
   "cell_type": "markdown",
   "metadata": {},
   "source": [
    "<div class=\"alert alert-warning\">\n",
    "<h1>Pregunta 1</h1>\n",
    "<p><strong>\n",
    "Qué complejidad tienen las funciones _alga_ _algb_ y _algc_ notándolas como $\\Theta, O, \\Omega$?\n",
    "</strong></p>\n",
    "<p>\n",
    "Recordatorio:\n",
    "<ul>\n",
    "<li>$o(n)$: Crecimiento menor a $n$</li>\n",
    "<li>$O(n)$: Crecimiento menor o igual a $n$</li>\n",
    "<li>$\\Theta(n)$: Crecimiento igual a $n$</li>\n",
    "<li>$\\Omega(n)$: Crecimiento igual o superior a $n$</li>\n",
    "</ul>\n",
    "</p>\n",
    "</div>"
   ]
  },
  {
   "cell_type": "markdown",
   "metadata": {},
   "source": []
  },
  {
   "cell_type": "code",
   "execution_count": 3,
   "metadata": {},
   "outputs": [
    {
     "data": {
      "text/plain": [
       "[5, 6, 7, 6, 7, 8, 7, 8, 9]"
      ]
     },
     "execution_count": 3,
     "metadata": {},
     "output_type": "execute_result"
    }
   ],
   "source": [
    "def sumapares(lista, listb):\n",
    "    listc = []\n",
    "    for x in lista:\n",
    "        for y in listb:\n",
    "            listc.append(x+y)\n",
    "    return listc\n",
    "\n",
    "sumapares([1,2,3],[4,5,6])"
   ]
  },
  {
   "cell_type": "markdown",
   "metadata": {},
   "source": [
    "<div class=\"alert alert-warning\">\n",
    "<h1>Pregunta 2</h1>\n",
    "<p><strong>\n",
    "Qué complejidad tiene la función $sumapares$?\n",
    "</strong></p>\n",
    "</div>"
   ]
  },
  {
   "cell_type": "markdown",
   "metadata": {},
   "source": []
  },
  {
   "cell_type": "markdown",
   "metadata": {},
   "source": [
    "## Orden de magnitud\n",
    "\n",
    "Normalmente las operaciones de coste constante $O(1)$ las menospreciamos y analizamos la complejidad en base al orden de magnitud, por lo que una función cuya complejidad exacta fuere $O(3x^2+6)$ la denotarmemos como $O(3x^2)$."
   ]
  },
  {
   "cell_type": "markdown",
   "metadata": {},
   "source": [
    "<div class=\"alert alert-danger\">\n",
    "<h1>Problema 1</h1>\n",
    "<p><strong>\n",
    "Implementa algoritmos que tengan las complejidades siguientes: <ul><li>$O(1)$</li><li>$O(n)$</li><li>$O(n^2)$</li><li>$O(log(n))$</li><li>$O(2^n)$</li><li>$O(n!)$</li></ul>\n",
    "\n",
    "</strong></p>\n",
    "<p><b>Nota: </b> Puedes cambiar la declaración de las funciones si lo consideras necesario.</p>\n",
    "</div>"
   ]
  },
  {
   "cell_type": "code",
   "execution_count": 4,
   "metadata": {
    "collapsed": true
   },
   "outputs": [],
   "source": [
    "def o(a):\n",
    "    return 1"
   ]
  },
  {
   "cell_type": "code",
   "execution_count": 5,
   "metadata": {
    "collapsed": true
   },
   "outputs": [],
   "source": [
    "def on(a):\n",
    "    for x in a:\n",
    "        a = a\n",
    "    return a"
   ]
  },
  {
   "cell_type": "code",
   "execution_count": null,
   "metadata": {
    "collapsed": true
   },
   "outputs": [],
   "source": [
    "def onsquare(a):\n",
    "    total = 0\n",
    "    for m in a:\n",
    "        for j in a:\n",
    "            total+=m+j\n",
    "    return total"
   ]
  },
  {
   "cell_type": "code",
   "execution_count": null,
   "metadata": {
    "collapsed": true
   },
   "outputs": [],
   "source": [
    "def ologn(a):\n",
    "    # Buscar en una lista ordenada, recursivo"
   ]
  },
  {
   "cell_type": "code",
   "execution_count": null,
   "metadata": {
    "collapsed": true
   },
   "outputs": [],
   "source": [
    "def oexpn(a):\n",
    "    # Lista de todos los posibles grupos que se pueden hacer con estos elementos"
   ]
  },
  {
   "cell_type": "code",
   "execution_count": null,
   "metadata": {
    "collapsed": true
   },
   "outputs": [],
   "source": [
    "def onfact(a):\n",
    "    # Encontrar todas las permutaciones de un conjunto"
   ]
  },
  {
   "cell_type": "markdown",
   "metadata": {},
   "source": [
    "<div class=\"alert alert-warning\">\n",
    "<h1>Pregunta 3</h1>\n",
    "<p><strong>\n",
    "Evalua la complejidad exacta de cada uno de los algoritmos anteriores\n",
    "</strong></p>\n",
    "</div>"
   ]
  },
  {
   "cell_type": "markdown",
   "metadata": {},
   "source": []
  },
  {
   "cell_type": "markdown",
   "metadata": {},
   "source": [
    "## Un ejemplo gráfico..."
   ]
  },
  {
   "cell_type": "code",
   "execution_count": 6,
   "metadata": {},
   "outputs": [
    {
     "data": {
      "image/png": "[encoded data removed]",
      "text/plain": [
       "<matplotlib.figure.Figure at 0x231e5049ac8>"
      ]
     },
     "metadata": {},
     "output_type": "display_data"
    }
   ],
   "source": [
    "# En este apartado mostramos las gráficas de las diferentes funciones\n",
    "import matplotlib.pyplot as plt\n",
    "import numpy as np\n",
    "\n",
    "%matplotlib inline\n",
    "\n",
    "lin = np.linspace(0.1,10,100)\n",
    "plt.figure(figsize=(10,6))\n",
    "plt.plot(np.log(lin),label='O(log(n))')\n",
    "plt.title('Complejidades lineales y logaritmicas')\n",
    "plt.plot(lin*np.log(lin),label='O(n*log(n))')\n",
    "plt.plot(lin, linewidth=2, label='O(n)')\n",
    "plt.legend()\n",
    "plt.plot()\n",
    "plt.ylim(-1,10)\n",
    "plt.xticks([])\n",
    "plt.draw()"
   ]
  },
  {
   "cell_type": "code",
   "execution_count": 7,
   "metadata": {},
   "outputs": [
    {
     "data": {
      "image/png": "[encoded data removed]",
      "text/plain": [
       "<matplotlib.figure.Figure at 0x231e4d94e10>"
      ]
     },
     "metadata": {},
     "output_type": "display_data"
    }
   ],
   "source": [
    "import matplotlib.pyplot as plt\n",
    "import numpy as np\n",
    "\n",
    "%matplotlib inline\n",
    "\n",
    "lin = np.linspace(0.1,20,500)\n",
    "plt.figure(figsize=(10,6))\n",
    "plt.plot(lin**3,label='O(n^3)')\n",
    "plt.title('Complejidades potenciales y exponenciales')\n",
    "plt.plot(lin**2,label='O(n^2)')\n",
    "plt.plot(2**lin, label='O(2^n)')\n",
    "plt.legend()\n",
    "plt.plot()\n",
    "plt.ylim(-1,5000)\n",
    "plt.xticks([])\n",
    "plt.draw()"
   ]
  },
  {
   "cell_type": "markdown",
   "metadata": {},
   "source": [
    "<div class=\"alert alert-danger\">\n",
    "<h1>Problema 2</h1>\n",
    "<p><strong>\n",
    "Implementa un algoritmo de ordenación que tenga complejidad $O(n^2)$\n",
    "</strong></p>\n",
    "</div>"
   ]
  },
  {
   "cell_type": "code",
   "execution_count": null,
   "metadata": {
    "collapsed": true
   },
   "outputs": [],
   "source": [
    "def ordenacion1(lista):\n",
    "    # Dos for anidados y es una complejidad de O(n^2) porque comparas todos con todos"
   ]
  },
  {
   "cell_type": "markdown",
   "metadata": {},
   "source": [
    "<div class=\"alert alert-danger\">\n",
    "<h1>Problema 3</h1>\n",
    "<p><strong>\n",
    "    Implementa un algoritmo de ordenación que tenga complejidad $O(n\\log(n))$\n",
    "</strong></p>\n",
    "</div>"
   ]
  },
  {
   "cell_type": "code",
   "execution_count": null,
   "metadata": {
    "collapsed": true
   },
   "outputs": [],
   "source": [
    "def ordenacion2(lista):\n",
    "   # merge sort "
   ]
  },
  {
   "cell_type": "markdown",
   "metadata": {},
   "source": [
    "<div class=\"alert alert-danger\">\n",
    "<h1>Problema 4</h1>\n",
    "<p><strong>\n",
    "    Para las dos funciones anteriores, grafica el coste computacional de la ordenación en las siguientes listas:\n",
    "</strong></p>\n",
    "</div>"
   ]
  },
  {
   "cell_type": "code",
   "execution_count": 8,
   "metadata": {
    "collapsed": true
   },
   "outputs": [],
   "source": [
    "all_lists = [\n",
    "    [1],\n",
    "    [2,1],\n",
    "    [3,1,2],\n",
    "    [4,1,3,2],\n",
    "    [5,3,4,2,1],\n",
    "    [6,1,3,2,5,4],\n",
    "    [7,1,2,5,4,3,6],\n",
    "    [7,1,2,5,8,4,3,6],\n",
    "    [7,1,9,2,5,8,4,3,6],\n",
    "    [7,1,9,2,5,8,4,3,10,6],\n",
    "]"
   ]
  },
  {
   "cell_type": "markdown",
   "metadata": {},
   "source": [
    "## Algoritmos recursivos: Master Theorem\n",
    "\n",
    "El teorema master ayuda a definir las complejidades de los algoritmos que utilizan estratégias Divide and Conquer. Dicho de otra forma, nos ayuda a analizar la complejidad para los algoritmos recursivos.\n",
    "\n",
    "Siendo $T(n)$ la complejidad del algoritmo, $f(n)$ la complejidad del algoritmo en el nivel superior, $a$ el número de subproblemas a cada nivel de recursión y $b$ el factor por el que dividimos la entrada, denotamos la complejidad de un algoritmo recursivo como:\n",
    "\n",
    "$$\n",
    "T(n) = af\\big(\\frac{n}{b}\\big)+f(n)\n",
    "$$\n",
    "\n",
    "Si notamos la función $f(x)$ en base a su complejidad de la forma $O(n^d)$ obtenemos:\n",
    "\n",
    "$$\n",
    "T(n) = af\\big(\\frac{n}{b}\\big)+O(n)\n",
    "$$\n",
    "\n",
    "Y según el teorema masters podemos afirmar que:\n",
    "\n",
    "\\begin{equation*}\n",
    "T(n)=O(n^d) \\quad \\textrm{if}\\: d>log_b a\\\\\n",
    "T(n)=O(n^d\\log n) \\quad \\textrm{if}\\: d=log_b a\\\\\n",
    "T(n)=O(n^{\\log_b{a}}) \\quad \\textrm{if}\\: d<log_b a\n",
    "\\end{equation*}"
   ]
  },
  {
   "cell_type": "markdown",
   "metadata": {},
   "source": [
    "<div class=\"alert alert-warning\">\n",
    "<h1>Pregunta 4</h1>\n",
    "<p><strong>\n",
    "Analiza la complejidad en la siguiente función:\n",
    "</strong></p>\n",
    "</div>"
   ]
  },
  {
   "cell_type": "code",
   "execution_count": 11,
   "metadata": {},
   "outputs": [
    {
     "ename": "TypeError",
     "evalue": "slice indices must be integers or None or have an __index__ method",
     "output_type": "error",
     "traceback": [
      "\u001b[1;31m---------------------------------------------------------------------------\u001b[0m",
      "\u001b[1;31mTypeError\u001b[0m                                 Traceback (most recent call last)",
      "\u001b[1;32m<ipython-input-11-75d6aa0e10b5>\u001b[0m in \u001b[0;36m<module>\u001b[1;34m()\u001b[0m\n\u001b[0;32m      5\u001b[0m         \u001b[1;32mreturn\u001b[0m \u001b[0mreverse\u001b[0m\u001b[1;33m(\u001b[0m\u001b[0mlista\u001b[0m\u001b[1;33m[\u001b[0m\u001b[0mlen\u001b[0m\u001b[1;33m(\u001b[0m\u001b[0mlista\u001b[0m\u001b[1;33m)\u001b[0m\u001b[1;33m/\u001b[0m\u001b[1;36m2\u001b[0m\u001b[1;33m:\u001b[0m\u001b[1;33m]\u001b[0m\u001b[1;33m)\u001b[0m \u001b[1;33m+\u001b[0m \u001b[0mreverse\u001b[0m\u001b[1;33m(\u001b[0m\u001b[0mlista\u001b[0m\u001b[1;33m[\u001b[0m\u001b[1;33m:\u001b[0m\u001b[0mlen\u001b[0m\u001b[1;33m(\u001b[0m\u001b[0mlista\u001b[0m\u001b[1;33m)\u001b[0m\u001b[1;33m/\u001b[0m\u001b[1;36m2\u001b[0m\u001b[1;33m]\u001b[0m\u001b[1;33m)\u001b[0m\u001b[1;33m\u001b[0m\u001b[0m\n\u001b[0;32m      6\u001b[0m \u001b[1;33m\u001b[0m\u001b[0m\n\u001b[1;32m----> 7\u001b[1;33m \u001b[0mreverse\u001b[0m\u001b[1;33m(\u001b[0m\u001b[1;33m[\u001b[0m\u001b[1;36m1\u001b[0m\u001b[1;33m,\u001b[0m\u001b[1;36m2\u001b[0m\u001b[1;33m,\u001b[0m\u001b[1;36m3\u001b[0m\u001b[1;33m,\u001b[0m\u001b[1;36m5\u001b[0m\u001b[1;33m]\u001b[0m\u001b[1;33m)\u001b[0m\u001b[1;33m\u001b[0m\u001b[0m\n\u001b[0m",
      "\u001b[1;32m<ipython-input-11-75d6aa0e10b5>\u001b[0m in \u001b[0;36mreverse\u001b[1;34m(lista)\u001b[0m\n\u001b[0;32m      3\u001b[0m         \u001b[1;32mreturn\u001b[0m \u001b[1;33m[\u001b[0m\u001b[0mlista\u001b[0m\u001b[1;33m[\u001b[0m\u001b[1;36m1\u001b[0m\u001b[1;33m]\u001b[0m\u001b[1;33m,\u001b[0m \u001b[0mlista\u001b[0m\u001b[1;33m[\u001b[0m\u001b[1;36m0\u001b[0m\u001b[1;33m]\u001b[0m\u001b[1;33m]\u001b[0m\u001b[1;33m\u001b[0m\u001b[0m\n\u001b[0;32m      4\u001b[0m     \u001b[1;32melse\u001b[0m\u001b[1;33m:\u001b[0m\u001b[1;33m\u001b[0m\u001b[0m\n\u001b[1;32m----> 5\u001b[1;33m         \u001b[1;32mreturn\u001b[0m \u001b[0mreverse\u001b[0m\u001b[1;33m(\u001b[0m\u001b[0mlista\u001b[0m\u001b[1;33m[\u001b[0m\u001b[0mlen\u001b[0m\u001b[1;33m(\u001b[0m\u001b[0mlista\u001b[0m\u001b[1;33m)\u001b[0m\u001b[1;33m/\u001b[0m\u001b[1;36m2\u001b[0m\u001b[1;33m:\u001b[0m\u001b[1;33m]\u001b[0m\u001b[1;33m)\u001b[0m \u001b[1;33m+\u001b[0m \u001b[0mreverse\u001b[0m\u001b[1;33m(\u001b[0m\u001b[0mlista\u001b[0m\u001b[1;33m[\u001b[0m\u001b[1;33m:\u001b[0m\u001b[0mlen\u001b[0m\u001b[1;33m(\u001b[0m\u001b[0mlista\u001b[0m\u001b[1;33m)\u001b[0m\u001b[1;33m/\u001b[0m\u001b[1;36m2\u001b[0m\u001b[1;33m]\u001b[0m\u001b[1;33m)\u001b[0m\u001b[1;33m\u001b[0m\u001b[0m\n\u001b[0m\u001b[0;32m      6\u001b[0m \u001b[1;33m\u001b[0m\u001b[0m\n\u001b[0;32m      7\u001b[0m \u001b[0mreverse\u001b[0m\u001b[1;33m(\u001b[0m\u001b[1;33m[\u001b[0m\u001b[1;36m1\u001b[0m\u001b[1;33m,\u001b[0m\u001b[1;36m2\u001b[0m\u001b[1;33m,\u001b[0m\u001b[1;36m3\u001b[0m\u001b[1;33m,\u001b[0m\u001b[1;36m5\u001b[0m\u001b[1;33m]\u001b[0m\u001b[1;33m)\u001b[0m\u001b[1;33m\u001b[0m\u001b[0m\n",
      "\u001b[1;31mTypeError\u001b[0m: slice indices must be integers or None or have an __index__ method"
     ]
    }
   ],
   "source": [
    "def reverse(lista):\n",
    "    if len(lista) == 2:\n",
    "        return [lista[1], lista[0]]\n",
    "    else:\n",
    "        return reverse(lista[len(lista)/2:]) + reverse(lista[:len(lista)/2])\n",
    "\n",
    "reverse([1,2,3,5])\n",
    "\n",
    "# El último T(n)=O(nlogba)ifd<logba"
   ]
  },
  {
   "cell_type": "markdown",
   "metadata": {
    "collapsed": true
   },
   "source": [
    "<div class=\"alert alert-success\">\n",
    "<h1>Extra 1</h1>\n",
    "<p><strong>\n",
    "Implementa dos algoritmos que busquen un nombre concreto en un listín telefónico y devuelvan su número. Uno con coste $O(n)$ y otro con $O(\\log n)$.\n",
    "</strong></p>\n",
    "</div>"
   ]
  },
  {
   "cell_type": "code",
   "execution_count": null,
   "metadata": {
    "collapsed": true
   },
   "outputs": [],
   "source": [
    "def search(listin,name):\n",
    "    pass\n",
    "\n",
    "def search_log(listin,name):\n",
    "    pass"
   ]
  },
  {
   "cell_type": "code",
   "execution_count": null,
   "metadata": {
    "collapsed": true
   },
   "outputs": [],
   "source": [
    "listin = [('Abdon', 938906293), ('Alejo', 935198770), ('Anna', 931621906), ('Arturo', 938806195), ('Baldomero', 930964092), ('Benjamin', 934354128), ('Cayetano', 931005100), ('Clotilde', 932242962), ('Eduardo', 934005954), ('Eugenio', 931748905), ('Fabian', 938021389), ('Fermin', 939101910), ('Fernando', 940649340), ('Guillermo', 934387595), ('Jacobo', 934210458), ('Josep', 940820109), ('Leonor', 930434129), ('Lucrecia', 934411771), ('Manuel', 933697107), ('Marcelino', 936305412), ('Mohamed', 930600723), ('Nicolas', 936020020), ('Oscar', 940094360), ('Petronila', 936016855), ('Reinaldo', 939455199), ('Rodrigo', 937957205), ('Ruben', 938853772), ('Simeon', 938687016), ('Simeon', 931726372), ('Tarsicio', 934346208), ('Victorino', 939555230)]\n",
    "print(search_log(listin,'Petronila')==936016855)\n",
    "print(search(listin,'Mohamed')==930600723)"
   ]
  },
  {
   "cell_type": "markdown",
   "metadata": {},
   "source": [
    "<div class=\"alert alert-success\">\n",
    "<h1>Extra 2</h1>\n",
    "<p><strong>\n",
    "Implementa dos algoritmos que dado un nombre y su número, lo inserten en la posición adecuada (y devuelvan dicha posición) en un listín telefónico. Uno con complejidad $O(n)$ y otro con $O(\\log n)$.\n",
    "</strong></p>\n",
    "</div>"
   ]
  },
  {
   "cell_type": "code",
   "execution_count": null,
   "metadata": {
    "collapsed": true
   },
   "outputs": [],
   "source": [
    "def add_entry(listin,data):\n",
    "    pass\n",
    "\n",
    "def add_entry_log(listin,data):\n",
    "    pass"
   ]
  },
  {
   "cell_type": "code",
   "execution_count": 1,
   "metadata": {
    "collapsed": true
   },
   "outputs": [],
   "source": [
    "listin = [('Abdon', 938906293), ('Alejo', 935198770), ('Anna', 931621906), ('Arturo', 938806195), ('Baldomero', 930964092), ('Benjamin', 934354128), ('Cayetano', 931005100), ('Clotilde', 932242962), ('Eduardo', 934005954), ('Eugenio', 931748905), ('Fabian', 938021389), ('Fermin', 939101910), ('Fernando', 940649340), ('Guillermo', 934387595), ('Jacobo', 934210458), ('Josep', 940820109), ('Leonor', 930434129), ('Lucrecia', 934411771), ('Manuel', 933697107), ('Marcelino', 936305412), ('Mohamed', 930600723), ('Nicolas', 936020020), ('Oscar', 940094360), ('Petronila', 936016855), ('Reinaldo', 939455199), ('Rodrigo', 937957205), ('Ruben', 938853772), ('Simeon', 938687016), ('Simeon', 931726372), ('Tarsicio', 934346208), ('Victorino', 939555230)]\n",
    "prev_len = len(listin)\n",
    "print(add_entry_log(listin,('Daniel', 936208079))==8)\n",
    "print(len(listin) == prev_len + 1)\n",
    "print(add_entry(listin,('Soledad', 936669692))==30)\n",
    "print(len(listin) == prev_len + 2)"
   ]
  },
  {
   "cell_type": "markdown",
   "metadata": {},
   "source": [
    "<div class=\"alert alert-success\">\n",
    "<h1>Extra 3</h1>\n",
    "<p><strong>\n",
    "Implementa el calculo de la serie de fibonacci para un número en concreto de forma recursiva y analiza su complejidad.\n",
    "</strong></p>\n",
    "</div>"
   ]
  },
  {
   "cell_type": "code",
   "execution_count": null,
   "metadata": {
    "collapsed": true
   },
   "outputs": [],
   "source": [
    "def fiborec(n):\n",
    "    pass"
   ]
  }
 ],
 "metadata": {
  "kernelspec": {
   "display_name": "Python 3",
   "language": "python",
   "name": "python3"
  },
  "language_info": {
   "codemirror_mode": {
    "name": "ipython",
    "version": 3
   },
   "file_extension": ".py",
   "mimetype": "text/x-python",
   "name": "python",
   "nbconvert_exporter": "python",
   "pygments_lexer": "ipython3",
   "version": "3.6.2"
  }
 },
 "nbformat": 4,
 "nbformat_minor": 1
}
