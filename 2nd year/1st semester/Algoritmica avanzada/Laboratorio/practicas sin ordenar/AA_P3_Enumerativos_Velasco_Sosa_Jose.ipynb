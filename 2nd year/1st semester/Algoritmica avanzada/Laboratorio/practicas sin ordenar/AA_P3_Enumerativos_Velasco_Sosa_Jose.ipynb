{
 "cells": [
  {
   "cell_type": "markdown",
   "metadata": {},
   "source": [
    "<div style=\"padding:30px; color: white; background-color: #0071CD\">\n",
    "<center>\n",
    "<img src=\"img/logoub.jpeg\"></img>\n",
    "<center>\n",
    "<p>\n",
    "<h1>Algorísmica Avançada</h1>\n",
    "<h2>Práctica 3 - Enumerativos </h2>\n",
    "</center>\n",
    "</p>\n",
    "</div>"
   ]
  },
  {
   "cell_type": "markdown",
   "metadata": {},
   "source": [
    "<div class=\"alert alert-info\">\n",
    "<center>\n",
    "  <h1>Introducción</h1>\n",
    "</center>\n",
    "</div>"
   ]
  },
  {
   "cell_type": "markdown",
   "metadata": {},
   "source": [
    "En ésta práctica utilizaremos el concepto de ramificación y poda para la resolución del siguiente problema.\n",
    "\n",
    "La construcción de un artefacto requiere ensamblar $M$ piezas que identiﬁcamos con números entre $1$ y $M$. El coste de ensamblar la pieza $i$ depende del número de piezas ya ensambladas. Los costes, que son valores positivos, se nos proporcionan en una matriz $C$. La celda $c_{ij}$ es el coste de ensamblar la pieza $i$ cuando ya se han ensamblado $j$ piezas. Deseamos calcular el orden de ensamblado de menor coste total, entendido éste como la suma del coste de ensamblaje de cada una de las piezas. "
   ]
  },
  {
   "cell_type": "markdown",
   "metadata": {},
   "source": [
    "<div class=\"alert alert-info\">\n",
    "<center>\n",
    "  <h1>Contenido</h1>\n",
    "  </center><p>\n",
    "    </p></div>\n",
    "\n"
   ]
  },
  {
   "cell_type": "markdown",
   "metadata": {},
   "source": [
    "\n",
    "<div class=\"alert alert-success\" style=\"width:90%; margin:0 auto;\">\n",
    "  <h2><p>Ramificación y poda: Problema del ensamblaje</p></h2>\n",
    "  \n",
    "  <div class=\"row\">\n",
    "  <div>\n",
    "  <p style=\"text-align: justify; padding-right: 30px\">\n",
    "  Implementa mediante ramificación y poda una solución al problema del ensamblaje con tal de encontrar el listado ordenado de piezas cuyo coste total de ensamblaje sea mínimo.\n",
    "  </p>\n",
    "  </div>\n",
    "    </div></div>\n"
   ]
  },
  {
   "cell_type": "markdown",
   "metadata": {},
   "source": [
    "<div class=\"alert alert-danger\" style=\"width:80%; margin:0 auto; padding\">\n",
    "<center><p><h3> Código </h3></p> </center> \n",
    "\n",
    "<p>\n",
    "<h3>INPUT</h3>\n",
    "<ul>\n",
    "<li>C: Matriz de costes de tamaño $M\\times M$, donde M es el número de piezas. El elemento $i,j$ de la matriz representa el coste de ensamblaje para la pieza $i$ tras haber colocado $j$ piezas. \n",
    "</li>\n",
    "</ul>\n",
    "<br>\n",
    "<h3>OUTPUT</h3>\n",
    "Lista de números de $1$ a $M$ ordenados de forma que el coste total de ensamblaje sea mínimo. Ej: [5, 3, 2, 4, 1]\n",
    "</p>\n",
    "\n",
    "</div>"
   ]
  },
  {
   "cell_type": "code",
   "execution_count": null,
   "metadata": {
    "collapsed": true
   },
   "outputs": [],
   "source": [
    "\n",
    "Solucion encontrada(ELEMENTO NEUTRO)\n",
    "FUNCION OBJETIVO\n",
    "\n",
    "ESTADOS COMPLETO FACTIBLE\n",
    "\n",
    "SOLUCION\n",
    "\n",
    "CRITERIO DE RAMIFICACION\n",
    "CRITERIO DE PODA\n",
    "\n",
    "COTAS OPTIMISTA Y PESIMISTA\n",
    "\n",
    "MEJOR LA OPTIMISTA Y HACER UNA FUNCIÓN PARA ELLO\n",
    "\n",
    "SI LA SOLUCION ES MEJOR A LA OPTIMISTA NO VAMOS A NINGUNA PARTE\n",
    "\n",
    "COGER EL MINIMO\n",
    "\n",
    "CRITERIO DE EXPLORACION\n",
    "\n",
    "EXPANDED (CUANTOS ESTADOS HEMOS PROBADO)\n"
   ]
  },
  {
   "cell_type": "code",
   "execution_count": 56,
   "metadata": {
    "collapsed": true
   },
   "outputs": [],
   "source": [
    "import numpy as np\n",
    "import heapq\n",
    "from heapq import heappush, heappop\n",
    "import copy\n",
    "\n",
    "def branch_bound(C):\n",
    "    \n",
    "    estructura = [] #Inicializamos una lista dónde esta la cota optimista,la solución parcial, valor, cota pesimista y contObj\n",
    "    \n",
    "    expanded = 0\n",
    "    solu = []# Aquí se guardará la cota superior\n",
    "   \n",
    " \n",
    "    for i in range (len(C)): #Recorremos toda la matriz\n",
    "        contObj = [i for i in range(0,len(C))] #contObj esta formmado por los componentes de la matriz\n",
    "        contObj.remove(i) #Va quitando los componentes\n",
    "        heappush(estructura,[C[i][0],[i],contObj]) #Añade a estructura\n",
    "        \n",
    "    #print(estructura)\n",
    "    for x in range(len(C)): #Recorremos la matriz para hacer la cota supperior mediante la diagonal(cota superior)\n",
    "            solu.append(x)\n",
    "    traza = C.trace()\n",
    "    solu.append([traza])\n",
    "    print(solu)\n",
    "    \n",
    "    while (estructura[0][0] < traza): #Mientras que la cota optimista sea menor a la tarza\n",
    "        aux = heappop(estructura) #Va removiendo aux en estructura\n",
    "        expanded += 1\n",
    "        #print(aux)\n",
    "        for f in (aux[2]): #Recorre contObj \n",
    "            a = aux[0]+ C[f][len(aux[1])] #Va sumando la longitud  de la solucion parcial con la cota optimista\n",
    "            b = copy.deepcopy(aux[1]) #Copiamos la solucion parcial\n",
    "            b.append(f) #Añadimos a la copia de la solucion parcial f\n",
    "            c = copy.deepcopy(aux[2]) #Copiamos el contObj\n",
    "            c.remove(f) #Eliminamos de la copia de contObj f\n",
    "            heappush(estructura,[a,b,c]) #Añadimos a estructura a,b y c\n",
    "        if (len(aux[1]) == len(C) and aux[0] < traza): #Si la longitud de la solucion es igual a la de la matriz finaliza el programa        \n",
    "             #Si la cota optimista es menor a traza\n",
    "                traza = aux[0] #Igualamos traza a cota optimista y damos por finalizado el programa                \n",
    "    return aux,expanded"
   ]
  },
  {
   "cell_type": "code",
   "execution_count": 58,
   "metadata": {},
   "outputs": [
    {
     "name": "stdout",
     "output_type": "stream",
     "text": [
      "[[  5.  19.  25.   3.   9.   4.  16.  25.  15.  16.]\n",
      " [ 21.  13.   7.   4.  16.   1.  13.  14.  20.  25.]\n",
      " [ 25.   1.  23.  15.   9.  24.   8.  19.   4.  11.]\n",
      " [  1.   1.   1.  21.  18.   1.  13.  22.   7.  14.]\n",
      " [ 24.   1.  17.   8.  25.  15.  16.  18.   8.  12.]\n",
      " [  8.  22.   8.  25.  15.  10.   1.  14.  18.  21.]\n",
      " [  4.   6.  21.  24.  10.   4.  24.  11.  24.  23.]\n",
      " [ 17.  14.  17.  22.   7.  10.  10.  19.  16.  17.]\n",
      " [ 13.  19.   2.  16.   8.  24.  13.  14.  22.   6.]\n",
      " [ 12.  18.  23.  25.  22.  24.  12.   3.  15.  22.]]\n",
      "[0, 1, 2, 3, 4, 5, 6, 7, 8, 9, [184.0]]\n",
      "Temps:  0.12966965156238075\n",
      "([31.0, [6, 4, 3, 0, 7, 1, 5, 9, 2, 8], []], 2270)\n"
     ]
    }
   ],
   "source": [
    "import random as rd\n",
    "import numpy as np\n",
    "import timeit\n",
    "\n",
    "M = 10 # Número de piezas 10\n",
    "# Matriz de costes generada aleatoriamente\n",
    "C = np.zeros((M,M))\n",
    "rd.seed(1)\n",
    "for i in range(M):\n",
    "    for j in range(M):\n",
    "        C[i][j] = rd.randint(1, 25)\n",
    "print(C)\n",
    "start = timeit.default_timer()\n",
    "solucion = branch_bound(C)\n",
    "end = timeit.default_timer()\n",
    "print(\"Temps: \",end-start)\n",
    "print(solucion)"
   ]
  },
  {
   "cell_type": "markdown",
   "metadata": {},
   "source": [
    "<div class=\"alert alert-danger\" style=\"width:80%; margin:0 auto; padding\">\n",
    "<center><p><h3> Comentarios </h3></p> </center> \n",
    "\n",
    "</div>"
   ]
  },
  {
   "cell_type": "markdown",
   "metadata": {},
   "source": [
    "### En esta sección debéis responder a las preguntas siguientes:\n",
    "#### 1. Explica cómo has realizado tu implementación, enfatizando en la heurística empleada.\n",
    "#### 2. Análisis de complejidad de la implementación"
   ]
  },
  {
   "cell_type": "code",
   "execution_count": 1,
   "metadata": {},
   "outputs": [
    {
     "ename": "SyntaxError",
     "evalue": "invalid syntax (<ipython-input-1-df45923dc81c>, line 1)",
     "output_type": "error",
     "traceback": [
      "\u001b[1;36m  File \u001b[1;32m\"<ipython-input-1-df45923dc81c>\"\u001b[1;36m, line \u001b[1;32m1\u001b[0m\n\u001b[1;33m    En el peor de los casos es recorrer todos los nodos posibles\u001b[0m\n\u001b[1;37m        ^\u001b[0m\n\u001b[1;31mSyntaxError\u001b[0m\u001b[1;31m:\u001b[0m invalid syntax\n"
     ]
    }
   ],
   "source": [
    "En el peor de los casos es recorrer todos los nodos posibles\n",
    "\n",
    "La complejidad de este algoritmo de ramificación y poda es O(n!), ya que vamos desarrollando por todos los objetos \n",
    "que podemos ir ensamblando, y en eso influye la cantidad de cada uno de ellos. Aunque sea de un orden factorial su \n",
    "complejidad, a la practica una vez encontramos una solución parcial(es hoja y el valor es menor que el de la cota),\n",
    "podaremos con al condicion decla cota optimista.La última solución parcial, será la solución FINAL.\n",
    "\n",
    "Mejor caso M"
   ]
  },
  {
   "cell_type": "markdown",
   "metadata": {},
   "source": [
    "<div class=\"alert alert-info\">\n",
    "<center>\n",
    "  <h1>Entrega</h1>\n",
    "</center>\n",
    "\n",
    "<p>\n",
    "La entrega tiene que consistir en un solo fichero **.ipynb** con el nombre: *Apellido1_Apellido2*_*Nombre*_ASS3.ipyn\n",
    "</p>\n",
    "</div>"
   ]
  }
 ],
 "metadata": {
  "kernelspec": {
   "display_name": "Python 3",
   "language": "python",
   "name": "python3"
  },
  "language_info": {
   "codemirror_mode": {
    "name": "ipython",
    "version": 3
   },
   "file_extension": ".py",
   "mimetype": "text/x-python",
   "name": "python",
   "nbconvert_exporter": "python",
   "pygments_lexer": "ipython3",
   "version": "3.6.2"
  }
 },
 "nbformat": 4,
 "nbformat_minor": 1
}
