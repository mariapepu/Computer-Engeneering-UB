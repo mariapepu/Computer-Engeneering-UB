{
 "cells": [
  {
   "cell_type": "markdown",
   "metadata": {},
   "source": [
    "<div style=\"padding:30px; color: white; background-color: #0071CD\">\n",
    "<center>\n",
    "<img src=\"img/logoub.jpeg\">\n",
    "<center>\n",
    "<p>\n",
    "<h1>Algorísmica Avançada</h1>\n",
    "<h2>Problemas 1.A - Graphs </h2>\n",
    "</center>\n",
    "</p>\n",
    "</div>"
   ]
  },
  {
   "cell_type": "markdown",
   "metadata": {},
   "source": [
    "## Atributos\n",
    "\n",
    "Un grafo está formado por dos elementos principales, vértices (Nodes) y aristas (Edges). \n",
    "\n",
    "Los elementos atómicos de un grafo son los vértices, representados gráficamente con puntos. En el siguiente ejemplo podemos observar como creamos un grafo con tres nodos con la función: `add_nodes_from`"
   ]
  },
  {
   "cell_type": "code",
   "execution_count": 3,
   "metadata": {},
   "outputs": [
    {
     "name": "stderr",
     "output_type": "stream",
     "text": [
      "C:\\ProgramData\\Anaconda3\\lib\\site-packages\\networkx\\drawing\\nx_pylab.py:126: MatplotlibDeprecationWarning: pyplot.hold is deprecated.\n",
      "    Future behavior will be consistent with the long-time default:\n",
      "    plot commands add elements without first clearing the\n",
      "    Axes and/or Figure.\n",
      "  b = plt.ishold()\n",
      "C:\\ProgramData\\Anaconda3\\lib\\site-packages\\networkx\\drawing\\nx_pylab.py:138: MatplotlibDeprecationWarning: pyplot.hold is deprecated.\n",
      "    Future behavior will be consistent with the long-time default:\n",
      "    plot commands add elements without first clearing the\n",
      "    Axes and/or Figure.\n",
      "  plt.hold(b)\n",
      "C:\\ProgramData\\Anaconda3\\lib\\site-packages\\matplotlib\\__init__.py:917: UserWarning: axes.hold is deprecated. Please remove it from your matplotlibrc and/or style files.\n",
      "  warnings.warn(self.msg_depr_set % key)\n",
      "C:\\ProgramData\\Anaconda3\\lib\\site-packages\\matplotlib\\rcsetup.py:152: UserWarning: axes.hold is deprecated, will be removed in 3.0\n",
      "  warnings.warn(\"axes.hold is deprecated, will be removed in 3.0\")\n"
     ]
    },
    {
     "data": {
      "image/png": "[encoded data removed]",
      "text/plain": [
       "<matplotlib.figure.Figure at 0x13fd864c978>"
      ]
     },
     "metadata": {},
     "output_type": "display_data"
    }
   ],
   "source": [
    "%matplotlib inline\n",
    "import networkx as nx\n",
    "G = nx.Graph()\n",
    "G.add_nodes_from((1,2,3))\n",
    "nx.draw_circular(G, with_labels=True)"
   ]
  },
  {
   "cell_type": "markdown",
   "metadata": {},
   "source": [
    "El otro atributo principal de un __grafo__ son las aristas (edges), estas son las conexiones entre todos nuestros nodos. En el siguiente ejemplo de código podemos ver como añadimos los vértices que van de 1 a 2 y de 1 a 3.  "
   ]
  },
  {
   "cell_type": "code",
   "execution_count": 4,
   "metadata": {},
   "outputs": [
    {
     "name": "stderr",
     "output_type": "stream",
     "text": [
      "C:\\ProgramData\\Anaconda3\\lib\\site-packages\\networkx\\drawing\\nx_pylab.py:126: MatplotlibDeprecationWarning: pyplot.hold is deprecated.\n",
      "    Future behavior will be consistent with the long-time default:\n",
      "    plot commands add elements without first clearing the\n",
      "    Axes and/or Figure.\n",
      "  b = plt.ishold()\n",
      "C:\\ProgramData\\Anaconda3\\lib\\site-packages\\networkx\\drawing\\nx_pylab.py:138: MatplotlibDeprecationWarning: pyplot.hold is deprecated.\n",
      "    Future behavior will be consistent with the long-time default:\n",
      "    plot commands add elements without first clearing the\n",
      "    Axes and/or Figure.\n",
      "  plt.hold(b)\n",
      "C:\\ProgramData\\Anaconda3\\lib\\site-packages\\matplotlib\\__init__.py:917: UserWarning: axes.hold is deprecated. Please remove it from your matplotlibrc and/or style files.\n",
      "  warnings.warn(self.msg_depr_set % key)\n",
      "C:\\ProgramData\\Anaconda3\\lib\\site-packages\\matplotlib\\rcsetup.py:152: UserWarning: axes.hold is deprecated, will be removed in 3.0\n",
      "  warnings.warn(\"axes.hold is deprecated, will be removed in 3.0\")\n"
     ]
    },
    {
     "data": {
      "image/png": "[encoded data removed]",
      "text/plain": [
       "<matplotlib.figure.Figure at 0x13fd864c898>"
      ]
     },
     "metadata": {},
     "output_type": "display_data"
    }
   ],
   "source": [
    "G.add_edges_from(((1,2), (1,3)))\n",
    "nx.draw_circular(G, with_labels=True)"
   ]
  },
  {
   "cell_type": "markdown",
   "metadata": {},
   "source": [
    "## Tipos de grafos\n",
    "\n",
    "Hay diferentes tipos de grafos en función de sus características, en esta introducción destacaremos tres tipos:\n",
    "\n",
    "- Grafos dirigidos\n",
    "- Grafos inconexos\n",
    "- Grafos regulares"
   ]
  },
  {
   "cell_type": "code",
   "execution_count": 5,
   "metadata": {},
   "outputs": [
    {
     "name": "stderr",
     "output_type": "stream",
     "text": [
      "C:\\ProgramData\\Anaconda3\\lib\\site-packages\\networkx\\drawing\\nx_pylab.py:126: MatplotlibDeprecationWarning: pyplot.hold is deprecated.\n",
      "    Future behavior will be consistent with the long-time default:\n",
      "    plot commands add elements without first clearing the\n",
      "    Axes and/or Figure.\n",
      "  b = plt.ishold()\n",
      "C:\\ProgramData\\Anaconda3\\lib\\site-packages\\networkx\\drawing\\nx_pylab.py:138: MatplotlibDeprecationWarning: pyplot.hold is deprecated.\n",
      "    Future behavior will be consistent with the long-time default:\n",
      "    plot commands add elements without first clearing the\n",
      "    Axes and/or Figure.\n",
      "  plt.hold(b)\n",
      "C:\\ProgramData\\Anaconda3\\lib\\site-packages\\matplotlib\\__init__.py:917: UserWarning: axes.hold is deprecated. Please remove it from your matplotlibrc and/or style files.\n",
      "  warnings.warn(self.msg_depr_set % key)\n",
      "C:\\ProgramData\\Anaconda3\\lib\\site-packages\\matplotlib\\rcsetup.py:152: UserWarning: axes.hold is deprecated, will be removed in 3.0\n",
      "  warnings.warn(\"axes.hold is deprecated, will be removed in 3.0\")\n"
     ]
    },
    {
     "data": {
      "image/png": "[encoded data removed]",
      "text/plain": [
       "<matplotlib.figure.Figure at 0x13fd9753d68>"
      ]
     },
     "metadata": {},
     "output_type": "display_data"
    }
   ],
   "source": [
    "# Grafo dirigido:\n",
    "# - Las aristas tienen dirección\n",
    "DG = nx.DiGraph()\n",
    "DG.add_edges_from(((1,3), (3,4), (2,3)))\n",
    "nx.draw_circular(DG, with_labels=True)"
   ]
  },
  {
   "cell_type": "code",
   "execution_count": 6,
   "metadata": {},
   "outputs": [
    {
     "name": "stderr",
     "output_type": "stream",
     "text": [
      "C:\\ProgramData\\Anaconda3\\lib\\site-packages\\networkx\\drawing\\nx_pylab.py:126: MatplotlibDeprecationWarning: pyplot.hold is deprecated.\n",
      "    Future behavior will be consistent with the long-time default:\n",
      "    plot commands add elements without first clearing the\n",
      "    Axes and/or Figure.\n",
      "  b = plt.ishold()\n",
      "C:\\ProgramData\\Anaconda3\\lib\\site-packages\\networkx\\drawing\\nx_pylab.py:138: MatplotlibDeprecationWarning: pyplot.hold is deprecated.\n",
      "    Future behavior will be consistent with the long-time default:\n",
      "    plot commands add elements without first clearing the\n",
      "    Axes and/or Figure.\n",
      "  plt.hold(b)\n",
      "C:\\ProgramData\\Anaconda3\\lib\\site-packages\\matplotlib\\__init__.py:917: UserWarning: axes.hold is deprecated. Please remove it from your matplotlibrc and/or style files.\n",
      "  warnings.warn(self.msg_depr_set % key)\n",
      "C:\\ProgramData\\Anaconda3\\lib\\site-packages\\matplotlib\\rcsetup.py:152: UserWarning: axes.hold is deprecated, will be removed in 3.0\n",
      "  warnings.warn(\"axes.hold is deprecated, will be removed in 3.0\")\n"
     ]
    },
    {
     "data": {
      "image/png": "[encoded data removed]",
      "text/plain": [
       "<matplotlib.figure.Figure at 0x13fd97b3c88>"
      ]
     },
     "metadata": {},
     "output_type": "display_data"
    }
   ],
   "source": [
    "# Grafo inconexo\n",
    "# - Partiendo de un nodo cualquiera no se puede llegar a recorrer todo el grafo\n",
    "UG = nx.Graph()\n",
    "UG.add_edges_from(((1,2), (1,3), (5,6)))\n",
    "nx.draw_circular(UG, with_labels=True)"
   ]
  },
  {
   "cell_type": "code",
   "execution_count": 5,
   "metadata": {},
   "outputs": [
    {
     "name": "stderr",
     "output_type": "stream",
     "text": [
      "C:\\ProgramData\\Anaconda3\\lib\\site-packages\\networkx\\drawing\\nx_pylab.py:126: MatplotlibDeprecationWarning: pyplot.hold is deprecated.\n",
      "    Future behavior will be consistent with the long-time default:\n",
      "    plot commands add elements without first clearing the\n",
      "    Axes and/or Figure.\n",
      "  b = plt.ishold()\n",
      "C:\\ProgramData\\Anaconda3\\lib\\site-packages\\networkx\\drawing\\nx_pylab.py:138: MatplotlibDeprecationWarning: pyplot.hold is deprecated.\n",
      "    Future behavior will be consistent with the long-time default:\n",
      "    plot commands add elements without first clearing the\n",
      "    Axes and/or Figure.\n",
      "  plt.hold(b)\n",
      "C:\\ProgramData\\Anaconda3\\lib\\site-packages\\matplotlib\\__init__.py:917: UserWarning: axes.hold is deprecated. Please remove it from your matplotlibrc and/or style files.\n",
      "  warnings.warn(self.msg_depr_set % key)\n",
      "C:\\ProgramData\\Anaconda3\\lib\\site-packages\\matplotlib\\rcsetup.py:152: UserWarning: axes.hold is deprecated, will be removed in 3.0\n",
      "  warnings.warn(\"axes.hold is deprecated, will be removed in 3.0\")\n"
     ]
    },
    {
     "data": {
      "image/png": "[encoded data removed]",
      "text/plain": [
       "<matplotlib.figure.Figure at 0x19d09584940>"
      ]
     },
     "metadata": {},
     "output_type": "display_data"
    }
   ],
   "source": [
    "# Grafo regular\n",
    "# - Todos los nodos tienen el mismo grado\n",
    "UG = nx.Graph()\n",
    "UG.add_edges_from(((1,2), (1,4), (2,1), (2,3), (4,3)))\n",
    "nx.draw_circular(UG, with_labels=True)"
   ]
  },
  {
   "cell_type": "markdown",
   "metadata": {},
   "source": [
    "## Propiedades\n",
    "\n",
    "- __Orden__ de un grafo: El orden de un grafo es el número de vértices que contiene.\n",
    "- __Grado__ de un vértice: Número de aristas que salen del vértice"
   ]
  },
  {
   "cell_type": "markdown",
   "metadata": {},
   "source": [
    "<div class=\"alert alert-danger\">\n",
    "<h1>Ejercicio</h1>\n",
    "<p><strong>\n",
    "Con la información de la que disponemos, tenéis que crear un gráfo de orden 5 en el que el grado de todos y cada uno de los vértices sea 4.\n",
    "</strong></p>\n",
    "</div>"
   ]
  },
  {
   "cell_type": "code",
   "execution_count": 7,
   "metadata": {},
   "outputs": [
    {
     "name": "stderr",
     "output_type": "stream",
     "text": [
      "C:\\ProgramData\\Anaconda3\\lib\\site-packages\\networkx\\drawing\\nx_pylab.py:126: MatplotlibDeprecationWarning: pyplot.hold is deprecated.\n",
      "    Future behavior will be consistent with the long-time default:\n",
      "    plot commands add elements without first clearing the\n",
      "    Axes and/or Figure.\n",
      "  b = plt.ishold()\n",
      "C:\\ProgramData\\Anaconda3\\lib\\site-packages\\networkx\\drawing\\nx_pylab.py:138: MatplotlibDeprecationWarning: pyplot.hold is deprecated.\n",
      "    Future behavior will be consistent with the long-time default:\n",
      "    plot commands add elements without first clearing the\n",
      "    Axes and/or Figure.\n",
      "  plt.hold(b)\n",
      "C:\\ProgramData\\Anaconda3\\lib\\site-packages\\matplotlib\\__init__.py:917: UserWarning: axes.hold is deprecated. Please remove it from your matplotlibrc and/or style files.\n",
      "  warnings.warn(self.msg_depr_set % key)\n",
      "C:\\ProgramData\\Anaconda3\\lib\\site-packages\\matplotlib\\rcsetup.py:152: UserWarning: axes.hold is deprecated, will be removed in 3.0\n",
      "  warnings.warn(\"axes.hold is deprecated, will be removed in 3.0\")\n"
     ]
    },
    {
     "data": {
      "image/png": "[encoded data removed]",
      "text/plain": [
       "<matplotlib.figure.Figure at 0x13fd962c748>"
      ]
     },
     "metadata": {},
     "output_type": "display_data"
    }
   ],
   "source": [
    "# Ejercicio 1\n",
    "UG = nx.Graph()\n",
    "UG.add_edges_from(((1,2), (1,4), (2,1), (2,3), (4,3),(5,4),(5,1),(5,2),(5,3),(2,4),(3,1)))\n",
    "nx.draw_circular(UG, with_labels=True)"
   ]
  },
  {
   "cell_type": "markdown",
   "metadata": {},
   "source": [
    "En el ejercicio anterior hemos dibujado lo que se llama un __grafo completo__. Este tipo de grafos se caracterizan porque todos los vértices están enlazados entre ellos."
   ]
  },
  {
   "cell_type": "markdown",
   "metadata": {
    "collapsed": true
   },
   "source": [
    "<div class=\"alert alert-warning\">\n",
    "<h1>Pregunta</h1>\n",
    "<p><strong>\n",
    "En un gráfo completo de orden 4, cuántas aristas existen? Y en un gráfo completo de orden $n$?\n",
    "</strong></p>\n",
    "</div>"
   ]
  },
  {
   "cell_type": "markdown",
   "metadata": {},
   "source": []
  },
  {
   "cell_type": "markdown",
   "metadata": {},
   "source": [
    "# Algoritmos sobre grafos\n",
    "## Minimum Path"
   ]
  },
  {
   "cell_type": "markdown",
   "metadata": {},
   "source": [
    "\n",
    "<div class=\"alert alert-success\" style=\"width:90%; margin:0 auto;\">\n",
    "  <h2><p>0- Random Walk</p></h2>\n",
    "  \n",
    "  <p>\n",
    "  La implementación de un algoritmo de random walk es, en este caso, un poco ingenua, ya que la utilizaremos para encontrar un camino entre dos puntos (No hace falta que sea el óptimo). \n",
    "  </p>\n",
    "  <p>\n",
    "  Para el desarrollo de este algoritmo lo único que necesitamos es un nodo de entrada y un nodo de salida de la red. A cada iteración del algoritmo iremos visitando un nodo aleatorio de entre todos los posibles vecinos. El parámetro `repeat` determinará si un nodo que ya ha sido visitado puede volver a ser visitado de nuevo.\n",
    "  </p>\n"
   ]
  },
  {
   "cell_type": "markdown",
   "metadata": {},
   "source": [
    "<div class=\"alert alert-danger\" style=\"width:80%; margin:0 auto; padding\">\n",
    "<center><p><h3> Código </h3></p> </center> \n",
    "\n",
    "<p>\n",
    "<h3>INPUT</h3>\n",
    "<ul>\n",
    "<li>__G__: Este es el grafo que utilizaremos para buscar el camino. Debe de ser un objeto de tipo `Graph` como el que habéis implementado en la Práctica 0.2</li>\n",
    "<li>__origen__: Este parámetro corresponde al indice de un nodo. En este caso deberá ser un entero _(e.g. 231)_.</li>\n",
    "<li>__destino__: El indice del nodo al que queremos llegar.</li>\n",
    "<li>__repeat__: Los nodos se pueden visitar mas de una vez.</li>\n",
    "</ul>\n",
    "<br>\n",
    "<h3>OUTPUT</h3>\n",
    "El output de una funcion es un diccionario que contiene los siguientes valores\n",
    "<ul>\n",
    "<li>__ _'path'_ __: Una lista de índices correspondientes al camino encontrado del nodo inicial al nodo final __ambos nodos, inicio y final, han de estar incluidos en esta lista__.</li>\n",
    "<li>__ _'expanded'_ __: El numero de nodos que se han visitado para encontrar la solución.</li>\n",
    "<ul>\n",
    "\n",
    "</p>\n",
    "\n",
    "</div>"
   ]
  },
  {
   "cell_type": "code",
   "execution_count": 18,
   "metadata": {
    "collapsed": true
   },
   "outputs": [],
   "source": [
    "from random import choice\n",
    "import random\n",
    "def random_walk(G, origen, destino, repeat=False):\n",
    "    path = [] # Creamos una lista llamada path en la que guardaremos los nodos recorridos\n",
    "    expanded = 1 # Empezamos expanded 1 para que luego vaya augmentando conforme avancemos en el programa\n",
    "    node = origen # Hacemos que nodo sea igual a origen(en el inicio del programa)\n",
    "    \n",
    "    while node != destino: # Mientras que el nodo no sea el destino\n",
    "        expanded += 1 # Vamos sumando uno al número de nodos visitados para encontrar la solución\n",
    "        path.append(node) # Añadimos a la lista del camino los nodos que vamos visitando\n",
    "        neighbors = [n for n in G.neighbors(node) if n not in path ] \n",
    "        \n",
    "        if len(neighbors) == 0: # Si la longitud de los vecinos del nodo(origen) es 0 devuelve que no se ha encontrado camino\n",
    "            return \"No s'ha trobat cap camí\"\n",
    "        node= random.choice(neighbors) # Hacemos que seleccione de manera aleatoria el nodo siguiente a visitar\n",
    "        \n",
    "    path.append(destino) #Añade por último el nodo final al camino\n",
    "    return {\n",
    "        'path' : path,\n",
    "        'expanded' : expanded\n",
    "    }"
   ]
  },
  {
   "cell_type": "code",
   "execution_count": 19,
   "metadata": {},
   "outputs": [
    {
     "name": "stdout",
     "output_type": "stream",
     "text": [
      "No s'ha trobat cap camí\n",
      "No s'ha trobat cap camí\n",
      "No s'ha trobat cap camí\n",
      "No s'ha trobat cap camí\n",
      "No s'ha trobat cap camí\n",
      "No s'ha trobat cap camí\n",
      "No s'ha trobat cap camí\n",
      "No s'ha trobat cap camí\n",
      "No s'ha trobat cap camí\n",
      "No s'ha trobat cap camí\n",
      "No s'ha trobat cap camí\n",
      "No s'ha trobat cap camí\n",
      "{'path': [1, 3, 82, 5, 8, 22, 9, 95], 'expanded': 8}\n",
      "No s'ha trobat cap camí\n",
      "No s'ha trobat cap camí\n",
      "No s'ha trobat cap camí\n",
      "No s'ha trobat cap camí\n",
      "No s'ha trobat cap camí\n",
      "No s'ha trobat cap camí\n",
      "No s'ha trobat cap camí\n",
      "No s'ha trobat cap camí\n",
      "No s'ha trobat cap camí\n",
      "No s'ha trobat cap camí\n",
      "No s'ha trobat cap camí\n",
      "No s'ha trobat cap camí\n",
      "No s'ha trobat cap camí\n",
      "No s'ha trobat cap camí\n",
      "{'path': [1, 3, 47, 78, 19, 5, 42, 21, 37, 13, 9, 95], 'expanded': 12}\n",
      "No s'ha trobat cap camí\n",
      "No s'ha trobat cap camí\n",
      "No s'ha trobat cap camí\n",
      "No s'ha trobat cap camí\n",
      "No s'ha trobat cap camí\n",
      "No s'ha trobat cap camí\n",
      "No s'ha trobat cap camí\n",
      "{'path': [1, 89, 47, 11, 13, 9, 95], 'expanded': 7}\n",
      "No s'ha trobat cap camí\n",
      "No s'ha trobat cap camí\n",
      "No s'ha trobat cap camí\n",
      "No s'ha trobat cap camí\n",
      "No s'ha trobat cap camí\n",
      "No s'ha trobat cap camí\n",
      "No s'ha trobat cap camí\n",
      "No s'ha trobat cap camí\n",
      "No s'ha trobat cap camí\n",
      "No s'ha trobat cap camí\n",
      "No s'ha trobat cap camí\n",
      "No s'ha trobat cap camí\n",
      "No s'ha trobat cap camí\n",
      "No s'ha trobat cap camí\n",
      "No s'ha trobat cap camí\n",
      "No s'ha trobat cap camí\n",
      "No s'ha trobat cap camí\n",
      "No s'ha trobat cap camí\n",
      "{'path': [1, 61, 2, 43, 32, 76, 5, 95], 'expanded': 8}\n",
      "No s'ha trobat cap camí\n",
      "No s'ha trobat cap camí\n",
      "No s'ha trobat cap camí\n",
      "No s'ha trobat cap camí\n",
      "No s'ha trobat cap camí\n",
      "No s'ha trobat cap camí\n",
      "No s'ha trobat cap camí\n",
      "No s'ha trobat cap camí\n",
      "No s'ha trobat cap camí\n",
      "No s'ha trobat cap camí\n",
      "No s'ha trobat cap camí\n",
      "No s'ha trobat cap camí\n",
      "No s'ha trobat cap camí\n",
      "No s'ha trobat cap camí\n",
      "No s'ha trobat cap camí\n",
      "{'path': [1, 67, 5, 95], 'expanded': 4}\n",
      "No s'ha trobat cap camí\n",
      "No s'ha trobat cap camí\n",
      "No s'ha trobat cap camí\n",
      "No s'ha trobat cap camí\n",
      "No s'ha trobat cap camí\n",
      "No s'ha trobat cap camí\n",
      "{'path': [1, 89, 47, 78, 19, 28, 0, 44, 10, 9, 95], 'expanded': 11}\n",
      "No s'ha trobat cap camí\n",
      "No s'ha trobat cap camí\n",
      "No s'ha trobat cap camí\n",
      "No s'ha trobat cap camí\n",
      "No s'ha trobat cap camí\n",
      "No s'ha trobat cap camí\n",
      "No s'ha trobat cap camí\n",
      "No s'ha trobat cap camí\n",
      "{'path': [1, 17, 5, 95], 'expanded': 4}\n",
      "No s'ha trobat cap camí\n",
      "No s'ha trobat cap camí\n",
      "No s'ha trobat cap camí\n",
      "No s'ha trobat cap camí\n",
      "No s'ha trobat cap camí\n",
      "No s'ha trobat cap camí\n",
      "No s'ha trobat cap camí\n",
      "No s'ha trobat cap camí\n",
      "No s'ha trobat cap camí\n",
      "No s'ha trobat cap camí\n",
      "No s'ha trobat cap camí\n",
      "No s'ha trobat cap camí\n",
      "No s'ha trobat cap camí\n"
     ]
    }
   ],
   "source": [
    "import networkx as nx\n",
    "\n",
    "G = nx.generators.barabasi_albert_graph(100, 2)\n",
    "for i in range(100):\n",
    "    print(random_walk(G, 1, 95))"
   ]
  },
  {
   "cell_type": "markdown",
   "metadata": {},
   "source": [
    "<div class=\"alert alert-warning\">\n",
    "<h1>Pregunta</h1>\n",
    "<p><strong>\n",
    "Es posible encontrar siempre un camino?\n",
    "</strong></p>\n",
    "</div>"
   ]
  },
  {
   "cell_type": "markdown",
   "metadata": {},
   "source": [
    "En principio sí"
   ]
  },
  {
   "cell_type": "markdown",
   "metadata": {},
   "source": [
    "<div class=\"alert alert-warning\">\n",
    "<h1>Extra</h1>\n",
    "<p><strong>\n",
    "Modifica el algoritmo para ir dejando breadcrumbs en los nodos visitados, es decir, incrementa en uno el contador de veces visitado cada vez que se visita el nodo y visualiza el grafo resultante.\n",
    "</strong></p>\n",
    "</div>"
   ]
  },
  {
   "cell_type": "markdown",
   "metadata": {},
   "source": []
  },
  {
   "cell_type": "markdown",
   "metadata": {},
   "source": [
    "\n",
    "<div class=\"alert alert-success\" style=\"width:90%; margin:0 auto;\">\n",
    "  <h2><p>1- Breadth First Search</p></h2>\n",
    "  \n",
    "  <p>\n",
    "  En este primer apartado se propone la implementación del algoritmo _Breadth First Search_. Mediante este algoritmo pretendemos encontrar el camíno mínimo entre dos puntos del grafo.\n",
    "  </p>\n",
    "  <p>\n",
    "  Se pide una implementación iterativa del algoritmo, en la que mediante una queue realizemos una exploración expansiva. Es importante controlar que se trata de un grafo genérico, y no de un arbol, por lo que un mismo nodo nos lo podemos encontrar en varios niveles, controlad que cada nodo se visite una sola vez.\n",
    "  </p>\n",
    "  \n",
    "  <p>\n",
    "  <a href=\"https://en.wikipedia.org/wiki/Breadth-first_search\">Aquí</a> podeis encontrar mas detalles sobre la implementación y características de este algoritmo.\n",
    "  </p>\n"
   ]
  },
  {
   "cell_type": "markdown",
   "metadata": {},
   "source": [
    "<div class=\"alert alert-danger\" style=\"width:80%; margin:0 auto; padding\">\n",
    "<center><p><h3> Código </h3></p> </center> \n",
    "\n",
    "<p>\n",
    "<h3>INPUT</h3>\n",
    "<ul>\n",
    "<li>__G__: Este es el grafo que utilizaremos para buscar el camino. Debe de ser un objeto de tipo `Graph` como el que habéis implementado en la Práctica 0.2</li>\n",
    "<li>__origen__: Este parámetro corresponde al indice de un nodo. En este caso deberá ser un entero _(e.g. 231)_.</li>\n",
    "<li>__destino__: El indice del nodo al que queremos llegar.</li>\n",
    "</ul>\n",
    "<br>\n",
    "<h3>OUTPUT</h3>\n",
    "El output de una funcion es un diccionario que contiene los siguientes valores\n",
    "<ul>\n",
    "<li>__ _'path'_ __: Una lista de índices correspondientes al camino encontrado del nodo inicial al nodo final __ambos nodos, inicio y final, han de estar incluidos en esta lista__.</li>\n",
    "<li>__ _'expanded'_ __: El numero de nodos que se han visitado para encontrar la solución.</li>\n",
    "<ul>\n",
    "\n",
    "</p>\n",
    "\n",
    "</div>"
   ]
  },
  {
   "cell_type": "code",
   "execution_count": 22,
   "metadata": {
    "collapsed": true
   },
   "outputs": [],
   "source": [
    "def bfs(G, origen, destino):\n",
    "    \n",
    "    unvisited = [origen] # Creamos una lista unvisited para los nodos no visitados y como inicial ponemos origen\n",
    "    visited = [] # Creamos una lista para los nodos visitados  \n",
    "    expanded = 0 # Expanded lo inicializamos a 0 porque aún no ha hecho visitado\n",
    "    node = origen # Hacemos que nodo sea igual a origen(en el inicio del programa)\n",
    "    path = [] # Creamos una lista llamada path en la que guardaremos los nodos recorridos\n",
    "    \n",
    "    while len(unvisited) > 0: # Mientras que la longitud de la lista de no visitados sea 0\n",
    "        if node not in path: # Si el nodo no esta en la lista del camino\n",
    "            path.append(node) # Se va añadiendo a la lista los nodos que se van recorriendo\n",
    "        expanded += 1 # Vamos sumando uno al número de nodos visitados para encontrar la solución\n",
    "        node = unvisited.pop(0) # Elimina lo que hay al principio de la lista\n",
    "        visited.append(node) # Va añadiendo a la lista de visitados los nodos que va recorriendo\n",
    "            \n",
    "        for n in G.neighbors(node): \n",
    "            if n not in path: # Si el iterador no está en el camino\n",
    "                G.add_node(n,attr_dict = {'prev': node}) # El grafo va añadiendo el iterador y el diccionario de nodos\n",
    "                unvisited.append(n) # Va añadiendo el iterador a la lista de no visitados\n",
    "            \n",
    "    \n",
    "    return {\n",
    "        'path' : path,\n",
    "        'expanded' : expanded,\n",
    "    }"
   ]
  },
  {
   "cell_type": "code",
   "execution_count": 23,
   "metadata": {},
   "outputs": [
    {
     "name": "stderr",
     "output_type": "stream",
     "text": [
      "C:\\ProgramData\\Anaconda3\\lib\\site-packages\\networkx\\drawing\\nx_pylab.py:126: MatplotlibDeprecationWarning: pyplot.hold is deprecated.\n",
      "    Future behavior will be consistent with the long-time default:\n",
      "    plot commands add elements without first clearing the\n",
      "    Axes and/or Figure.\n",
      "  b = plt.ishold()\n",
      "C:\\ProgramData\\Anaconda3\\lib\\site-packages\\networkx\\drawing\\nx_pylab.py:138: MatplotlibDeprecationWarning: pyplot.hold is deprecated.\n",
      "    Future behavior will be consistent with the long-time default:\n",
      "    plot commands add elements without first clearing the\n",
      "    Axes and/or Figure.\n",
      "  plt.hold(b)\n",
      "C:\\ProgramData\\Anaconda3\\lib\\site-packages\\matplotlib\\__init__.py:917: UserWarning: axes.hold is deprecated. Please remove it from your matplotlibrc and/or style files.\n",
      "  warnings.warn(self.msg_depr_set % key)\n",
      "C:\\ProgramData\\Anaconda3\\lib\\site-packages\\matplotlib\\rcsetup.py:152: UserWarning: axes.hold is deprecated, will be removed in 3.0\n",
      "  warnings.warn(\"axes.hold is deprecated, will be removed in 3.0\")\n"
     ]
    },
    {
     "data": {
      "text/plain": [
       "{'expanded': 11, 'path': [1, 2, 3, 4, 5, 0, 6]}"
      ]
     },
     "execution_count": 23,
     "metadata": {},
     "output_type": "execute_result"
    }
   ],
   "source": [
    "G = nx.generators.barabasi_albert_graph(7, 2)\n",
    "nx.draw_circular(G, with_labels = True)\n",
    "bfs(G, 1, 5)"
   ]
  },
  {
   "cell_type": "code",
   "execution_count": null,
   "metadata": {
    "collapsed": true
   },
   "outputs": [],
   "source": []
  }
 ],
 "metadata": {
  "kernelspec": {
   "display_name": "Python 3",
   "language": "python",
   "name": "python3"
  },
  "language_info": {
   "codemirror_mode": {
    "name": "ipython",
    "version": 3
   },
   "file_extension": ".py",
   "mimetype": "text/x-python",
   "name": "python",
   "nbconvert_exporter": "python",
   "pygments_lexer": "ipython3",
   "version": "3.6.2"
  }
 },
 "nbformat": 4,
 "nbformat_minor": 2
}
