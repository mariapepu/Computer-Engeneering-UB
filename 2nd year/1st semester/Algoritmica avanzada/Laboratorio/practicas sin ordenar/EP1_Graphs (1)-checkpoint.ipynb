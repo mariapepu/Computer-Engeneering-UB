{
 "cells": [
  {
   "cell_type": "markdown",
   "metadata": {},
   "source": [
    "<div style=\"padding:30px; color: white; background-color: #0071CD\">\n",
    "<center>\n",
    "<img src=\"img/logoub.jpeg\"></img>\n",
    "<center>\n",
    "<p>\n",
    "<h1>Algorísmica Avançada</h1>\n",
    "<h2>Examen de prácticas 1</h2>\n",
    "</center>\n",
    "</p>\n",
    "</div>"
   ]
  },
  {
   "cell_type": "markdown",
   "metadata": {},
   "source": [
    "<div class=\"alert alert-success\" style=\"width:90%; margin:0 auto;\">\n",
    "  <h2><p>Búsqueda de componentes conexos</p></h2>\n",
    "  <p>\n",
    "  Se dice que un grafo $G$ es inconexo si está formado por dos o más subconjuntos disjuntos de nodos (no hay aristas que conecten nodos de un subconjunto con nodos de otro subconjunto), la figura siguiente muestra un grafo inconexo en el que se pueden observar claramente dos subgrafos:\n",
    "  <img src=\"img/inconex.png\" width=\"500px\">\n",
    "  </p>\n",
    "  <p>\n",
    "  El examen contiene dos ejercicios en el que se os propone implementar __un algoritmo basado en la búsqueda en amplitud (BFS)__ y __un algoritmo basado en la búsqueda en profundidad (DFS)__ que séan capaces, dado cualquier grafo $G$, de identificar todos los componentes conexos de dicho grafo.\n",
    "  </p>\n",
    "  </div>\n"
   ]
  },
  {
   "cell_type": "markdown",
   "metadata": {},
   "source": [
    "<div class=\"alert alert-danger\" style=\"width:80%; margin:0 auto; padding\">\n",
    "<center><p><h3> Código </h3></p> </center>\n",
    "<p>\n",
    "<h3>INPUT</h3>\n",
    "<ul>\n",
    "<li>__G__: Un grafo de tipo `Graph`.</li>\n",
    "<li>_opt_: Se pueden añadir en los headers de las funciones tantos parametros opcionales como se necesiten.</li>\n",
    "</ul>\n",
    "<br>\n",
    "<h3>OUTPUT</h3>\n",
    "El output de una funcion es un diccionario que contiene los siguientes valores\n",
    "<ul>\n",
    "<li>__ _'subgraphs'_ __: Una lista en la que cada elemento sea otra lista que contenga los nodos de cada uno de los subgrafos.</li>\n",
    "<li>__ _'expanded'_ __: El numero de nodos que se han visitado para encontrar la solución.</li>\n",
    "<ul>\n",
    "\n",
    "</p>\n",
    "</div>\n"
   ]
  },
  {
   "cell_type": "code",
   "execution_count": 3,
   "metadata": {},
   "outputs": [
    {
     "name": "stderr",
     "output_type": "stream",
     "text": [
      "C:\\ProgramData\\Anaconda3\\lib\\site-packages\\networkx\\drawing\\nx_pylab.py:126: MatplotlibDeprecationWarning: pyplot.hold is deprecated.\n",
      "    Future behavior will be consistent with the long-time default:\n",
      "    plot commands add elements without first clearing the\n",
      "    Axes and/or Figure.\n",
      "  b = plt.ishold()\n",
      "C:\\ProgramData\\Anaconda3\\lib\\site-packages\\networkx\\drawing\\nx_pylab.py:138: MatplotlibDeprecationWarning: pyplot.hold is deprecated.\n",
      "    Future behavior will be consistent with the long-time default:\n",
      "    plot commands add elements without first clearing the\n",
      "    Axes and/or Figure.\n",
      "  plt.hold(b)\n",
      "C:\\ProgramData\\Anaconda3\\lib\\site-packages\\matplotlib\\__init__.py:917: UserWarning: axes.hold is deprecated. Please remove it from your matplotlibrc and/or style files.\n",
      "  warnings.warn(self.msg_depr_set % key)\n",
      "C:\\ProgramData\\Anaconda3\\lib\\site-packages\\matplotlib\\rcsetup.py:152: UserWarning: axes.hold is deprecated, will be removed in 3.0\n",
      "  warnings.warn(\"axes.hold is deprecated, will be removed in 3.0\")\n"
     ]
    },
    {
     "data": {
      "image/png": "[encoded data removed]",
      "text/plain": [
       "<matplotlib.figure.Figure at 0x1bbd8c53278>"
      ]
     },
     "metadata": {},
     "output_type": "display_data"
    }
   ],
   "source": [
    "%matplotlib inline\n",
    "import networkx as nx\n",
    "\n",
    "GH = nx.Graph()\n",
    "GH.add_nodes_from(('E','S','A','D','C','B','K','M','L'))\n",
    "\n",
    "GH.add_edges_from((('E','S'), ('S','A'), ('E','D'), ('D','S'), ('S','C'), ('C','B'), ('B','A'), ('K','M'), ('M','L'), ('L','K')))\n",
    "nx.draw_circular(GH, with_labels=True)"
   ]
  },
  {
   "cell_type": "code",
   "execution_count": 8,
   "metadata": {
    "collapsed": true
   },
   "outputs": [],
   "source": [
    "# EJERCICIO 1\n",
    "import math\n",
    "\n",
    "def subgraph_search_BFS(G,origen):\n",
    "    \"\"\"Este metodo encuentra todos los componentes conexos de un grafo utilizando\n",
    "    BFS como algoritmo base. El algoritmo se ejecuta de forma iterativa y devuelve\n",
    "    un diccionario con los elementos `subgraph` y `expanded`.\n",
    "    \n",
    "    Args:\n",
    "        G (Graph): El grafo de tipo Graph sobre el que queremos buscar los componentes conexos\n",
    "    Returns:\n",
    "        dict: Diccionario que contiene los componentes conexos y el numero de nodos expandidos:\n",
    "    Examples:\n",
    "        >>> G = Graph()\n",
    "        >>> G.add_edges_from(((1,2), (1,3), (2,3), (3,6), (4,5), (10,11), (11,12)))\n",
    "        # {'communities': [[1, 2, 3, 6], [4, 5], [10, 11, 12]], 'expanded': 9}\n",
    "    \"\"\"\n",
    "    subgraphs = []\n",
    "    expanded = 0\n",
    "    dicc={}\n",
    "    Q=[]\n",
    "    H=[]\n",
    "    \n",
    "    for u in G.nodes():\n",
    "        dicc[u]=math.inf\n",
    "        H.append(u)\n",
    "    \n",
    "        \n",
    "    dicc[origen]=0\n",
    "    Q.append(origen)\n",
    "    \n",
    "    subgraphs.append(origen)\n",
    "    H.remove(origen)\n",
    "\n",
    "    for x in H:  \n",
    "\n",
    "        while len(Q)!=0 and len(H)!=0:          \n",
    "                \n",
    "            u=Q[0]\n",
    "            Q.remove(u)\n",
    "            print(Q)\n",
    "            \n",
    "            \n",
    "            if len(Q)==0:\n",
    "                e=H[0]                \n",
    "                if dicc[e]==math.inf:\n",
    "                    Q.append(e)\n",
    "                H.remove(e)\n",
    "                \n",
    "            for v in G.neighbors(u):\n",
    "                if dicc[v]==math.inf:\n",
    "                    Q.append(v)\n",
    "                    H.remove(v)\n",
    "                    dicc[v]=dicc[u]+1\n",
    "                    subgraphs.append(v)\n",
    "            \n",
    "    \n",
    "    expanded=len(subgraphs)\n",
    "    return {\n",
    "        'subraphs' : subgraphs,\n",
    "        'expanded' : expanded\n",
    "    }"
   ]
  },
  {
   "cell_type": "code",
   "execution_count": 9,
   "metadata": {},
   "outputs": [
    {
     "name": "stdout",
     "output_type": "stream",
     "text": [
      "[]\n"
     ]
    },
    {
     "ename": "ValueError",
     "evalue": "list.remove(x): x not in list",
     "output_type": "error",
     "traceback": [
      "\u001b[1;31m---------------------------------------------------------------------------\u001b[0m",
      "\u001b[1;31mValueError\u001b[0m                                Traceback (most recent call last)",
      "\u001b[1;32m<ipython-input-9-35cc483977ef>\u001b[0m in \u001b[0;36m<module>\u001b[1;34m()\u001b[0m\n\u001b[1;32m----> 1\u001b[1;33m \u001b[0msubgraph_search_BFS\u001b[0m\u001b[1;33m(\u001b[0m\u001b[0mGH\u001b[0m\u001b[1;33m,\u001b[0m\u001b[1;34m'S'\u001b[0m\u001b[1;33m)\u001b[0m\u001b[1;33m\u001b[0m\u001b[0m\n\u001b[0m",
      "\u001b[1;32m<ipython-input-8-93c26c584180>\u001b[0m in \u001b[0;36msubgraph_search_BFS\u001b[1;34m(G, origen)\u001b[0m\n\u001b[0;32m     51\u001b[0m                 \u001b[1;32mif\u001b[0m \u001b[0mdicc\u001b[0m\u001b[1;33m[\u001b[0m\u001b[0mv\u001b[0m\u001b[1;33m]\u001b[0m\u001b[1;33m==\u001b[0m\u001b[0mmath\u001b[0m\u001b[1;33m.\u001b[0m\u001b[0minf\u001b[0m\u001b[1;33m:\u001b[0m\u001b[1;33m\u001b[0m\u001b[0m\n\u001b[0;32m     52\u001b[0m                     \u001b[0mQ\u001b[0m\u001b[1;33m.\u001b[0m\u001b[0mappend\u001b[0m\u001b[1;33m(\u001b[0m\u001b[0mv\u001b[0m\u001b[1;33m)\u001b[0m\u001b[1;33m\u001b[0m\u001b[0m\n\u001b[1;32m---> 53\u001b[1;33m                     \u001b[0mH\u001b[0m\u001b[1;33m.\u001b[0m\u001b[0mremove\u001b[0m\u001b[1;33m(\u001b[0m\u001b[0mv\u001b[0m\u001b[1;33m)\u001b[0m\u001b[1;33m\u001b[0m\u001b[0m\n\u001b[0m\u001b[0;32m     54\u001b[0m                     \u001b[0mdicc\u001b[0m\u001b[1;33m[\u001b[0m\u001b[0mv\u001b[0m\u001b[1;33m]\u001b[0m\u001b[1;33m=\u001b[0m\u001b[0mdicc\u001b[0m\u001b[1;33m[\u001b[0m\u001b[0mu\u001b[0m\u001b[1;33m]\u001b[0m\u001b[1;33m+\u001b[0m\u001b[1;36m1\u001b[0m\u001b[1;33m\u001b[0m\u001b[0m\n\u001b[0;32m     55\u001b[0m                     \u001b[0msubgraphs\u001b[0m\u001b[1;33m.\u001b[0m\u001b[0mappend\u001b[0m\u001b[1;33m(\u001b[0m\u001b[0mv\u001b[0m\u001b[1;33m)\u001b[0m\u001b[1;33m\u001b[0m\u001b[0m\n",
      "\u001b[1;31mValueError\u001b[0m: list.remove(x): x not in list"
     ]
    }
   ],
   "source": [
    "subgraph_search_BFS(GH,'S')"
   ]
  },
  {
   "cell_type": "code",
   "execution_count": 6,
   "metadata": {
    "collapsed": true
   },
   "outputs": [],
   "source": [
    "# EJERCICIO 2\n",
    "\n",
    "def subgraph_search_DFS(G):\n",
    "    \"\"\"Este metodo encuentra todos los componentes conexos de un grafo utilizando\n",
    "    DFS como algoritmo base. El algoritmo se ejecuta de forma recursiva y devuelve\n",
    "    un diccionario con los elementos `subgraph` y `expanded`.\n",
    "    \n",
    "    Args:\n",
    "        G (Graph): El grafo de tipo Graph sobre el que queremos buscar los componentes conexos\n",
    "    Returns:\n",
    "        dict: Diccionario que contiene los componentes conexos y el numero de nodos expandidos:\n",
    "    Examples:\n",
    "        >>> G = Graph()\n",
    "        >>> G.add_edges_from(((1,2), (1,3), (2,3), (3,6), (4,5), (10,11), (11,12)))\n",
    "        # {'communities': [[1, 3, 6, 2], [4, 5], [10, 11, 12]], 'expanded': 9}\n",
    "    \"\"\"\n",
    "    subgraphs = []\n",
    "    dicc={}\n",
    "    path=[]\n",
    "    expanded=0\n",
    "    \n",
    "    for v in G.nodes():\n",
    "        dicc[v]=False\n",
    "        \n",
    "    for v in G.nodes():\n",
    "        if dicc[v]==False:\n",
    "            explore(v,dicc,G,path)\n",
    "            expanded= expanded + len(path)\n",
    "            subgraphs.append(path)\n",
    "            path=[]\n",
    "            \n",
    "    \n",
    "    return {\n",
    "        'subraphs' : subgraphs,\n",
    "        'expanded' : expanded\n",
    "    }\n",
    "\n",
    "def explore(element,dicc,G,path):\n",
    "    dicc[element]=True\n",
    "    path.append(element)\n",
    "    for u in G.neighbors(element):\n",
    "        if dicc[u]==False:\n",
    "            explore(u,dicc,G,path)"
   ]
  },
  {
   "cell_type": "code",
   "execution_count": 7,
   "metadata": {},
   "outputs": [
    {
     "data": {
      "text/plain": [
       "{'expanded': 9, 'subraphs': [['E', 'S', 'A', 'B', 'C', 'D'], ['K', 'M', 'L']]}"
      ]
     },
     "execution_count": 7,
     "metadata": {},
     "output_type": "execute_result"
    }
   ],
   "source": [
    "subgraph_search_DFS(GH)"
   ]
  },
  {
   "cell_type": "markdown",
   "metadata": {},
   "source": [
    "<div class=\"alert alert-info\">\n",
    "<center>\n",
    "  <h1>Comentarios</h1>\n",
    "  <p>\n",
    "  En esta sección tenéis que comentar brevemente (1) __cómo habéis realizado la implementación de los algoritmos__ así como un (2) __análisis detallado de la complejidad__ de los mismos.\n",
    "  </p>\n",
    "</center>\n",
    "</div>"
   ]
  },
  {
   "cell_type": "markdown",
   "metadata": {},
   "source": [
    "## 1 BFS\n",
    "_ Tus comentarios aquí _\n",
    "\n",
    "## 2 DFS\n",
    "\n",
    "_ Tus comentarios aquí _"
   ]
  },
  {
   "cell_type": "markdown",
   "metadata": {},
   "source": [
    "<div class=\"alert alert-info\">\n",
    "<center>\n",
    "  <h1>Entrega</h1>\n",
    "  <p>\n",
    "  La entrega de esta práctica se realizará a través del __Campus Virtual__. En ella tenéis que incluir únicamente el fichero `.ipynb` sin comprimir con el código debidamente comentado y los comentarios que se os proponen en la anterior sección.\n",
    "  </p>\n",
    "  <p>\n",
    "  El nombre del archivo ha de seguir el formato:\n",
    "  </p><p style=\"text-align:center\">\n",
    "  ```\n",
    "  <apellidos>_<nombre>_EP1.ipynb\n",
    "  ```\n",
    "  </p>\n",
    "</center>\n",
    "</div>"
   ]
  }
 ],
 "metadata": {
  "kernelspec": {
   "display_name": "Python 3",
   "language": "python",
   "name": "python3"
  },
  "language_info": {
   "codemirror_mode": {
    "name": "ipython",
    "version": 3
   },
   "file_extension": ".py",
   "mimetype": "text/x-python",
   "name": "python",
   "nbconvert_exporter": "python",
   "pygments_lexer": "ipython3",
   "version": "3.6.2"
  }
 },
 "nbformat": 4,
 "nbformat_minor": 2
}
