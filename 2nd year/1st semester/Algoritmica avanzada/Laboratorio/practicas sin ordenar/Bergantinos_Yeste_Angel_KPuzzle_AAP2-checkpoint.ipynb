{
 "cells": [
  {
   "cell_type": "markdown",
   "metadata": {},
   "source": [
    "<div style=\"padding:30px; color: white; background-color: #0071CD\">\n",
    "<center>\n",
    "<p>\n",
    "<h1>Algorítimica Avançada</h1>\n",
    "<h2>Exámen práctico II - KPuzzle </h2>\n",
    "</center>\n",
    "</p>\n",
    "</div>"
   ]
  },
  {
   "cell_type": "markdown",
   "metadata": {},
   "source": [
    "<div class=\"alert alert-danger\">\n",
    "<center>\n",
    "  <h1>ATENCIÓN!</h1>\n",
    "  \n",
    "  Para realizar la entrega, hay que subir únicamente este fichero renombrado como: __*apellidos*_*nombre*_KPuzzle_AAP2.ipynb__\n",
    "</center>"
   ]
  },
  {
   "cell_type": "markdown",
   "metadata": {},
   "source": [
    "<div class=\"alert alert-info\">\n",
    "<center>\n",
    "  <h1>Introducción</h1>\n",
    "</center>"
   ]
  },
  {
   "cell_type": "markdown",
   "metadata": {},
   "source": [
    "El 8-Puzzle es un conocido puzzle deslizante que consiste en una cuadrícula de elementos numerados donde uno de los elementos no tiene ningún valor. El siguiente código muestra un ejemplo de un tablero resuelto, y un tablero por resolver: "
   ]
  },
  {
   "cell_type": "code",
   "execution_count": 1,
   "metadata": {
    "collapsed": false
   },
   "outputs": [
    {
     "name": "stdout",
     "output_type": "stream",
     "text": [
      "Ejemplo de tablero resuelto:\n",
      "+-----------+\n",
      "| 1 | 2 | 3 | \n",
      "+-----------+\n",
      "| 4 | 5 | 6 | \n",
      "+-----------+\n",
      "| 7 | 8 |   | \n",
      "+-----------+\n",
      "\n",
      "Ejemplo de tablero no resuelto:\n",
      "+-----------+\n",
      "| 1 | 2 | 3 | \n",
      "+-----------+\n",
      "| 4 | 5 | 6 | \n",
      "+-----------+\n",
      "| 7 |   | 8 | \n",
      "+-----------+\n"
     ]
    }
   ],
   "source": [
    "from npuzzle import NPuzzle\n",
    "np = NPuzzle()\n",
    "board = np.create_board()\n",
    "solved_board = np.create_board(solved=True)\n",
    "\n",
    "print \"Ejemplo de tablero resuelto:\"\n",
    "np.print_board(solved_board)\n",
    "print \"\\nEjemplo de tablero no resuelto:\"\n",
    "np.print_board(board)\n"
   ]
  },
  {
   "cell_type": "markdown",
   "metadata": {},
   "source": [
    "En este ejercicio queremos resolver de forma automática cualquier 8Puzzle propuesto utilizando __Branch & Bound__. Para simplificar la implementación se os da la clase __NPuzzle__ que os permite realizar las acciones más comunes sobre un tablero."
   ]
  },
  {
   "cell_type": "code",
   "execution_count": 2,
   "metadata": {
    "collapsed": false
   },
   "outputs": [
    {
     "name": "stdout",
     "output_type": "stream",
     "text": [
      "Imprimir tablero:\n",
      "+-----------+\n",
      "| 1 | 2 | 3 | \n",
      "+-----------+\n",
      "|   | 4 | 6 | \n",
      "+-----------+\n",
      "| 7 | 5 | 8 | \n",
      "+-----------+\n",
      "\n",
      "Movimientos posibles:\n",
      "['R', 'U', 'D']\n",
      "\n",
      "Tablero despues de realizar el movimiento R\n",
      "+-----------+\n",
      "| 1 | 2 | 3 | \n",
      "+-----------+\n",
      "| 4 |   | 6 | \n",
      "+-----------+\n",
      "| 7 | 5 | 8 | \n",
      "+-----------+\n",
      "\n",
      "La condición de final de juego es: False\n"
     ]
    }
   ],
   "source": [
    "# Crear la clase NPuzzle\n",
    "np = NPuzzle()\n",
    "\n",
    "# Crear un tablero nuevo:\n",
    "board = np.create_board()\n",
    "\n",
    "# Imprimir el tablero\n",
    "print \"Imprimir tablero:\"\n",
    "np.print_board(board)\n",
    "print \"\"\n",
    "\n",
    "# Mostrar los movimientos posibles en un estado, L=Left, R=Right, U=Up, D=Down\n",
    "am = np.allowed_moves(board)\n",
    "print \"Movimientos posibles:\"\n",
    "print am\n",
    "print \"\"\n",
    "\n",
    "# Mover una pieza\n",
    "new_board = np.move(board, am[0])\n",
    "print \"Tablero despues de realizar el movimiento\", am[0]\n",
    "np.print_board(new_board)\n",
    "print \"\"\n",
    "\n",
    "# Comprobar el estado (True si está solucionado, False si no lo está)\n",
    "print \"La condición de final de juego es:\", np.state(new_board)"
   ]
  },
  {
   "cell_type": "markdown",
   "metadata": {},
   "source": [
    "<div class=\"alert alert-info\">\n",
    "<center>\n",
    "  <h1>Código</h1>\n",
    "</center>"
   ]
  },
  {
   "cell_type": "markdown",
   "metadata": {},
   "source": [
    "\n",
    "<div class=\"alert alert-success\" style=\"width:90%; margin:0 auto;\">\n",
    "\n",
    "  <p>\n",
    "  Se os pide que programéis una función que sea capaz de resolver un 8-Puzzle dada cualquier posible configuración inicial (La función NPuzzle.create_board solo devuelve configuraciones que tengan solución)\n",
    "  </p>\n",
    "  <p>\n",
    "  La implementación del algoritmo ha de ser utilizando ramificación y poda. Para ramificar el arbol de estados utilizaremos como heurística la suma de la distáncia de Manhattan de todas las piezas a su posición objetivo. Esta función se os da implementada de la siguiente forma: **NPuzzle.manhattan_distance(board)**\n",
    "  </p>\n",
    "  <p>\n",
    "  El objetivo del código es encontrar la solución óptima, que en este caso es la que tiene un menor número de pasos. Por lo tanto, para la implementación de la poda, utilizaremos como valor de cota la profundidad.\n",
    " </p>\n",
    "  <p>"
   ]
  },
  {
   "cell_type": "markdown",
   "metadata": {},
   "source": [
    "<div class=\"alert alert-danger\" style=\"width:80%; margin:0 auto; padding\">\n",
    "<center><p><h3> Tips and Tricks </h3></p> </center>\n",
    "<p>\n",
    "<ul>\n",
    "<li>\n",
    "Hay que tener cuidado con los estados repetidos. Se os da la función **NPuzzle.get_state_id(board)** para poder obtener un string único dado un tablero.\n",
    "</li>\n",
    "<li>\n",
    "Para la ramificación, la clase NPuzzle incluye **NPuzzle.manhattan_distance(board)**.\n",
    "</li>\n",
    "\n",
    "\n",
    "</p>\n",
    "</div>\n"
   ]
  },
  {
   "cell_type": "code",
   "execution_count": 5,
   "metadata": {
    "collapsed": false
   },
   "outputs": [],
   "source": [
    "%reset -f\n",
    "from npuzzle import NPuzzle\n",
    "\n",
    "def solve(board):\n",
    "    '''\n",
    "    Función para la resolución de un KPuzzle.\n",
    "    \n",
    "    :param board: Tablero del KPuzzle que queremos resolver\n",
    "    :type board: numpy.array\n",
    "    :returns: diccionario que contiene 'n_moves', 'expanded_nodes' y 'final_board'.\n",
    "    :rtype: dict\n",
    "    '''\n",
    "    global puzzle\n",
    "    temp=[(board,0)]\n",
    "    n_moves=0\n",
    "    expanded_nodes=[]\n",
    "    last=puzzle.get_state_id(board)\n",
    "    \n",
    "    #Buscamos una cota inferior, haciendo un DFS sobre los datos\n",
    "    #Esa cota la utilizaremos posteriormente para podar\n",
    "    while temp:\n",
    "        b,n_moves=temp.pop()\n",
    "        \n",
    "        if puzzle.state(b):\n",
    "            final_board=b\n",
    "            break\n",
    "        else:\n",
    "            if puzzle.get_state_id(b) not in expanded_nodes:\n",
    "                expanded_nodes.append(puzzle.get_state_id(b))\n",
    "\n",
    "                mov=([(puzzle.manhattan_distance(puzzle.move(b, i)),i) for i in puzzle.allowed_moves(b)])\n",
    "                mov.sort(reverse=True) #Ordenamos de menor distancia a mayor\n",
    "\n",
    "                for i in mov:\n",
    "                    temp.append((puzzle.move(b,i[1]),n_moves+1))\n",
    "    \n",
    "    min_moves=n_moves\n",
    "    temp=bound(temp,min_moves)\n",
    "    \n",
    "    while temp:\n",
    "        b,n_moves=temp.pop()\n",
    "        \n",
    "        if puzzle.state(b):\n",
    "            min_moves=n_moves\n",
    "            temp=bound(temp,min_moves)\n",
    "        else:\n",
    "            if puzzle.get_state_id(b) not in expanded_nodes:\n",
    "                expanded_nodes.append(puzzle.get_state_id(b))\n",
    "\n",
    "                mov=([(puzzle.manhattan_distance(puzzle.move(b, i)),i) for i in puzzle.allowed_moves(b)])\n",
    "                mov=bound(mov, min_moves)\n",
    "                mov.sort(reverse=True) #Ordenamos de menor distancia a mayor\n",
    "\n",
    "                for i in mov:\n",
    "                    temp.append((puzzle.move(b,i[1]),n_moves+1))\n",
    "\n",
    "    return {\n",
    "        # Número de movimientos hasta alcanzar la solución\n",
    "        'n_moves' : min_moves,\n",
    "        # Número de nodos expandidos en total\n",
    "        'expanded_nodes' : len(expanded_nodes),\n",
    "        # Tablero en el estado final\n",
    "        'final_board' : final_board\n",
    "    }\n",
    "\n",
    "\n",
    "def bound(states, n_moves):\n",
    "    '''\n",
    "    Poda de una lista de estados\n",
    "    \n",
    "    :param board: lista de estados que queremos podar\n",
    "    :type states: list\n",
    "    :returns: la lista de estados podada\n",
    "    :rtype: list\n",
    "    '''\n",
    "    global puzzle\n",
    "    \n",
    "    bounded_states = [i for i in states if i[1]<n_moves]\n",
    "    \n",
    "    return bounded_states"
   ]
  },
  {
   "cell_type": "code",
   "execution_count": 8,
   "metadata": {
    "collapsed": false
   },
   "outputs": [
    {
     "data": {
      "text/plain": [
       "{'expanded_nodes': 27756, 'final_board': array([[1, 2, 3],\n",
       "        [4, 5, 6],\n",
       "        [7, 8, 0]]), 'n_moves': 16268}"
      ]
     },
     "execution_count": 8,
     "metadata": {},
     "output_type": "execute_result"
    }
   ],
   "source": [
    "# TEST #\n",
    "puzzle = NPuzzle()\n",
    "board = puzzle.create_board(moves=100)\n",
    "solve(board)"
   ]
  },
  {
   "cell_type": "markdown",
   "metadata": {},
   "source": [
    "<div class=\"alert alert-info\">\n",
    "<center>\n",
    "  <h1>Preguntas</h1>\n",
    "</center>"
   ]
  },
  {
   "cell_type": "markdown",
   "metadata": {},
   "source": [
    "### 1. Como has implementado el algoritmo?\n",
    "\n",
    "Inicialmente, he hecho un DFS para encontrar una cota maxima de numero de pasos, asegurandome que el algoritmo no trabaje con estados repetidos, es decir, aquellos que ya han sido explorados.\n",
    "\n",
    "Una vez tenemos un valor minimo, haremos poda en los estados que nos quedan por explorar en temp y seguiremos con el algoritmo, evitando añadir a temp aquellos cuyo numero de pasos sea superior al minimo.\n",
    "\n",
    "### 2. Que criterios utilizas para hacer la poda?\n",
    "\n",
    "Para hacer la poda compruebo que el numero de pasos de cada estado sea inferior a min_moves. En caso contrario, elimino ese estado de entre los posibles y asi evito trabajar con el.\n",
    "\n",
    "### 3. Realiza un análisis de complejidad del algoritmo\n",
    "\n",
    "El DFS tiene complejidad O(n), ya que recorrera los nodos como maximo 1 vez.\n",
    "\n",
    "En cuanto a la poda, el programa ha de eliminar los estados con un numero de pasos superior o igual al minimo, por lo que debemos analizar los que tengamos. Dado que el maximo es n, tendra complejidad O(n).\n",
    "\n",
    "El bound dentro del bucle solo trabaja con listas de 1 a 4 elementos, por lo que consideraremos que la complejidad es lineal.\n",
    "\n",
    "Por tanto, la complejidad total sera O(n)+O(n)+O(n)=O(n)."
   ]
  },
  {
   "cell_type": "code",
   "execution_count": null,
   "metadata": {
    "collapsed": true
   },
   "outputs": [],
   "source": []
  }
 ],
 "metadata": {
  "anaconda-cloud": {},
  "kernelspec": {
   "display_name": "Python [Root]",
   "language": "python",
   "name": "Python [Root]"
  },
  "language_info": {
   "codemirror_mode": {
    "name": "ipython",
    "version": 2
   },
   "file_extension": ".py",
   "mimetype": "text/x-python",
   "name": "python",
   "nbconvert_exporter": "python",
   "pygments_lexer": "ipython2",
   "version": "2.7.12"
  }
 },
 "nbformat": 4,
 "nbformat_minor": 1
}
