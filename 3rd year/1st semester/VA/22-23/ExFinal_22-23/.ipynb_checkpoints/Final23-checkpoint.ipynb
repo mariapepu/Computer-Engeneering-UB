{
 "cells": [
  {
   "cell_type": "markdown",
   "id": "8b3c3ceb",
   "metadata": {},
   "source": [
    "----------------------------------------------------------------------------------------------------\n",
    "----------------------------------------------------------------------------------------------------\n",
    "\n",
    "<h1><center>\n",
    "    \n",
    "Practical exam on Computer Vision\n",
    " \n",
    "(February, 6th, 2023 )\n",
    "</center></h1>    \n",
    "\n",
    "----------------------------------------------------------------------------------------------------\n",
    "----------------------------------------------------------------------------------------------------"
   ]
  },
  {
   "cell_type": "markdown",
   "id": "bc85bea5",
   "metadata": {},
   "source": [
    "Esta es la parte práctica del examen final de Visión artificial, curso 2022-23. \n",
    "\n",
    "El examen práctico debería ser resuelto en un máximo de 2 horas. Para aprobar la asignatura se han de aprobar ambas partes, teórica y práctica. Cada ejercicio se encuentra definido con su correspondiendiente puntuación. Priorice adecuadamente. \n",
    "\n",
    "Tengase en cuenta que no es tan importante que el resultado final sea exactamente igual a los ejemplos que pueden proporcionarse en los enunciados, sino que se tendrá en cuenta cómo el alumno resuelve el problema.\n",
    "\n",
    "----------------------------------------------------------------------------------------------------"
   ]
  },
  {
   "cell_type": "markdown",
   "id": "a98170af",
   "metadata": {},
   "source": [
    "## Ejercicio 1"
   ]
  },
  {
   "cell_type": "markdown",
   "id": "78c329a9",
   "metadata": {},
   "source": [
    "**Ex1.1** (0.5 pt) Lee la imagen `./images_exam/contrast_example.jpg`. Convierte la imagen a escala de grises, imprime las características de las dos imagen (tamaño, tipo de datos, valor máximo y mínimo). **¿Consideras que la imagen en escala de grises es una imagen de bajo contraste?**\n",
    "\n",
    "Muestra la imagen a color y en escala de grises en la misma figura, **ambas sin el realce de contraste automático que realiza la función `imshow()`**, con el título que indica de qué tipo de imagen se trata. "
   ]
  },
  {
   "cell_type": "code",
   "execution_count": 1,
   "id": "1071ebb8",
   "metadata": {},
   "outputs": [],
   "source": [
    "# your solution here"
   ]
  },
  {
   "cell_type": "markdown",
   "id": "ee49857f",
   "metadata": {},
   "source": [
    "**Ex 1.2** (1.0 pt) Escribe una función que nos permita visualizar los histogramas de cada uno de los tres canales junto con el de la imagen en escala de grises. **Aseguraos** de utilizar el tipo de datos como rango de entrada (**source_range**) en la función `histogram` para poder visualizar correctamente los valores de los bins del histograma. \n",
    "\n",
    "Así mismo, limite el eje X a un valor adecuado (por ejemplo, entre [0,1] para imágenes de tipo `float`o [0,255] para imaǵenes de tipo `uint8`). Os mostramos un ejemplo adecuado. \n",
    "\n",
    "<img src='./images_notebook/histogramRGB.png >\n",
    "\n",
    "Fijaos cómo los valores de los pixels se encuentran centrados en el eje X, tal y como corresponde según los valores máximos y mínimos que os mostrará la figura en el apartado anterior. "
   ]
  },
  {
   "cell_type": "code",
   "execution_count": 2,
   "id": "6c30c6b7",
   "metadata": {},
   "outputs": [],
   "source": [
    "# your solution here"
   ]
  },
  {
   "cell_type": "markdown",
   "id": "1782fdf7",
   "metadata": {},
   "source": [
    "**Ex. 1.3** (1.0 pt) Realize una mejora del contraste de la **imagen RGB original**. Para ello hemos visto dos modos, uno manual y otro con una función de `skimage`. **Utiliza ambos.**\n",
    "\n",
    "Muestra las imágenes antes y después de realizar el realce de contraste, eliminando el realce automático que realiza la función `imshow()`. Muestra el nuevo histrograma de las imágenes. Por ejemplo:\n",
    "\n",
    "<img src='./images_notebook/realzada.png'>\n",
    "\n",
    "<img src='./images_notebook/newHistogramRGB.png'>"
   ]
  },
  {
   "cell_type": "code",
   "execution_count": 3,
   "id": "4d3484d5",
   "metadata": {},
   "outputs": [],
   "source": [
    "# your solution here"
   ]
  },
  {
   "cell_type": "markdown",
   "id": "a11555f9",
   "metadata": {},
   "source": [
    "**Ex 1.4** (0.5 pt) Invierte los canales rojo y azul de la imagen con contraste realzado usando el canal verde de la imagen sin realce. Muestra la imagen original si realce, con realce y la nueva en una sola figura, así como el histograma de la nueva imagen."
   ]
  },
  {
   "cell_type": "code",
   "execution_count": 2,
   "id": "9edb5cb3",
   "metadata": {},
   "outputs": [],
   "source": [
    "# your solution here"
   ]
  },
  {
   "cell_type": "markdown",
   "id": "9f0f431c",
   "metadata": {},
   "source": [
    "## Ejercicio 2"
   ]
  },
  {
   "cell_type": "markdown",
   "id": "cd4a5b5d",
   "metadata": {},
   "source": [
    "**Ex 2.1** (1.5 pt.) Leed la imagen `images_exam/big_frame.jpg` y aplicad **filtro de media**, **filtro de mediana** y **filtro gausiano**. \n",
    "\n",
    "En el filtro de media, utilizaremos una máscara cuadrada 2D para realizar la convolución. En el filtro de mediana, utilizaremos el kernel disk. **Buscad un tamaño de las máscaras adecuado, así como el valor sigma del filtro gausiano necesario,** para reducir el ruido.\n",
    "\n",
    "Visualizar la imagen original y las resultantes en una sola figura, con sus respectivos títulos. **Comentad brevemente qué hace cada filtro así como cuál puede ser más adecuado para este problema.**"
   ]
  },
  {
   "cell_type": "code",
   "execution_count": 4,
   "id": "3e76a245",
   "metadata": {},
   "outputs": [],
   "source": [
    "# your solution here"
   ]
  },
  {
   "cell_type": "markdown",
   "id": "2fed07b9",
   "metadata": {},
   "source": [
    "**Ex 2.2** (1.5 pt.) Utilizando sólamente el filtro que os parezca más adecuado, vamos a aplicarlo a todo un video. Para ello, carga y visualiza las imágenes que se encuentra en el carpeta `images_exam/video_sp`. Una vez comprobado que todo funciona correctamente (las imágenes han de verse con ruido), aplica el filtro que mejor resultado te haya dado en el apartado anterior para visualizar las imágenes tan limpias como sea posible. \n",
    "\n",
    "**Comenta cuál es el filtro más adecuado y por qué.**"
   ]
  },
  {
   "cell_type": "code",
   "execution_count": 5,
   "id": "5593806e",
   "metadata": {},
   "outputs": [],
   "source": [
    "#your solution here"
   ]
  },
  {
   "cell_type": "markdown",
   "id": "3e9cb942",
   "metadata": {},
   "source": [
    "## Ejercicio 3"
   ]
  },
  {
   "cell_type": "markdown",
   "id": "e07a830e",
   "metadata": {},
   "source": [
    "**Ex 3.1** (0.5 pt) Lee la imagen `./images_exam/template1.jpg`. Haz un resize de la imagen a $24\\times24$ pixels. Convierte la imagen a escala de grises y visualiza ambas imágenes en una sola figura. Muestra el tipo de datos y el tamaño de cada una."
   ]
  },
  {
   "cell_type": "code",
   "execution_count": 3,
   "id": "baaf3f12",
   "metadata": {},
   "outputs": [],
   "source": [
    "# your solution here"
   ]
  },
  {
   "cell_type": "markdown",
   "id": "714d2827",
   "metadata": {},
   "source": [
    "**Ex 3.2** (1.0 pt) Escribe una función para extraer las características de Haar (*Haar-like features*) de la imagen. Utiliza los siguientes tipos características para probar tu función:\n",
    "\n",
    "```python\n",
    "feature_types = ['type-2-x', 'type-2-y',\n",
    "                 'type-3-x', 'type-3-y',\n",
    "                 'type-4']\n",
    "```\n",
    "\n",
    "Muestra el tamaño del vector de características obtenido."
   ]
  },
  {
   "cell_type": "code",
   "execution_count": 4,
   "id": "0e233d19",
   "metadata": {},
   "outputs": [],
   "source": [
    "feature_types = ['type-2-x', 'type-2-y',\n",
    "                 'type-3-x', 'type-3-y',\n",
    "                 'type-4']"
   ]
  },
  {
   "cell_type": "code",
   "execution_count": 5,
   "id": "4f11b6fb",
   "metadata": {},
   "outputs": [],
   "source": [
    "# your solution here"
   ]
  },
  {
   "cell_type": "markdown",
   "id": "6ab87495",
   "metadata": {},
   "source": [
    "**Ex 3.3** (1.0 pt) Desde las imágenes de carpetas `./images_exam/Face_noFace/Faces` y `./images_exam/Face_noFace/nFaces` y crea la matriz de características Haar para todo el dataset. Ten en cuenta que antes hemos de hacer la conversión a escala de grises y el resize a $24\\times24$ pixel para cada una de las imágenes. Crea también un vector de etiquetas ($0$ - noFaces, $1$ - Faces).\n",
    "\n",
    "Muestra el tamaño de la matriz de características del dataset y el vector de características."
   ]
  },
  {
   "cell_type": "code",
   "execution_count": 81,
   "id": "2ee07cf1",
   "metadata": {},
   "outputs": [],
   "source": [
    "# your solution here"
   ]
  },
  {
   "cell_type": "markdown",
   "id": "58fca8ee",
   "metadata": {},
   "source": [
    "**Ex. 3.4** (1.0 pt) Vamos a crear nuestra propia función para localizar los vecinos más cercanos, es decir, vamos a hacer un **image retrieval** utilizando las características Haar. Escribir una función `retrieve_images(im_features, feature_vecors, k=5)` que localice los `k` vecinos más cercanos en función a la distancia euclídea de las características.\n"
   ]
  },
  {
   "cell_type": "code",
   "execution_count": 6,
   "id": "9341090d",
   "metadata": {},
   "outputs": [],
   "source": [
    "# your solution here"
   ]
  },
  {
   "cell_type": "markdown",
   "id": "f01dd17e",
   "metadata": {},
   "source": [
    "**Ex. 3.5** (0.5 pt) Utilizando nuestro método, ¿qué probabilidad hay de que la imagen `template1.jpg`sea un rostro? Para ello sólo hemos de calcular la precisión (**accuracy**) de nuestro algoritmo, suponiendo que la imagen template pertenece a la clase $1$ (i.e Faces). \n",
    "\n",
    "Prueba tu algoritmo con las imágenes`template1.jpg`, `template2.jpg`, `template3.jpg` y `template4.jpg` que se encuentran en la carpeta`./images_exam/`\n",
    "\n",
    "<img src='./images_notebook/facesProbability.png'>"
   ]
  },
  {
   "cell_type": "code",
   "execution_count": 7,
   "id": "7cf8a077",
   "metadata": {},
   "outputs": [],
   "source": [
    "# your solution here"
   ]
  }
 ],
 "metadata": {
  "kernelspec": {
   "display_name": "Python 3 (ipykernel)",
   "language": "python",
   "name": "python3"
  },
  "language_info": {
   "codemirror_mode": {
    "name": "ipython",
    "version": 3
   },
   "file_extension": ".py",
   "mimetype": "text/x-python",
   "name": "python",
   "nbconvert_exporter": "python",
   "pygments_lexer": "ipython3",
   "version": "3.11.0"
  }
 },
 "nbformat": 4,
 "nbformat_minor": 5
}
